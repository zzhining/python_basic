{
  "cells": [
    {
      "cell_type": "markdown",
      "metadata": {
        "id": "view-in-github",
        "colab_type": "text"
      },
      "source": [
        "<a href=\"https://colab.research.google.com/github/zzhining/python_basic/blob/master/09_basic_io.ipynb\" target=\"_parent\"><img src=\"https://colab.research.google.com/assets/colab-badge.svg\" alt=\"Open In Colab\"/></a>"
      ]
    },
    {
      "cell_type": "markdown",
      "source": [
        "# 화면 출력\n",
        "- `print()` 함수를 이용해 화면으로 출력\n",
        "- 기본 출력: 출력 형식을 지정하지 않음\n",
        "- 형식 지정 출력: 다양한 형식으로 출력 가능\n"
      ],
      "metadata": {
        "id": "5hQCiqjuYSj1"
      }
    },
    {
      "cell_type": "markdown",
      "source": [
        "문자열을 print() 함수 안에 삽입"
      ],
      "metadata": {
        "id": "Go91bfsiYYvI"
      }
    },
    {
      "cell_type": "code",
      "source": [
        "print(\"Hello Python!!\")"
      ],
      "metadata": {
        "colab": {
          "base_uri": "https://localhost:8080/"
        },
        "id": "3laS38bEYyNd",
        "outputId": "3b21ac68-e942-4f7a-f5dd-ee736db1ba22"
      },
      "execution_count": 1,
      "outputs": [
        {
          "output_type": "stream",
          "name": "stdout",
          "text": [
            "Hello Python!!\n"
          ]
        }
      ]
    },
    {
      "cell_type": "markdown",
      "source": [
        "\n",
        "\n",
        "문자열 여러 개를 연결해서 출력\n",
        "\n"
      ],
      "metadata": {
        "id": "BojjT9HCYpxC"
      }
    },
    {
      "cell_type": "code",
      "source": [
        "print(\"I\", \"love\", \"python\")"
      ],
      "metadata": {
        "colab": {
          "base_uri": "https://localhost:8080/"
        },
        "id": "WqlCICgzY4bF",
        "outputId": "08e158c9-df5d-48bc-cb3b-9381533f11ab"
      },
      "execution_count": 2,
      "outputs": [
        {
          "output_type": "stream",
          "name": "stdout",
          "text": [
            "I love python\n"
          ]
        }
      ]
    },
    {
      "cell_type": "markdown",
      "source": [
        "빈칸 대신 다른 문자열 삽입"
      ],
      "metadata": {
        "id": "VqOxqVHaYtUe"
      }
    },
    {
      "cell_type": "code",
      "source": [
        "print(\"I\", \"love\", \"python\", sep=\"*\")"
      ],
      "metadata": {
        "colab": {
          "base_uri": "https://localhost:8080/"
        },
        "id": "9LHASN2LY_jU",
        "outputId": "b636c482-c983-4762-c284-bf6fb51c31a5"
      },
      "execution_count": 3,
      "outputs": [
        {
          "output_type": "stream",
          "name": "stdout",
          "text": [
            "I*love*python\n"
          ]
        }
      ]
    },
    {
      "cell_type": "markdown",
      "source": [
        "빈칸 없이 두 문자열을  연결\n"
      ],
      "metadata": {
        "id": "IOzxpmBiZG0V"
      }
    },
    {
      "cell_type": "code",
      "source": [
        "print(\"abc\"+\"def\")"
      ],
      "metadata": {
        "colab": {
          "base_uri": "https://localhost:8080/"
        },
        "id": "5rw6XNJcZLp6",
        "outputId": "a4ec1f05-9862-4f93-ed40-e7d4ec576b5a"
      },
      "execution_count": 4,
      "outputs": [
        {
          "output_type": "stream",
          "name": "stdout",
          "text": [
            "abcdef\n"
          ]
        }
      ]
    },
    {
      "cell_type": "markdown",
      "source": [
        "\n",
        "\n",
        "\n",
        "문자열을 여러 줄로 출력\n"
      ],
      "metadata": {
        "id": "qW50gswAZJi9"
      }
    },
    {
      "cell_type": "code",
      "source": [
        "print(\"I love python. \\nYou love java.\")"
      ],
      "metadata": {
        "colab": {
          "base_uri": "https://localhost:8080/"
        },
        "id": "l1PnXveUZx9V",
        "outputId": "e3b6c303-97a6-4009-dad9-786361271a25"
      },
      "execution_count": 5,
      "outputs": [
        {
          "output_type": "stream",
          "name": "stdout",
          "text": [
            "I love python. \n",
            "You love java.\n"
          ]
        }
      ]
    },
    {
      "cell_type": "markdown",
      "source": [
        "\n",
        "\n",
        "\n",
        "문자열을 한 줄로 연결해서 출력"
      ],
      "metadata": {
        "id": "_KlrcL0yZKlC"
      }
    },
    {
      "cell_type": "code",
      "source": [
        "print(\"I love \", end =\"\")\n",
        "print(\"python.\")"
      ],
      "metadata": {
        "colab": {
          "base_uri": "https://localhost:8080/"
        },
        "id": "YDq2NRcVaAVN",
        "outputId": "1ecd91b7-8e5d-4054-dd80-1029c1b6c483"
      },
      "execution_count": 6,
      "outputs": [
        {
          "output_type": "stream",
          "name": "stdout",
          "text": [
            "I love python.\n"
          ]
        }
      ]
    },
    {
      "cell_type": "markdown",
      "source": [
        "%s로 문자열을 대입한 변수를 출력"
      ],
      "metadata": {
        "id": "xjMwy113aQmX"
      }
    },
    {
      "cell_type": "code",
      "execution_count": 7,
      "metadata": {
        "id": "0ruMToCcYF23",
        "outputId": "25c9fa9e-c406-4f02-e611-ce502c7d2c13",
        "colab": {
          "base_uri": "https://localhost:8080/"
        }
      },
      "outputs": [
        {
          "output_type": "stream",
          "name": "stdout",
          "text": [
            "철수는 나의 친구입니다\n"
          ]
        }
      ],
      "source": [
        "name = \"철수\"\n",
        "print(\"%s는 나의 친구입니다\" %name)"
      ]
    },
    {
      "cell_type": "markdown",
      "source": [
        "형식  지정  문자열에서  출력  위치 지정"
      ],
      "metadata": {
        "id": "Y4BGOnbsaV9D"
      }
    },
    {
      "cell_type": "code",
      "execution_count": 8,
      "metadata": {
        "id": "R68IhhTFYF25",
        "outputId": "ba3fe428-620d-49c3-80b2-b96f6a55bda9",
        "colab": {
          "base_uri": "https://localhost:8080/"
        }
      },
      "outputs": [
        {
          "output_type": "stream",
          "name": "stdout",
          "text": [
            "Animal: cat\n",
            "Animal: cat,dog,fox\n"
          ]
        }
      ],
      "source": [
        "animal0 = \"cat\"\n",
        "animal1 = \"dog\"\n",
        "animal2 = \"fox\"\n",
        "\n",
        "print(\"Animal: {0}\".format(animal0))\n",
        "print(\"Animal: {0},{1},{2}\".format(animal0, animal1, animal2))"
      ]
    },
    {
      "cell_type": "markdown",
      "source": [
        "형식 지정 문자열의 위치 지정"
      ],
      "metadata": {
        "id": "glsVBof7awrg"
      }
    },
    {
      "cell_type": "code",
      "execution_count": 9,
      "metadata": {
        "id": "ChM_TH3BYF26",
        "outputId": "34754608-e638-477f-b4b4-2c128f5cfbe6",
        "colab": {
          "base_uri": "https://localhost:8080/"
        }
      },
      "outputs": [
        {
          "output_type": "stream",
          "name": "stdout",
          "text": [
            "Animal: dog,fox,cat\n"
          ]
        }
      ],
      "source": [
        "print(\"Animal: {1},{2},{0}\".format(animal0, animal1, animal2))"
      ]
    },
    {
      "cell_type": "markdown",
      "source": [
        "----\n",
        "⭐숫자의 출력 형식⭐\n",
        "\n",
        "| 데이터(x)   | 출력 형식  | 출력 결과 | 설명                                                                           |\n",
        "|-------------|------------|-----------|--------------------------------------------------------------------------------|\n",
        "| 3           | {N:2d}     | ↔3        | 정수를  공백  포함해  두  자리로  표시  (↔은 공백  한  칸을 의미함)            |\n",
        "| 3           | {N:05d}    | 3         | 정수를  다섯  자리로  표시.  앞의  공백은  0으로  채움                         |\n",
        "| 12          | {N:&gt;5d} | ↔↔↔12     | 정수를  다섯  자리로  표시.  숫자는  오른쪽으로  정렬                          |\n",
        "| 0.12345     | {N:.3f}    | 0.123     | 실수를  소수점  셋째  자리까지  표시                                           |\n",
        "| 7456000     | {N:,}      | 7,456,000 | 통화  표시처럼  끝에서  셋째  자리마다  콤마(,)를  표시                        |\n",
        "| 0.3258      | {N:.1%}    | 32.60%    | 소수를 퍼센트(%)로 표시. 퍼센트 표시에서 소수점 자리 수는 ‘.’ 다음 숫자로 표시 |\n",
        "| 92500000000 | {N:.2e}    | 9.25E+10  | 숫자를  지수로  표시. 지수 표시에서 소수점 자리 수는  ‘.’ 다음 숫자로 표시     |\n",
        "| 16          | {N:#x}     | 0x10      | 숫자를  16진수로  표시.  #기호가  없으면  0x 없이   출력됨                     |\n",
        "| 8           | {N:#o}     | 0o10      | 숫자를  8진수로  표시.  #기호가  없으면  0o 없이  출력됨                       |\n",
        "\n",
        "\n",
        "----"
      ],
      "metadata": {
        "id": "NGjaAs-oa19u"
      }
    },
    {
      "cell_type": "code",
      "execution_count": 10,
      "metadata": {
        "id": "2WROB1TEYF26",
        "outputId": "3e077217-b16b-430b-ceea-97fb228391ff",
        "colab": {
          "base_uri": "https://localhost:8080/"
        }
      },
      "outputs": [
        {
          "output_type": "stream",
          "name": "stdout",
          "text": [
            "value: 0b1011011100011011000000\n"
          ]
        }
      ],
      "source": [
        "val = 3000000\n",
        "print(\"value: {0:#b}\".format(val))"
      ]
    },
    {
      "cell_type": "markdown",
      "source": [
        "# 키보드 입력\n",
        "\n",
        "키보드로 데이터를 입력하기 위해서는 input() 함수를 이용\n",
        "\n",
        "\n",
        "`data = input(\"문자열\")`"
      ],
      "metadata": {
        "id": "DPo0bwegbXtm"
      }
    },
    {
      "cell_type": "code",
      "execution_count": 11,
      "metadata": {
        "id": "6Vg06TIAYF27",
        "outputId": "488f1c24-7df8-4421-b038-230e7be204ad",
        "colab": {
          "base_uri": "https://localhost:8080/"
        }
      },
      "outputs": [
        {
          "name": "stdout",
          "output_type": "stream",
          "text": [
            "나이를 입력하세요20\n"
          ]
        }
      ],
      "source": [
        "age = input(\"나이를 입력하세요\")"
      ]
    },
    {
      "cell_type": "code",
      "execution_count": 12,
      "metadata": {
        "id": "sLoyHp40YF27",
        "outputId": "fed7e2fc-241c-4f10-b2ef-0e6d39fe7974",
        "colab": {
          "base_uri": "https://localhost:8080/",
          "height": 35
        }
      },
      "outputs": [
        {
          "output_type": "execute_result",
          "data": {
            "text/plain": [
              "'20'"
            ],
            "application/vnd.google.colaboratory.intrinsic+json": {
              "type": "string"
            }
          },
          "metadata": {},
          "execution_count": 12
        }
      ],
      "source": [
        "age"
      ]
    },
    {
      "cell_type": "markdown",
      "source": [
        "input() 함수로부터 입력받은 데이터를 print() 함수로 출력"
      ],
      "metadata": {
        "id": "e4iMYwF8b3N_"
      }
    },
    {
      "cell_type": "code",
      "execution_count": 13,
      "metadata": {
        "id": "WOLDubBDYF28",
        "outputId": "e30227ff-01a5-48cf-d2d3-c502af510e34",
        "colab": {
          "base_uri": "https://localhost:8080/"
        }
      },
      "outputs": [
        {
          "output_type": "stream",
          "name": "stdout",
          "text": [
            "당신 나이는 20살 입니다.\n"
          ]
        }
      ],
      "source": [
        "print(\"당신 나이는 {0}살 입니다.\".format(age))"
      ]
    },
    {
      "cell_type": "markdown",
      "source": [
        "input() 함수로부터 입력받은 데이터를 숫자로 변환"
      ],
      "metadata": {
        "id": "Fh9yQ6ucboVF"
      }
    },
    {
      "cell_type": "code",
      "execution_count": 14,
      "metadata": {
        "id": "Xz1CKGy5YF28",
        "outputId": "54e5815a-9ecf-496b-95fc-58b68a2e986f",
        "colab": {
          "base_uri": "https://localhost:8080/"
        }
      },
      "outputs": [
        {
          "name": "stdout",
          "output_type": "stream",
          "text": [
            "한변의 길이:5\n"
          ]
        }
      ],
      "source": [
        "num = input(\"한변의 길이:\")"
      ]
    },
    {
      "cell_type": "code",
      "execution_count": 15,
      "metadata": {
        "id": "4mu-B6zBYF29",
        "outputId": "f33f1fa8-e490-4d0f-d43a-391c48397125",
        "colab": {
          "base_uri": "https://localhost:8080/"
        }
      },
      "outputs": [
        {
          "output_type": "execute_result",
          "data": {
            "text/plain": [
              "str"
            ]
          },
          "metadata": {},
          "execution_count": 15
        }
      ],
      "source": [
        "type(num)"
      ]
    },
    {
      "cell_type": "code",
      "execution_count": 16,
      "metadata": {
        "id": "c34HmA7mYF29",
        "outputId": "d47de603-cf07-4cc3-9970-2458b50d0f7a",
        "colab": {
          "base_uri": "https://localhost:8080/"
        }
      },
      "outputs": [
        {
          "output_type": "execute_result",
          "data": {
            "text/plain": [
              "25.0"
            ]
          },
          "metadata": {},
          "execution_count": 16
        }
      ],
      "source": [
        "area = float(num) ** 2\n",
        "area"
      ]
    }
  ],
  "metadata": {
    "kernelspec": {
      "display_name": "Python 3",
      "language": "python",
      "name": "python3"
    },
    "language_info": {
      "codemirror_mode": {
        "name": "ipython",
        "version": 3
      },
      "file_extension": ".py",
      "mimetype": "text/x-python",
      "name": "python",
      "nbconvert_exporter": "python",
      "pygments_lexer": "ipython3",
      "version": "3.7.6"
    },
    "toc": {
      "base_numbering": 1,
      "nav_menu": {},
      "number_sections": false,
      "sideBar": true,
      "skip_h1_title": false,
      "title_cell": "Table of Contents",
      "title_sidebar": "Contents",
      "toc_cell": false,
      "toc_position": {},
      "toc_section_display": true,
      "toc_window_display": false
    },
    "colab": {
      "provenance": [],
      "include_colab_link": true
    }
  },
  "nbformat": 4,
  "nbformat_minor": 0
}