{
  "cells": [
    {
      "cell_type": "markdown",
      "metadata": {
        "id": "view-in-github",
        "colab_type": "text"
      },
      "source": [
        "<a href=\"https://colab.research.google.com/github/zzhining/python_basic/blob/master/01_variable_dtype.ipynb\" target=\"_parent\"><img src=\"https://colab.research.google.com/assets/colab-badge.svg\" alt=\"Open In Colab\"/></a>"
      ]
    },
    {
      "cell_type": "markdown",
      "source": [
        "# 파이썬의 변수 특징\n",
        "- 변수를 정의할 때 자료형을 선언하지 않음에도 불구하고 type-safe\n",
        "- 자료형 생성자를 이용해 형(type) 변환 가능\n"
      ],
      "metadata": {
        "id": "BOwSskkOxfJf"
      }
    },
    {
      "cell_type": "markdown",
      "metadata": {
        "id": "TeAl2kCzxeXH"
      },
      "source": [
        "#  변수를 사용하지 않는 예"
      ]
    },
    {
      "cell_type": "code",
      "execution_count": null,
      "metadata": {
        "id": "3psC-k9CxeXI",
        "outputId": "ec87898d-e0f7-41ea-9deb-6dc95d0f6fdc"
      },
      "outputs": [
        {
          "data": {
            "text/plain": [
              "6172.5"
            ]
          },
          "execution_count": 1,
          "metadata": {},
          "output_type": "execute_result"
        }
      ],
      "source": [
        "12345 * 1/2"
      ]
    },
    {
      "cell_type": "code",
      "execution_count": null,
      "metadata": {
        "id": "9XB3jPHVxeXK",
        "outputId": "b3ce1356-e8bf-409c-cfc2-1a91618dad73"
      },
      "outputs": [
        {
          "data": {
            "text/plain": [
              "3086.25"
            ]
          },
          "execution_count": 2,
          "metadata": {},
          "output_type": "execute_result"
        }
      ],
      "source": [
        "12345 * 1/4"
      ]
    },
    {
      "cell_type": "code",
      "execution_count": null,
      "metadata": {
        "id": "8awD_egUxeXK",
        "outputId": "aefdd1e8-e171-4be1-8d6e-ba329de52323"
      },
      "outputs": [
        {
          "data": {
            "text/plain": [
              "2469.0"
            ]
          },
          "execution_count": 3,
          "metadata": {},
          "output_type": "execute_result"
        }
      ],
      "source": [
        "12345 * 1/5"
      ]
    },
    {
      "cell_type": "markdown",
      "metadata": {
        "id": "M6kpGSucxeXK"
      },
      "source": [
        "# 변수의 개념\n",
        "\n",
        "## 변수(variable)\n",
        " - 자료(데이터)를 넣을 수 있는 상자\n",
        " - 변수명: 변수를 넣은 상자에 붙인 이름\n",
        " - \" 변수명 = 데이터 \"\n",
        "\n",
        "## 변수명을 만들 때의 규칙\n",
        " - 문자, 숫자, 밑줄(_)을 사용해서 만듦\n",
        " - 숫자로 시작하는 변수명 X\n",
        " - 대소문자를 구분\n",
        " - 공백 X\n",
        " - 밑줄을 제외한 다른 특수기호 X\n",
        " - 예약어X"
      ]
    },
    {
      "cell_type": "code",
      "execution_count": null,
      "metadata": {
        "id": "plBx1ndPxeXL"
      },
      "outputs": [],
      "source": [
        "a = 12345"
      ]
    },
    {
      "cell_type": "code",
      "execution_count": null,
      "metadata": {
        "id": "K4pX6FkPxeXL",
        "outputId": "0e2d8899-1eac-4b62-9c01-d11eed5be3e5"
      },
      "outputs": [
        {
          "data": {
            "text/plain": [
              "12345"
            ]
          },
          "execution_count": 5,
          "metadata": {},
          "output_type": "execute_result"
        }
      ],
      "source": [
        "a"
      ]
    },
    {
      "cell_type": "code",
      "execution_count": null,
      "metadata": {
        "id": "qKQ07I09xeXL",
        "outputId": "c640cd2d-ae95-4dda-9f4e-2cedd80e15d8"
      },
      "outputs": [
        {
          "name": "stdout",
          "output_type": "stream",
          "text": [
            "12345\n"
          ]
        }
      ],
      "source": [
        "print(a)"
      ]
    },
    {
      "cell_type": "code",
      "execution_count": null,
      "metadata": {
        "id": "WSlxLAQBxeXL",
        "outputId": "29bff28b-4db3-4279-e51e-b616fc10b267"
      },
      "outputs": [
        {
          "name": "stdout",
          "output_type": "stream",
          "text": [
            "6172.5\n",
            "3086.25\n",
            "2469.0\n"
          ]
        }
      ],
      "source": [
        "print(a * 1/2)\n",
        "print(a * 1/4)\n",
        "print(a * 1/5)"
      ]
    },
    {
      "cell_type": "markdown",
      "source": [
        "# 이항 연산자\n",
        "\n",
        "|     연산자 표현식          |     연산자의 의미                                                                                                          |   |\n",
        "|----------------------------|----------------------------------------------------------------------------------------------------------------------------|---|\n",
        "|     a + b                  |     a와 b를 더한다                                                                                                         |   |\n",
        "|     a - b                  |     a에서 b를 뺀다                                                                                                         |   |\n",
        "|     a * b                  |     a에 b를 곱한다                                                                                                         |   |\n",
        "|     a / b                  |     a를 b로 나눈다                                                                                                         |   |\n",
        "|     a // b⭐                 |     a를 b로 나눈 몫을 취한다                                                                                               |   |\n",
        "|     a ** b⭐                 |     a의 b승을 구한다                                                                                                       |   |\n",
        "|     a &amp; b              |     a와 b   모두 True일   경우 True를   반환한다. 정수일   경우 비트 단위 AND를   구한다                                   |   |\n",
        "|     a \\| b                 |     a 혹은 b가 True일   경우 True를   반환한다. 정수일   경우 비트 단위 OR를   구한다                                      |   |\n",
        "|     a ^ b                  |     불리언일 경우 a   혹은 b 중   하나만 True일   경우 True를   반환한다. 정수일   경우 비트 단위 EXCLUSIVE-OR를 구한다    |   |\n",
        "|     a == b                 |     a와 b가 같은 경우 True                                                                                                 |   |\n",
        "|     a != b                 |     a와 b가 다를 경우 True                                                                                                 |   |\n",
        "|     a &lt;= b, a &lt; b    |     각각 a가   b 이하일 경우,   a가 b   미만일 경우 True                                                                   |   |\n",
        "|     a &gt; b, a &gt;= b    |     각각 a가   b 초과일 경우,   a가 b   이상일 경우 True                                                                   |   |\n",
        "|     a is b⭐                 |     a와 b가 같은 파이썬   객체를 참조할 경우 True                                                                          |   |\n",
        "|     a is not b⭐             |     a와 b가 다른 파이썬   객체를 참조할 경우 True                                                                          |   |"
      ],
      "metadata": {
        "id": "PMD7RZuGyEEU"
      }
    },
    {
      "cell_type": "code",
      "execution_count": null,
      "metadata": {
        "id": "6ux5K7kuxeXM"
      },
      "outputs": [],
      "source": []
    },
    {
      "cell_type": "markdown",
      "source": [
        "# 불리언 자료형\n",
        "- 불리언 자료형: True, False\n",
        "- 불리언 논리 연산자들: not, and, or\n",
        "- 비트와이즈 불리언 연산자들: &, |, ^\n",
        "- 비교: ==, !=, <, <=, >, >=, is, is not, in, not in\n"
      ],
      "metadata": {
        "id": "Q0FmSriFy1JA"
      }
    },
    {
      "cell_type": "code",
      "source": [
        "i = 1;   j = 1\n",
        "print (i == j)\n",
        "print (i is j)"
      ],
      "metadata": {
        "id": "3fjvfAjozA7j"
      },
      "execution_count": null,
      "outputs": []
    },
    {
      "cell_type": "code",
      "source": [
        "c = 2; d = 2.0\n",
        "print (c == d)\n",
        "print (c is d)"
      ],
      "metadata": {
        "id": "KvSD4Mw1zD27"
      },
      "execution_count": null,
      "outputs": []
    }
  ],
  "metadata": {
    "kernelspec": {
      "display_name": "Python 3",
      "language": "python",
      "name": "python3"
    },
    "language_info": {
      "codemirror_mode": {
        "name": "ipython",
        "version": 3
      },
      "file_extension": ".py",
      "mimetype": "text/x-python",
      "name": "python",
      "nbconvert_exporter": "python",
      "pygments_lexer": "ipython3",
      "version": "3.7.6"
    },
    "toc": {
      "base_numbering": 1,
      "nav_menu": {},
      "number_sections": false,
      "sideBar": true,
      "skip_h1_title": false,
      "title_cell": "Table of Contents",
      "title_sidebar": "Contents",
      "toc_cell": false,
      "toc_position": {},
      "toc_section_display": true,
      "toc_window_display": false
    },
    "colab": {
      "provenance": [],
      "toc_visible": true,
      "include_colab_link": true
    }
  },
  "nbformat": 4,
  "nbformat_minor": 0
}