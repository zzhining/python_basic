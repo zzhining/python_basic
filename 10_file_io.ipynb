{
  "nbformat": 4,
  "nbformat_minor": 0,
  "metadata": {
    "colab": {
      "private_outputs": true,
      "provenance": [],
      "toc_visible": true,
      "authorship_tag": "ABX9TyN3LnDgNx85ZCe/BSqnbyCe",
      "include_colab_link": true
    },
    "kernelspec": {
      "name": "python3",
      "display_name": "Python 3"
    },
    "language_info": {
      "name": "python"
    }
  },
  "cells": [
    {
      "cell_type": "markdown",
      "metadata": {
        "id": "view-in-github",
        "colab_type": "text"
      },
      "source": [
        "<a href=\"https://colab.research.google.com/github/zzhining/python_basic/blob/master/10_file_io.ipynb\" target=\"_parent\"><img src=\"https://colab.research.google.com/assets/colab-badge.svg\" alt=\"Open In Colab\"/></a>"
      ]
    },
    {
      "cell_type": "markdown",
      "source": [
        "# 파일 열기\n",
        "- 내장 함수 open() 사용\n",
        "\n",
        "```\n",
        "f = open('file_name', 'mode')\n",
        "```"
      ],
      "metadata": {
        "id": "eFGegoVwcocy"
      }
    },
    {
      "cell_type": "markdown",
      "source": [
        "⭐ 파일 열기 속성 ⭐\n",
        "\n",
        "| mode | 의미                                                                                  |\n",
        "|------|---------------------------------------------------------------------------------------|\n",
        "| r    | 읽기 모드로 파일   열기(기본). 모드를 지정하지  않으면 기본적으로 읽기 모드로 지정됨  |\n",
        "| w    | 쓰기 모드로 파일   열기. 같은 이름의 파일이 있으면 기존 내용은 모두 삭제됨            |\n",
        "| x    | 쓰기 모드로 파일   열기. 같은 이름의 파일이 있을 경우 오류가 발생함                   |\n",
        "| a    | 추가 모드로 파일   열기. 같은 이름의 파일이 없으면 w와 기능 같음                      |\n",
        "| b    | 바이너리 파일   모드로 파일 열기                                                      |\n",
        "| t    | 텍스트 파일 모드로   파일 열기(기본). 지정하지 않으면 기본적으로 텍스트 모드로 지정됨 |\n",
        "\n",
        "🙋`mode`는 혼합해서 사용 가능\n",
        "\n"
      ],
      "metadata": {
        "id": "TmGkiKUsctrm"
      }
    },
    {
      "cell_type": "markdown",
      "source": [
        "# 파일 쓰기\n",
        "- 파일 쓰기를 하려면 파일을 쓰기 모드로 열어야 함\n",
        "- 파일을 열고 지정한 내용을 쓴 후에는 파일을  닫아야 함\n",
        "\n",
        "```\n",
        "f = open('file_name', 'w')\n",
        "f.write(str)\n",
        "f.close()\n",
        "```"
      ],
      "metadata": {
        "id": "z6MLlGxUdbWa"
      }
    },
    {
      "cell_type": "code",
      "execution_count": null,
      "metadata": {
        "id": "As4oFR6PX67O"
      },
      "outputs": [],
      "source": [
        "f = open('myFile.txt', 'w')         # (1)'myFile.txt' 파일 쓰기 모드로 열기\n",
        "f.write('This is my first file.')   # (2) 연 파일에 문자열 쓰기\n",
        "f.close()               # (3) 파일 닫기"
      ]
    },
    {
      "cell_type": "code",
      "source": [
        "!type myFile.txt"
      ],
      "metadata": {
        "id": "e6RoOd1BdwNJ"
      },
      "execution_count": null,
      "outputs": []
    },
    {
      "cell_type": "markdown",
      "source": [
        "# 파일 읽기\n",
        "- 파일을 읽으려면 파일을 읽기 모드로 열어야 함\n",
        "- 파일의 내용을 읽고 마지막으로  파일을 닫음\n",
        "\n",
        "\n",
        "```\n",
        "f = open('file_name', 'r')   # f = open('file_name')도 가능\n",
        "data = f.read()\n",
        "f.close()\n",
        "```"
      ],
      "metadata": {
        "id": "dvDCLMkgd638"
      }
    },
    {
      "cell_type": "code",
      "source": [
        "f = open('myFile.txt', 'r')     # (1)'myFile.txt' 파일 읽기 모드로 열기\n",
        "file_text = f.read()            # (2) 파일 내용 읽은 후에 변수에 저장\n",
        "f.close()                       # (3) 파일 닫기\n",
        "\n",
        "print(file_text)                # 변수에 저장된 내용 출력"
      ],
      "metadata": {
        "id": "ZC_X-GiJd09y"
      },
      "execution_count": null,
      "outputs": []
    },
    {
      "cell_type": "markdown",
      "source": [
        "count가 지정되면 시작 위치부터 해당 바이트까지 읽음\n",
        "```\n",
        "f.read(count)\n",
        "```\n"
      ],
      "metadata": {
        "id": "nTNg0gB45oNv"
      }
    },
    {
      "cell_type": "markdown",
      "source": [
        "## 인코딩 지정"
      ],
      "metadata": {
        "id": "o9UIr3MiIw8D"
      }
    },
    {
      "cell_type": "code",
      "source": [
        "f = open(\"myFile_ko.txt\", \"w\", encoding=\"cp949\")\n",
        "f.write(\" 텍스트 파일을 새로 만들고 텍스트를 씁니다.\\n\")\n",
        "f.close()\n",
        "\n",
        "f = open('myFile_ko.txt', 'r')\n",
        "# f = open('myFile_ko.txt', 'r', encoding=\"cp949\")\n",
        "file_text_ko = f.read()\n",
        "f.close()\n",
        "\n",
        "print(file_text_ko)"
      ],
      "metadata": {
        "id": "JMPPhw6iIwZK"
      },
      "execution_count": null,
      "outputs": []
    },
    {
      "cell_type": "markdown",
      "source": [
        "# 파일에 문자열 한 줄씩 쓰기"
      ],
      "metadata": {
        "id": "QxihF93HeGIx"
      }
    },
    {
      "cell_type": "code",
      "source": [
        "f = open('two_times_table.txt','w')      # (1)파일을 쓰기 모드로 열기\n",
        "for num in range(1,6):               # (2) for문: num이 1~5까지 반복\n",
        "    format_string = \"2 x {0} = {1}\\n\".format(num,2*num) # 저장할 문자열 생성\n",
        "    f.write(format_string)          # (3) 파일에 문자열 저장\n",
        "f.close()                           # (4) 파일 닫기"
      ],
      "metadata": {
        "id": "GNKQkVDseD5N"
      },
      "execution_count": null,
      "outputs": []
    },
    {
      "cell_type": "code",
      "source": [
        "# 파일에 저장된 내용 출력\n",
        "!type two_times_table.txt"
      ],
      "metadata": {
        "id": "pA8JT7FXef6L"
      },
      "execution_count": null,
      "outputs": []
    },
    {
      "cell_type": "markdown",
      "source": [
        "# 파일에서 문자열 한 줄씩 읽기"
      ],
      "metadata": {
        "id": "NNL5TdU5fBPW"
      }
    },
    {
      "cell_type": "markdown",
      "source": [
        "## readline()\n",
        "- 파일로부터 문자열 한 줄을 읽음\n",
        "- 마지막 한 줄을 읽고 나서 다시 readline()을 실행하면  빈 문자열을  반환"
      ],
      "metadata": {
        "id": "Qr7r3KiNfDR0"
      }
    },
    {
      "cell_type": "code",
      "source": [
        "f = open(\"two_times_table.txt\")     # 파일을 읽기 모드로 열기\n",
        "line1 = f.readline()                # 한 줄씩 문자열을 읽기\n",
        "line2 = f.readline()\n",
        "f.close()                           # 파일 닫기\n",
        "print(line1, end=\"\")                # 한 줄씩 문자열 출력(줄 바꿈 안 함)\n",
        "print(line2, end=\"\")"
      ],
      "metadata": {
        "id": "N9pu_SDbfC2U"
      },
      "execution_count": null,
      "outputs": []
    },
    {
      "cell_type": "markdown",
      "source": [
        "파일 전체에서 한 줄씩 읽어 오기"
      ],
      "metadata": {
        "id": "bJw5ugy_h8f8"
      }
    },
    {
      "cell_type": "code",
      "source": [
        "f = open(\"two_times_table.txt\")        # 파일을 읽기 모드로 열기\n",
        "line = f.readline()                    # 문자열 한 줄 읽기\n",
        "while line:                            # line이 공백인지 검사해서 반복 여부 결정\n",
        "    print(line, end = \"\")              # 문자열 한 줄 출력(줄 바꿈 안 함)\n",
        "    line = f.readline()                # 문자열 한 줄 읽기\n",
        "f.close() # 파일 닫기"
      ],
      "metadata": {
        "id": "F_Mi2hnZer3R"
      },
      "execution_count": null,
      "outputs": []
    },
    {
      "cell_type": "markdown",
      "source": [
        "## readlines()\n",
        "- 파일 전체의 모든 줄을 읽어서 한  줄씩을 요소로 갖는 리스트 타입으로  반환\n"
      ],
      "metadata": {
        "id": "cV609weTiFH5"
      }
    },
    {
      "cell_type": "code",
      "source": [
        "f = open(\"two_times_table.txt\")        # (1) 파일을 읽기 모드로 열기\n",
        "lines = f.readlines()                  # (2) 파일 전체 읽기(리스트로 반환)\n",
        "f.close()                              # (3) 파일 닫기\n",
        "\n",
        "print(lines)                       # 리스트 변수 내용 출력"
      ],
      "metadata": {
        "id": "0BrkpKd-iBLV"
      },
      "execution_count": null,
      "outputs": []
    },
    {
      "cell_type": "markdown",
      "source": [
        "# 파일에서 문자열 한 줄씩 읽기\n",
        "lines 리스트에  할당된 문자열 for 문을 이용해 항목을 하나씩 처리"
      ],
      "metadata": {
        "id": "21RGW2K9ngQV"
      }
    },
    {
      "cell_type": "code",
      "source": [
        "f = open(\"two_times_table.txt\")        # 파일을 읽기 모드로 열기\n",
        "lines = f.readlines()                  # 파일 전체 읽기(리스트로 반환)\n",
        "f.close()                              # 파일 닫기\n",
        "for line in lines:                     # 리스트를 <반복 범위>로 지정\n",
        "    print(line, end=\"\")               # 리스트 항목을 출력(줄 바꿈 안 함)"
      ],
      "metadata": {
        "id": "kXDfoni1iMZs"
      },
      "execution_count": null,
      "outputs": []
    },
    {
      "cell_type": "markdown",
      "source": [
        "for 문의 <반복 범위>에 lines 변수 대신 바로 f.readlines()를 사용\n"
      ],
      "metadata": {
        "id": "bDOQvTSKnve-"
      }
    },
    {
      "cell_type": "code",
      "source": [
        "f = open(\"two_times_table.txt\")         # 파일을 읽기 모드로 열기\n",
        "for line in f.readlines():              # 파일 전체를 읽고, 리스트 항목을 line에 할당\n",
        "    print(line, end=\"\")                 # 리스트 항목을 출력(줄 바꿈 안 함)\n",
        "f.close()"
      ],
      "metadata": {
        "id": "yfeV1GqtnpqG"
      },
      "execution_count": null,
      "outputs": []
    },
    {
      "cell_type": "markdown",
      "source": [
        "# with 문\n",
        "```\n",
        "with open('file_name', 'mode') as f:\n",
        "<코드 블록>\n",
        "```\n"
      ],
      "metadata": {
        "id": "Q4GX0P_6n1ZW"
      }
    },
    {
      "cell_type": "markdown",
      "source": [
        "파일에 문자열을 쓰는 예\n"
      ],
      "metadata": {
        "id": "Np6kW-tHn7nh"
      }
    },
    {
      "cell_type": "code",
      "source": [
        "with open('myTextFile2.txt', 'w') as f:      # (1) 파일 열기\n",
        "    f.write('File read/write test2: line1\\n') # (2) 파일 쓰기\n",
        "    f.write('File read/write test2: line2\\n')\n",
        "    f.write('File read/write test2: line3\\n')\n"
      ],
      "metadata": {
        "id": "7PG32cCPn-47"
      },
      "execution_count": null,
      "outputs": []
    },
    {
      "cell_type": "markdown",
      "source": [
        "\n",
        "\n",
        "\n",
        "with 문을 이용해 생성한 파일을 읽는 예\n",
        "\n",
        "\n",
        "\n"
      ],
      "metadata": {
        "id": "VtAxhsedn9Gq"
      }
    },
    {
      "cell_type": "code",
      "source": [
        "with open('myTextFile2.txt') as f:   # (1) 파일 열기\n",
        "       file_string = f.read()   # (2) 파일 읽기\n",
        "       print(file_string)"
      ],
      "metadata": {
        "id": "ZXixNLbuny_v"
      },
      "execution_count": null,
      "outputs": []
    },
    {
      "cell_type": "markdown",
      "source": [
        "with 문을 반복문과 함께 이용하는 예\n"
      ],
      "metadata": {
        "id": "ngpt5n8roLrJ"
      }
    },
    {
      "cell_type": "code",
      "source": [
        "with open('myTextFile3.txt', 'w') as f:       # 파일을 쓰기 모드로 열기\n",
        "    for num in range(1,6):                                 # for문에서 num이 1~5까지 반복\n",
        "        format_string = \"3 x {0} = {1}\\n\".format(num,3*num) # 문자열 생성\n",
        "        f.write(format_string)"
      ],
      "metadata": {
        "id": "BvmmJXjmoOUF"
      },
      "execution_count": null,
      "outputs": []
    },
    {
      "cell_type": "markdown",
      "source": [
        "\n",
        "\n",
        "\n",
        "with 문과 for 문을 이용해 파일의 문자열을 한 줄씩 읽는 예\n"
      ],
      "metadata": {
        "id": "jnfxb9ZRoNrt"
      }
    },
    {
      "cell_type": "code",
      "source": [
        "with open('myTextFile3.txt', 'r') as f: # 파일을 읽기 모드로 열기\n",
        "    for line in f:           # 파일 전체를 읽고 리스트 항목을 line에 할당\n",
        "        print(line, end=\"\")  # line에 할당된 문자열 출력(줄 바꿈 안 함)"
      ],
      "metadata": {
        "id": "NNIkOqxqoFSt"
      },
      "execution_count": null,
      "outputs": []
    },
    {
      "cell_type": "code",
      "source": [],
      "metadata": {
        "id": "NfE9x4W2K3SU"
      },
      "execution_count": null,
      "outputs": []
    }
  ]
}