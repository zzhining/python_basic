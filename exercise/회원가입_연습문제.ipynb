{
  "nbformat": 4,
  "nbformat_minor": 0,
  "metadata": {
    "colab": {
      "provenance": [],
      "include_colab_link": true
    },
    "kernelspec": {
      "name": "python3",
      "display_name": "Python 3"
    },
    "language_info": {
      "name": "python"
    }
  },
  "cells": [
    {
      "cell_type": "markdown",
      "metadata": {
        "id": "view-in-github",
        "colab_type": "text"
      },
      "source": [
        "<a href=\"https://colab.research.google.com/github/zzhining/python_basic/blob/master/exercise/회원가입_연습문제.ipynb\" target=\"_parent\"><img src=\"https://colab.research.google.com/assets/colab-badge.svg\" alt=\"Open In Colab\"/></a>"
      ]
    },
    {
      "cell_type": "markdown",
      "source": [
        "**회원가입을 받는 프로그램을 작성할 것입니다.\n",
        "회원가입에 필요한 정보는 id, password, email 입니다.**\n",
        "\n",
        "1. id 형식\n",
        "  - 알파벳 또는 숫자로 이러우져야 합니다.\n",
        "  - 5글자 이상 10글자 미만이어야 합니다.\n",
        "  - id 는 id_list 리스트에 저장 됩니다.\n",
        "\n",
        "2. password 형식\n",
        "  - 알파벳과 숫자가 동시에 존재해야 합니다.\n",
        "  - 5글자 이상 10글자 미만이어야 합니다.\n",
        "  - password 는 password_list 리스트에 저장 됩니다.\n",
        "  \n",
        "3. email 형식\n",
        "   - 맨 앞글자가 알파벳 또는 숫자로 구성 되야합니다.\n",
        "   - \"@\" 존재해야 합니다.\n",
        "   - \"@\" 뒤에는 \".\"이 존재해야 합니다.\n",
        "   - \".\" 뒤에는 알파벳이 존재해야 합니다.\n",
        "   - email 은 email_list 리스트에 저장 됩니다.\n",
        "\n",
        "@. id, email이 존재하는지 체크하는 로직을 추가하세요."
      ],
      "metadata": {
        "id": "fcD2gFyZB_At"
      }
    },
    {
      "cell_type": "markdown",
      "source": [
        "\n",
        "\n",
        "---\n",
        "\n",
        "\n",
        "1. id 를 만드는 함수를 작성하세요.\n",
        "    - 알파벳 또는 숫자로 이러우져야 합니다.\n",
        "    - 5글자 이상 10글자 미만이어야 합니다.\n",
        "    - id 는 *id_list* 리스트에 저장 됩니다."
      ],
      "metadata": {
        "id": "UolJ_SFjFF7j"
      }
    },
    {
      "cell_type": "code",
      "source": [
        "special_characters_list = ['!', '@', '#', '$', '%', '^', '&', '*', '(', ')', ',', '.', '?', '\"', ':', '{', '}', '|', '<', '>']"
      ],
      "metadata": {
        "id": "n35GghVSKojm"
      },
      "execution_count": null,
      "outputs": []
    },
    {
      "cell_type": "code",
      "execution_count": null,
      "metadata": {
        "id": "OvMXg_ajBrvy"
      },
      "outputs": [],
      "source": [
        "id_list = []"
      ]
    },
    {
      "cell_type": "code",
      "source": [
        "#답을 작성하세요.\n",
        "def make_id(id):\n"
      ],
      "metadata": {
        "id": "Zj_Xf1VoFTxb"
      },
      "execution_count": null,
      "outputs": []
    },
    {
      "cell_type": "code",
      "source": [
        "# 테스트\n",
        "make_id(\"abcd\") # \"ID는 5글자 이상 10글자 미만이어야 합니다.\"\n",
        "make_id(\"abc.de\") # \"ID에는 특수문자가 포함될 수 없습니다.\"\n",
        "make_id(\"abc123\") # \"ID가 생성 되었습니다. 당신의 ID는 abc123 입니다\""
      ],
      "metadata": {
        "id": "3FSqgBNiH17e"
      },
      "execution_count": null,
      "outputs": []
    },
    {
      "cell_type": "markdown",
      "source": [
        "\n",
        "\n",
        "---\n",
        "2. password를 만드는 함수를 작성하세요.\n",
        "\n",
        "    - 알파벳, 숫자와 특수문자가 동시에 존재해야 합니다.\n",
        "    - 5글자 이상 10글자 미만이어야 합니다.\n",
        "    - password 는 password_list 리스트에 저장 됩니다.\n"
      ],
      "metadata": {
        "id": "1SqBpkXvFzaC"
      }
    },
    {
      "cell_type": "code",
      "source": [
        "password_list = []"
      ],
      "metadata": {
        "id": "DO8UtsB7F87H"
      },
      "execution_count": null,
      "outputs": []
    },
    {
      "cell_type": "code",
      "source": [
        "#답을 작성하세요.\n",
        "def make_password(password):\n"
      ],
      "metadata": {
        "id": "RM5k9nWwGJHs"
      },
      "execution_count": null,
      "outputs": []
    },
    {
      "cell_type": "code",
      "source": [
        "# 테스트\n",
        "make_password(\"ab12\") # \"비밀번호 5글자 이상 10글자 미만이어야 합니다.\"\n",
        "make_password(\"abcdef\") # \"비밀번호에는 알파벳, 숫자, 특수문자가 모두 존재해야 합니다.\"\n",
        "make_password(\"abc123@\") # \"비밀번호가 설정 되었습니다.\""
      ],
      "metadata": {
        "id": "zVpz9tRbKGKD"
      },
      "execution_count": null,
      "outputs": []
    },
    {
      "cell_type": "markdown",
      "source": [
        "3. email을 만드는 함수를 작성하세요.\n",
        "\n",
        "    - 맨 앞글자가 알파벳이어야 합니다.\n",
        "    - \"@\" 존재해야 합니다.\n",
        "    - 메일은 naver 또는 gmail만 허용됩니다.\n",
        "        - \"@\" 뒤에는 \"naver.com\" 또는 \"gmail.com\"이 존재해야 합니다.\n",
        "    - email 은 email_list 리스트에 저장 됩니다."
      ],
      "metadata": {
        "id": "4y3zss2pGOeL"
      }
    },
    {
      "cell_type": "code",
      "source": [
        "email_list = []"
      ],
      "metadata": {
        "id": "70RdeDCeGiu5"
      },
      "execution_count": null,
      "outputs": []
    },
    {
      "cell_type": "code",
      "source": [
        "#답을 작성하세요.\n",
        "def make_email(password):\n"
      ],
      "metadata": {
        "id": "EOgzqpq3GkdK"
      },
      "execution_count": null,
      "outputs": []
    },
    {
      "cell_type": "code",
      "source": [
        "# 테스트\n",
        "make_email(\"ab12\") # \"올바른 email형식이 아닙니다.\"\n",
        "make_email(\"ab12@\") # \"올바른 email형식이 아닙니다.\"\n",
        "make_email(\"abcdef@hanmail.net\") # \"email은 naver 또는 gmail만 허용됩니다.\"\n",
        "make_email(\"abc123@gmail.com\") # \"유효한 email 입니다.\""
      ],
      "metadata": {
        "id": "FgTFdW2PMUhj"
      },
      "execution_count": null,
      "outputs": []
    }
  ]
}
