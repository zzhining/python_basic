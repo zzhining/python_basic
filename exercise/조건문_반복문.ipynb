{
  "nbformat": 4,
  "nbformat_minor": 0,
  "metadata": {
    "colab": {
      "provenance": [],
      "include_colab_link": true
    },
    "kernelspec": {
      "name": "python3",
      "display_name": "Python 3"
    },
    "language_info": {
      "name": "python"
    }
  },
  "cells": [
    {
      "cell_type": "markdown",
      "metadata": {
        "id": "view-in-github",
        "colab_type": "text"
      },
      "source": [
        "<a href=\"https://colab.research.google.com/github/zzhining/python_basic/blob/master/exercise/%EC%A1%B0%EA%B1%B4%EB%AC%B8_%EB%B0%98%EB%B3%B5%EB%AC%B8.ipynb\" target=\"_parent\"><img src=\"https://colab.research.google.com/assets/colab-badge.svg\" alt=\"Open In Colab\"/></a>"
      ]
    },
    {
      "cell_type": "markdown",
      "source": [
        "1. 변수 number가 주어졌을 때, 숫자가 양수인지 음수인지 또는 0인지 판별하고, 해당 결과를 출력하는 코드를 작성하세요."
      ],
      "metadata": {
        "id": "aY8qecTDvJp-"
      }
    },
    {
      "cell_type": "code",
      "execution_count": null,
      "metadata": {
        "id": "b6Yc9GKku74M"
      },
      "outputs": [],
      "source": [
        "number = -10"
      ]
    },
    {
      "cell_type": "code",
      "source": [
        "#답을 작성하세요.\n"
      ],
      "metadata": {
        "id": "mloBcOpQvPZx"
      },
      "execution_count": null,
      "outputs": []
    },
    {
      "cell_type": "markdown",
      "source": [
        "2. 변수 number가 주어졌을 때, 숫자가 짝수인지 홀수인지 판별하고, 해당 결과를 출력하는 코드를 작성하세요."
      ],
      "metadata": {
        "id": "QnHW5rjAvcmH"
      }
    },
    {
      "cell_type": "code",
      "source": [
        "number = 52"
      ],
      "metadata": {
        "id": "vdEd3HmYvmzZ"
      },
      "execution_count": null,
      "outputs": []
    },
    {
      "cell_type": "code",
      "source": [
        "#답을 작성하세요.\n"
      ],
      "metadata": {
        "id": "k0zrvO9DvcLy"
      },
      "execution_count": null,
      "outputs": []
    },
    {
      "cell_type": "markdown",
      "source": [
        "3. 변수 score가 주어졌을 때, 다음 기준에 따라 학점을 출력하는 코드를 작성하세요.\n",
        "- 90점 이상: A\n",
        "- 80점 이상 90점 미만: B\n",
        "- 70점 이상 80점 미만: C\n",
        "- 70점 미만: F"
      ],
      "metadata": {
        "id": "3dbaqEFlv8JV"
      }
    },
    {
      "cell_type": "code",
      "source": [
        "#답을 작성하세요.\n"
      ],
      "metadata": {
        "id": "w30L_264wHG3"
      },
      "execution_count": null,
      "outputs": []
    },
    {
      "cell_type": "markdown",
      "source": [
        "4. 변수 price와 is_discount가 주어졌을 때, is_discount가 True이면 가격에 10% 할인을 적용하고, 그렇지 않으면 원래 가격을 출력하는 코드를 작성하세요."
      ],
      "metadata": {
        "id": "s1PQZZ-xwSp-"
      }
    },
    {
      "cell_type": "code",
      "source": [
        "price = 100\n",
        "is_discount = True"
      ],
      "metadata": {
        "id": "_RCIZwfDwSSz"
      },
      "execution_count": null,
      "outputs": []
    },
    {
      "cell_type": "code",
      "source": [
        "#답을 작성하세요.\n"
      ],
      "metadata": {
        "id": "HaR5tBTywtvm"
      },
      "execution_count": null,
      "outputs": []
    },
    {
      "cell_type": "markdown",
      "source": [
        "5. 반복문을 사용하여 1부터 10까지의 숫자를 출력하는 코드를 작성하세요."
      ],
      "metadata": {
        "id": "_YUcYRgvx_LF"
      }
    },
    {
      "cell_type": "code",
      "source": [
        "#답을 작성하세요.\n"
      ],
      "metadata": {
        "id": "wai32pPIyGz8"
      },
      "execution_count": null,
      "outputs": []
    },
    {
      "cell_type": "markdown",
      "source": [
        "6. 위 반복문(1~10) 숫자 중, 짝수의 값만 출력하는 코드를 작성하세요."
      ],
      "metadata": {
        "id": "WWeLXpUEyXzR"
      }
    },
    {
      "cell_type": "code",
      "source": [
        "#답을 작성하세요.\n"
      ],
      "metadata": {
        "id": "9OeskZ2YyWqH"
      },
      "execution_count": null,
      "outputs": []
    },
    {
      "cell_type": "markdown",
      "source": [
        "7. 리스트 items와 변수 target이 주어졌을 때, for 반복문을 사용하여 target이 리스트에 있는지 확인하고, 결과를 출력하는 코드를 작성하세요."
      ],
      "metadata": {
        "id": "KvfAOYVOy6ns"
      }
    },
    {
      "cell_type": "code",
      "source": [
        "items = [\"apple\", \"banana\", \"cherry\"]\n",
        "target = \"banana\""
      ],
      "metadata": {
        "id": "Tew31WYozN_m"
      },
      "execution_count": null,
      "outputs": []
    },
    {
      "cell_type": "code",
      "source": [
        "#답을 작성하세요.\n"
      ],
      "metadata": {
        "id": "BBH00bf_zGxF"
      },
      "execution_count": null,
      "outputs": []
    },
    {
      "cell_type": "markdown",
      "source": [
        "8. for 반복문을 사용하여 구구단 2단의 결과물을 출력하는 코드를 작성하세요."
      ],
      "metadata": {
        "id": "0bKxdqaJz6GY"
      }
    },
    {
      "cell_type": "code",
      "source": [
        "#답을 작성하세요.\n"
      ],
      "metadata": {
        "id": "9xKeBAxPz1pI"
      },
      "execution_count": null,
      "outputs": []
    },
    {
      "cell_type": "markdown",
      "source": [
        "@.나이에 따라 다음과 같은 입장료를 받고 있다고 할 때, 반복문을 이용하여 1세부터 13세까지의 전체 가격표를 만드는 코드를 작성하세요.\n",
        "\n",
        "- 3세 이하: 무료\n",
        "- 3세에서 5세: 5달러\n",
        "- 5세에서 9세: 10달러\n",
        "- 9세에서 12세: 12달러\n",
        "- 12세 이상: 사용할 수 없음 (프로그램 종료)"
      ],
      "metadata": {
        "id": "s6d1hJv8xcdp"
      }
    },
    {
      "cell_type": "code",
      "source": [
        "#답을 작성하세요.\n"
      ],
      "metadata": {
        "id": "H9eQDDNhxR7P"
      },
      "execution_count": null,
      "outputs": []
    }
  ]
}