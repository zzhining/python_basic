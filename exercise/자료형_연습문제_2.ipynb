{
  "nbformat": 4,
  "nbformat_minor": 0,
  "metadata": {
    "colab": {
      "provenance": [],
      "toc_visible": true,
      "include_colab_link": true
    },
    "kernelspec": {
      "name": "python3",
      "display_name": "Python 3"
    },
    "language_info": {
      "name": "python"
    }
  },
  "cells": [
    {
      "cell_type": "markdown",
      "metadata": {
        "id": "view-in-github",
        "colab_type": "text"
      },
      "source": [
        "<a href=\"https://colab.research.google.com/github/zzhining/python_basic/blob/master/exercise/python_exercise_dtype.ipynb\" target=\"_parent\"><img src=\"https://colab.research.google.com/assets/colab-badge.svg\" alt=\"Open In Colab\"/></a>"
      ]
    },
    {
      "cell_type": "markdown",
      "source": [
        "# 파이썬 자료형"
      ],
      "metadata": {
        "id": "Iau3EfMp8Epe"
      }
    },
    {
      "cell_type": "markdown",
      "source": [
        "##문자열\n",
        "Q1. 홍길동 씨의 주민등록번호는 881120-1068234이다. 홍길동씨의 주민등록번호를 연월일 [YYYYMMDD]  부분과 그 뒤의 숫자 부분으로 나누어 출력해 보자."
      ],
      "metadata": {
        "id": "yZSXObUT8LVB"
      }
    },
    {
      "cell_type": "code",
      "execution_count": null,
      "metadata": {
        "colab": {
          "base_uri": "https://localhost:8080/"
        },
        "id": "S6N5QsdY736G",
        "outputId": "a811c111-cb6e-479c-e17d-7638e05dc3ec"
      },
      "outputs": [
        {
          "output_type": "stream",
          "name": "stdout",
          "text": [
            "코드를 넣으시오\n",
            "코드를 넣으시오\n"
          ]
        }
      ],
      "source": [
        "pin = \"881120-1068234\"\n",
        "yyyymmdd = '코드를 넣으시오'\n",
        "num = '코드를 넣으시오'\n",
        "print('코드를 넣으시오')\n",
        "print('코드를 넣으시오')\n",
        "\n",
        "# 결과값\n",
        "# 881120\n",
        "# 1068234"
      ]
    },
    {
      "cell_type": "markdown",
      "source": [
        "Q2. 주민등록번호 뒷자리의 맨 첫 번째 숫자는 성별을 나타낸다. 주민등록번호에서 성별을 나타내는 숫자를 출력해 보자"
      ],
      "metadata": {
        "id": "APDcuvw-8r2L"
      }
    },
    {
      "cell_type": "code",
      "source": [
        "pin = \"881120-1068234\"\n",
        "print()\n",
        "\n",
        "#결과값\n",
        "# 1"
      ],
      "metadata": {
        "colab": {
          "base_uri": "https://localhost:8080/"
        },
        "id": "bz5DLVgI865C",
        "outputId": "e7d738be-1ac4-4e5b-9720-7397ac68dfe8"
      },
      "execution_count": null,
      "outputs": [
        {
          "output_type": "stream",
          "name": "stdout",
          "text": [
            "\n"
          ]
        }
      ]
    },
    {
      "cell_type": "markdown",
      "source": [
        "##리스트\n",
        "Q1. [1,3,5,4,2]라는 리스트를 [5,4,3,2,1]로 만들어보자"
      ],
      "metadata": {
        "id": "OcZ0KdoK9COb"
      }
    },
    {
      "cell_type": "code",
      "source": [
        "a = [1,3,5,4,2]\n",
        "a.'코드를 넣으시오'\n",
        "a.'코드를 넣으시오'\n",
        "print(a)"
      ],
      "metadata": {
        "id": "R9Kaa18V9JG_"
      },
      "execution_count": null,
      "outputs": []
    },
    {
      "cell_type": "markdown",
      "source": [
        "Q2. ['Life','is','too','short']라는 리스트를 Life is too short라는 문자열로 만들어 출력해 보자"
      ],
      "metadata": {
        "id": "5Qe1O5NV9Xm3"
      }
    },
    {
      "cell_type": "code",
      "source": [
        "a = ['Life','is','too', 'short']\n",
        "result = '코드를 넣으시오'\n",
        "print(result)"
      ],
      "metadata": {
        "id": "RTjdG6n19ho7"
      },
      "execution_count": null,
      "outputs": []
    },
    {
      "cell_type": "markdown",
      "source": [
        "##튜플\n",
        "Q1. (1,2,3)이라는 튜플에 4라는 값을 추가하여 (1,2,3,4)처럼 만들어 출력해 보자"
      ],
      "metadata": {
        "id": "1d88TcE39yZd"
      }
    },
    {
      "cell_type": "code",
      "source": [
        "a = (1,2,3)\n",
        "a = '코드를 넣으시오'\n",
        "print(a)"
      ],
      "metadata": {
        "id": "gIUAYi7G94Yl"
      },
      "execution_count": null,
      "outputs": []
    },
    {
      "cell_type": "markdown",
      "source": [
        "##딕셔너리\n",
        "Q1. 딕셔너리 a에서 'B'에 해당되는 값을 추출하고 삭제해 보자.\n"
      ],
      "metadata": {
        "id": "3C94Sbxf9_u_"
      }
    },
    {
      "cell_type": "code",
      "source": [
        "a = {'A':90, 'B':80, 'C':70}\n",
        "result ='코드를 넣으시오'\n",
        "print('코드를 넣으시오') #B를 추출한 후 딕셔너리\n",
        "print('코드를 넣으시오') #B에 해당되는 값\n",
        "\n",
        "#결과값\n",
        "#{'A':90, 'C':70}\n",
        "# 80"
      ],
      "metadata": {
        "id": "yN_T1cpJ9--J"
      },
      "execution_count": null,
      "outputs": []
    },
    {
      "cell_type": "markdown",
      "source": [
        "##세트\n",
        "Q1. a리스트에서 중복된 숫자들을 제거해보자"
      ],
      "metadata": {
        "id": "gRjViwRP-mAo"
      }
    },
    {
      "cell_type": "code",
      "source": [
        "a = [1,1,1,2,2,3,3,3,4,4,5]\n",
        "aSet = '코드를 넣으시오'\n",
        "b = '코드를 넣으시오'\n",
        "print('코드를 넣으시오')\n",
        "\n",
        "#결과값\n",
        "#[1,2,3,4,5]"
      ],
      "metadata": {
        "id": "mNdO_on7-sZB"
      },
      "execution_count": null,
      "outputs": []
    },
    {
      "cell_type": "markdown",
      "source": [
        "##변수\n",
        "Q1. 파이썬은 다음처럼 동일한 값에 여러 개의 변수를 선언할 수 있다. 아래와 같이 a, b 변수를 선언한 후 a의 첫 번째 요소값을 변경하면 b의 값은 어떻게 될까? 그리고 이런 결과가 나오는 이유에 대해서 설명해 보자"
      ],
      "metadata": {
        "id": "Z50kCFGW-4ym"
      }
    },
    {
      "cell_type": "code",
      "source": [
        "a = b = [1, 2, 3]\n",
        "a[1] = 4\n",
        "print(b)"
      ],
      "metadata": {
        "id": "qVfGqp-r_FhI"
      },
      "execution_count": null,
      "outputs": []
    }
  ]
}
