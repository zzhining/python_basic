{
  "nbformat": 4,
  "nbformat_minor": 0,
  "metadata": {
    "colab": {
      "provenance": [],
      "include_colab_link": true
    },
    "kernelspec": {
      "name": "python3",
      "display_name": "Python 3"
    },
    "language_info": {
      "name": "python"
    }
  },
  "cells": [
    {
      "cell_type": "markdown",
      "metadata": {
        "id": "view-in-github",
        "colab_type": "text"
      },
      "source": [
        "<a href=\"https://colab.research.google.com/github/zzhining/python_basic/blob/master/exercise/%ED%95%A8%EC%88%98_%EB%9E%8C%EB%8B%A4_%EB%AC%B8%EC%9E%90%EC%97%B4.ipynb\" target=\"_parent\"><img src=\"https://colab.research.google.com/assets/colab-badge.svg\" alt=\"Open In Colab\"/></a>"
      ]
    },
    {
      "cell_type": "markdown",
      "source": [
        "1. 두 수를 입력 받아 그 곱을 반환하는 함수를 작성하세요."
      ],
      "metadata": {
        "id": "gbEnq1KDtnFO"
      }
    },
    {
      "cell_type": "code",
      "execution_count": null,
      "metadata": {
        "id": "m9muCNmUtSZP"
      },
      "outputs": [],
      "source": [
        "#답을 작성하세요.\n",
        "def multiply_numbers(a, b):\n"
      ]
    },
    {
      "cell_type": "code",
      "source": [
        "#테스트\n",
        "print(multiply_numbers(3, 5))  #15"
      ],
      "metadata": {
        "id": "9AYm4gg_vJ6o"
      },
      "execution_count": null,
      "outputs": []
    },
    {
      "cell_type": "markdown",
      "source": [
        "2. 숫자 리스트를 입력 받아 평균을 반환하는 함수를 작성하세요."
      ],
      "metadata": {
        "id": "FoHkPi26vPFE"
      }
    },
    {
      "cell_type": "code",
      "source": [
        "#답을 작성하세요.\n",
        "def average(lst):\n"
      ],
      "metadata": {
        "id": "4J86UASJvMT2"
      },
      "execution_count": null,
      "outputs": []
    },
    {
      "cell_type": "code",
      "source": [
        "#테스트\n",
        "print(average([10, 20, 30, 40, 50])) #30"
      ],
      "metadata": {
        "id": "767sASqYvSnv"
      },
      "execution_count": null,
      "outputs": []
    },
    {
      "cell_type": "markdown",
      "source": [
        "3. 주어진 숫자가 짝수이면 True, 홀수이면 False를 반환하는 함수를 작성하세요."
      ],
      "metadata": {
        "id": "L0FUMKO8voRt"
      }
    },
    {
      "cell_type": "code",
      "source": [
        "#답을 작성하세요.\n",
        "def is_even(n):\n"
      ],
      "metadata": {
        "id": "esi6bwKfvoBs"
      },
      "execution_count": null,
      "outputs": []
    },
    {
      "cell_type": "code",
      "source": [
        "# 테스트\n",
        "print(is_even(14))  # True\n",
        "print(is_even(20))  # False"
      ],
      "metadata": {
        "id": "AblSJD5uwBbJ"
      },
      "execution_count": null,
      "outputs": []
    },
    {
      "cell_type": "markdown",
      "source": [
        "4. 주어진 리스트의 모든 요소를 문자열로 변환하여 반환하는 람다 함수를 작성하세요."
      ],
      "metadata": {
        "id": "ZqVepWtkz1Iz"
      }
    },
    {
      "cell_type": "code",
      "source": [
        "#답을 작성하세요.\n",
        "multiply_numbers ="
      ],
      "metadata": {
        "id": "g2L27h9jz6A_"
      },
      "execution_count": null,
      "outputs": []
    },
    {
      "cell_type": "code",
      "source": [
        "# 테스트\n",
        "print(multiply_numbers(3, 5))  #15"
      ],
      "metadata": {
        "id": "ZDTYekgTz9Ku"
      },
      "execution_count": null,
      "outputs": []
    },
    {
      "cell_type": "markdown",
      "source": [
        "5. 두 문자열을 입력받아 합친 문자열을 반환하는 람다 함수를 작성하세요."
      ],
      "metadata": {
        "id": "MFXA7Tap04cg"
      }
    },
    {
      "cell_type": "code",
      "source": [
        "#답을 작성하세요.\n",
        "change_int_to_str ="
      ],
      "metadata": {
        "id": "ceS_yflW1Qqq"
      },
      "execution_count": null,
      "outputs": []
    },
    {
      "cell_type": "code",
      "source": [
        "# 테스트\n",
        "print(change_int_to_str([1, 2, 3, 4, 5]))  # ['1', '2', '3', '4', '5']"
      ],
      "metadata": {
        "id": "kMITrCoF06mT"
      },
      "execution_count": null,
      "outputs": []
    },
    {
      "cell_type": "markdown",
      "source": [
        "6. 주어진 문자열에서 모든 모음(a,e,i,o,u)을 제거한 문자열을 반환하는 함수를 작성하세요."
      ],
      "metadata": {
        "id": "FnlTdfBk2EHU"
      }
    },
    {
      "cell_type": "code",
      "source": [
        "#답을 작성하세요.\n",
        "def remove_vowels(s):\n"
      ],
      "metadata": {
        "id": "tjgXB28u19lk"
      },
      "execution_count": null,
      "outputs": []
    },
    {
      "cell_type": "code",
      "source": [
        "# 테스트\n",
        "print(remove_vowels(\"abcdefghijklmnopqrstuvwxyz\"))  # \"bcdfghjklmnpqrstvwxyz\""
      ],
      "metadata": {
        "id": "f3Hl9mG62hN0"
      },
      "execution_count": null,
      "outputs": []
    },
    {
      "cell_type": "markdown",
      "source": [
        "7. 문자열을 입력 받아, 해당 문자열에서 가장 긴 단어와 길이를 반환하는 함수를 작성하세요.\n"
      ],
      "metadata": {
        "id": "mznE_wth4t11"
      }
    },
    {
      "cell_type": "code",
      "source": [
        "#답을 작성하세요.\n",
        "def count_words_length(s):\n"
      ],
      "metadata": {
        "id": "TJjrzqzu5EGp"
      },
      "execution_count": null,
      "outputs": []
    },
    {
      "cell_type": "code",
      "source": [
        "# 테스트\n",
        "print(count_words_length(\"Life is for one generation a good name is forever.\"))  # \"generation\", 10"
      ],
      "metadata": {
        "id": "4g7-JncB5HHB"
      },
      "execution_count": null,
      "outputs": []
    },
    {
      "cell_type": "markdown",
      "source": [
        "8. 주어진 문자열에서 숫자와 문자를 분리하는 함수를 작성하세요."
      ],
      "metadata": {
        "id": "ZoGzLeG93sVd"
      }
    },
    {
      "cell_type": "code",
      "source": [
        "#답을 작성하세요.\n",
        "def divide_str_int(s):\n",
        "    str_list = []\n",
        "    int_list = []\n",
        "    return str_list, int_list"
      ],
      "metadata": {
        "id": "wmtg3HI93sDF"
      },
      "execution_count": null,
      "outputs": []
    },
    {
      "cell_type": "code",
      "source": [
        "# 테스트\n",
        "print(divide_str_int(\"a1b2c3d4\")) # [\"a\", \"b\", \"c\", \"d\"], [1, 2, 3, 4]"
      ],
      "metadata": {
        "id": "oqB4LNRd30Jg"
      },
      "execution_count": null,
      "outputs": []
    },
    {
      "cell_type": "markdown",
      "source": [
        "@ 주어진 문자열(알파벳)을 입력 받아, 각 알파벳의 종류와 개수를 dict형으로 반환하는 함수를 만드세요."
      ],
      "metadata": {
        "id": "y7OEHrgG3GeB"
      }
    },
    {
      "cell_type": "code",
      "source": [
        "#답을 작성하세요.\n",
        "def alphabet_count(s):\n"
      ],
      "metadata": {
        "id": "-gqBttTm3OpN"
      },
      "execution_count": null,
      "outputs": []
    },
    {
      "cell_type": "code",
      "source": [
        "# 테스트\n",
        "print(alphabet_count(\"hello\"))  # {\"h\": 1, \"e\": 1, \"l\": 2, \"o\": \"1\"}"
      ],
      "metadata": {
        "id": "zUcFL0fR3Vln"
      },
      "execution_count": null,
      "outputs": []
    }
  ]
}
