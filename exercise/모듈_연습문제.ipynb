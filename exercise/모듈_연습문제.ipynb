{
  "nbformat": 4,
  "nbformat_minor": 0,
  "metadata": {
    "colab": {
      "provenance": [],
      "include_colab_link": true
    },
    "kernelspec": {
      "name": "python3",
      "display_name": "Python 3"
    },
    "language_info": {
      "name": "python"
    }
  },
  "cells": [
    {
      "cell_type": "markdown",
      "metadata": {
        "id": "view-in-github",
        "colab_type": "text"
      },
      "source": [
        "<a href=\"https://colab.research.google.com/github/zzhining/python_basic/blob/master/exercise/%EB%AA%A8%EB%93%88_datetime_%EC%98%88%EC%99%B8%EC%B2%98%EB%A6%AC.ipynb\" target=\"_parent\"><img src=\"https://colab.research.google.com/assets/colab-badge.svg\" alt=\"Open In Colab\"/></a>"
      ]
    },
    {
      "cell_type": "markdown",
      "source": [
        "1. 파이썬의 math 모듈을 사용하여 주어진 숫자의 제곱근을 반환하는 함수를 작성하세요."
      ],
      "metadata": {
        "id": "peOgUKuu6Yan"
      }
    },
    {
      "cell_type": "code",
      "execution_count": null,
      "metadata": {
        "id": "Naqwhulz598I"
      },
      "outputs": [],
      "source": [
        "#답을 작성하세요.\n",
        "def calculate_sqrt(n):\n"
      ]
    },
    {
      "cell_type": "code",
      "source": [
        "# 테스트\n",
        "print(calculate_sqrt(16))  # 4.0"
      ],
      "metadata": {
        "id": "loZeDlx86iSz"
      },
      "execution_count": null,
      "outputs": []
    },
    {
      "cell_type": "markdown",
      "source": [
        "2. 파이썬의 math 모듈을 사용하여 원의 면적을 계산하여 하는 함수를 작성하세요. (결과를 반올림 하여 정수의 값으로 표현)"
      ],
      "metadata": {
        "id": "uZPJtT6n8T7C"
      }
    },
    {
      "cell_type": "code",
      "source": [
        "#답을 작성하세요.\n",
        "def circle_area(r):\n"
      ],
      "metadata": {
        "id": "5hFA51hd8Sa2"
      },
      "execution_count": null,
      "outputs": []
    },
    {
      "cell_type": "code",
      "source": [
        "# 테스트\n",
        "print(circle_area(5))  # 79"
      ],
      "metadata": {
        "id": "M59lv6aU8hZx"
      },
      "execution_count": null,
      "outputs": []
    },
    {
      "cell_type": "markdown",
      "source": [
        "3. 파이썬의 random 모듈을 사용하여 1부터 45 사이의 복권 번호 n개를 추출하는 함수를 작성하세요."
      ],
      "metadata": {
        "id": "ecfbcIwy678E"
      }
    },
    {
      "cell_type": "code",
      "source": [
        "#답을 작성하세요.\n",
        "def numbers_choice(n):\n"
      ],
      "metadata": {
        "id": "g9Lme2aR6_Hc"
      },
      "execution_count": null,
      "outputs": []
    },
    {
      "cell_type": "code",
      "source": [
        "# 테스트\n",
        "numbers_choice(6) # [x1, x2, x3, x4, x5, x6]"
      ],
      "metadata": {
        "id": "vOabF13i7WDj"
      },
      "execution_count": null,
      "outputs": []
    },
    {
      "cell_type": "markdown",
      "source": [
        "4. 파이썬의 datetime 모듈을 사용하여 현재 한국, 영국, 미국의 시간을 반환하는 함수를 작성하세요. (영국 : -8시간, 미국 -13시간)"
      ],
      "metadata": {
        "id": "s-zonguR7r7O"
      }
    },
    {
      "cell_type": "code",
      "source": [
        "#답을 작성하세요.\n",
        "def get_current_time():\n",
        "    korean_time =\n",
        "    england_time =\n",
        "    usa_time =\n",
        "    return korean_time, england_time, usa_time"
      ],
      "metadata": {
        "id": "euoAqAW37rKa"
      },
      "execution_count": null,
      "outputs": []
    },
    {
      "cell_type": "code",
      "source": [
        "# 테스트\n",
        "print(get_current_time())"
      ],
      "metadata": {
        "id": "AdfX_H1W-NMA"
      },
      "execution_count": null,
      "outputs": []
    },
    {
      "cell_type": "markdown",
      "source": [
        "5. 오늘 날짜 기준으로 특정 날짜까지의 남은 날짜를 계산하는 함수를 작성하세요."
      ],
      "metadata": {
        "id": "ICfuGPAL-oz9"
      }
    },
    {
      "cell_type": "code",
      "source": [
        "#답을 작성하세요.\n",
        "def calculate_d_day(day):\n"
      ],
      "metadata": {
        "id": "YG5leHWL-2hw"
      },
      "execution_count": null,
      "outputs": []
    },
    {
      "cell_type": "code",
      "source": [
        "# 테스트\n",
        "calculate_d_day(\"2024-07-02\")"
      ],
      "metadata": {
        "id": "wXcvLcSa-7vH"
      },
      "execution_count": null,
      "outputs": []
    },
    {
      "cell_type": "markdown",
      "source": [
        "6. 두 숫자(x1, x2) 를 입력 받아 나눗셈(x1/x2)을 하는 함수를 작성하세요. (예외처리 : 0으로 나누면 ZeroDivisionError, 숫자가 아닌 값을 입력 받으면 ValueError를 반환하세요)"
      ],
      "metadata": {
        "id": "HNhVbOUbA5-N"
      }
    },
    {
      "cell_type": "code",
      "source": [
        "#답을 작성하세요.\n",
        "def divide_numbers(x1, x2):\n"
      ],
      "metadata": {
        "id": "8xSpnRG8CDkl"
      },
      "execution_count": null,
      "outputs": []
    },
    {
      "cell_type": "code",
      "source": [
        "# 테스트\n",
        "divide_numbers(4, 2) #2.0\n",
        "divide_numbers(4, 0) #ZeroDivisionError\n",
        "divide_numbers('a', 'b') #ValueError"
      ],
      "metadata": {
        "id": "Kmmc_6DYCFRt"
      },
      "execution_count": null,
      "outputs": []
    },
    {
      "cell_type": "markdown",
      "source": [
        "7. 현재 날짜 기점으로 나이를 계산하는 함수를 만드세요. (예외처리: 숫자값이 아니거나, 오늘 날짜보다 빠르면 exception 처리)"
      ],
      "metadata": {
        "id": "Xlv1Qm0mD-Gj"
      }
    },
    {
      "cell_type": "code",
      "source": [
        "def check_age(n):\n"
      ],
      "metadata": {
        "id": "wsVwU6QEEgO_"
      },
      "execution_count": null,
      "outputs": []
    },
    {
      "cell_type": "code",
      "source": [
        "# 테스트\n",
        "calculate_age(1990) # 34\n",
        "calculate_age(2000) # 24\n",
        "calculate_age(2025) # Exception"
      ],
      "metadata": {
        "id": "cTBGTCWOEtME"
      },
      "execution_count": null,
      "outputs": []
    },
    {
      "cell_type": "markdown",
      "source": [
        "@. 사용자에게 암호값을 입력 받아 \"비밀번호가 생성 되었습니다\" 를 반환하는  함수를 작성하세요. (예외처리: 5글자 미만, 숫자가 없으면 \"숫자가 없습니다.\", 문자열이 없으면 \"문자가 없습니다.\" 문자열 추출)"
      ],
      "metadata": {
        "id": "bLArm6PVDQwQ"
      }
    },
    {
      "cell_type": "code",
      "source": [
        "#답을 작성하세요.\n",
        "def make_password(pwd):\n"
      ],
      "metadata": {
        "id": "3Exq2ykTHCRz"
      },
      "execution_count": null,
      "outputs": []
    },
    {
      "cell_type": "code",
      "source": [
        "# 테스트\n",
        "make_password(\"abcdefg\") # Exception, \"숫자가 없습니다.\"\n",
        "make_password(\"123456\") # Exception, \"문자가 없습니다.\"\n",
        "make_password(\"abcde1234\") # \"비밀번호가 생성 되었습니다.\""
      ],
      "metadata": {
        "id": "H58CdhiwHNZi"
      },
      "execution_count": null,
      "outputs": []
    }
  ]
}
