{
  "cells": [
    {
      "cell_type": "markdown",
      "metadata": {
        "id": "view-in-github",
        "colab_type": "text"
      },
      "source": [
        "<a href=\"https://colab.research.google.com/github/zzhining/python_basic/blob/master/14_%EB%AC%B8%EC%9E%90%EC%97%B4%EB%8B%A4%EB%A3%A8%EA%B8%B0.ipynb\" target=\"_parent\"><img src=\"https://colab.research.google.com/assets/colab-badge.svg\" alt=\"Open In Colab\"/></a>"
      ]
    },
    {
      "cell_type": "markdown",
      "source": [
        "# 기본 문자열 함수\n"
      ],
      "metadata": {
        "id": "lnWxZUnkToA-"
      }
    },
    {
      "cell_type": "markdown",
      "source": [
        "## split"
      ],
      "metadata": {
        "id": "alDDLrLrTsnE"
      }
    },
    {
      "cell_type": "code",
      "execution_count": 1,
      "metadata": {
        "colab": {
          "base_uri": "https://localhost:8080/"
        },
        "id": "A_KXQQ2wn6w_",
        "outputId": "fdaafea1-bc30-430b-e16c-c057c7ec4c62"
      },
      "outputs": [
        {
          "output_type": "execute_result",
          "data": {
            "text/plain": [
              "['에스프레소', ' 아메리카노', ' 카페라테', ' 카푸치노']"
            ]
          },
          "metadata": {},
          "execution_count": 1
        }
      ],
      "source": [
        "str1 = \"에스프레소, 아메리카노, 카페라테, 카푸치노\"\n",
        "str1.split(\",\")"
      ]
    },
    {
      "cell_type": "code",
      "execution_count": 2,
      "metadata": {
        "colab": {
          "base_uri": "https://localhost:8080/"
        },
        "id": "_Erd6BLZn6xD",
        "outputId": "d9e6370d-656b-4ab7-94f4-d29d9ed92d33"
      },
      "outputs": [
        {
          "output_type": "execute_result",
          "data": {
            "text/plain": [
              "['+82', '10', '1234', '5678']"
            ]
          },
          "metadata": {},
          "execution_count": 2
        }
      ],
      "source": [
        "str1 = \"+82-10-1234-5678\"\n",
        "str1.split(\"-\")"
      ]
    },
    {
      "cell_type": "code",
      "execution_count": 3,
      "metadata": {
        "colab": {
          "base_uri": "https://localhost:8080/"
        },
        "id": "CYQElP_Bn6xD",
        "outputId": "b9943f99-1fbb-467e-c2ae-d854ba7a7f8f"
      },
      "outputs": [
        {
          "output_type": "execute_result",
          "data": {
            "text/plain": [
              "['+82', '10-1234-5678']"
            ]
          },
          "metadata": {},
          "execution_count": 3
        }
      ],
      "source": [
        "str1.split(\"-\", 1)"
      ]
    },
    {
      "cell_type": "code",
      "execution_count": 4,
      "metadata": {
        "colab": {
          "base_uri": "https://localhost:8080/"
        },
        "id": "b1vRqTasn6xE",
        "outputId": "0b9e4961-9efd-42ee-fdfc-88a84fcab322"
      },
      "outputs": [
        {
          "output_type": "execute_result",
          "data": {
            "text/plain": [
              "['+82', '10', '1234-5678']"
            ]
          },
          "metadata": {},
          "execution_count": 4
        }
      ],
      "source": [
        "str1.split(\"-\", maxsplit=2)"
      ]
    },
    {
      "cell_type": "markdown",
      "source": [
        "## strip"
      ],
      "metadata": {
        "id": "eafi5O2_Tv-u"
      }
    },
    {
      "cell_type": "code",
      "execution_count": 5,
      "metadata": {
        "id": "YFkhNZzkn6xE",
        "colab": {
          "base_uri": "https://localhost:8080/",
          "height": 35
        },
        "outputId": "59f944aa-65ec-413d-e25a-33562a0eb81b"
      },
      "outputs": [
        {
          "output_type": "execute_result",
          "data": {
            "text/plain": [
              "'Python'"
            ],
            "application/vnd.google.colaboratory.intrinsic+json": {
              "type": "string"
            }
          },
          "metadata": {},
          "execution_count": 5
        }
      ],
      "source": [
        "str2 = \"aaaaPythonaaaa\"\n",
        "str2.strip(\"a\")"
      ]
    },
    {
      "cell_type": "code",
      "execution_count": 6,
      "metadata": {
        "id": "qA2h0ldqn6xF",
        "outputId": "ef161ee2-3e0f-4bb9-9355-f874012d56f3",
        "colab": {
          "base_uri": "https://localhost:8080/",
          "height": 35
        }
      },
      "outputs": [
        {
          "output_type": "execute_result",
          "data": {
            "text/plain": [
              "'bbPythonaaaabb'"
            ],
            "application/vnd.google.colaboratory.intrinsic+json": {
              "type": "string"
            }
          },
          "metadata": {},
          "execution_count": 6
        }
      ],
      "source": [
        "str3 = \"aaabbPythonaaaabb\"\n",
        "str3.strip(\"a\")"
      ]
    },
    {
      "cell_type": "code",
      "execution_count": 7,
      "metadata": {
        "id": "CBVzNmMkn6xF",
        "outputId": "c80a10e4-64e3-446a-87b9-106f899936a6",
        "colab": {
          "base_uri": "https://localhost:8080/",
          "height": 35
        }
      },
      "outputs": [
        {
          "output_type": "execute_result",
          "data": {
            "text/plain": [
              "'bbPythonbb'"
            ],
            "application/vnd.google.colaboratory.intrinsic+json": {
              "type": "string"
            }
          },
          "metadata": {},
          "execution_count": 7
        }
      ],
      "source": [
        "str4 = \"aaabbPythonbbaaaa\"\n",
        "str4.strip(\"a\")"
      ]
    },
    {
      "cell_type": "code",
      "execution_count": 8,
      "metadata": {
        "id": "ZN0nT1UPn6xG",
        "outputId": "12fe061f-49db-4786-cba5-bfa8189f8d0a",
        "colab": {
          "base_uri": "https://localhost:8080/"
        }
      },
      "outputs": [
        {
          "output_type": "stream",
          "name": "stdout",
          "text": [
            "aaabbPythonbbaaaa\n",
            "Python\n"
          ]
        }
      ],
      "source": [
        "print(str4)\n",
        "print(str4.strip(\"ab\"))"
      ]
    },
    {
      "cell_type": "code",
      "execution_count": 9,
      "metadata": {
        "id": "ZSYGDDZTn6xG",
        "outputId": "b8c3c90e-4ab0-4d98-f0e3-90613ab5f3e0",
        "colab": {
          "base_uri": "https://localhost:8080/"
        }
      },
      "outputs": [
        {
          "output_type": "stream",
          "name": "stdout",
          "text": [
            "aaabbPythonbbaaaa\n",
            "Python\n"
          ]
        }
      ],
      "source": [
        "print(str4)\n",
        "print(str4.strip(\"ba\"))"
      ]
    },
    {
      "cell_type": "code",
      "execution_count": 10,
      "metadata": {
        "id": "WrI9fQm3n6xH",
        "outputId": "8c3c21a9-99e3-4c2d-b6f4-691295807e28",
        "colab": {
          "base_uri": "https://localhost:8080/",
          "height": 35
        }
      },
      "outputs": [
        {
          "output_type": "execute_result",
          "data": {
            "text/plain": [
              "'Python'"
            ],
            "application/vnd.google.colaboratory.intrinsic+json": {
              "type": "string"
            }
          },
          "metadata": {},
          "execution_count": 10
        }
      ],
      "source": [
        "str5 = \"#####****!!!! Python !!!!%%%%!!###\"\n",
        "str5.strip(\"#*!% \")"
      ]
    },
    {
      "cell_type": "code",
      "execution_count": 11,
      "metadata": {
        "id": "Vjt2b3Qqn6xH",
        "outputId": "9207b762-ea22-429a-9fdb-df2be762cd16",
        "colab": {
          "base_uri": "https://localhost:8080/"
        }
      },
      "outputs": [
        {
          "output_type": "stream",
          "name": "stdout",
          "text": [
            " Python \n",
            " Python 0000\n",
            "0000 Python \n"
          ]
        }
      ],
      "source": [
        "str6 = \"0000 Python 0000\"\n",
        "print(str6.strip('0'))\n",
        "print(str6.lstrip('0'))\n",
        "print(str6.rstrip('0'))"
      ]
    },
    {
      "cell_type": "markdown",
      "source": [
        "# 더하기 연산자"
      ],
      "metadata": {
        "id": "uHuMbVOCTzRU"
      }
    },
    {
      "cell_type": "code",
      "execution_count": 12,
      "metadata": {
        "id": "W54SvKqqn6xH",
        "outputId": "e4713b97-5efa-46f2-debf-9a0bcb3e5131",
        "colab": {
          "base_uri": "https://localhost:8080/"
        }
      },
      "outputs": [
        {
          "output_type": "stream",
          "name": "stdout",
          "text": [
            "철수님, 주소와 전화번호를 입력해주세요\n"
          ]
        }
      ],
      "source": [
        "name1 = \"철수\"\n",
        "name2 = \"영희\"\n",
        "hello = \"님, 주소와 전화번호를 입력해주세요\"\n",
        "\n",
        "print(name1 + hello)"
      ]
    },
    {
      "cell_type": "code",
      "execution_count": 13,
      "metadata": {
        "id": "9m3y3N7Sn6xI",
        "outputId": "759cd2d1-d16f-4189-8b7f-40e39d48e56c",
        "colab": {
          "base_uri": "https://localhost:8080/"
        }
      },
      "outputs": [
        {
          "output_type": "stream",
          "name": "stdout",
          "text": [
            "영희님, 주소와 전화번호를 입력해주세요\n"
          ]
        }
      ],
      "source": [
        "print(name2+hello)"
      ]
    },
    {
      "cell_type": "markdown",
      "source": [
        "## join"
      ],
      "metadata": {
        "id": "Lwq9aN50T1d2"
      }
    },
    {
      "cell_type": "code",
      "execution_count": 14,
      "metadata": {
        "id": "yOkettntn6xI",
        "outputId": "850118f9-af6d-4b4b-c56c-da5a46b887d4",
        "colab": {
          "base_uri": "https://localhost:8080/",
          "height": 35
        }
      },
      "outputs": [
        {
          "output_type": "execute_result",
          "data": {
            "text/plain": [
              "'서울시 서초구 반포대로 반포동'"
            ],
            "application/vnd.google.colaboratory.intrinsic+json": {
              "type": "string"
            }
          },
          "metadata": {},
          "execution_count": 14
        }
      ],
      "source": [
        "address_list = [\"서울시\", \"서초구\", \"반포대로\", \"반포동\"]\n",
        "a = \" \"\n",
        "a.join(address_list)"
      ]
    },
    {
      "cell_type": "code",
      "execution_count": 15,
      "metadata": {
        "id": "OYqoJQrqn6xI",
        "outputId": "53112f4b-4ea0-4796-cff3-5c1534655cad",
        "colab": {
          "base_uri": "https://localhost:8080/",
          "height": 35
        }
      },
      "outputs": [
        {
          "output_type": "execute_result",
          "data": {
            "text/plain": [
              "'서울시^^서초구^^반포대로^^반포동'"
            ],
            "application/vnd.google.colaboratory.intrinsic+json": {
              "type": "string"
            }
          },
          "metadata": {},
          "execution_count": 15
        }
      ],
      "source": [
        "b = \"^^\"\n",
        "b.join(address_list)"
      ]
    },
    {
      "cell_type": "markdown",
      "source": [
        "## find"
      ],
      "metadata": {
        "id": "OaqjTfqtT3hW"
      }
    },
    {
      "cell_type": "code",
      "execution_count": 16,
      "metadata": {
        "id": "MgVea83dn6xI",
        "outputId": "171f9bb8-25a5-4780-fa8c-d7a450eba8db",
        "colab": {
          "base_uri": "https://localhost:8080/"
        }
      },
      "outputs": [
        {
          "output_type": "stream",
          "name": "stdout",
          "text": [
            "위치: 0\n"
          ]
        }
      ],
      "source": [
        "str6 = \"Python code\"\n",
        "print(\"위치:\", str6.find(\"Python\"))"
      ]
    },
    {
      "cell_type": "code",
      "execution_count": 17,
      "metadata": {
        "id": "3EApmjcUn6xJ",
        "outputId": "911d7189-ed95-4248-bce4-336240898335",
        "colab": {
          "base_uri": "https://localhost:8080/"
        }
      },
      "outputs": [
        {
          "output_type": "stream",
          "name": "stdout",
          "text": [
            "위치: -1\n"
          ]
        }
      ],
      "source": [
        "print(\"위치:\", str6.find(\"hahaha\"))"
      ]
    },
    {
      "cell_type": "code",
      "execution_count": 17,
      "metadata": {
        "id": "W1CIgPdgn6xJ"
      },
      "outputs": [],
      "source": []
    }
  ],
  "metadata": {
    "kernelspec": {
      "display_name": "Python 3 (ipykernel)",
      "language": "python",
      "name": "python3"
    },
    "language_info": {
      "codemirror_mode": {
        "name": "ipython",
        "version": 3
      },
      "file_extension": ".py",
      "mimetype": "text/x-python",
      "name": "python",
      "nbconvert_exporter": "python",
      "pygments_lexer": "ipython3",
      "version": "3.9.12"
    },
    "toc": {
      "base_numbering": 1,
      "nav_menu": {},
      "number_sections": false,
      "sideBar": true,
      "skip_h1_title": false,
      "title_cell": "Table of Contents",
      "title_sidebar": "Contents",
      "toc_cell": false,
      "toc_position": {},
      "toc_section_display": true,
      "toc_window_display": false
    },
    "colab": {
      "provenance": [],
      "include_colab_link": true
    }
  },
  "nbformat": 4,
  "nbformat_minor": 0
}