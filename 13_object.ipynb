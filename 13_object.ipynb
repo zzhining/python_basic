{
  "cells": [
    {
      "cell_type": "markdown",
      "metadata": {
        "id": "view-in-github",
        "colab_type": "text"
      },
      "source": [
        "<a href=\"https://colab.research.google.com/github/zzhining/python_basic/blob/master/13_object.ipynb\" target=\"_parent\"><img src=\"https://colab.research.google.com/assets/colab-badge.svg\" alt=\"Open In Colab\"/></a>"
      ]
    },
    {
      "cell_type": "markdown",
      "metadata": {
        "id": "sZTURgEXV1SK"
      },
      "source": [
        "# 객체지향프로그래밍(OOP)\n",
        "\n",
        "- 객체를 만들고 이용할 수 있는 기능을 제공하는 프로그래밍 언어\n"
      ]
    },
    {
      "cell_type": "markdown",
      "source": [
        "\n",
        "# 객체\n",
        " - *속성*과 *행위*로 구성\n",
        " - **속성**: 특징, 상태 → 변수로 구현\n",
        " - **행위**: 할 수 있는 일(행동, 동작, 기능) → 함수로 구현\n",
        " - 객체는 변수와 함수의 묶음\n"
      ],
      "metadata": {
        "id": "ehjxnq36WD3-"
      }
    },
    {
      "cell_type": "markdown",
      "source": [
        "# 객체 만드는 방법\n",
        "- 객체를 만들려면 먼저 **클래스**를 선언해야 함\n",
        "- 클래스: 객체의 공통된 속성과 행위를 변수와 함수로 정의한 것\n",
        "- **클래스**는 객체를 만들기 위한 기본 틀, **객체**는 기본 틀을 바탕으로 만들어진 결과\n",
        "- 객체는 클래스에서 생성하므로 객체를 클래스의 인스턴스 (Instance)라고 함\n",
        "----\n",
        "⭐클래스와 객체의 관계⭐\n",
        "\n",
        " 1. 클래스 선언(붕어빵 틀)\n",
        "     - 클래스: 객체를 만들기 위한 기본 틀\n",
        " 2. 객체 생성(붕어빵)\n",
        "     - 인스턴스(instance)\n",
        "     \n",
        "     \n"
      ],
      "metadata": {
        "id": "h-eaGF49WXZy"
      }
    },
    {
      "cell_type": "markdown",
      "source": [
        "![class](https://blog.kakaocdn.net/dn/chH1CQ/btrp55RgLk4/B5LFxkHKOjWFwkOOvBuKt0/img.png)"
      ],
      "metadata": {
        "id": "VEVzA3Y0XDhT"
      }
    },
    {
      "cell_type": "markdown",
      "source": [
        "클래스 선언을 위한 기본 구조\n",
        "```\n",
        "class 클래스명():\n",
        "   [변수1]  # 클래스 변수\n",
        "   [변수2]\n",
        "   ...\n",
        "   def 함수1(self[, 인자1, 인자2, ··· , 인자n]): # 클래스 함수\n",
        "       <코드 블록>\n",
        "       ...\n",
        "   def 함수2(self[, 인자1, 인자2, ··· , 인자n]):\n",
        "       <코드 블록>\n",
        "       ...\n",
        "```\n",
        "\n"
      ],
      "metadata": {
        "id": "HWhiTDkyXT71"
      }
    },
    {
      "cell_type": "markdown",
      "metadata": {
        "id": "Gs_3D9DHV1SO"
      },
      "source": [
        "# 예제: 자전거 클래스\n",
        "\n",
        "- 클래스 이름: Bicycle()\n",
        "- 속성: 바퀴크기(wheelSize), 색상(color)\n",
        "- 동작: 이동(move), 회전(turn), 정지(stop)"
      ]
    },
    {
      "cell_type": "code",
      "source": [
        "# 자전거 클래스 선언\n",
        "class Bicycle(): # 클래스 선언\n",
        "    pass"
      ],
      "metadata": {
        "id": "5vzCZA-XXuS4"
      },
      "execution_count": 1,
      "outputs": []
    },
    {
      "cell_type": "markdown",
      "source": [
        "객체 초기화\n",
        "- 초기화 함수 `__init__()`를 구현하면 객체를 생성하는 것과 동시에 속성값을 지정할 수 있음\n",
        "- `__init__()` 함수는 클래스의 인스턴스가 생성될 때 (즉, 객체가 생성될 때) 자동으로 실행됨\n"
      ],
      "metadata": {
        "id": "liQD6VDMYH5R"
      }
    },
    {
      "cell_type": "markdown",
      "source": [
        "속성 및 동작 추가"
      ],
      "metadata": {
        "id": "_AIKrlONX5wN"
      }
    },
    {
      "cell_type": "code",
      "execution_count": null,
      "metadata": {
        "id": "r6wwpVFbV1SP"
      },
      "outputs": [],
      "source": [
        "class Bicycle():\n",
        "\n",
        "    count = 0\n",
        "\n",
        "    def __init__(self, wheelSize, color):\n",
        "        self.wheelSize = wheelSize\n",
        "        self.color = color\n",
        "        Bicycle.count = Bicycle.count + 1\n",
        "        print(\"[init] count = {0}\".format(Bicycle.count))\n",
        "\n",
        "    def move(self, speed):\n",
        "        print(\"[move] speed = {0}\".format(speed))\n",
        "\n",
        "    def turn(self, direction):\n",
        "         print(\"[turn] direction = {0}\".format(direction))\n",
        "\n",
        "    def stop(self):\n",
        "         print(\"[stop] wheelSize = {0}, color={1}\".format(self.wheelSize, self.color))"
      ]
    },
    {
      "cell_type": "markdown",
      "source": [
        "객체 선언"
      ],
      "metadata": {
        "id": "DhszjK94X7zb"
      }
    },
    {
      "cell_type": "code",
      "execution_count": null,
      "metadata": {
        "id": "yGIyIV2TV1SR",
        "outputId": "ab5608a9-7820-4176-d509-09becfaffcc7"
      },
      "outputs": [
        {
          "name": "stdout",
          "output_type": "stream",
          "text": [
            "[init] count = 1\n"
          ]
        }
      ],
      "source": [
        "myBicycle = Bicycle(50, 'Blue')"
      ]
    },
    {
      "cell_type": "code",
      "execution_count": null,
      "metadata": {
        "id": "37lEthz5V1SS",
        "outputId": "8d5209d5-26a2-46ba-f9fa-282e5b9d629c"
      },
      "outputs": [
        {
          "name": "stdout",
          "output_type": "stream",
          "text": [
            "[init] count = 2\n"
          ]
        }
      ],
      "source": [
        "myBicycle2 = Bicycle(20, 'Red')"
      ]
    },
    {
      "cell_type": "markdown",
      "source": [
        "메서드 호출"
      ],
      "metadata": {
        "id": "6t0MS3huX_kf"
      }
    },
    {
      "cell_type": "code",
      "execution_count": null,
      "metadata": {
        "id": "_Bh6ZrJ9V1SS",
        "outputId": "41d76028-0a2c-42d9-c6bc-51e160b7b0fc"
      },
      "outputs": [
        {
          "name": "stdout",
          "output_type": "stream",
          "text": [
            "[move] speed = 20\n"
          ]
        }
      ],
      "source": [
        "myBicycle.move(20)"
      ]
    },
    {
      "cell_type": "code",
      "execution_count": null,
      "metadata": {
        "id": "vwTspW16V1ST",
        "outputId": "4d91b568-5776-4449-8099-f4b2b8b037d9"
      },
      "outputs": [
        {
          "name": "stdout",
          "output_type": "stream",
          "text": [
            "[stop] wheelSize = 50, color=Blue\n"
          ]
        }
      ],
      "source": [
        "# myBicycle.wheelSize = 30\n",
        "# myBicycle.color = 'Red'\n",
        "myBicycle.stop()"
      ]
    },
    {
      "cell_type": "markdown",
      "source": [
        "# 클래스에서  사용하는 변수\n",
        "- 위치에 따라 **클래스 변수 (class variable)**와 **인스턴스 변수 (instance variable)**로 구분\n",
        "- **클래스 변수**: 클래스 내에 있지만 함수 밖에서 `'변수명 = 데이터'` 형식으로 정의한 변수\n",
        "    - 클래스에서 생성한 모든 객체가 공통으로 사용 가능\n",
        "    - '클래스명.변수명' 형식으로 접근\n",
        "- **인스턴스 변수**: 클래스 내의 함수 안에서 `'self.변수명= 데이터'` 형식으로 정의한 변수\n",
        "    - 클래스 내의 모든 함수에서 'self.변수명'으로 접근\n",
        "    - 각 인스턴스(객체)에서 개별적으로 관리하며, 객체를 생성한 후에 '객체명.변수명' 형식으로 접근\n",
        "\n",
        "\n"
      ],
      "metadata": {
        "id": "iKI-xVLUYYdh"
      }
    },
    {
      "cell_type": "code",
      "source": [
        "# 클래스 변수와 인스턴스 변수를 사용한 자동차 클래스\n",
        "class Car():\n",
        "    instance_count = 0 # 클래스 변수 생성 및 초기화\n",
        "\n",
        "    def __init__(self, size, color):\n",
        "        self.size = size    # 인스턴스 변수 생성 및 초기화\n",
        "        self.color = color  # 인스턴스 변수 생성 및 초기화\n",
        "        Car.instance_count = Car.instance_count + 1 # 클래스 변수 이용\n",
        "        print(\"자동차 객체의 수: {0}\".format(Car.instance_count))\n",
        "\n",
        "    def move(self):\n",
        "        print(\"자동차({0} & {1})가 움직입니다.\".format(self.size, self.color))"
      ],
      "metadata": {
        "id": "DxCmLV7JYytX"
      },
      "execution_count": 2,
      "outputs": []
    },
    {
      "cell_type": "code",
      "source": [
        "car1 = Car('small', 'white')\n",
        "car2 = Car('big', 'black')"
      ],
      "metadata": {
        "colab": {
          "base_uri": "https://localhost:8080/"
        },
        "id": "gFzW2BcQY2bz",
        "outputId": "352f99a7-536c-4c57-afcd-7294a9a3b9bc"
      },
      "execution_count": 3,
      "outputs": [
        {
          "output_type": "stream",
          "name": "stdout",
          "text": [
            "자동차 객체의 수: 1\n",
            "자동차 객체의 수: 2\n"
          ]
        }
      ]
    },
    {
      "cell_type": "code",
      "source": [
        "print(\"Car 클래스의 총 인스턴스 개수:{}\".format(Car.instance_count))\n",
        "print(\"Car 클래스의 총 인스턴스 개수:{}\".format(car1.instance_count))\n",
        "print(\"Car 클래스의 총 인스턴스 개수:{}\".format(car2.instance_count))"
      ],
      "metadata": {
        "colab": {
          "base_uri": "https://localhost:8080/"
        },
        "id": "V4NXkGIJY9Ue",
        "outputId": "7f499ea5-0456-436b-939a-1704abb80066"
      },
      "execution_count": 4,
      "outputs": [
        {
          "output_type": "stream",
          "name": "stdout",
          "text": [
            "Car 클래스의 총 인스턴스 개수:2\n",
            "Car 클래스의 총 인스턴스 개수:2\n",
            "Car 클래스의 총 인스턴스 개수:2\n"
          ]
        }
      ]
    },
    {
      "cell_type": "code",
      "source": [
        "car1.move()\n",
        "car2.move()"
      ],
      "metadata": {
        "colab": {
          "base_uri": "https://localhost:8080/"
        },
        "id": "gd5F-a-aZDX_",
        "outputId": "187fab33-ea36-4a61-c9e3-8338326c8c1b"
      },
      "execution_count": 5,
      "outputs": [
        {
          "output_type": "stream",
          "name": "stdout",
          "text": [
            "자동차(small & white)가 움직입니다.\n",
            "자동차(big & black)가 움직입니다.\n"
          ]
        }
      ]
    },
    {
      "cell_type": "code",
      "source": [
        "# 이름이 같은 클래스 변수와 인스턴스 변수가 있는 클래스를 정의한 경우\n",
        "class Car2():\n",
        "    count = 0; # 클래스 변수 생성 및 초기화\n",
        "\n",
        "    def __init__(self, size, num):\n",
        "        self.size = size    # 인스턴스 변수 생성 및 초기화\n",
        "        self.count = num  # 인스턴스 변수 생성 및 초기화\n",
        "        Car2.count = Car2.count + 1 # 클래스 변수 이용\n",
        "        print(\"자동차 객체의 수: Car2.count = {0}\".format(Car2.count))\n",
        "        print(\"인스턴스 변수 초기화: self.count = {0}\".format(self.count))\n",
        "\n",
        "    def move(self):\n",
        "        print(\"자동차({0} & {1})가 움직입니다.\".format(self.size, self.count))"
      ],
      "metadata": {
        "id": "Y2jGL9Q3ZKe8"
      },
      "execution_count": 6,
      "outputs": []
    },
    {
      "cell_type": "code",
      "source": [
        "car1 = Car2(\"big\", 20)\n",
        "car1 = Car2(\"small\", 30)"
      ],
      "metadata": {
        "colab": {
          "base_uri": "https://localhost:8080/"
        },
        "id": "aXpjAGQ2ZOz3",
        "outputId": "c6de94fa-8832-4520-87c5-75bd62490117"
      },
      "execution_count": 7,
      "outputs": [
        {
          "output_type": "stream",
          "name": "stdout",
          "text": [
            "자동차 객체의 수: Car2.count = 1\n",
            "인스턴스 변수 초기화: self.count = 20\n",
            "자동차 객체의 수: Car2.count = 2\n",
            "인스턴스 변수 초기화: self.count = 30\n"
          ]
        }
      ]
    },
    {
      "cell_type": "markdown",
      "metadata": {
        "id": "7lLcYZiTV1SU"
      },
      "source": [
        "# 클래스에서 사용하는 함수\n",
        "\n",
        "1. **인스턴스 메서드(instance method)**\n",
        "    - 각 객체에서 개별적으로 동작하는 함수를 만들고자 할 때 사용  \n",
        "    - 함수를 정의할 때 첫 인자로 self가 필요\n",
        "    - 인스턴스 메서드 안에서는 `self.함수명()` 형식으로 클래스 내의 다른 함수 호출\n",
        "    \n",
        "    \n",
        "2. **정적 메서드(static method)**\n",
        "    - 클래스와 관련이 있어서 클래스 안에 두기는 하지만,클래스나 클래스의 인스턴스와는 무관하게 독립적으로 동작하는 함수\n",
        "    - self를 사용하지 않음\n",
        "    - 정적메서드 안에서는 클래스나 클래스 변수에 접근할 수 없음\n",
        "    - 데코레이터: @staticmethod\n",
        "    \n",
        "    \n",
        "3. **클래스 메서드(class method)**\n",
        "    - 클래스 변수를 사용하기 위한 함수\n",
        "    - 함수를 정의할 때 첫 번째 인자로 클래스를 넘겨받는 cls가 필요\n",
        "    - 함수 앞에 데코레이터인 @classmethod를 지정\n",
        "    \n",
        "    ---------------\n",
        "\n",
        "# 자동차 클래스"
      ]
    },
    {
      "cell_type": "code",
      "execution_count": null,
      "metadata": {
        "id": "tfR-sr97V1SV"
      },
      "outputs": [],
      "source": [
        "class Car():\n",
        "    instance_count = 0 # 클래스 변수 생성 및 초기화\n",
        "\n",
        "    #초기화 함수(인스턴스 메서드)\n",
        "    def __init__(self, size, color):\n",
        "        self.size = size #인스턴스 변수 생성 및 초기화\n",
        "        self.color = color # 인스턴스 변수 생성 및 초기화\n",
        "        Car.instance_count = Car.instance_count + 1 # 클래스 변수\n",
        "        print(\"자동차 객체 수: {0}\".format(Car.instance_count))\n",
        "\n",
        "    #인스턴스 메서드\n",
        "    def move(self, speed) :\n",
        "        self.speed = speed # 인스턴스 변수 생성\n",
        "        print(\"자동차 {0} & {1}가\".format(self.size, self.color), end='')\n",
        "        print(\"시속 {0}km로 전진\".format(self.speed))\n",
        "\n",
        "    #인스턴스 메서드\n",
        "    def auto_cruise(self):\n",
        "        print(\"자율주행모드\")\n",
        "        self.move(self.speed) # 함수의 인자로 인스턴스 변수를 입력\n",
        "\n",
        "    #정적메서드\n",
        "    @staticmethod\n",
        "    def check_type(model_code):\n",
        "        if(model_code > 20):\n",
        "            print(\"이 자동차는 전기차입니다\")\n",
        "        elif(10 <= model_code < 20) :\n",
        "            print(\"이 자동차는 가솔린차입니다\")\n",
        "        else:\n",
        "            print(\"이 자동차는 디젤차입니다\")\n",
        "\n",
        "    #클래스메서드\n",
        "    @classmethod\n",
        "    def count_instance(cls):\n",
        "        print(\"자동차 객체의 개수: {0}\".format(cls.instance_count))"
      ]
    },
    {
      "cell_type": "code",
      "execution_count": null,
      "metadata": {
        "id": "PtqmQNqmV1SV",
        "outputId": "365c2788-95d1-4803-83f1-dc13894a9606"
      },
      "outputs": [
        {
          "name": "stdout",
          "output_type": "stream",
          "text": [
            "자동차 객체 수: 1\n",
            "자동차 객체 수: 2\n",
            "--\n",
            "자동차 small & red가시속 80km로 전진\n",
            "자동차 big & green가시속 100km로 전진\n",
            "--\n",
            "자율주행모드\n",
            "자동차 small & red가시속 80km로 전진\n",
            "자율주행모드\n",
            "자동차 big & green가시속 100km로 전진\n",
            "--\n"
          ]
        }
      ],
      "source": [
        "car1 = Car(\"small\", \"red\") # 객체생성(car1)\n",
        "car2 = Car(\"big\", \"green\") # 객체생성(car2)\n",
        "\n",
        "print(\"--\")\n",
        "car1.move(80) #객체(car1)의 move() 메서드 호출\n",
        "car2.move(100)#객체(Car2)의 move() 메서드 호출\n",
        "print(\"--\")\n",
        "car1.auto_cruise() #객체(car1)의 auto_cruise 메서드 호출\n",
        "car2.auto_cruise() #객체(car2)의 auto_cruise 메서드 호출\n",
        "print(\"--\")\n"
      ]
    },
    {
      "cell_type": "code",
      "execution_count": null,
      "metadata": {
        "id": "Pvk4ZUwXV1SW",
        "outputId": "7d75d3de-e153-45d2-d02a-6688ffaa8a49"
      },
      "outputs": [
        {
          "name": "stdout",
          "output_type": "stream",
          "text": [
            "이 자동차는 전기차입니다\n",
            "이 자동차는 디젤차입니다\n"
          ]
        }
      ],
      "source": [
        "Car.check_type(25)\n",
        "Car.check_type(2)"
      ]
    },
    {
      "cell_type": "code",
      "execution_count": null,
      "metadata": {
        "id": "wiWziCQjV1SX",
        "outputId": "97679812-fdd1-490a-f893-8f48a09638f4"
      },
      "outputs": [
        {
          "name": "stdout",
          "output_type": "stream",
          "text": [
            "자동차 객체의 개수: 2\n"
          ]
        }
      ],
      "source": [
        "Car.count_instance()"
      ]
    },
    {
      "cell_type": "markdown",
      "metadata": {
        "id": "SUCrp3iaV1SX"
      },
      "source": [
        "# 로봇 클래스"
      ]
    },
    {
      "cell_type": "code",
      "execution_count": null,
      "metadata": {
        "id": "7-eSNI8qV1SX"
      },
      "outputs": [],
      "source": [
        "robot_name = 'R1'\n",
        "robot_pos = 0\n",
        "\n",
        "def robot1_move():\n",
        "    global robot_pos\n",
        "    robot_pos = robot_pos + 1\n",
        "    print(\"{0} position: {1}\".format(robot_name, robot_pos))"
      ]
    },
    {
      "cell_type": "code",
      "execution_count": null,
      "metadata": {
        "id": "EbOcbYEBV1SY",
        "outputId": "0c2a7dc8-7852-4daf-87df-ec6699ad2449"
      },
      "outputs": [
        {
          "name": "stdout",
          "output_type": "stream",
          "text": [
            "R1 position: 1\n"
          ]
        }
      ],
      "source": [
        "robot_move()"
      ]
    },
    {
      "cell_type": "code",
      "execution_count": null,
      "metadata": {
        "id": "7isrAoOSV1SY"
      },
      "outputs": [],
      "source": [
        "robot_name = 'R2'\n",
        "robot_pos = 10\n",
        "\n",
        "def robot2_move():\n",
        "    global robot_pos\n",
        "    robot_pos = robot_pos + 1\n",
        "    print(\"{0} position: {1}\".format(robot_name, robot_pos))"
      ]
    },
    {
      "cell_type": "code",
      "execution_count": null,
      "metadata": {
        "id": "hdKEeevcV1SY",
        "outputId": "34d3ec26-01b0-4a4a-d42a-34e7dab937a0"
      },
      "outputs": [
        {
          "name": "stdout",
          "output_type": "stream",
          "text": [
            "R2 position: 11\n"
          ]
        }
      ],
      "source": [
        "robot1_move()"
      ]
    },
    {
      "cell_type": "code",
      "execution_count": null,
      "metadata": {
        "id": "GYbRJuHgV1SZ",
        "outputId": "0a1873a2-2014-40d6-82b6-72b09ce67f71"
      },
      "outputs": [
        {
          "name": "stdout",
          "output_type": "stream",
          "text": [
            "R2 position: 12\n"
          ]
        }
      ],
      "source": [
        "robot2_move()"
      ]
    },
    {
      "cell_type": "markdown",
      "metadata": {
        "id": "JKvqv48CV1SZ"
      },
      "source": [
        "# 상속"
      ]
    },
    {
      "cell_type": "code",
      "execution_count": null,
      "metadata": {
        "id": "5j4V9-dyV1Sa"
      },
      "outputs": [],
      "source": [
        "class FoldingBicycle(Bicycle):\n",
        "\n",
        "    def __init__(self, wheel_size, color, state):\n",
        "#         Bicycle.__init__(self, wheel_size, color)\n",
        "        super().__init__(wheel_size, color)\n",
        "        self.state = state\n",
        "\n",
        "    def fold(self):\n",
        "        self.state='folding'\n",
        "        print(\"자전거: 접기, state={0}\".format(self.state))\n",
        "\n",
        "    def unfold(self):\n",
        "        self.state='unfolding'\n",
        "        print(\"자전거: 펴기, state={0}\".format(self.state))"
      ]
    },
    {
      "cell_type": "code",
      "execution_count": null,
      "metadata": {
        "id": "XsCdMbw8V1Sa",
        "outputId": "f174569d-1312-4001-ffb1-09cf49d1a9c6"
      },
      "outputs": [
        {
          "name": "stdout",
          "output_type": "stream",
          "text": [
            "[init] count = 4\n"
          ]
        }
      ],
      "source": [
        "foldingBicylce = FoldingBicycle(27, 'white', 'unfolding')"
      ]
    },
    {
      "cell_type": "code",
      "execution_count": null,
      "metadata": {
        "id": "ihaeN3jZV1Sa",
        "outputId": "b19fe590-e56f-46a1-e67d-c06c9f4c92f1"
      },
      "outputs": [
        {
          "name": "stdout",
          "output_type": "stream",
          "text": [
            "[move] speed = 20\n"
          ]
        }
      ],
      "source": [
        "foldingBicylce.move(20)"
      ]
    },
    {
      "cell_type": "code",
      "execution_count": null,
      "metadata": {
        "id": "dY3iYY62V1Sa",
        "outputId": "7c1de6e1-2013-429c-da62-a94bf0d03a64"
      },
      "outputs": [
        {
          "name": "stdout",
          "output_type": "stream",
          "text": [
            "자전거: 펴기, state=unfolding\n"
          ]
        }
      ],
      "source": [
        "foldingBicylce.unfold()"
      ]
    },
    {
      "cell_type": "code",
      "execution_count": null,
      "metadata": {
        "id": "cteRaUs3V1Sb"
      },
      "outputs": [],
      "source": []
    }
  ],
  "metadata": {
    "kernelspec": {
      "display_name": "Python 3",
      "language": "python",
      "name": "python3"
    },
    "language_info": {
      "codemirror_mode": {
        "name": "ipython",
        "version": 3
      },
      "file_extension": ".py",
      "mimetype": "text/x-python",
      "name": "python",
      "nbconvert_exporter": "python",
      "pygments_lexer": "ipython3",
      "version": "3.7.6"
    },
    "toc": {
      "base_numbering": 1,
      "nav_menu": {},
      "number_sections": false,
      "sideBar": true,
      "skip_h1_title": false,
      "title_cell": "Table of Contents",
      "title_sidebar": "Contents",
      "toc_cell": false,
      "toc_position": {},
      "toc_section_display": true,
      "toc_window_display": false
    },
    "colab": {
      "provenance": [],
      "include_colab_link": true
    }
  },
  "nbformat": 4,
  "nbformat_minor": 0
}