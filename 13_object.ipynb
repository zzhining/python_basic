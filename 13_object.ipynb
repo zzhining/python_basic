{
  "cells": [
    {
      "cell_type": "markdown",
      "metadata": {
        "id": "view-in-github",
        "colab_type": "text"
      },
      "source": [
        "<a href=\"https://colab.research.google.com/github/zzhining/python_basic/blob/master/13_object.ipynb\" target=\"_parent\"><img src=\"https://colab.research.google.com/assets/colab-badge.svg\" alt=\"Open In Colab\"/></a>"
      ]
    },
    {
      "cell_type": "markdown",
      "metadata": {
        "id": "sZTURgEXV1SK"
      },
      "source": [
        "# 객체지향프로그래밍(OOP)\n",
        "\n",
        "- 객체를 만들고 이용할 수 있는 기능을 제공하는 프로그래밍 언어\n"
      ]
    },
    {
      "cell_type": "markdown",
      "source": [
        "\n",
        "# 객체\n",
        " - *속성*과 *행위*로 구성\n",
        " - **속성**: 특징, 상태 → 변수로 구현\n",
        " - **행위**: 할 수 있는 일(행동, 동작, 기능) → 함수로 구현\n",
        " - 객체는 변수와 함수의 묶음\n"
      ],
      "metadata": {
        "id": "ehjxnq36WD3-"
      }
    },
    {
      "cell_type": "markdown",
      "source": [
        "# 객체 만드는 방법\n",
        "- 객체를 만들려면 먼저 **클래스**를 선언해야 함\n",
        "- 클래스: 객체의 공통된 속성과 행위를 변수와 함수로 정의한 것\n",
        "- **클래스**는 객체를 만들기 위한 기본 틀, **객체**는 기본 틀을 바탕으로 만들어진 결과\n",
        "- 객체는 클래스에서 생성하므로 객체를 클래스의 인스턴스 (Instance)라고 함\n",
        "----\n",
        "⭐클래스와 객체의 관계⭐\n",
        "\n",
        " 1. 클래스 선언(붕어빵 틀)\n",
        "     - 클래스: 객체를 만들기 위한 기본 틀\n",
        " 2. 객체 생성(붕어빵)\n",
        "     - 인스턴스(instance)\n",
        "     \n",
        "     \n"
      ],
      "metadata": {
        "id": "h-eaGF49WXZy"
      }
    },
    {
      "cell_type": "markdown",
      "source": [
        "![class](https://blog.kakaocdn.net/dn/chH1CQ/btrp55RgLk4/B5LFxkHKOjWFwkOOvBuKt0/img.png)"
      ],
      "metadata": {
        "id": "VEVzA3Y0XDhT"
      }
    },
    {
      "cell_type": "markdown",
      "source": [
        "클래스 선언을 위한 기본 구조\n",
        "```\n",
        "class 클래스명():\n",
        "   [변수1]  # 클래스 변수\n",
        "   [변수2]\n",
        "   ...\n",
        "   def 함수1(self[, 인자1, 인자2, ··· , 인자n]): # 클래스 함수\n",
        "       <코드 블록>\n",
        "       ...\n",
        "   def 함수2(self[, 인자1, 인자2, ··· , 인자n]):\n",
        "       <코드 블록>\n",
        "       ...\n",
        "```\n",
        "\n"
      ],
      "metadata": {
        "id": "HWhiTDkyXT71"
      }
    },
    {
      "cell_type": "markdown",
      "metadata": {
        "id": "Gs_3D9DHV1SO"
      },
      "source": [
        "## [예제]: 자전거 클래스\n",
        "\n",
        "- 클래스 이름: Bicycle()\n",
        "- 속성: 바퀴크기(wheelSize), 색상(color)\n",
        "- 동작: 이동(move), 회전(turn), 정지(stop)"
      ]
    },
    {
      "cell_type": "code",
      "source": [
        "# 자전거 클래스 선언\n",
        "class Bicycle(): # 클래스 선언\n",
        "    pass"
      ],
      "metadata": {
        "id": "5vzCZA-XXuS4"
      },
      "execution_count": 1,
      "outputs": []
    },
    {
      "cell_type": "markdown",
      "source": [
        "객체 초기화\n",
        "- 초기화 함수 `__init__()`를 구현하면 객체를 생성하는 것과 동시에 속성값을 지정할 수 있음\n",
        "- `__init__()` 함수는 클래스의 인스턴스가 생성될 때 (즉, 객체가 생성될 때) 자동으로 실행됨\n"
      ],
      "metadata": {
        "id": "liQD6VDMYH5R"
      }
    },
    {
      "cell_type": "markdown",
      "source": [
        "속성 및 동작 추가"
      ],
      "metadata": {
        "id": "_AIKrlONX5wN"
      }
    },
    {
      "cell_type": "markdown",
      "source": [],
      "metadata": {
        "id": "vXNyVmmdvuR8"
      }
    },
    {
      "cell_type": "code",
      "execution_count": 2,
      "metadata": {
        "id": "r6wwpVFbV1SP"
      },
      "outputs": [],
      "source": [
        "class Bicycle():\n",
        "\n",
        "    count = 0\n",
        "\n",
        "    def __init__(self, wheelSize, color):\n",
        "        self.wheelSize = wheelSize\n",
        "        self.color = color\n",
        "        Bicycle.count = Bicycle.count + 1\n",
        "        print(\"[init] count = {0}\".format(Bicycle.count))\n",
        "\n",
        "    def move(self, speed):\n",
        "        print(\"[move] speed = {0}\".format(speed))\n",
        "\n",
        "    def turn(self, direction):\n",
        "         print(\"[turn] direction = {0}\".format(direction))\n",
        "\n",
        "    def stop(self):\n",
        "         print(\"[stop] wheelSize = {0}, color={1}\".format(self.wheelSize, self.color))"
      ]
    },
    {
      "cell_type": "markdown",
      "source": [
        "객체 선언"
      ],
      "metadata": {
        "id": "DhszjK94X7zb"
      }
    },
    {
      "cell_type": "code",
      "execution_count": 3,
      "metadata": {
        "id": "yGIyIV2TV1SR",
        "outputId": "6dec87f3-9829-43eb-88d1-9a841695263e",
        "colab": {
          "base_uri": "https://localhost:8080/"
        }
      },
      "outputs": [
        {
          "output_type": "stream",
          "name": "stdout",
          "text": [
            "[init] count = 1\n"
          ]
        }
      ],
      "source": [
        "myBicycle = Bicycle(50, 'Blue')"
      ]
    },
    {
      "cell_type": "code",
      "execution_count": 4,
      "metadata": {
        "id": "37lEthz5V1SS",
        "outputId": "81c0d7b3-393a-4494-f8df-d8861142bf06",
        "colab": {
          "base_uri": "https://localhost:8080/"
        }
      },
      "outputs": [
        {
          "output_type": "stream",
          "name": "stdout",
          "text": [
            "[init] count = 2\n"
          ]
        }
      ],
      "source": [
        "myBicycle2 = Bicycle(20, 'Red')"
      ]
    },
    {
      "cell_type": "markdown",
      "source": [
        "메서드 호출"
      ],
      "metadata": {
        "id": "6t0MS3huX_kf"
      }
    },
    {
      "cell_type": "code",
      "execution_count": 5,
      "metadata": {
        "id": "_Bh6ZrJ9V1SS",
        "outputId": "2646e31c-4343-4a7e-9438-32291f7b2735",
        "colab": {
          "base_uri": "https://localhost:8080/"
        }
      },
      "outputs": [
        {
          "output_type": "stream",
          "name": "stdout",
          "text": [
            "[move] speed = 20\n"
          ]
        }
      ],
      "source": [
        "myBicycle.move(20)"
      ]
    },
    {
      "cell_type": "code",
      "execution_count": 6,
      "metadata": {
        "id": "vwTspW16V1ST",
        "outputId": "51cc0209-8fe2-456c-b48e-e094a7a74daf",
        "colab": {
          "base_uri": "https://localhost:8080/"
        }
      },
      "outputs": [
        {
          "output_type": "stream",
          "name": "stdout",
          "text": [
            "[stop] wheelSize = 50, color=Blue\n"
          ]
        }
      ],
      "source": [
        "# myBicycle.wheelSize = 30\n",
        "# myBicycle.color = 'Red'\n",
        "myBicycle.stop()"
      ]
    },
    {
      "cell_type": "markdown",
      "source": [
        "# 클래스에서  사용하는 변수\n",
        "- 위치에 따라 **클래스 변수 (class variable)**와 **인스턴스 변수 (instance variable)**로 구분\n",
        "- **클래스 변수**: 클래스 내에 있지만 함수 밖에서 `'변수명 = 데이터'` 형식으로 정의한 변수\n",
        "    - 클래스에서 생성한 모든 객체가 공통으로 사용 가능\n",
        "    - '클래스명.변수명' 형식으로 접근\n",
        "- **인스턴스 변수**: 클래스 내의 함수 안에서 `'self.변수명= 데이터'` 형식으로 정의한 변수\n",
        "    - 클래스 내의 모든 함수에서 'self.변수명'으로 접근\n",
        "    - 각 인스턴스(객체)에서 개별적으로 관리하며, 객체를 생성한 후에 '객체명.변수명' 형식으로 접근\n",
        "\n",
        "\n"
      ],
      "metadata": {
        "id": "iKI-xVLUYYdh"
      }
    },
    {
      "cell_type": "code",
      "source": [
        "# 클래스 변수와 인스턴스 변수를 사용한 자동차 클래스\n",
        "class Car():\n",
        "    instance_count = 0 # 클래스 변수 생성 및 초기화\n",
        "\n",
        "    def __init__(self, size, color):\n",
        "        self.size = size    # 인스턴스 변수 생성 및 초기화\n",
        "        self.color = color  # 인스턴스 변수 생성 및 초기화\n",
        "        Car.instance_count = Car.instance_count + 1 # 클래스 변수 이용\n",
        "        print(\"자동차 객체의 수: {0}\".format(Car.instance_count))\n",
        "\n",
        "    def move(self):\n",
        "        print(\"자동차({0} & {1})가 움직입니다.\".format(self.size, self.color))"
      ],
      "metadata": {
        "id": "DxCmLV7JYytX"
      },
      "execution_count": 7,
      "outputs": []
    },
    {
      "cell_type": "code",
      "source": [
        "car1 = Car('small', 'white')\n",
        "car2 = Car('big', 'black')"
      ],
      "metadata": {
        "colab": {
          "base_uri": "https://localhost:8080/"
        },
        "id": "gFzW2BcQY2bz",
        "outputId": "8d5da7af-5d91-4e24-b965-7ad768066442"
      },
      "execution_count": 8,
      "outputs": [
        {
          "output_type": "stream",
          "name": "stdout",
          "text": [
            "자동차 객체의 수: 1\n",
            "자동차 객체의 수: 2\n"
          ]
        }
      ]
    },
    {
      "cell_type": "code",
      "source": [
        "print(\"Car 클래스의 총 인스턴스 개수:{}\".format(Car.instance_count))\n",
        "print(\"Car 클래스의 총 인스턴스 개수:{}\".format(car1.instance_count))\n",
        "print(\"Car 클래스의 총 인스턴스 개수:{}\".format(car2.instance_count))"
      ],
      "metadata": {
        "colab": {
          "base_uri": "https://localhost:8080/"
        },
        "id": "V4NXkGIJY9Ue",
        "outputId": "36887cd3-fbe0-42c0-833e-5ce2e54b8c80"
      },
      "execution_count": 9,
      "outputs": [
        {
          "output_type": "stream",
          "name": "stdout",
          "text": [
            "Car 클래스의 총 인스턴스 개수:2\n",
            "Car 클래스의 총 인스턴스 개수:2\n",
            "Car 클래스의 총 인스턴스 개수:2\n"
          ]
        }
      ]
    },
    {
      "cell_type": "code",
      "source": [
        "car1.move()\n",
        "car2.move()"
      ],
      "metadata": {
        "colab": {
          "base_uri": "https://localhost:8080/"
        },
        "id": "gd5F-a-aZDX_",
        "outputId": "3486a98c-afa9-4ceb-8ddf-a1e6764e9e5d"
      },
      "execution_count": 10,
      "outputs": [
        {
          "output_type": "stream",
          "name": "stdout",
          "text": [
            "자동차(small & white)가 움직입니다.\n",
            "자동차(big & black)가 움직입니다.\n"
          ]
        }
      ]
    },
    {
      "cell_type": "code",
      "source": [
        "# 이름이 같은 클래스 변수와 인스턴스 변수가 있는 클래스를 정의한 경우\n",
        "class Car2():\n",
        "    count = 0; # 클래스 변수 생성 및 초기화\n",
        "\n",
        "    def __init__(self, size, num):\n",
        "        self.size = size    # 인스턴스 변수 생성 및 초기화\n",
        "        self.count = num  # 인스턴스 변수 생성 및 초기화\n",
        "        Car2.count = Car2.count + 1 # 클래스 변수 이용\n",
        "        print(\"자동차 객체의 수: Car2.count = {0}\".format(Car2.count))\n",
        "        print(\"인스턴스 변수 초기화: self.count = {0}\".format(self.count))\n",
        "\n",
        "    def move(self):\n",
        "        print(\"자동차({0} & {1})가 움직입니다.\".format(self.size, self.count))"
      ],
      "metadata": {
        "id": "Y2jGL9Q3ZKe8"
      },
      "execution_count": 11,
      "outputs": []
    },
    {
      "cell_type": "code",
      "source": [
        "car1 = Car2(\"big\", 20)\n",
        "car1 = Car2(\"small\", 30)"
      ],
      "metadata": {
        "colab": {
          "base_uri": "https://localhost:8080/"
        },
        "id": "aXpjAGQ2ZOz3",
        "outputId": "1db8db75-64d1-412f-bf5a-2676e03acfc9"
      },
      "execution_count": 12,
      "outputs": [
        {
          "output_type": "stream",
          "name": "stdout",
          "text": [
            "자동차 객체의 수: Car2.count = 1\n",
            "인스턴스 변수 초기화: self.count = 20\n",
            "자동차 객체의 수: Car2.count = 2\n",
            "인스턴스 변수 초기화: self.count = 30\n"
          ]
        }
      ]
    },
    {
      "cell_type": "markdown",
      "metadata": {
        "id": "7lLcYZiTV1SU"
      },
      "source": [
        "# 클래스에서 사용하는 함수\n",
        "\n",
        "1. **인스턴스 메서드(instance method)**\n",
        "    - 각 객체에서 개별적으로 동작하는 함수를 만들고자 할 때 사용  \n",
        "    - 함수를 정의할 때 첫 인자로 self가 필요\n",
        "    - 인스턴스 메서드 안에서는 `self.함수명()` 형식으로 클래스 내의 다른 함수 호출\n",
        "    \n",
        "    \n",
        "2. **정적 메서드(static method)**\n",
        "    - 클래스와 관련이 있어서 클래스 안에 두기는 하지만,클래스나 클래스의 인스턴스와는 무관하게 독립적으로 동작하는 함수\n",
        "    - self를 사용하지 않음\n",
        "    - 정적메서드 안에서는 클래스나 클래스 변수에 접근할 수 없음\n",
        "    - 데코레이터: @staticmethod\n",
        "    \n",
        "    \n",
        "3. **클래스 메서드(class method)**\n",
        "    - 클래스 변수를 사용하기 위한 함수\n",
        "    - 함수를 정의할 때 첫 번째 인자로 클래스를 넘겨받는 cls가 필요\n",
        "    - 함수 앞에 데코레이터인 @classmethod를 지정\n",
        "    \n",
        "    ---------------\n"
      ]
    },
    {
      "cell_type": "markdown",
      "source": [
        "## 인스턴스 메서드\n",
        "```\n",
        "객체명 = 클래스명()\n",
        "객체명.메서드명([인자1, 인자2, ··· , 인자n])\n",
        "```"
      ],
      "metadata": {
        "id": "FI25M77Dscvx"
      }
    },
    {
      "cell_type": "markdown",
      "source": [
        "인스턴스 메서드를 사용한 자동차 클래스"
      ],
      "metadata": {
        "id": "fUnSEVb2sjkk"
      }
    },
    {
      "cell_type": "code",
      "source": [
        "# Car 클래스 선언\n",
        "class Car():\n",
        "    instance_count = 0 # 클래스 변수 생성 및 초기화\n",
        "\n",
        "    # 초기화 함수(인스턴스 메서드)\n",
        "    def __init__(self, size, color):\n",
        "        self.size = size    # 인스턴스 변수 생성 및 초기화\n",
        "        self.color = color  # 인스턴스 변수 생성 및 초기화\n",
        "        Car.instance_count = Car.instance_count + 1 # 클래스 변수 이용\n",
        "        print(\"자동차 객체의 수: {0}\".format(Car.instance_count))\n",
        "\n",
        "    # 인스턴스 메서드\n",
        "    def move(self, speed):\n",
        "        self.speed = speed  # 인스턴스 변수 생성\n",
        "        print(\"자동차({0} & {1})가 \".format(self.size, self.color), end='')\n",
        "        print(\"시속 {0}킬로미터로 전진\".format(self.speed))\n",
        "\n",
        "    # 인스턴스 메서드\n",
        "    def auto_cruise(self):\n",
        "        print(\"자율 주행 모드\")\n",
        "        self.move(self.speed) # move() 함수의 인자로 인스턴스 변수를 입력"
      ],
      "metadata": {
        "id": "ru5OH7_5sclW"
      },
      "execution_count": 13,
      "outputs": []
    },
    {
      "cell_type": "markdown",
      "source": [
        "객체를 생성하고 인스턴스 메서드를 사용하는 예"
      ],
      "metadata": {
        "id": "tAi9ez2aspk0"
      }
    },
    {
      "cell_type": "code",
      "source": [
        "car1 = Car(\"small\", \"red\") # 객체 생성 (car1)\n",
        "car2 = Car(\"big\", \"green\") # 객체 생성 (car2)\n",
        "\n",
        "car1.move(80) #객체(car1)의 move() 메서드 호출\n",
        "car2.move(100) #객체(car2)의 move() 메서드 호출\n",
        "\n",
        "car1.auto_cruise() #객체(car1)의 auto_cruise() 메서드 호출\n",
        "car2.auto_cruise() #객체(car2)의 auto_cruise() 메서드 호출"
      ],
      "metadata": {
        "colab": {
          "base_uri": "https://localhost:8080/"
        },
        "id": "EUPp01GHsch1",
        "outputId": "4eec90dd-91c8-43e4-98b1-312cea0e4ffa"
      },
      "execution_count": 14,
      "outputs": [
        {
          "output_type": "stream",
          "name": "stdout",
          "text": [
            "자동차 객체의 수: 1\n",
            "자동차 객체의 수: 2\n",
            "자동차(small & red)가 시속 80킬로미터로 전진\n",
            "자동차(big & green)가 시속 100킬로미터로 전진\n",
            "자율 주행 모드\n",
            "자동차(small & red)가 시속 80킬로미터로 전진\n",
            "자율 주행 모드\n",
            "자동차(big & green)가 시속 100킬로미터로 전진\n"
          ]
        }
      ]
    },
    {
      "cell_type": "markdown",
      "source": [
        "## 정적 메서드\n",
        "- 클래스와 관련이 있어서 클래스 안에 두기는 하지만 클래스나 클래스의  인스턴스(객체)와는 무관하게 독립적으로 동작하는 함수를 만들고 싶을 때 이용하는 함수\n",
        "- 함수를 정의할 때 인자로 self를 사용하지 않으며 정적 메서드 안에서는 클래스나 클래스 변수에  접근할 수 없음\n",
        "- 함수 앞에 데코레이터(Decorator)인 @staticmethod를 선언해 정적 메서드임을  표시\n"
      ],
      "metadata": {
        "id": "2EtuoFu9svjx"
      }
    },
    {
      "cell_type": "markdown",
      "source": [
        "\n",
        "정적 메서드의 구조\n",
        "\n",
        "```\n",
        " class 클래스명():\n",
        "       @staticmethod\n",
        "       def 함수명([인자1, 인자2, ··· , 인자n]):\n",
        "           <코드 블록>\n",
        "```\n",
        "\n",
        "정적 메서드 호출\n",
        "```\n",
        "클래스명.메서드명([인자1, 인자2, ··· , 인자n]):\n",
        "```"
      ],
      "metadata": {
        "id": "A8ChJ85cs4ZQ"
      }
    },
    {
      "cell_type": "markdown",
      "source": [
        "정적 메서드를 사용한 예"
      ],
      "metadata": {
        "id": "P4HLT65KtC-U"
      }
    },
    {
      "cell_type": "code",
      "source": [
        "# Car 클래스 선언\n",
        "class Car():\n",
        "\n",
        "    # def __init__(self, size, color): => 앞의 코드 활용\n",
        "    # def move(self, speed): => 앞의 코드 활용\n",
        "    # def auto_cruise(self): => 앞의 코드 활용\n",
        "\n",
        "    # 정적 메서드\n",
        "    @staticmethod\n",
        "    def check_type(model_code):\n",
        "        if(model_code >= 20):\n",
        "            print(\"이 자동차는 전기차입니다.\")\n",
        "        elif(10 <= model_code < 20):\n",
        "            print(\"이 자동차는 가솔린차입니다.\")\n",
        "        else:\n",
        "            print(\"이 자동차는 디젤차입니다.\")"
      ],
      "metadata": {
        "id": "iKhR9oFatDXo"
      },
      "execution_count": 15,
      "outputs": []
    },
    {
      "cell_type": "code",
      "source": [
        "Car.check_type(25)\n",
        "Car.check_type(2)"
      ],
      "metadata": {
        "colab": {
          "base_uri": "https://localhost:8080/"
        },
        "id": "6hgsRhBRtKpC",
        "outputId": "0b1e5399-48ac-4eb3-cdb0-9ce6ea0d4fa9"
      },
      "execution_count": 16,
      "outputs": [
        {
          "output_type": "stream",
          "name": "stdout",
          "text": [
            "이 자동차는 전기차입니다.\n",
            "이 자동차는 디젤차입니다.\n"
          ]
        }
      ]
    },
    {
      "cell_type": "markdown",
      "source": [
        "##클래스 메서드\n",
        "- 클래스 변수를 사용하기 위한 함수\n",
        "- 함수를 정의할 때 첫 번째 인자로 클래스를 넘겨받는 cls가 필요\n",
        "- 함수 앞에 데코레이터인 @classmethod를 지정\n"
      ],
      "metadata": {
        "id": "uU9ADsn5tPUt"
      }
    },
    {
      "cell_type": "markdown",
      "source": [
        "\n",
        "클래스 메서드의 구조\n",
        "```\n",
        " class 클래스명():\n",
        "      @classmethod\n",
        "      def 함수명(cls[, 인자1, 인자2, ··· , 인자n]):\n",
        "          <코드 블록>\n",
        "```\n",
        "\n",
        "클래스 메서드를 호출하는 방법\n",
        "```\n",
        "클래스명.메서드명([인자1, 인자2, ··· , 인자n]):\n",
        "```\n"
      ],
      "metadata": {
        "id": "c_xFdTvRtTZy"
      }
    },
    {
      "cell_type": "markdown",
      "source": [
        "클래스 메서드를 사용하는 예"
      ],
      "metadata": {
        "id": "n52umB_6tWAd"
      }
    },
    {
      "cell_type": "code",
      "source": [
        "# Car 클래스 선언\n",
        "class Car():\n",
        "    instance_count = 0 # 클래스 변수\n",
        "\n",
        "    # 초기화 함수(인스턴스 메서드)\n",
        "    def __init__(self, size, color):\n",
        "        self.size = size    # 인스턴스 변수\n",
        "        self.color = color  # 인스턴스 변수\n",
        "        Car.instance_count = Car.instance_count + 1\n",
        "\n",
        "    # 클래스 메서드\n",
        "    @classmethod\n",
        "    def count_instance(cls):\n",
        "        print(\"자동차 객체의 개수: {0}\".format(cls.instance_count))"
      ],
      "metadata": {
        "id": "Z3r6HEG5tXo3"
      },
      "execution_count": 17,
      "outputs": []
    },
    {
      "cell_type": "markdown",
      "source": [
        "클래스 메서드를 사용하는 예"
      ],
      "metadata": {
        "id": "hzdaDUL0tigs"
      }
    },
    {
      "cell_type": "code",
      "source": [
        "Car.count_instance()           # 객체 생성 전에 클래스 메서드 호출\n",
        "car1 = Car(\"small\", \"red\")     # 첫 번째 객체 생성\n",
        "Car.count_instance()           # 클래스 메서드 호출\n",
        "car2 = Car(\"big\", \"green\")     # 두 번째 객체 생성\n",
        "Car.count_instance()           # 클래스 메서드 호출"
      ],
      "metadata": {
        "colab": {
          "base_uri": "https://localhost:8080/"
        },
        "id": "Ylg4XhUUtj8Q",
        "outputId": "9d80135a-7251-42e1-e588-386de38bb6fb"
      },
      "execution_count": 18,
      "outputs": [
        {
          "output_type": "stream",
          "name": "stdout",
          "text": [
            "자동차 객체의 개수: 0\n",
            "자동차 객체의 개수: 1\n",
            "자동차 객체의 개수: 2\n"
          ]
        }
      ]
    },
    {
      "cell_type": "markdown",
      "source": [
        "\n",
        "## [예제]자동차 클래스(full-code)"
      ],
      "metadata": {
        "id": "avD5MjH3sbwH"
      }
    },
    {
      "cell_type": "code",
      "execution_count": 19,
      "metadata": {
        "id": "tfR-sr97V1SV"
      },
      "outputs": [],
      "source": [
        "class Car():\n",
        "    instance_count = 0 # 클래스 변수 생성 및 초기화\n",
        "\n",
        "    #초기화 함수(인스턴스 메서드)\n",
        "    def __init__(self, size, color):\n",
        "        self.size = size #인스턴스 변수 생성 및 초기화\n",
        "        self.color = color # 인스턴스 변수 생성 및 초기화\n",
        "        Car.instance_count = Car.instance_count + 1 # 클래스 변수\n",
        "        print(\"자동차 객체 수: {0}\".format(Car.instance_count))\n",
        "\n",
        "    #인스턴스 메서드\n",
        "    def move(self, speed) :\n",
        "        self.speed = speed # 인스턴스 변수 생성\n",
        "        print(\"자동차 {0} & {1}가\".format(self.size, self.color), end='')\n",
        "        print(\"시속 {0}km로 전진\".format(self.speed))\n",
        "\n",
        "    #인스턴스 메서드\n",
        "    def auto_cruise(self):\n",
        "        print(\"자율주행모드\")\n",
        "        self.move(self.speed) # 함수의 인자로 인스턴스 변수를 입력\n",
        "\n",
        "    #정적메서드\n",
        "    @staticmethod\n",
        "    def check_type(model_code):\n",
        "        if(model_code > 20):\n",
        "            print(\"이 자동차는 전기차입니다\")\n",
        "        elif(10 <= model_code < 20) :\n",
        "            print(\"이 자동차는 가솔린차입니다\")\n",
        "        else:\n",
        "            print(\"이 자동차는 디젤차입니다\")\n",
        "\n",
        "    #클래스메서드\n",
        "    @classmethod\n",
        "    def count_instance(cls):\n",
        "        print(\"자동차 객체의 개수: {0}\".format(cls.instance_count))"
      ]
    },
    {
      "cell_type": "code",
      "execution_count": 20,
      "metadata": {
        "id": "PtqmQNqmV1SV",
        "outputId": "dd3f377f-2bac-429c-c4fd-66fdb73eb188",
        "colab": {
          "base_uri": "https://localhost:8080/"
        }
      },
      "outputs": [
        {
          "output_type": "stream",
          "name": "stdout",
          "text": [
            "자동차 객체 수: 1\n",
            "자동차 객체 수: 2\n",
            "--\n",
            "자동차 small & red가시속 80km로 전진\n",
            "자동차 big & green가시속 100km로 전진\n",
            "--\n",
            "자율주행모드\n",
            "자동차 small & red가시속 80km로 전진\n",
            "자율주행모드\n",
            "자동차 big & green가시속 100km로 전진\n",
            "--\n"
          ]
        }
      ],
      "source": [
        "car1 = Car(\"small\", \"red\") # 객체생성(car1)\n",
        "car2 = Car(\"big\", \"green\") # 객체생성(car2)\n",
        "\n",
        "print(\"--\")\n",
        "car1.move(80) #객체(car1)의 move() 메서드 호출\n",
        "car2.move(100)#객체(Car2)의 move() 메서드 호출\n",
        "print(\"--\")\n",
        "car1.auto_cruise() #객체(car1)의 auto_cruise 메서드 호출\n",
        "car2.auto_cruise() #객체(car2)의 auto_cruise 메서드 호출\n",
        "print(\"--\")\n"
      ]
    },
    {
      "cell_type": "code",
      "execution_count": 21,
      "metadata": {
        "id": "Pvk4ZUwXV1SW",
        "outputId": "699f03ef-f326-492d-9e3a-821e2733a3df",
        "colab": {
          "base_uri": "https://localhost:8080/"
        }
      },
      "outputs": [
        {
          "output_type": "stream",
          "name": "stdout",
          "text": [
            "이 자동차는 전기차입니다\n",
            "이 자동차는 디젤차입니다\n"
          ]
        }
      ],
      "source": [
        "Car.check_type(25)\n",
        "Car.check_type(2)"
      ]
    },
    {
      "cell_type": "code",
      "execution_count": 22,
      "metadata": {
        "id": "wiWziCQjV1SX",
        "outputId": "5a77b616-3637-4575-8f99-d08d24dfaf77",
        "colab": {
          "base_uri": "https://localhost:8080/"
        }
      },
      "outputs": [
        {
          "output_type": "stream",
          "name": "stdout",
          "text": [
            "자동차 객체의 개수: 2\n"
          ]
        }
      ],
      "source": [
        "Car.count_instance()"
      ]
    },
    {
      "cell_type": "markdown",
      "source": [
        "# 객체와 클래스를 사용하는 이유\n",
        "- 코드 작성과 관리가 편하기 때문\n",
        "- 규모가 큰 프로그램을 만들 때 클래스와 객체를 많이 이용\n",
        "- 유사한 객체가 많은 프로그램을 만들 때도 주로 클래스와 객체를 이용해 코드를 작성"
      ],
      "metadata": {
        "id": "Mbo9nBwmtnuX"
      }
    },
    {
      "cell_type": "markdown",
      "source": [
        "## [예제] 컴퓨터 게임의 로봇\n",
        "- 로봇의 속성과 동작\n",
        "    - 로봇의  속성: 이름, 위치\n",
        "    - 로봇의  동작: 한 칸 이동"
      ],
      "metadata": {
        "id": "lkKxdIgRt38c"
      }
    },
    {
      "cell_type": "markdown",
      "source": [
        "### 클래스와 객체를 사용하지 않는 코드"
      ],
      "metadata": {
        "id": "iRUiPp9st9SX"
      }
    },
    {
      "cell_type": "code",
      "source": [
        "robot_name = 'R1'   # 로봇 이름\n",
        "robot_pos = 0     # 로봇의 초기 위치\n",
        "\n",
        "def robot_move():\n",
        "    global robot_pos\n",
        "    robot_pos = robot_pos + 1\n",
        "    print(\"{0} position: {1}\".format(robot_name, robot_pos))"
      ],
      "metadata": {
        "id": "yg9YSSA0uCf-"
      },
      "execution_count": 23,
      "outputs": []
    },
    {
      "cell_type": "code",
      "source": [
        "robot_move()"
      ],
      "metadata": {
        "colab": {
          "base_uri": "https://localhost:8080/"
        },
        "id": "MGLhPkqWuFWy",
        "outputId": "2be5cc2b-ad67-48e2-a66b-563524171a88"
      },
      "execution_count": 24,
      "outputs": [
        {
          "output_type": "stream",
          "name": "stdout",
          "text": [
            "R1 position: 1\n"
          ]
        }
      ]
    },
    {
      "cell_type": "markdown",
      "source": [
        "로봇을 추가해 두 대의 로봇을 구현"
      ],
      "metadata": {
        "id": "HHK6qfUwuG4M"
      }
    },
    {
      "cell_type": "code",
      "source": [
        "robot1_name = 'R1'   # 로봇 이름\n",
        "robot1_pos = 0        # 로봇의 초기 위치\n",
        "\n",
        "def robot1_move():\n",
        "    global robot1_pos\n",
        "    robot1_pos = robot1_pos + 1\n",
        "    print(\"{0} position: {1}\".format(robot1_name, robot1_pos))\n",
        "\n",
        "#####################################################################\n",
        "robot2_name = 'R2'    # 로봇 이름\n",
        "robot2_pos = 10       # 로봇의 초기 위치\n",
        "\n",
        "def robot2_move():\n",
        "    global robot2_pos\n",
        "    robot2_pos = robot2_pos + 1\n",
        "    print(\"{0} position: {1}\".format(robot2_name, robot2_pos))"
      ],
      "metadata": {
        "id": "o16oOHv6uIw6"
      },
      "execution_count": 25,
      "outputs": []
    },
    {
      "cell_type": "code",
      "source": [
        "robot1_move()\n",
        "robot2_move()"
      ],
      "metadata": {
        "colab": {
          "base_uri": "https://localhost:8080/"
        },
        "id": "-JP9gcUtuMc8",
        "outputId": "9b1a6c6f-1a82-4fcc-9979-37b050801727"
      },
      "execution_count": 26,
      "outputs": [
        {
          "output_type": "stream",
          "name": "stdout",
          "text": [
            "R1 position: 1\n",
            "R2 position: 11\n"
          ]
        }
      ]
    },
    {
      "cell_type": "markdown",
      "metadata": {
        "id": "SUCrp3iaV1SX"
      },
      "source": [
        "### 클래스와 객체를 사용하는 코드"
      ]
    },
    {
      "cell_type": "code",
      "execution_count": 27,
      "metadata": {
        "id": "7-eSNI8qV1SX"
      },
      "outputs": [],
      "source": [
        "class Robot():\n",
        "    def __init__(self, name, pos):\n",
        "        self.name = name        # 로봇 객체의 이름\n",
        "        self.pos = pos          # 로봇 객체의 위치\n",
        "\n",
        "    def move(self):\n",
        "        self.pos = self.pos + 1\n",
        "        print(\"{0} position: {1}\".format(self.name, self.pos))"
      ]
    },
    {
      "cell_type": "code",
      "execution_count": 28,
      "metadata": {
        "id": "EbOcbYEBV1SY",
        "outputId": "8f2e55f3-8db5-4843-a7c0-5e03dbad1a7d",
        "colab": {
          "base_uri": "https://localhost:8080/"
        }
      },
      "outputs": [
        {
          "output_type": "stream",
          "name": "stdout",
          "text": [
            "R1 position: 1\n",
            "R2 position: 11\n"
          ]
        }
      ],
      "source": [
        "robot1 = Robot('R1', 0)\n",
        "robot2 = Robot('R2', 10)\n",
        "\n",
        "robot1.move()\n",
        "robot2.move()"
      ]
    },
    {
      "cell_type": "code",
      "execution_count": 29,
      "metadata": {
        "id": "7isrAoOSV1SY",
        "colab": {
          "base_uri": "https://localhost:8080/"
        },
        "outputId": "fe69f1ca-53bd-4e3a-868d-c35faf11240b"
      },
      "outputs": [
        {
          "output_type": "stream",
          "name": "stdout",
          "text": [
            "R3 position: 31\n",
            "R4 position: 41\n"
          ]
        }
      ],
      "source": [
        "myRobot3 = Robot('R3', 30)\n",
        "myRobot4 = Robot('R4', 40)\n",
        "\n",
        "myRobot3.move()\n",
        "myRobot4.move()"
      ]
    },
    {
      "cell_type": "markdown",
      "metadata": {
        "id": "JKvqv48CV1SZ"
      },
      "source": [
        "# 상속\n",
        "\n",
        "- 상속: 이미 만들어진 클래스의 변수와 함수를 그대로 이어받고 새로운 내용만 추가해서 클래스를 선언\n",
        "- 상속관계에 있는 두 클래스는 자식이 부모의 유전적 형질을 이어받는 관계와 유사하기 때문에  흔히 부모 자식과의 관계로 표현\n"
      ]
    },
    {
      "cell_type": "markdown",
      "source": [
        "\n",
        "## 부모 클래스와 자식 클래스\n",
        "- 부모 클래스: 상위  클래스 혹은 슈퍼클래스\n",
        "- 자식 클래스: 하위 클래스 혹은 서브 클래스\n",
        "- 자식 클래스가 부모 클래스로부터 상속을 받으면 자식 클래스는 부모 클래스의 속성(변수)과  행위(함수)를 그대로 이용 가능\n",
        "- 상속 후에는 자식 클래스만 갖는 속성과 행위를 추가할 수  있음"
      ],
      "metadata": {
        "id": "S9ECxOEvus0H"
      }
    },
    {
      "cell_type": "markdown",
      "source": [
        "## 부모 클래스와 자식 클래스의 관계<br>\n",
        "<img src=\"https://blog.kakaocdn.net/dn/cycaBw/btqEkNO0T2Y/PQFOWxKG4ilXB7dmBVXABK/img.png\" width=\"500\" height=\"300\">\n"
      ],
      "metadata": {
        "id": "i_5TAd8puyc3"
      }
    },
    {
      "cell_type": "markdown",
      "source": [
        "부모 클래스를 상속받는 자식 클래스를 선언하는 형식\n",
        "```\n",
        " class 자식 클래스 이름(부모 클래스 이름):\n",
        "       <코드 블록>\n",
        "```"
      ],
      "metadata": {
        "id": "gP5nkQodvWAw"
      }
    },
    {
      "cell_type": "markdown",
      "source": [
        "##[예제] Bicycle을 상속하는 FoldingBicycle 클래스"
      ],
      "metadata": {
        "id": "QLCQmVJwvaYR"
      }
    },
    {
      "cell_type": "code",
      "execution_count": 30,
      "metadata": {
        "id": "5j4V9-dyV1Sa"
      },
      "outputs": [],
      "source": [
        "class FoldingBicycle(Bicycle):\n",
        "    def __init__(self, wheel_size, color, state):\n",
        "#         Bicycle.__init__(self, wheel_size, color)\n",
        "        super().__init__(wheel_size, color)\n",
        "        self.state = state\n",
        "\n",
        "    def fold(self):\n",
        "        self.state='folding'\n",
        "        print(\"자전거: 접기, state={0}\".format(self.state))\n",
        "\n",
        "    def unfold(self):\n",
        "        self.state='unfolding'\n",
        "        print(\"자전거: 펴기, state={0}\".format(self.state))"
      ]
    },
    {
      "cell_type": "markdown",
      "source": [
        "FoldingBicycle 클래스의  인스턴스를 생성한 후 메서드 호출"
      ],
      "metadata": {
        "id": "ZGDEYgtXvfWa"
      }
    },
    {
      "cell_type": "code",
      "source": [
        "folding_bicycle = FoldingBicycle(27, 'white', 'unfolding') # 객체 생성\n",
        "folding_bicycle.move(20)        # 부모 클래스의 함수(메서드) 호출\n",
        "folding_bicycle.fold()          # 자식 클래스에서 정의한 함수 호출\n",
        "folding_bicycle.unfold()"
      ],
      "metadata": {
        "colab": {
          "base_uri": "https://localhost:8080/"
        },
        "id": "mtPTKO92vhTV",
        "outputId": "0ae23a36-261a-46b3-c9f7-67a616719882"
      },
      "execution_count": 31,
      "outputs": [
        {
          "output_type": "stream",
          "name": "stdout",
          "text": [
            "[init] count = 3\n",
            "[move] speed = 20\n",
            "자전거: 접기, state=folding\n",
            "자전거: 펴기, state=unfolding\n"
          ]
        }
      ]
    },
    {
      "cell_type": "code",
      "execution_count": 34,
      "metadata": {
        "id": "cteRaUs3V1Sb"
      },
      "outputs": [],
      "source": []
    }
  ],
  "metadata": {
    "kernelspec": {
      "display_name": "Python 3",
      "language": "python",
      "name": "python3"
    },
    "language_info": {
      "codemirror_mode": {
        "name": "ipython",
        "version": 3
      },
      "file_extension": ".py",
      "mimetype": "text/x-python",
      "name": "python",
      "nbconvert_exporter": "python",
      "pygments_lexer": "ipython3",
      "version": "3.7.6"
    },
    "toc": {
      "base_numbering": 1,
      "nav_menu": {},
      "number_sections": false,
      "sideBar": true,
      "skip_h1_title": false,
      "title_cell": "Table of Contents",
      "title_sidebar": "Contents",
      "toc_cell": false,
      "toc_position": {},
      "toc_section_display": true,
      "toc_window_display": false
    },
    "colab": {
      "provenance": [],
      "toc_visible": true,
      "include_colab_link": true
    }
  },
  "nbformat": 4,
  "nbformat_minor": 0
}