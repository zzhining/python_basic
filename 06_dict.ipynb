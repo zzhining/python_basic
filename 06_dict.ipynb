{
  "cells": [
    {
      "cell_type": "markdown",
      "metadata": {
        "id": "view-in-github",
        "colab_type": "text"
      },
      "source": [
        "<a href=\"https://colab.research.google.com/github/zzhining/python_basic/blob/master/06_dict.ipynb\" target=\"_parent\"><img src=\"https://colab.research.google.com/assets/colab-badge.svg\" alt=\"Open In Colab\"/></a>"
      ]
    },
    {
      "cell_type": "markdown",
      "metadata": {
        "id": "dV827uwUXypB"
      },
      "source": [
        "# 딕셔너리\n",
        "▶사전의 구성: 표제어가 있고 그에 대한 설명. 표제어만 찾으면 그에 대한 설명을 전부 확인할 수 있음\n",
        "\n",
        "▶파이썬의 딕셔너리도 사전과 유사하게 구성돼 있으며 사전의  표제어와  설명은  파이썬에서 각각 키 (key)와 값 (value)에 해당\n",
        "\n",
        "▶키와 값이 항상 쌍으로 구성. 따라서 키를 알면 그에 해당하는 값을 쉽게 알 수 있음\n",
        "\n",
        "▶딕셔너리는 인덱스 대신 키를 이용해 값을 다룸\n",
        "딕셔너리의 키는 임의로 지정한 숫자나 문자열이 될 수 있으며, 값으로는 어떤  데이터 타입도 사용 가능\n",
        "\n",
        "----\n",
        "- 키(key), 값(value)의 쌍으로 구성된 데이터 타입\n",
        "- 키(key) :  임의로 지정한 숫자나 문자열\n",
        "- 값(value): 어떤 데이터 타입도 가능\n",
        "\n",
        "\n",
        "- 중괄호 {키:값, 키:값,  ... }"
      ]
    },
    {
      "cell_type": "markdown",
      "source": [
        "## 딕셔너리 만들기"
      ],
      "metadata": {
        "id": "D0vKiJ1JaRJ5"
      }
    },
    {
      "cell_type": "markdown",
      "source": [
        "\n",
        "----\n",
        "\n",
        "⭐딕셔너리 만들기⭐\n",
        "- 데이터 전체를 `중괄호` (`{ }`)로 감싸서 만듦\n",
        "- 키와 값의  구분은 `콜론` (`:`)으로 함\n",
        "- 키와 값으로 이뤄진 각 쌍은 `콤마` (`,`)로 구분\n",
        "\n",
        "\n",
        "- 추가, 변경\n",
        "- 삭제: del"
      ],
      "metadata": {
        "id": "LbMaT9QcaFZl"
      }
    },
    {
      "cell_type": "code",
      "execution_count": 1,
      "metadata": {
        "id": "FsU6oSxWXypE",
        "outputId": "3b984e0c-a26f-43ce-f109-c746680a7f23",
        "colab": {
          "base_uri": "https://localhost:8080/"
        }
      },
      "outputs": [
        {
          "output_type": "execute_result",
          "data": {
            "text/plain": [
              "{'대한민국': '서울', '일본': '도쿄', '프랑스': '파리'}"
            ]
          },
          "metadata": {},
          "execution_count": 1
        }
      ],
      "source": [
        "# 딕셔너리의 키와 값이 모두 문자열인  예\n",
        "dictionary1 = {\"대한민국\":\"서울\", \"일본\":\"도쿄\", \"프랑스\":\"파리\"}\n",
        "dictionary1"
      ]
    },
    {
      "cell_type": "code",
      "execution_count": 2,
      "metadata": {
        "id": "EmPBc0taXypG",
        "outputId": "04088140-fdc9-4326-fb87-fe55c8b78a8d",
        "colab": {
          "base_uri": "https://localhost:8080/",
          "height": 35
        }
      },
      "outputs": [
        {
          "output_type": "execute_result",
          "data": {
            "text/plain": [
              "'도쿄'"
            ],
            "application/vnd.google.colaboratory.intrinsic+json": {
              "type": "string"
            }
          },
          "metadata": {},
          "execution_count": 2
        }
      ],
      "source": [
        "# 특정 키의 값만 가져오는 예\n",
        "dictionary1[\"일본\"]"
      ]
    },
    {
      "cell_type": "markdown",
      "source": [
        "딕셔너리의 데이터 변경하기\n"
      ],
      "metadata": {
        "id": "bTfMMjReYybZ"
      }
    },
    {
      "cell_type": "code",
      "execution_count": 3,
      "metadata": {
        "id": "xKjT4EgNXypH",
        "outputId": "dd3a8ea6-f5c9-4d13-addc-533fd16601eb",
        "colab": {
          "base_uri": "https://localhost:8080/",
          "height": 35
        }
      },
      "outputs": [
        {
          "output_type": "execute_result",
          "data": {
            "text/plain": [
              "'오사카'"
            ],
            "application/vnd.google.colaboratory.intrinsic+json": {
              "type": "string"
            }
          },
          "metadata": {},
          "execution_count": 3
        }
      ],
      "source": [
        "dictionary1[\"일본\"] = \"오사카\"\n",
        "dictionary1[\"일본\"]"
      ]
    },
    {
      "cell_type": "code",
      "execution_count": 4,
      "metadata": {
        "id": "CA1wmWbxXypH",
        "outputId": "74fd9988-0dff-4489-d6a1-b9887296028f",
        "colab": {
          "base_uri": "https://localhost:8080/"
        }
      },
      "outputs": [
        {
          "output_type": "execute_result",
          "data": {
            "text/plain": [
              "{'대한민국': '서울', '일본': '오사카', '프랑스': '파리'}"
            ]
          },
          "metadata": {},
          "execution_count": 4
        }
      ],
      "source": [
        "dictionary1"
      ]
    },
    {
      "cell_type": "markdown",
      "source": [
        "딕셔너리에  데이터  추가하기"
      ],
      "metadata": {
        "id": "KTrEEzSpYs68"
      }
    },
    {
      "cell_type": "code",
      "execution_count": 5,
      "metadata": {
        "id": "abY-DRZdXypI",
        "outputId": "982d95c4-6762-48f3-969d-676d53eee473",
        "colab": {
          "base_uri": "https://localhost:8080/"
        }
      },
      "outputs": [
        {
          "output_type": "execute_result",
          "data": {
            "text/plain": [
              "{'대한민국': '서울', '일본': '오사카', '프랑스': '파리', '중국': '베이징'}"
            ]
          },
          "metadata": {},
          "execution_count": 5
        }
      ],
      "source": [
        "dictionary1[\"중국\"] = \"베이징\"\n",
        "dictionary1"
      ]
    },
    {
      "cell_type": "markdown",
      "source": [
        "딕셔너리의 데이터 삭제하기"
      ],
      "metadata": {
        "id": "UqWUjWWIY5XT"
      }
    },
    {
      "cell_type": "code",
      "execution_count": 6,
      "metadata": {
        "id": "U_XgxcbRXypI"
      },
      "outputs": [],
      "source": [
        "del dictionary1[\"일본\"]"
      ]
    },
    {
      "cell_type": "code",
      "execution_count": 7,
      "metadata": {
        "id": "DQG0VfBnXypJ",
        "outputId": "6141f1e3-3718-40b5-98b7-ae68f9c44907",
        "colab": {
          "base_uri": "https://localhost:8080/"
        }
      },
      "outputs": [
        {
          "output_type": "execute_result",
          "data": {
            "text/plain": [
              "{'대한민국': '서울', '프랑스': '파리', '중국': '베이징'}"
            ]
          },
          "metadata": {},
          "execution_count": 7
        }
      ],
      "source": [
        "dictionary1"
      ]
    },
    {
      "cell_type": "markdown",
      "source": [
        "----\n",
        "⭐딕셔너리 메서드⭐\n",
        "\n",
        "|     딕셔너리 메서드       |     설명                                                                  |     사용 예                         |\n",
        "|---------------------------|---------------------------------------------------------------------------|-------------------------------------|\n",
        "|     keys()                |     딕셔너리에서  키    전체를  리스트  형태로  반환                      |     dict_data.keys()                |\n",
        "|     values()              |     딕셔너리에서  값    전체를  리스트  형태로  반환                      |     dict_data.values()              |\n",
        "|     items()               |     딕셔너리에서  키와  값의    쌍을  (키,  값)처럼  튜플  형태로 반환    |     dict_data.items()               |\n",
        "|     update(dict_data2)    |     딕셔너리에  딕셔너리    데이터(‘dict_data2’) 추가                     |     dict_data.update(dict_data2)    |\n",
        "|     clear()               |     딕셔너리의  모든    항목  삭제                                        |     dict_data.clear()               |\n",
        "|     copy()               |     딕셔너리의  항목  복사                                        |     dict_data.copy()               |\n"
      ],
      "metadata": {
        "id": "-M9jMS_SZFJY"
      }
    },
    {
      "cell_type": "markdown",
      "metadata": {
        "id": "PipSUw7lXypJ"
      },
      "source": [
        "----\n",
        "## keys\n",
        "- 딕셔너리의 키 전체를 리스트 형태로 리턴\n"
      ]
    },
    {
      "cell_type": "code",
      "execution_count": 8,
      "metadata": {
        "id": "4AmARuSaXypJ",
        "outputId": "e3a2dfa8-18f5-455e-d565-c5b7008e9170",
        "colab": {
          "base_uri": "https://localhost:8080/"
        }
      },
      "outputs": [
        {
          "output_type": "execute_result",
          "data": {
            "text/plain": [
              "{'대한민국': '서울', '프랑스': '파리', '중국': '베이징'}"
            ]
          },
          "metadata": {},
          "execution_count": 8
        }
      ],
      "source": [
        "dictionary1"
      ]
    },
    {
      "cell_type": "code",
      "execution_count": 9,
      "metadata": {
        "id": "au5FMVsnXypK",
        "outputId": "d44b9f21-4ab3-44c9-d465-8e55ea5b44cc",
        "colab": {
          "base_uri": "https://localhost:8080/"
        }
      },
      "outputs": [
        {
          "output_type": "execute_result",
          "data": {
            "text/plain": [
              "dict_keys(['대한민국', '프랑스', '중국'])"
            ]
          },
          "metadata": {},
          "execution_count": 9
        }
      ],
      "source": [
        "dictionary1.keys()"
      ]
    },
    {
      "cell_type": "markdown",
      "source": [
        "----\n",
        "## values\n",
        "- 딕셔너리의 값 전체를 리스트 형태로 리턴\n"
      ],
      "metadata": {
        "id": "H8FvJ9yMZNq9"
      }
    },
    {
      "cell_type": "code",
      "execution_count": 10,
      "metadata": {
        "id": "wUTfevjjXypK",
        "outputId": "de53b43e-1676-461f-a804-4c93b7ea47e3",
        "colab": {
          "base_uri": "https://localhost:8080/"
        }
      },
      "outputs": [
        {
          "output_type": "execute_result",
          "data": {
            "text/plain": [
              "dict_values(['서울', '파리', '베이징'])"
            ]
          },
          "metadata": {},
          "execution_count": 10
        }
      ],
      "source": [
        "dictionary1.values()"
      ]
    },
    {
      "cell_type": "markdown",
      "source": [
        "----\n",
        "## items\n",
        "- 딕셔너리에서 키와 값의 쌍(key, value)을 튜플 형태로 리턴\n"
      ],
      "metadata": {
        "id": "Z0TKCAdXZOav"
      }
    },
    {
      "cell_type": "code",
      "execution_count": 11,
      "metadata": {
        "id": "YoieTvunXypK",
        "outputId": "afbf377c-636a-4fe1-f72c-21767b7d0ea6",
        "colab": {
          "base_uri": "https://localhost:8080/"
        }
      },
      "outputs": [
        {
          "output_type": "execute_result",
          "data": {
            "text/plain": [
              "dict_items([('대한민국', '서울'), ('프랑스', '파리'), ('중국', '베이징')])"
            ]
          },
          "metadata": {},
          "execution_count": 11
        }
      ],
      "source": [
        "dictionary1.items()"
      ]
    },
    {
      "cell_type": "markdown",
      "source": [
        "----\n",
        "## update\n",
        "- 딕셔너리에 딕셔너리 추가\n"
      ],
      "metadata": {
        "id": "OF39qGtEZQQF"
      }
    },
    {
      "cell_type": "code",
      "execution_count": 12,
      "metadata": {
        "id": "MgyE-JWwXypK"
      },
      "outputs": [],
      "source": [
        "dictionary2 = {'일본': '도쿄', '독일': '베를린', '호주': '캔버라'}"
      ]
    },
    {
      "cell_type": "code",
      "execution_count": 13,
      "metadata": {
        "id": "6v8acCvHXypK"
      },
      "outputs": [],
      "source": [
        "dictionary1.update(dictionary2)"
      ]
    },
    {
      "cell_type": "code",
      "execution_count": 14,
      "metadata": {
        "id": "rLcWYUeoXypK",
        "outputId": "db036904-d446-41c0-9537-30d3a1a94df1",
        "colab": {
          "base_uri": "https://localhost:8080/"
        }
      },
      "outputs": [
        {
          "output_type": "execute_result",
          "data": {
            "text/plain": [
              "{'대한민국': '서울', '프랑스': '파리', '중국': '베이징', '일본': '도쿄', '독일': '베를린', '호주': '캔버라'}"
            ]
          },
          "metadata": {},
          "execution_count": 14
        }
      ],
      "source": [
        "dictionary1"
      ]
    },
    {
      "cell_type": "markdown",
      "source": [
        "----\n",
        "## clear\n",
        "- 모든 항목 삭제"
      ],
      "metadata": {
        "id": "q-b_vBcHZQ32"
      }
    },
    {
      "cell_type": "code",
      "execution_count": 15,
      "metadata": {
        "id": "DYPJn7f1XypK"
      },
      "outputs": [],
      "source": [
        "dictionary1.clear()"
      ]
    },
    {
      "cell_type": "code",
      "execution_count": 16,
      "metadata": {
        "id": "H7SNWAcIXypK",
        "outputId": "c3fe6ff0-c4eb-484d-d22a-777bb4257bcb",
        "colab": {
          "base_uri": "https://localhost:8080/"
        }
      },
      "outputs": [
        {
          "output_type": "execute_result",
          "data": {
            "text/plain": [
              "{}"
            ]
          },
          "metadata": {},
          "execution_count": 16
        }
      ],
      "source": [
        "dictionary1"
      ]
    },
    {
      "cell_type": "markdown",
      "source": [
        "## copy\n",
        "- 복사"
      ],
      "metadata": {
        "id": "l209tBmD24_7"
      }
    },
    {
      "cell_type": "code",
      "execution_count": 17,
      "metadata": {
        "id": "ODX5NqlnXypL",
        "colab": {
          "base_uri": "https://localhost:8080/"
        },
        "outputId": "6c9f2e1c-e70f-4e28-d8ed-5f921d83ac4b"
      },
      "outputs": [
        {
          "output_type": "stream",
          "name": "stdout",
          "text": [
            "dictionary2: {'일본': '도쿄', '독일': '베를린', '호주': '캔버라'}\n",
            "dictionary3: {'일본': '도쿄', '독일': '베를린', '호주': '캔버라'}\n",
            "dictionary4: {'일본': '도쿄', '독일': '베를린', '호주': '캔버라'}\n"
          ]
        }
      ],
      "source": [
        "dictionary3 = dictionary2\n",
        "dictionary4 = dictionary2.copy()\n",
        "print('dictionary2:', dictionary2)\n",
        "print('dictionary3:', dictionary3)\n",
        "print('dictionary4:', dictionary4)"
      ]
    },
    {
      "cell_type": "code",
      "source": [
        "dictionary2.clear()\n",
        "print('dictionary2:', dictionary2)\n",
        "print('dictionary3:', dictionary3)\n",
        "print('dictionary4:', dictionary4)"
      ],
      "metadata": {
        "colab": {
          "base_uri": "https://localhost:8080/"
        },
        "id": "wUyXyhXC2DZA",
        "outputId": "b5cc90b5-d07a-465d-8698-05afaec50843"
      },
      "execution_count": 18,
      "outputs": [
        {
          "output_type": "stream",
          "name": "stdout",
          "text": [
            "dictionary2: {}\n",
            "dictionary3: {}\n",
            "dictionary4: {'일본': '도쿄', '독일': '베를린', '호주': '캔버라'}\n"
          ]
        }
      ]
    }
  ],
  "metadata": {
    "kernelspec": {
      "display_name": "Python 3",
      "language": "python",
      "name": "python3"
    },
    "language_info": {
      "codemirror_mode": {
        "name": "ipython",
        "version": 3
      },
      "file_extension": ".py",
      "mimetype": "text/x-python",
      "name": "python",
      "nbconvert_exporter": "python",
      "pygments_lexer": "ipython3",
      "version": "3.7.6"
    },
    "toc": {
      "base_numbering": 1,
      "nav_menu": {},
      "number_sections": false,
      "sideBar": true,
      "skip_h1_title": false,
      "title_cell": "Table of Contents",
      "title_sidebar": "Contents",
      "toc_cell": false,
      "toc_position": {},
      "toc_section_display": true,
      "toc_window_display": false
    },
    "colab": {
      "provenance": [],
      "include_colab_link": true
    }
  },
  "nbformat": 4,
  "nbformat_minor": 0
}