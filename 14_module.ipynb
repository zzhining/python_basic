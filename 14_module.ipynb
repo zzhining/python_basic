{
  "cells": [
    {
      "cell_type": "markdown",
      "metadata": {
        "id": "view-in-github",
        "colab_type": "text"
      },
      "source": [
        "<a href=\"https://colab.research.google.com/github/zzhining/python_basic/blob/master/14_module.ipynb\" target=\"_parent\"><img src=\"https://colab.research.google.com/assets/colab-badge.svg\" alt=\"Open In Colab\"/></a>"
      ]
    },
    {
      "cell_type": "markdown",
      "source": [
        "# 모듈 (Module)\n",
        "- 코드가 저장된 파일\n",
        "- 다른 코드에서도 이 파일의 변수, 함수, 클래스를 불러와 이용할 수 있음\n",
        "---\n",
        "**모듈을 사용하는 이유**\n",
        "- 모듈로  나누면  코드 작성과  관리가 쉬워진다\n",
        "- 이미 작성된 코드를 재사용할  수  있다\n",
        "- 공동 작업이 편리해진다\n",
        "\n",
        "**모듈 생성 및 호출**\n",
        "- 모듈 이름은 확장자 (.py)를 제외한 파일 이름\n",
        "- 모듈이 저장된 위치 (경로)에서 파이썬 (혹은 IPython) 콘솔 혹은 주피터 노트북을 실행해 코드를  작성하거나 파이썬 코드 파일을 실행"
      ],
      "metadata": {
        "id": "YPvCzdgsy5eX"
      }
    },
    {
      "cell_type": "markdown",
      "source": [
        "## 모듈 만들기\n",
        "- 코드를 '모듈이름.py'로 저장\n",
        "- IPython의 내장 마술 명령어인'%%writefile'을 이용\n"
      ],
      "metadata": {
        "id": "A8UpqFvdz0VW"
      }
    },
    {
      "cell_type": "code",
      "execution_count": 1,
      "metadata": {
        "id": "7NEcerMYwv_r",
        "outputId": "9fb1841f-713f-4a85-8806-3af43d01ca94",
        "colab": {
          "base_uri": "https://localhost:8080/"
        }
      },
      "outputs": [
        {
          "output_type": "stream",
          "name": "stdout",
          "text": [
            "Overwriting my_first_module.py\n"
          ]
        }
      ],
      "source": [
        "%%writefile my_first_module.py\n",
        "\n",
        "def my_function():\n",
        "    print(\"This is my first module\")"
      ]
    },
    {
      "cell_type": "markdown",
      "source": [
        "## 모듈 불러오기\n",
        "```\n",
        "import 모듈명\n",
        "```\n"
      ],
      "metadata": {
        "id": "PgChd6Ar0IkV"
      }
    },
    {
      "cell_type": "code",
      "execution_count": 2,
      "metadata": {
        "id": "UrZME7aHwv_s"
      },
      "outputs": [],
      "source": [
        "import my_first_module"
      ]
    },
    {
      "cell_type": "code",
      "execution_count": 3,
      "metadata": {
        "id": "nwnh1K0pwv_s",
        "outputId": "e6361f2a-e903-48c7-c847-a800ef040282",
        "colab": {
          "base_uri": "https://localhost:8080/"
        }
      },
      "outputs": [
        {
          "output_type": "stream",
          "name": "stdout",
          "text": [
            "This is my first module\n"
          ]
        }
      ],
      "source": [
        "my_first_module.my_function()"
      ]
    },
    {
      "cell_type": "markdown",
      "source": [
        "모듈 생성"
      ],
      "metadata": {
        "id": "KotUrzSb0QIM"
      }
    },
    {
      "cell_type": "code",
      "execution_count": 4,
      "metadata": {
        "id": "tVbr25CQwv_t",
        "outputId": "0ede6bcc-666b-4b9e-80dc-0f06dd39f07e",
        "colab": {
          "base_uri": "https://localhost:8080/"
        }
      },
      "outputs": [
        {
          "output_type": "stream",
          "name": "stdout",
          "text": [
            "Overwriting my_area.py\n"
          ]
        }
      ],
      "source": [
        "%%writefile my_area.py\n",
        "\n",
        "PI = 3.14\n",
        "def square_area(a) :\n",
        "    return a ** 2\n",
        "\n",
        "def circle_area(r):\n",
        "    return PI * r ** 2"
      ]
    },
    {
      "cell_type": "markdown",
      "source": [
        "\n",
        "모듈의 변수와 함수 호출"
      ],
      "metadata": {
        "id": "w66gCT9_0WdZ"
      }
    },
    {
      "cell_type": "code",
      "execution_count": 5,
      "metadata": {
        "id": "cXMCGv-gwv_t",
        "outputId": "27e0eee2-e209-4215-d5e7-bda133be7ae4",
        "colab": {
          "base_uri": "https://localhost:8080/"
        }
      },
      "outputs": [
        {
          "output_type": "stream",
          "name": "stdout",
          "text": [
            "pi = 3.14\n",
            "square area = 25\n",
            "circle area = 12.56\n"
          ]
        }
      ],
      "source": [
        "import my_area                  # 모듈 불러오기\n",
        "\n",
        "print('pi =', my_area.PI)       # 모듈의 변수 이용\n",
        "print('square area =', my_area.square_area(5)) # 모듈의 함수 이용\n",
        "print('circle area =', my_area.circle_area(2))"
      ]
    },
    {
      "cell_type": "markdown",
      "source": [
        "## 모듈의 변수와 함수 호출\n",
        "- 모듈에서 사용 가능한 변수, 함수, 클래스 확인\n",
        "```\n",
        "dir(모듈명)\n",
        "```"
      ],
      "metadata": {
        "id": "fFg67K3M0gPg"
      }
    },
    {
      "cell_type": "code",
      "execution_count": 6,
      "metadata": {
        "id": "7OO551Gawv_u",
        "outputId": "6a4a38c4-3358-49a8-e075-14ec7b7f4264",
        "colab": {
          "base_uri": "https://localhost:8080/"
        }
      },
      "outputs": [
        {
          "output_type": "execute_result",
          "data": {
            "text/plain": [
              "['PI',\n",
              " '__builtins__',\n",
              " '__cached__',\n",
              " '__doc__',\n",
              " '__file__',\n",
              " '__loader__',\n",
              " '__name__',\n",
              " '__package__',\n",
              " '__spec__',\n",
              " 'circle_area',\n",
              " 'square_area']"
            ]
          },
          "metadata": {},
          "execution_count": 6
        }
      ],
      "source": [
        "dir(my_area)"
      ]
    },
    {
      "cell_type": "markdown",
      "source": [
        "## 모듈을  불러오는 다른 형식"
      ],
      "metadata": {
        "id": "LedESzb30qQQ"
      }
    },
    {
      "cell_type": "markdown",
      "source": [
        "### 모듈의 내용 바로 선언\n",
        "```\n",
        "from 모듈명 import 변수명\n",
        "from 모듈명 import 함수명\n",
        "from 모듈명 import 클래스명\n",
        "```"
      ],
      "metadata": {
        "id": "k_wzpz7J0tOL"
      }
    },
    {
      "cell_type": "code",
      "execution_count": 7,
      "metadata": {
        "id": "nh1-iCxlwv_u",
        "outputId": "46a15244-49a1-4faa-fefa-dcc3f5907d23",
        "colab": {
          "base_uri": "https://localhost:8080/"
        }
      },
      "outputs": [
        {
          "output_type": "stream",
          "name": "stdout",
          "text": [
            "pi = 3.14\n"
          ]
        }
      ],
      "source": [
        "from my_area import PI # 모듈의 변수 바로 불러오기\n",
        "print('pi =', PI) # 모듈의 변수 이용"
      ]
    },
    {
      "cell_type": "code",
      "execution_count": 8,
      "metadata": {
        "id": "b9d2kFwhwv_v",
        "outputId": "b3fc4d65-f6ae-4716-e9dd-d032e7f27811",
        "colab": {
          "base_uri": "https://localhost:8080/"
        }
      },
      "outputs": [
        {
          "output_type": "stream",
          "name": "stdout",
          "text": [
            "square area = 25\n",
            "circle area= 12.56\n"
          ]
        }
      ],
      "source": [
        "from my_area import square_area\n",
        "from my_area import circle_area\n",
        "\n",
        "print('square area =', square_area(5)) # 모듈의 함수 이용\n",
        "print('circle area=', circle_area(2))"
      ]
    },
    {
      "cell_type": "code",
      "source": [
        "# 한꺼번에 선언\n",
        "from my_area import PI, square_area, circle_area\n",
        "print('pi =', PI) # 모듈의 변수 이용\n",
        "print('square area =', square_area(5)) # 모듈의 함수 이용\n",
        "print('circle area =', circle_area(2))"
      ],
      "metadata": {
        "colab": {
          "base_uri": "https://localhost:8080/"
        },
        "id": "HHlB8PXd1QjZ",
        "outputId": "653989b9-34e4-4468-c21b-4648d1976053"
      },
      "execution_count": 9,
      "outputs": [
        {
          "output_type": "stream",
          "name": "stdout",
          "text": [
            "pi = 3.14\n",
            "square area = 25\n",
            "circle area = 12.56\n"
          ]
        }
      ]
    },
    {
      "cell_type": "markdown",
      "source": [
        "### 모두 불러오기\n",
        "모듈의 모든 변수, 함수, 클래스를 바로 모듈명 없이 바로 이용할 경우\n",
        "\n",
        "```\n",
        "from 모듈명 import *\n",
        "```"
      ],
      "metadata": {
        "id": "gImGzzAU1jJ0"
      }
    },
    {
      "cell_type": "code",
      "source": [
        "from my_area import *\n",
        "print('pi =', PI) # 모듈의 변수 이용\n",
        "print('square area =', square_area(5)) # 모듈의 함수 이용\n",
        "print('circle area =', circle_area(2))"
      ],
      "metadata": {
        "colab": {
          "base_uri": "https://localhost:8080/"
        },
        "id": "jlUSMmFa1qgK",
        "outputId": "bc8b09d1-a711-4ca7-a916-80da92d0b8f8"
      },
      "execution_count": 10,
      "outputs": [
        {
          "output_type": "stream",
          "name": "stdout",
          "text": [
            "pi = 3.14\n",
            "square area = 25\n",
            "circle area = 12.56\n"
          ]
        }
      ]
    },
    {
      "cell_type": "markdown",
      "source": [
        "### 모듈명을 별명으로 선언\n",
        "```\n",
        "import 모듈명 as 별명\n",
        "\n",
        "```"
      ],
      "metadata": {
        "id": "vwyBo2hq1unT"
      }
    },
    {
      "cell_type": "markdown",
      "source": [
        "```\n",
        "from 모듈명 import 변수명 as 별명\n",
        "from 모듈명 import 함수명 as 별명\n",
        "from 모듈명 import 클래스명 as 별명\n",
        "```\n"
      ],
      "metadata": {
        "id": "GiHhUmxR1xCl"
      }
    },
    {
      "cell_type": "code",
      "source": [
        "import my_area as area # 모듈명(my_area)에 별명(area)을 붙임\n",
        "\n",
        "print('pi =', area.PI) # 모듈명 대신 별명 이용\n",
        "print('square area =', area.square_area(5))\n",
        "print('circle area =', area.circle_area(2))"
      ],
      "metadata": {
        "colab": {
          "base_uri": "https://localhost:8080/"
        },
        "id": "ZD58IX_X12ae",
        "outputId": "8e941905-5758-4e8a-c03e-6eb642c3b2ea"
      },
      "execution_count": 11,
      "outputs": [
        {
          "output_type": "stream",
          "name": "stdout",
          "text": [
            "pi = 3.14\n",
            "square area = 25\n",
            "circle area = 12.56\n"
          ]
        }
      ]
    },
    {
      "cell_type": "code",
      "source": [
        "from my_area import PI as pi\n",
        "from my_area import square_area as square\n",
        "from my_area import circle_area as circle\n",
        "\n",
        "print('pi =', pi) # 모듈 변수의 별명 이용\n",
        "print('square area =', square(5)) # 모듈 함수의 별명 이용\n",
        "print('circle area =', circle(2))"
      ],
      "metadata": {
        "colab": {
          "base_uri": "https://localhost:8080/"
        },
        "id": "ZUCliVJG18pV",
        "outputId": "771151eb-e9b6-4e50-84e0-e27ce04587cb"
      },
      "execution_count": 12,
      "outputs": [
        {
          "output_type": "stream",
          "name": "stdout",
          "text": [
            "pi = 3.14\n",
            "square area = 25\n",
            "circle area = 12.56\n"
          ]
        }
      ]
    },
    {
      "cell_type": "markdown",
      "source": [
        "### 모듈을 직접 실행"
      ],
      "metadata": {
        "id": "-2t8LBOf2EYD"
      }
    },
    {
      "cell_type": "code",
      "source": [
        "%%writefile my_module_test1.py\n",
        "# File name: my_module_test1.py\n",
        "def func(a):\n",
        "    print(\"입력 숫자:\", a)\n",
        "\n",
        "func(3)"
      ],
      "metadata": {
        "colab": {
          "base_uri": "https://localhost:8080/"
        },
        "id": "kOQ2ejBy2HpR",
        "outputId": "e004d984-ee05-437a-8058-da0332711365"
      },
      "execution_count": 13,
      "outputs": [
        {
          "output_type": "stream",
          "name": "stdout",
          "text": [
            "Overwriting my_module_test1.py\n"
          ]
        }
      ]
    },
    {
      "cell_type": "code",
      "source": [
        "%run my_module_test1.py"
      ],
      "metadata": {
        "colab": {
          "base_uri": "https://localhost:8080/"
        },
        "id": "I2ZAHPIh2LpP",
        "outputId": "976445be-00d1-4916-c31e-bd34941831c9"
      },
      "execution_count": 14,
      "outputs": [
        {
          "output_type": "stream",
          "name": "stdout",
          "text": [
            "입력 숫자: 3\n"
          ]
        }
      ]
    },
    {
      "cell_type": "code",
      "source": [
        "import my_module_test1"
      ],
      "metadata": {
        "colab": {
          "base_uri": "https://localhost:8080/"
        },
        "id": "rwmHmE782bXK",
        "outputId": "39e4e48c-884e-4541-8fdf-ce724b3d11f5"
      },
      "execution_count": 15,
      "outputs": [
        {
          "output_type": "stream",
          "name": "stdout",
          "text": [
            "입력 숫자: 3\n"
          ]
        }
      ]
    },
    {
      "cell_type": "markdown",
      "source": [
        "**모듈을 직접 수행하는 경우와 임포트해서 이용하는 경우를 구분할 수 있는 코드의 구조**\n",
        "\n",
        "```\n",
        "if __name__ == \"__main__\":\n",
        "      <직접 수행할 때만 실행되는 코드>\n",
        "```\n"
      ],
      "metadata": {
        "id": "6tWSaI_R2iFl"
      }
    },
    {
      "cell_type": "markdown",
      "source": [
        "```\n",
        "if __name__ == \"__main__\":\n",
        "      <직접 수행할 때만 실행되는 코드>\n",
        "else:\n",
        "      <임포트됐을 때만 실행되는 코드>\n",
        "```"
      ],
      "metadata": {
        "id": "1EA2PRka2zMl"
      }
    },
    {
      "cell_type": "code",
      "source": [
        "%%writefile my_module_test2.py\n",
        "# File name: my_module_test2.py\n",
        "def func(a):\n",
        "    print(\"입력 숫자:\",a)\n",
        "if __name__ == \"__main__\":\n",
        "    print(\"모듈을 직접 실행\")\n",
        "    func(3)\n",
        "    func(4)"
      ],
      "metadata": {
        "colab": {
          "base_uri": "https://localhost:8080/"
        },
        "id": "OtNJs0Dj2oNM",
        "outputId": "1eb9eea0-de90-4ecc-a426-cbc3a0281a0c"
      },
      "execution_count": 16,
      "outputs": [
        {
          "output_type": "stream",
          "name": "stdout",
          "text": [
            "Overwriting my_module_test2.py\n"
          ]
        }
      ]
    },
    {
      "cell_type": "code",
      "execution_count": 17,
      "metadata": {
        "id": "PG9OV8zGwv_w",
        "outputId": "d2b2ec89-5cff-4bf1-eb2c-5d3d754003fe",
        "colab": {
          "base_uri": "https://localhost:8080/"
        }
      },
      "outputs": [
        {
          "output_type": "stream",
          "name": "stdout",
          "text": [
            "모듈을 직접 실행\n",
            "입력 숫자: 3\n",
            "입력 숫자: 4\n"
          ]
        }
      ],
      "source": [
        "%run my_module_test2.py"
      ]
    },
    {
      "cell_type": "code",
      "execution_count": 18,
      "metadata": {
        "id": "8sdEFRSqwv_x"
      },
      "outputs": [],
      "source": [
        "import my_module_test2"
      ]
    },
    {
      "cell_type": "code",
      "execution_count": 19,
      "metadata": {
        "id": "HWdAf4qcwv_x",
        "outputId": "681f76ce-794b-49b4-c1bd-0f8674e86842",
        "colab": {
          "base_uri": "https://localhost:8080/"
        }
      },
      "outputs": [
        {
          "output_type": "stream",
          "name": "stdout",
          "text": [
            "Overwriting my_module_test3.py\n"
          ]
        }
      ],
      "source": [
        "%%writefile my_module_test3.py\n",
        "\n",
        "def func(a):\n",
        "    print(\"입력숫자:\", a)\n",
        "\n",
        "if __name__ == \"__main__\" :\n",
        "    print(\"모듈을 직접 실행\")\n",
        "    func(3)\n",
        "    func(4)\n",
        "else:\n",
        "    print(\"모듈을 임포트해서 실행\")"
      ]
    },
    {
      "cell_type": "code",
      "execution_count": 20,
      "metadata": {
        "id": "aue5ug0ewv_y",
        "outputId": "12a35616-88ea-47de-cd48-2c26b9f20e1e",
        "colab": {
          "base_uri": "https://localhost:8080/"
        }
      },
      "outputs": [
        {
          "output_type": "stream",
          "name": "stdout",
          "text": [
            "모듈을 직접 실행\n",
            "입력숫자: 3\n",
            "입력숫자: 4\n"
          ]
        }
      ],
      "source": [
        "%run my_module_test3.py"
      ]
    },
    {
      "cell_type": "code",
      "execution_count": 21,
      "metadata": {
        "id": "B9-JSf3Uwv_y",
        "outputId": "b7159f15-ce17-4846-fb04-32b6e8908a34",
        "colab": {
          "base_uri": "https://localhost:8080/"
        }
      },
      "outputs": [
        {
          "output_type": "stream",
          "name": "stdout",
          "text": [
            "모듈을 임포트해서 실행\n"
          ]
        }
      ],
      "source": [
        "import my_module_test3"
      ]
    },
    {
      "cell_type": "markdown",
      "source": [
        "# 내장 모듈\n",
        "- 파이썬에는 개발 환경을 설치할 때 내장 모듈과 다양한 공개 모듈이 함께 설치됨\n",
        "- 자신이 원하는 코드를 쉽고 간편하게  작성할 수  있음"
      ],
      "metadata": {
        "id": "5ntjVijr3BrT"
      }
    },
    {
      "cell_type": "markdown",
      "source": [
        "## 난수 발생 모듈\n",
        "- 난수(random number): 임의의 숫자\n",
        "- random 모듈을 이용해  난수를  생성\n",
        "\n",
        "**random 모듈 사용법**\n",
        "```\n",
        "import random\n",
        "random.random모듈함수()\n",
        "```"
      ],
      "metadata": {
        "id": "3MaArLoS4Ss4"
      }
    },
    {
      "cell_type": "markdown",
      "source": [
        "|     함수                                  |     설명                                                                          |     사용   예                        |\n",
        "|-------------------------------------------|-----------------------------------------------------------------------------------|--------------------------------------|\n",
        "|     random()                              |     0.0 &lt;= 실수 &lt; 1.0 범위의   임의의 실수를 반환                           |     random.random()                  |\n",
        "|     randint(a,b)                          |     a &lt;= 정수 &lt;= b의   범위의 임의의 정수 반환                              |     random.randint(1,6)              |\n",
        "|     randrange([start,]   stop [,step])    |     range([start,] stop [,step])에서   임의의 정수를 반환                         |     random.randrange(0, 10, 2)       |\n",
        "|     choice(seq)                           |     공백이   아닌 시퀀스(seq)에서 임의의 항목을 반환                              |     random.choice([1,2,3])           |\n",
        "|      sample(population, k)                |     시퀀스로   이뤄진 모집단(population)에서   중복되지 않는 k개의 인자를 반환    |     random.sample([1,2,3,4,5], 2)    |"
      ],
      "metadata": {
        "id": "QL1UhyHf8uuG"
      }
    },
    {
      "cell_type": "code",
      "source": [
        "import random\n",
        "random.random()"
      ],
      "metadata": {
        "colab": {
          "base_uri": "https://localhost:8080/"
        },
        "id": "fsHurd3F3BSK",
        "outputId": "baa7050f-35f6-40d3-bc05-0f87e740bbef"
      },
      "execution_count": 22,
      "outputs": [
        {
          "output_type": "execute_result",
          "data": {
            "text/plain": [
              "0.8846642535075359"
            ]
          },
          "metadata": {},
          "execution_count": 22
        }
      ]
    },
    {
      "cell_type": "code",
      "source": [
        "import random\n",
        "\n",
        "dice1 = random.randint(1,6) # 임의의 정수가 생성됨\n",
        "dice2 = random.randint(1,6) # 임의의 정수가 생성됨\n",
        "print('주사위 두 개의 숫자: {0}, {1}'.format(dice1, dice2))"
      ],
      "metadata": {
        "colab": {
          "base_uri": "https://localhost:8080/"
        },
        "id": "azvNUaGD4_sn",
        "outputId": "b08531e9-70dd-4ad2-8085-000954b5faba"
      },
      "execution_count": 23,
      "outputs": [
        {
          "output_type": "stream",
          "name": "stdout",
          "text": [
            "주사위 두 개의 숫자: 5, 1\n"
          ]
        }
      ]
    },
    {
      "cell_type": "code",
      "source": [
        "import random\n",
        "random.randrange(0,11,2)"
      ],
      "metadata": {
        "colab": {
          "base_uri": "https://localhost:8080/"
        },
        "id": "EAUyLqUn5Cod",
        "outputId": "893f4bff-1499-49be-f37e-43c4a0c80a0d"
      },
      "execution_count": 24,
      "outputs": [
        {
          "output_type": "execute_result",
          "data": {
            "text/plain": [
              "6"
            ]
          },
          "metadata": {},
          "execution_count": 24
        }
      ]
    },
    {
      "cell_type": "code",
      "source": [
        "import random\n",
        "\n",
        "num1 = random.randrange(1, 10, 2) # 1 ~ 9(10-1) 중 임의의 홀수 선택\n",
        "num2 = random.randrange(0,100,10) # 0 ~ 99(100-1) 중 임의의 10의 단위 숫자 선택\n",
        "print('num1: {0}, num2: {1}'.format(num1,num2))"
      ],
      "metadata": {
        "colab": {
          "base_uri": "https://localhost:8080/"
        },
        "id": "9KslpN3I5F_W",
        "outputId": "78406831-9433-483c-db92-d8396f2d6075"
      },
      "execution_count": 25,
      "outputs": [
        {
          "output_type": "stream",
          "name": "stdout",
          "text": [
            "num1: 5, num2: 10\n"
          ]
        }
      ]
    },
    {
      "cell_type": "code",
      "source": [
        "import random\n",
        "\n",
        "menu = ['비빔밥', '된장찌개', '볶음밥', '불고기', '스파게티', '피자', '탕수육']\n",
        "random.choice(menu)"
      ],
      "metadata": {
        "colab": {
          "base_uri": "https://localhost:8080/",
          "height": 35
        },
        "id": "l0onD--F5IgT",
        "outputId": "ef32e4dd-ba0f-49a7-a72b-f0abf3eca50b"
      },
      "execution_count": 26,
      "outputs": [
        {
          "output_type": "execute_result",
          "data": {
            "text/plain": [
              "'피자'"
            ],
            "application/vnd.google.colaboratory.intrinsic+json": {
              "type": "string"
            }
          },
          "metadata": {},
          "execution_count": 26
        }
      ]
    },
    {
      "cell_type": "code",
      "source": [
        "import random\n",
        "random.sample([1, 2, 3, 4, 5], 2) # 모집단에서 두 개의 인자 선택"
      ],
      "metadata": {
        "colab": {
          "base_uri": "https://localhost:8080/"
        },
        "id": "Tq2o0j8x5LRL",
        "outputId": "a8e8b430-c702-49df-db82-70b2ecfc0d60"
      },
      "execution_count": 27,
      "outputs": [
        {
          "output_type": "execute_result",
          "data": {
            "text/plain": [
              "[1, 3]"
            ]
          },
          "metadata": {},
          "execution_count": 27
        }
      ]
    },
    {
      "cell_type": "markdown",
      "source": [
        "## 날짜 및 시간 관련 처리 모듈\n",
        "- datetime 모듈\n",
        "    - date 클래스: 날짜를 표현\n",
        "    - time 클래스: 시간을 표현\n",
        "    - datetime 클래스: 날짜와 시간을  표현\n",
        "- datetime 모듈의 각 클래스의 객체를 생성해 이용"
      ],
      "metadata": {
        "id": "3MfV9m-H5Ocv"
      }
    },
    {
      "cell_type": "markdown",
      "source": [
        "```\n",
        "import datatime\n",
        "\n",
        "date_obj = datetime.date(year, month, day)\n",
        "time_obj = datetime.time(hour, minute, second)\n",
        "datetime_obj = datetime.datatime(year, month, day, hour, minute, second)\n",
        "```"
      ],
      "metadata": {
        "id": "xIBDJg_p5XvQ"
      }
    },
    {
      "cell_type": "markdown",
      "source": [
        "|     함수                        |     설명                                                                                                                   |     사용   예                            |\n",
        "|---------------------------------|----------------------------------------------------------------------------------------------------------------------------|------------------------------------------|\n",
        "|     calendar(year [,m=3])       |     지정된   연도(year)의   전체 달력을 문자열로 반환(기본   형식은 3개의 열)                                              |     calendar.calendar(2017)              |\n",
        "|     month(year, month)          |     지정된   연도(year)와 월(month)의   달력을 문자열로 반환                                                               |     calendar.month(2019,1)               |\n",
        "|     monthrange(year, month)     |     지정된   연도(year)와 월(month)의   시작 요일과 일수 반환. 요일의   경우 0(월요일)   ~ 6(일요일) 사이의 숫자로 반환    |     calendar.monthrange(2020,1)          |\n",
        "|     firstweekday()              |     달력에   표시되는 주의 첫 번째 요일값을   반환. 기본값으로는 월요일(0)로 지정됨                                        |     calendar.firstweekday()              |\n",
        "|     setfirstweekday(weekday)    |     달력에   표시되는 주의 첫 번째 요일을 지정                                                                             |     calendar.setfirstweekday(6)          |\n",
        "|     weekday(year,month,day)     |     지정된   날짜[연도(year),   월(month), 일(day)]의   요일을 반환                                                        |     calendar. weekday(year,month,day)    |\n",
        "|     isleap(year)                |     지정된   연도(year)가   윤년인지를 판단해 윤년이면 True를, 아니면 False를   반환                                       |     calendar.isleap(2020)                |"
      ],
      "metadata": {
        "id": "Sb7hpgKp84FK"
      }
    },
    {
      "cell_type": "markdown",
      "source": [
        "⭐요일 지정 상수⭐\n",
        "\n",
        "|     요일    |     요일  지정 상수       |     숫자로 표시    |\n",
        "|:-----------:|---------------------------|--------------------|\n",
        "|      월     |     calendar.MONDAY       |     0              |\n",
        "|      화     |     calendar.TUESDAY      |     1              |\n",
        "|      수     |     calendar.WEDNESDAY    |     2              |\n",
        "|      목     |     calendar.THURSDAY     |     3              |\n",
        "|      금     |     calendar.FRIDAY       |     4              |\n",
        "|      토     |     calendar.SATURDAY     |     5              |\n",
        "|      일     |     calendar.SUNDAY       |     6              |"
      ],
      "metadata": {
        "id": "qN8fJts-9Bdv"
      }
    },
    {
      "cell_type": "markdown",
      "source": [
        "datetime 모듈 예제"
      ],
      "metadata": {
        "id": "BPW5mDu85Xsg"
      }
    },
    {
      "cell_type": "code",
      "execution_count": 28,
      "metadata": {
        "id": "OUFqLaOiwv_z"
      },
      "outputs": [],
      "source": [
        "import datetime"
      ]
    },
    {
      "cell_type": "code",
      "execution_count": 29,
      "metadata": {
        "id": "AjHDs53pwv_0",
        "outputId": "701fd507-07d0-4976-afcc-6cf554d33791",
        "colab": {
          "base_uri": "https://localhost:8080/"
        }
      },
      "outputs": [
        {
          "output_type": "stream",
          "name": "stdout",
          "text": [
            "2024-03-01\n"
          ]
        }
      ],
      "source": [
        "date_var = datetime.date(2024, 3, 1)\n",
        "print(date_var)"
      ]
    },
    {
      "cell_type": "code",
      "execution_count": 30,
      "metadata": {
        "id": "AhIVxuDVwv_1",
        "outputId": "cf2dccf1-f5cc-4919-8c5a-f9d138038b58",
        "colab": {
          "base_uri": "https://localhost:8080/"
        }
      },
      "outputs": [
        {
          "output_type": "stream",
          "name": "stdout",
          "text": [
            "2024/3/1\n"
          ]
        }
      ],
      "source": [
        "print('{0}/{1}/{2}'.format(date_var.year, date_var.month, date_var.day))"
      ]
    },
    {
      "cell_type": "code",
      "execution_count": 31,
      "metadata": {
        "id": "y4k-dpbkwv_1",
        "outputId": "c838fd17-f986-457c-9798-2186b8f11237",
        "colab": {
          "base_uri": "https://localhost:8080/"
        }
      },
      "outputs": [
        {
          "output_type": "stream",
          "name": "stdout",
          "text": [
            "100 days, 0:00:00\n"
          ]
        }
      ],
      "source": [
        "day1= datetime.date(2024, 4, 1)\n",
        "day2= datetime.date(2024, 7, 10)\n",
        "diff_day = day2 - day1\n",
        "print(diff_day)"
      ]
    },
    {
      "cell_type": "code",
      "execution_count": 32,
      "metadata": {
        "id": "TS7NWk8xwv_1",
        "outputId": "ed9e60aa-3be4-49c8-d9a3-740d2869c0be",
        "colab": {
          "base_uri": "https://localhost:8080/"
        }
      },
      "outputs": [
        {
          "output_type": "execute_result",
          "data": {
            "text/plain": [
              "datetime.date"
            ]
          },
          "metadata": {},
          "execution_count": 32
        }
      ],
      "source": [
        "type(day1)"
      ]
    },
    {
      "cell_type": "code",
      "execution_count": 33,
      "metadata": {
        "id": "c9FGApDSwv_2",
        "outputId": "17cbbd6f-5ba0-475f-d17c-0497070cb9f5",
        "colab": {
          "base_uri": "https://localhost:8080/"
        }
      },
      "outputs": [
        {
          "output_type": "execute_result",
          "data": {
            "text/plain": [
              "datetime.timedelta"
            ]
          },
          "metadata": {},
          "execution_count": 33
        }
      ],
      "source": [
        "type(diff_day)"
      ]
    },
    {
      "cell_type": "code",
      "source": [
        "print(\"** 지정된 두 날짜의 차이는 {}일입니다. **\".format(diff_day.days))"
      ],
      "metadata": {
        "colab": {
          "base_uri": "https://localhost:8080/"
        },
        "id": "-iiYdTp25qN6",
        "outputId": "a2f8b605-a058-48d7-f566-a538795af3e1"
      },
      "execution_count": 34,
      "outputs": [
        {
          "output_type": "stream",
          "name": "stdout",
          "text": [
            "** 지정된 두 날짜의 차이는 100일입니다. **\n"
          ]
        }
      ]
    },
    {
      "cell_type": "code",
      "execution_count": 35,
      "metadata": {
        "id": "DtGiUUDtwv_2",
        "outputId": "6fd9e267-a6de-4bd4-e692-3f5f66659406",
        "colab": {
          "base_uri": "https://localhost:8080/"
        }
      },
      "outputs": [
        {
          "output_type": "execute_result",
          "data": {
            "text/plain": [
              "datetime.date(2024, 6, 9)"
            ]
          },
          "metadata": {},
          "execution_count": 35
        }
      ],
      "source": [
        "datetime.date.today()"
      ]
    },
    {
      "cell_type": "code",
      "source": [
        "today = datetime.date.today()\n",
        "special_day = datetime.date(2023, 12, 31)\n",
        "print(special_day - today)"
      ],
      "metadata": {
        "colab": {
          "base_uri": "https://localhost:8080/"
        },
        "id": "5AemE4Se5xit",
        "outputId": "cfc7977a-4d7d-4e71-9d22-b23670eeef00"
      },
      "execution_count": 36,
      "outputs": [
        {
          "output_type": "stream",
          "name": "stdout",
          "text": [
            "-161 days, 0:00:00\n"
          ]
        }
      ]
    },
    {
      "cell_type": "code",
      "execution_count": 37,
      "metadata": {
        "id": "ndT_zSUewv_2",
        "colab": {
          "base_uri": "https://localhost:8080/"
        },
        "outputId": "29920349-a7ca-42f4-bd44-21243b8a88e5"
      },
      "outputs": [
        {
          "output_type": "execute_result",
          "data": {
            "text/plain": [
              "datetime.time(15, 30, 45)"
            ]
          },
          "metadata": {},
          "execution_count": 37
        }
      ],
      "source": [
        "set_time = datetime.time(15, 30, 45)\n",
        "set_time"
      ]
    },
    {
      "cell_type": "code",
      "execution_count": 38,
      "metadata": {
        "id": "fjn9-nknwv_2",
        "outputId": "e508cd40-a260-4a7f-f0ba-31611b561840",
        "colab": {
          "base_uri": "https://localhost:8080/"
        }
      },
      "outputs": [
        {
          "output_type": "stream",
          "name": "stdout",
          "text": [
            "15:30:45\n"
          ]
        }
      ],
      "source": [
        "print(set_time)"
      ]
    },
    {
      "cell_type": "code",
      "source": [
        "print('{0}:{1}:{2}'.format(set_time.hour,set_time.minute,set_time.second ))"
      ],
      "metadata": {
        "colab": {
          "base_uri": "https://localhost:8080/"
        },
        "id": "Bj_cBBuD551V",
        "outputId": "fcf69fbe-53f7-40e2-cd4d-da4217aa9eee"
      },
      "execution_count": 39,
      "outputs": [
        {
          "output_type": "stream",
          "name": "stdout",
          "text": [
            "15:30:45\n"
          ]
        }
      ]
    },
    {
      "cell_type": "code",
      "source": [
        "import datetime\n",
        "set_dt = datetime.datetime(2023, 10, 9, 10, 20, 0)\n",
        "print(set_dt)\n",
        "print('날짜 {0}/{1}/{2}'.format(set_dt.year, set_dt.month, set_dt.day))\n",
        "print('시각 {0}:{1}:{2}'.format(set_dt.hour, set_dt.minute, set_dt.second))"
      ],
      "metadata": {
        "colab": {
          "base_uri": "https://localhost:8080/"
        },
        "id": "sP2Rcgk2573Y",
        "outputId": "4f4daaec-ede1-4b60-e8f1-b388835df164"
      },
      "execution_count": 40,
      "outputs": [
        {
          "output_type": "stream",
          "name": "stdout",
          "text": [
            "2023-10-09 10:20:00\n",
            "날짜 2023/10/9\n",
            "시각 10:20:0\n"
          ]
        }
      ]
    },
    {
      "cell_type": "code",
      "source": [
        "import datetime\n",
        "now = datetime.datetime.now()\n",
        "print(now)"
      ],
      "metadata": {
        "colab": {
          "base_uri": "https://localhost:8080/"
        },
        "id": "E9mCrcXN6Bkl",
        "outputId": "53235b12-9b0d-49ab-d37e-efee4961c869"
      },
      "execution_count": 41,
      "outputs": [
        {
          "output_type": "stream",
          "name": "stdout",
          "text": [
            "2024-06-09 02:59:24.718110\n"
          ]
        }
      ]
    },
    {
      "cell_type": "code",
      "source": [
        "print(\"Date & Time: {:%Y-%m-%d, %H:%M:%S}\".format(now))\n",
        "print(\"Date: {:%Y, %m, %d}\".format(now))\n",
        "print(\"Time: {:%H/%M/%S}\".format(now))"
      ],
      "metadata": {
        "colab": {
          "base_uri": "https://localhost:8080/"
        },
        "id": "xhv4ghPk6EO7",
        "outputId": "5639da9c-2292-4c13-d912-6ffb0615f52a"
      },
      "execution_count": 42,
      "outputs": [
        {
          "output_type": "stream",
          "name": "stdout",
          "text": [
            "Date & Time: 2024-06-09, 02:59:24\n",
            "Date: 2024, 06, 09\n",
            "Time: 02/59/24\n"
          ]
        }
      ]
    },
    {
      "cell_type": "code",
      "source": [
        "now = datetime.datetime.now()\n",
        "set_dt = datetime.datetime(2024, 12, 1, 12, 30, 45)\n",
        "\n",
        "print(\"현재 날짜 및 시각:\", now)\n",
        "print(\"차이:\", set_dt - now)"
      ],
      "metadata": {
        "colab": {
          "base_uri": "https://localhost:8080/"
        },
        "id": "tz6p8eG66JUm",
        "outputId": "77ab834c-e5f0-4358-867c-967d67a5403c"
      },
      "execution_count": 43,
      "outputs": [
        {
          "output_type": "stream",
          "name": "stdout",
          "text": [
            "현재 날짜 및 시각: 2024-06-09 02:59:24.749777\n",
            "차이: 175 days, 9:31:20.250223\n"
          ]
        }
      ]
    },
    {
      "cell_type": "markdown",
      "source": [
        "## 달력 생성 및 처리 모듈\n",
        "calendar 모듈\n"
      ],
      "metadata": {
        "id": "1Z4g2mqC6R83"
      }
    },
    {
      "cell_type": "markdown",
      "source": [
        "calendar 모듈의 예"
      ],
      "metadata": {
        "id": "MZkwS9LW6aLr"
      }
    },
    {
      "cell_type": "code",
      "source": [
        "import calendar\n",
        "print(calendar.calendar(2024))"
      ],
      "metadata": {
        "colab": {
          "base_uri": "https://localhost:8080/"
        },
        "id": "o-CLyXkG6cWP",
        "outputId": "49a03129-e6ef-40ba-fa23-e99e47d50534"
      },
      "execution_count": 44,
      "outputs": [
        {
          "output_type": "stream",
          "name": "stdout",
          "text": [
            "                                  2024\n",
            "\n",
            "      January                   February                   March\n",
            "Mo Tu We Th Fr Sa Su      Mo Tu We Th Fr Sa Su      Mo Tu We Th Fr Sa Su\n",
            " 1  2  3  4  5  6  7                1  2  3  4                   1  2  3\n",
            " 8  9 10 11 12 13 14       5  6  7  8  9 10 11       4  5  6  7  8  9 10\n",
            "15 16 17 18 19 20 21      12 13 14 15 16 17 18      11 12 13 14 15 16 17\n",
            "22 23 24 25 26 27 28      19 20 21 22 23 24 25      18 19 20 21 22 23 24\n",
            "29 30 31                  26 27 28 29               25 26 27 28 29 30 31\n",
            "\n",
            "       April                      May                       June\n",
            "Mo Tu We Th Fr Sa Su      Mo Tu We Th Fr Sa Su      Mo Tu We Th Fr Sa Su\n",
            " 1  2  3  4  5  6  7             1  2  3  4  5                      1  2\n",
            " 8  9 10 11 12 13 14       6  7  8  9 10 11 12       3  4  5  6  7  8  9\n",
            "15 16 17 18 19 20 21      13 14 15 16 17 18 19      10 11 12 13 14 15 16\n",
            "22 23 24 25 26 27 28      20 21 22 23 24 25 26      17 18 19 20 21 22 23\n",
            "29 30                     27 28 29 30 31            24 25 26 27 28 29 30\n",
            "\n",
            "        July                     August                  September\n",
            "Mo Tu We Th Fr Sa Su      Mo Tu We Th Fr Sa Su      Mo Tu We Th Fr Sa Su\n",
            " 1  2  3  4  5  6  7                1  2  3  4                         1\n",
            " 8  9 10 11 12 13 14       5  6  7  8  9 10 11       2  3  4  5  6  7  8\n",
            "15 16 17 18 19 20 21      12 13 14 15 16 17 18       9 10 11 12 13 14 15\n",
            "22 23 24 25 26 27 28      19 20 21 22 23 24 25      16 17 18 19 20 21 22\n",
            "29 30 31                  26 27 28 29 30 31         23 24 25 26 27 28 29\n",
            "                                                    30\n",
            "\n",
            "      October                   November                  December\n",
            "Mo Tu We Th Fr Sa Su      Mo Tu We Th Fr Sa Su      Mo Tu We Th Fr Sa Su\n",
            "    1  2  3  4  5  6                   1  2  3                         1\n",
            " 7  8  9 10 11 12 13       4  5  6  7  8  9 10       2  3  4  5  6  7  8\n",
            "14 15 16 17 18 19 20      11 12 13 14 15 16 17       9 10 11 12 13 14 15\n",
            "21 22 23 24 25 26 27      18 19 20 21 22 23 24      16 17 18 19 20 21 22\n",
            "28 29 30 31               25 26 27 28 29 30         23 24 25 26 27 28 29\n",
            "                                                    30 31\n",
            "\n"
          ]
        }
      ]
    },
    {
      "cell_type": "code",
      "source": [
        "print(calendar.calendar(2024, m=6))"
      ],
      "metadata": {
        "colab": {
          "base_uri": "https://localhost:8080/"
        },
        "id": "wwkVuLvI6gwf",
        "outputId": "751009ed-f3cf-4fd7-b2a5-4d6ce805e138"
      },
      "execution_count": 45,
      "outputs": [
        {
          "output_type": "stream",
          "name": "stdout",
          "text": [
            "                                                                         2024\n",
            "\n",
            "      January                   February                   March                     April                      May                       June\n",
            "Mo Tu We Th Fr Sa Su      Mo Tu We Th Fr Sa Su      Mo Tu We Th Fr Sa Su      Mo Tu We Th Fr Sa Su      Mo Tu We Th Fr Sa Su      Mo Tu We Th Fr Sa Su\n",
            " 1  2  3  4  5  6  7                1  2  3  4                   1  2  3       1  2  3  4  5  6  7             1  2  3  4  5                      1  2\n",
            " 8  9 10 11 12 13 14       5  6  7  8  9 10 11       4  5  6  7  8  9 10       8  9 10 11 12 13 14       6  7  8  9 10 11 12       3  4  5  6  7  8  9\n",
            "15 16 17 18 19 20 21      12 13 14 15 16 17 18      11 12 13 14 15 16 17      15 16 17 18 19 20 21      13 14 15 16 17 18 19      10 11 12 13 14 15 16\n",
            "22 23 24 25 26 27 28      19 20 21 22 23 24 25      18 19 20 21 22 23 24      22 23 24 25 26 27 28      20 21 22 23 24 25 26      17 18 19 20 21 22 23\n",
            "29 30 31                  26 27 28 29               25 26 27 28 29 30 31      29 30                     27 28 29 30 31            24 25 26 27 28 29 30\n",
            "\n",
            "        July                     August                  September                  October                   November                  December\n",
            "Mo Tu We Th Fr Sa Su      Mo Tu We Th Fr Sa Su      Mo Tu We Th Fr Sa Su      Mo Tu We Th Fr Sa Su      Mo Tu We Th Fr Sa Su      Mo Tu We Th Fr Sa Su\n",
            " 1  2  3  4  5  6  7                1  2  3  4                         1          1  2  3  4  5  6                   1  2  3                         1\n",
            " 8  9 10 11 12 13 14       5  6  7  8  9 10 11       2  3  4  5  6  7  8       7  8  9 10 11 12 13       4  5  6  7  8  9 10       2  3  4  5  6  7  8\n",
            "15 16 17 18 19 20 21      12 13 14 15 16 17 18       9 10 11 12 13 14 15      14 15 16 17 18 19 20      11 12 13 14 15 16 17       9 10 11 12 13 14 15\n",
            "22 23 24 25 26 27 28      19 20 21 22 23 24 25      16 17 18 19 20 21 22      21 22 23 24 25 26 27      18 19 20 21 22 23 24      16 17 18 19 20 21 22\n",
            "29 30 31                  26 27 28 29 30 31         23 24 25 26 27 28 29      28 29 30 31               25 26 27 28 29 30         23 24 25 26 27 28 29\n",
            "                                                    30                                                                            30 31\n",
            "\n"
          ]
        }
      ]
    },
    {
      "cell_type": "code",
      "execution_count": 46,
      "metadata": {
        "id": "Kx0tHZy3wv_2",
        "outputId": "d35529cc-35cb-4dce-f623-d461271c7f17",
        "colab": {
          "base_uri": "https://localhost:8080/"
        }
      },
      "outputs": [
        {
          "output_type": "stream",
          "name": "stdout",
          "text": [
            "     April 2024\n",
            "Mo Tu We Th Fr Sa Su\n",
            " 1  2  3  4  5  6  7\n",
            " 8  9 10 11 12 13 14\n",
            "15 16 17 18 19 20 21\n",
            "22 23 24 25 26 27 28\n",
            "29 30\n",
            "\n"
          ]
        }
      ],
      "source": [
        "import calendar\n",
        "\n",
        "print(calendar.month(2024, 4))"
      ]
    },
    {
      "cell_type": "code",
      "execution_count": 52,
      "metadata": {
        "id": "UqGUBQA7wv_3",
        "outputId": "f6bcd5b1-975f-4bf4-8103-65b50b68f0c0",
        "colab": {
          "base_uri": "https://localhost:8080/"
        }
      },
      "outputs": [
        {
          "output_type": "execute_result",
          "data": {
            "text/plain": [
              "(3, 29)"
            ]
          },
          "metadata": {},
          "execution_count": 52
        }
      ],
      "source": [
        "# 2024년 2월 1일의 요일과 2024년 2월이 최대 몇일까지 있는지를 Tuple의 형태로 반환\n",
        "calendar.monthrange(2024, 2)"
      ]
    },
    {
      "cell_type": "code",
      "execution_count": 48,
      "metadata": {
        "id": "z2ZYjbyJwv_3",
        "colab": {
          "base_uri": "https://localhost:8080/"
        },
        "outputId": "ae032f5a-e1f9-432b-f0bf-abed0e76aa48"
      },
      "outputs": [
        {
          "output_type": "execute_result",
          "data": {
            "text/plain": [
              "0"
            ]
          },
          "metadata": {},
          "execution_count": 48
        }
      ],
      "source": [
        "calendar.firstweekday()"
      ]
    },
    {
      "cell_type": "code",
      "source": [
        "calendar.setfirstweekday(calendar.SUNDAY)\n",
        "print(calendar.month(2024, 9))"
      ],
      "metadata": {
        "colab": {
          "base_uri": "https://localhost:8080/"
        },
        "id": "2OteCkxj6pRj",
        "outputId": "3623273b-70e6-4fb2-cfd0-de1f1b923f46"
      },
      "execution_count": 49,
      "outputs": [
        {
          "output_type": "stream",
          "name": "stdout",
          "text": [
            "   September 2024\n",
            "Su Mo Tu We Th Fr Sa\n",
            " 1  2  3  4  5  6  7\n",
            " 8  9 10 11 12 13 14\n",
            "15 16 17 18 19 20 21\n",
            "22 23 24 25 26 27 28\n",
            "29 30\n",
            "\n"
          ]
        }
      ]
    },
    {
      "cell_type": "code",
      "source": [
        "print(calendar.weekday(2023, 10, 14))"
      ],
      "metadata": {
        "colab": {
          "base_uri": "https://localhost:8080/"
        },
        "id": "bvUlm8HC6qwt",
        "outputId": "ab195109-6972-46c6-95b8-c6a138a48dfc"
      },
      "execution_count": 50,
      "outputs": [
        {
          "output_type": "stream",
          "name": "stdout",
          "text": [
            "5\n"
          ]
        }
      ]
    },
    {
      "cell_type": "code",
      "source": [
        "print(calendar.isleap(2023))\n",
        "print(calendar.isleap(2024))"
      ],
      "metadata": {
        "colab": {
          "base_uri": "https://localhost:8080/"
        },
        "id": "CWnltEfR6sJL",
        "outputId": "72e3dd8e-141b-4ed0-c1aa-4bef5cad26d2"
      },
      "execution_count": 51,
      "outputs": [
        {
          "output_type": "stream",
          "name": "stdout",
          "text": [
            "False\n",
            "True\n"
          ]
        }
      ]
    }
  ],
  "metadata": {
    "kernelspec": {
      "display_name": "Python 3",
      "language": "python",
      "name": "python3"
    },
    "language_info": {
      "codemirror_mode": {
        "name": "ipython",
        "version": 3
      },
      "file_extension": ".py",
      "mimetype": "text/x-python",
      "name": "python",
      "nbconvert_exporter": "python",
      "pygments_lexer": "ipython3",
      "version": "3.7.6"
    },
    "toc": {
      "base_numbering": 1,
      "nav_menu": {},
      "number_sections": false,
      "sideBar": true,
      "skip_h1_title": false,
      "title_cell": "Table of Contents",
      "title_sidebar": "Contents",
      "toc_cell": false,
      "toc_position": {},
      "toc_section_display": true,
      "toc_window_display": false
    },
    "colab": {
      "provenance": [],
      "toc_visible": true,
      "include_colab_link": true
    }
  },
  "nbformat": 4,
  "nbformat_minor": 0
}