{
  "cells": [
    {
      "cell_type": "markdown",
      "metadata": {
        "id": "view-in-github",
        "colab_type": "text"
      },
      "source": [
        "<a href=\"https://colab.research.google.com/github/zzhining/python_basic/blob/master/05_set.ipynb\" target=\"_parent\"><img src=\"https://colab.research.google.com/assets/colab-badge.svg\" alt=\"Open In Colab\"/></a>"
      ]
    },
    {
      "cell_type": "markdown",
      "metadata": {
        "id": "3QTXjb06b0Ny"
      },
      "source": [
        "# 세트(set)\n",
        "- 수학의 집합개념을 구현한 데이터타입\n",
        "- 데이터에 순서가 없고, 중복해서 사용이 불가\n",
        "- 교집합, 합집합, 차집합을 구하는 메서드"
      ]
    },
    {
      "cell_type": "markdown",
      "source": [
        "# 세트 생성\n",
        "    \n",
        "- 중괄호 {}를 사용해서 만듦"
      ],
      "metadata": {
        "id": "d6PWBI8Bb4pa"
      }
    },
    {
      "cell_type": "code",
      "execution_count": null,
      "metadata": {
        "id": "qirGCeyyb0N0",
        "outputId": "8d9ede4a-ed26-49cd-d420-ea473774843c"
      },
      "outputs": [
        {
          "data": {
            "text/plain": [
              "{1, 2, 3}"
            ]
          },
          "execution_count": 1,
          "metadata": {},
          "output_type": "execute_result"
        }
      ],
      "source": [
        "set1 = {1, 2, 3}\n",
        "set1"
      ]
    },
    {
      "cell_type": "code",
      "execution_count": null,
      "metadata": {
        "id": "praPL5F0b0N2",
        "outputId": "fd87df69-e744-482b-f59e-b2fb6d389a9a"
      },
      "outputs": [
        {
          "data": {
            "text/plain": [
              "{2, 3, 4, 5}"
            ]
          },
          "execution_count": 2,
          "metadata": {},
          "output_type": "execute_result"
        }
      ],
      "source": [
        "set2 = {2, 3, 4, 5}\n",
        "set2"
      ]
    },
    {
      "cell_type": "markdown",
      "source": [
        "# 집합 연산\n",
        "    * 교집합\n",
        "        - set1.intersection(set2)\n",
        "        - &\n",
        "    * 합집합\n",
        "        - set1.union(set2)\n",
        "        - |\n",
        "    * 차집합\n",
        "        - set1.difference(set2)\n",
        "        - -\n",
        "        "
      ],
      "metadata": {
        "id": "wF_GIiIab9iU"
      }
    },
    {
      "cell_type": "code",
      "execution_count": null,
      "metadata": {
        "id": "zr2zeEznb0N3",
        "outputId": "a2f7576d-60b3-4388-fa50-06336a0bb423"
      },
      "outputs": [
        {
          "data": {
            "text/plain": [
              "{2, 3}"
            ]
          },
          "execution_count": 3,
          "metadata": {},
          "output_type": "execute_result"
        }
      ],
      "source": [
        "# 교집합(A∩B)\n",
        "set1.intersection(set2)"
      ]
    },
    {
      "cell_type": "code",
      "execution_count": null,
      "metadata": {
        "id": "xmwDyUa1b0N4",
        "outputId": "568ab673-d4f0-48b1-b2d3-33547df9c8d3"
      },
      "outputs": [
        {
          "data": {
            "text/plain": [
              "{1, 2, 3, 4, 5}"
            ]
          },
          "execution_count": 4,
          "metadata": {},
          "output_type": "execute_result"
        }
      ],
      "source": [
        "# 합집합 (A∪B)\n",
        "set1.union(set2)"
      ]
    },
    {
      "cell_type": "code",
      "execution_count": null,
      "metadata": {
        "id": "sZ66924nb0N4",
        "outputId": "32cf437f-010e-4526-8b2a-2040314d098c"
      },
      "outputs": [
        {
          "data": {
            "text/plain": [
              "{1}"
            ]
          },
          "execution_count": 5,
          "metadata": {},
          "output_type": "execute_result"
        }
      ],
      "source": [
        "# 차집합(A-B)\n",
        "set1.difference(set2)"
      ]
    },
    {
      "cell_type": "markdown",
      "source": [
        "## 집합 연산자"
      ],
      "metadata": {
        "id": "GdObsY5JcPXI"
      }
    },
    {
      "cell_type": "code",
      "execution_count": null,
      "metadata": {
        "id": "m1Jfr1zHb0N4",
        "outputId": "9055dd81-87c7-4198-fcf4-702cb431dbb2"
      },
      "outputs": [
        {
          "data": {
            "text/plain": [
              "{2, 3}"
            ]
          },
          "execution_count": 6,
          "metadata": {},
          "output_type": "execute_result"
        }
      ],
      "source": [
        "# 교집합\n",
        "# set1.intersection(set2)\n",
        "# &\n",
        "set1&set2"
      ]
    },
    {
      "cell_type": "code",
      "execution_count": null,
      "metadata": {
        "id": "UOuMLqnDb0N4",
        "outputId": "cde52410-6254-445c-f7f0-9cea77801e45"
      },
      "outputs": [
        {
          "data": {
            "text/plain": [
              "{1, 2, 3, 4, 5}"
            ]
          },
          "execution_count": 7,
          "metadata": {},
          "output_type": "execute_result"
        }
      ],
      "source": [
        "# 합집합\n",
        "# set1.union(set2)\n",
        "# |\n",
        "set1|set2"
      ]
    },
    {
      "cell_type": "code",
      "execution_count": null,
      "metadata": {
        "id": "mJiVBOpWb0N5",
        "outputId": "38e12b05-4ffd-48ac-dfdc-7cb2c81418ea"
      },
      "outputs": [
        {
          "data": {
            "text/plain": [
              "{1}"
            ]
          },
          "execution_count": 8,
          "metadata": {},
          "output_type": "execute_result"
        }
      ],
      "source": [
        "# 차집합\n",
        "# set1.difference(set2)\n",
        "# -\n",
        "set1-set2"
      ]
    },
    {
      "cell_type": "markdown",
      "source": [
        "# 리스트, 튜플, 세트 간 타입 변환\n",
        "- list(), tuple(), set()을 이용해 서로 변환\n"
      ],
      "metadata": {
        "id": "yrjsKteHcUfK"
      }
    },
    {
      "cell_type": "code",
      "execution_count": null,
      "metadata": {
        "id": "RxDRfYMUb0N5"
      },
      "outputs": [],
      "source": [
        "a = [1,2,3,4,5]\n",
        "type(a)"
      ]
    },
    {
      "cell_type": "code",
      "source": [
        "b = tuple(a)\n",
        "b"
      ],
      "metadata": {
        "id": "IgaVUoWecfBF"
      },
      "execution_count": null,
      "outputs": []
    },
    {
      "cell_type": "code",
      "source": [
        "type(b)\n",
        "tuple"
      ],
      "metadata": {
        "id": "FwU60Us-cirz"
      },
      "execution_count": null,
      "outputs": []
    },
    {
      "cell_type": "code",
      "source": [
        "c = set(a)\n",
        "c\n"
      ],
      "metadata": {
        "id": "OK6aTpIeckIi"
      },
      "execution_count": null,
      "outputs": []
    },
    {
      "cell_type": "code",
      "source": [
        "type(c)"
      ],
      "metadata": {
        "id": "TetO8QWAcmek"
      },
      "execution_count": null,
      "outputs": []
    },
    {
      "cell_type": "code",
      "source": [
        "list(b)"
      ],
      "metadata": {
        "id": "Pt_8mhwzcnVn"
      },
      "execution_count": null,
      "outputs": []
    },
    {
      "cell_type": "code",
      "source": [
        "list(c)"
      ],
      "metadata": {
        "id": "BYnQ7krncozI"
      },
      "execution_count": null,
      "outputs": []
    }
  ],
  "metadata": {
    "kernelspec": {
      "display_name": "Python 3",
      "language": "python",
      "name": "python3"
    },
    "language_info": {
      "codemirror_mode": {
        "name": "ipython",
        "version": 3
      },
      "file_extension": ".py",
      "mimetype": "text/x-python",
      "name": "python",
      "nbconvert_exporter": "python",
      "pygments_lexer": "ipython3",
      "version": "3.7.6"
    },
    "toc": {
      "base_numbering": 1,
      "nav_menu": {},
      "number_sections": false,
      "sideBar": true,
      "skip_h1_title": false,
      "title_cell": "Table of Contents",
      "title_sidebar": "Contents",
      "toc_cell": false,
      "toc_position": {},
      "toc_section_display": true,
      "toc_window_display": false
    },
    "colab": {
      "provenance": [],
      "include_colab_link": true
    }
  },
  "nbformat": 4,
  "nbformat_minor": 0
}