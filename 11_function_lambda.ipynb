{
  "nbformat": 4,
  "nbformat_minor": 0,
  "metadata": {
    "colab": {
      "private_outputs": true,
      "provenance": [],
      "toc_visible": true,
      "authorship_tag": "ABX9TyMtjcrjObn90NQCX8gvoxXW",
      "include_colab_link": true
    },
    "kernelspec": {
      "name": "python3",
      "display_name": "Python 3"
    },
    "language_info": {
      "name": "python"
    }
  },
  "cells": [
    {
      "cell_type": "markdown",
      "metadata": {
        "id": "view-in-github",
        "colab_type": "text"
      },
      "source": [
        "<a href=\"https://colab.research.google.com/github/zzhining/python_basic/blob/master/11_function_lambda.ipynb\" target=\"_parent\"><img src=\"https://colab.research.google.com/assets/colab-badge.svg\" alt=\"Open In Colab\"/></a>"
      ]
    },
    {
      "cell_type": "markdown",
      "source": [
        "# 함수\n",
        "- 함수 (function)는 특정 기능을 수행하는 코드의 묶음\n",
        "- 함수를 이용하면 같은 기능을 수행하는 코드를  반복해서 작성할 필요가 없음\n",
        "- 코드가 깔끔해지고 한번 만든 코드를 재사용할 수 있어서 코드를 작성하기가 편해짐\n",
        "- 내장 함수의 예: print(), type()\n"
      ],
      "metadata": {
        "id": "q79nAeAe3Zsy"
      }
    },
    {
      "cell_type": "markdown",
      "source": [
        "# 함수의 기본 구조\n",
        "- **인자**: 입력값\n",
        "    - 인자를 통해 함수에 값을 전달\n",
        "- **반환 값**: 결과값\n",
        "---\n",
        "- **함수 정의**: 함수 만들기\n",
        "- **함수 호출**: 정의된 함수 부르기\n"
      ],
      "metadata": {
        "id": "j7dLpGOq3gMw"
      }
    },
    {
      "cell_type": "markdown",
      "source": [
        "#함수의 구조\n",
        "```\n",
        "def 함수명([인자1, 인자2, ··· , 인자n]):\n",
        "  <코드 블록>\n",
        "  [return <반환 값>]\n",
        "```\n",
        "---\n",
        "# 함수의 형태\n",
        "- 인자도 반환 값도 없는  함수\n",
        "- 인자는 있으나 반환 값이 없는  함수\n",
        "- 인자도 있고 반환 값도 있는  함수\n"
      ],
      "metadata": {
        "id": "KKmktB7B3vP5"
      }
    },
    {
      "cell_type": "markdown",
      "source": [
        "\n",
        "## 인자도 반환 값도 없는 함수\n"
      ],
      "metadata": {
        "id": "6wD8G3Eu4Fyy"
      }
    },
    {
      "cell_type": "markdown",
      "source": [
        "함수 정의"
      ],
      "metadata": {
        "id": "cdAcUZQO34Y3"
      }
    },
    {
      "cell_type": "code",
      "source": [
        "def my_func():\n",
        "    print(\"My first function!\")\n",
        "    print(\"This is a function.\")"
      ],
      "metadata": {
        "id": "cCDWNZ0E37X9"
      },
      "execution_count": null,
      "outputs": []
    },
    {
      "cell_type": "markdown",
      "source": [
        "함수 호출\n"
      ],
      "metadata": {
        "id": "hL9-DDC735f1"
      }
    },
    {
      "cell_type": "code",
      "source": [
        "my_func()"
      ],
      "metadata": {
        "id": "q65SBezc4BI3"
      },
      "execution_count": null,
      "outputs": []
    },
    {
      "cell_type": "markdown",
      "source": [
        "## 인자는 있으나 반환 값이 없는 함수"
      ],
      "metadata": {
        "id": "tHgjq6k73_mO"
      }
    },
    {
      "cell_type": "markdown",
      "source": [
        "함수 정의"
      ],
      "metadata": {
        "id": "RHsKrMDO4I7m"
      }
    },
    {
      "cell_type": "code",
      "source": [
        "def my_friend(friendName):\n",
        "    print(\"{}는 나의 친구입니다.\".format(friendName))"
      ],
      "metadata": {
        "id": "_4D7eIde4JIm"
      },
      "execution_count": null,
      "outputs": []
    },
    {
      "cell_type": "markdown",
      "source": [
        "함수 호출"
      ],
      "metadata": {
        "id": "YuP1B50y4Hge"
      }
    },
    {
      "cell_type": "code",
      "execution_count": null,
      "metadata": {
        "id": "WXDAJ0dNxhoj"
      },
      "outputs": [],
      "source": [
        "my_friend(\"철수\")\n",
        "my_friend(\"영미\")"
      ]
    },
    {
      "cell_type": "markdown",
      "source": [
        "## 인자도 있고 반환 값도 있는 함수\n"
      ],
      "metadata": {
        "id": "LEjKYjDb4sCg"
      }
    },
    {
      "cell_type": "markdown",
      "source": [
        "함수 정의"
      ],
      "metadata": {
        "id": "nEqlcPlu4t5s"
      }
    },
    {
      "cell_type": "code",
      "source": [
        "def my_calc(x,y):\n",
        "    z = x * y\n",
        "    return z"
      ],
      "metadata": {
        "id": "BmeUflXe4w9L"
      },
      "execution_count": null,
      "outputs": []
    },
    {
      "cell_type": "markdown",
      "source": [
        "함수 호출"
      ],
      "metadata": {
        "id": "bQc5LzHt4ww5"
      }
    },
    {
      "cell_type": "code",
      "source": [
        "my_calc(3,4)"
      ],
      "metadata": {
        "id": "UVqa5Irk41BM"
      },
      "execution_count": null,
      "outputs": []
    },
    {
      "cell_type": "markdown",
      "source": [
        "----"
      ],
      "metadata": {
        "id": "X3gOEVjR6R0e"
      }
    },
    {
      "cell_type": "markdown",
      "source": [
        "# 변수의 유효 범위\n",
        "- 함수 안에서 정의한 (혹은 생성한) 변수는 함수 안에서만 사용할 수 있음\n",
        "- 함수 안에서 생성한 변수는 함수를 호출해 실행되는 동안만 사용할 수 있고 함수 실행이 끝나면 더는 사용할 수 없음\n",
        "- 지역 변수 (local variable) vs 전역 변수 (global variable)"
      ],
      "metadata": {
        "id": "aXxbx9GN4u7d"
      }
    },
    {
      "cell_type": "markdown",
      "source": [
        "같은 이름의 변수를 지역 변수와 전역 변수로 모두 사용한 예"
      ],
      "metadata": {
        "id": "HAgOisNL5YB2"
      }
    },
    {
      "cell_type": "code",
      "source": [
        "a = 5 # 전역 변수\n",
        "def func1():\n",
        "    a = 1 # 지역 변수. func1()에서만 사용\n",
        "    print(\"[func1] 지역 변수 a =\", a)\n",
        "def func2():\n",
        "    a = 2 # 지역 변수. func2()에서만 사용\n",
        "    print(\"[func2] 지역 변수 a =\", a)\n",
        "\n",
        "def func3():\n",
        "    print(\"[func3] 전역 변수 a =\", a)\n",
        "\n",
        "def func4():\n",
        "    global a   # 함수 내에서 전역 변수를 변경하기 위해 선언\n",
        "    a = 4      # 전역 변수의 값 변경\n",
        "    print(\"[func4] 전역 변수 a =\",a)"
      ],
      "metadata": {
        "id": "vQkF94Vj5a9g"
      },
      "execution_count": null,
      "outputs": []
    },
    {
      "cell_type": "markdown",
      "source": [
        "앞서 정의한 각 함수를 호출"
      ],
      "metadata": {
        "id": "55urz6Fd5W_l"
      }
    },
    {
      "cell_type": "code",
      "source": [
        "func1() #함수 func1() 호출\n",
        "func2() #함수 func2() 호출\n",
        "print(\"전역 변수 a =\", a) # 전역 변수 출력"
      ],
      "metadata": {
        "id": "bHG8HVWo5kbb"
      },
      "execution_count": null,
      "outputs": []
    },
    {
      "cell_type": "code",
      "source": [
        "func3() #함수 func3() 호출\n",
        "func4() #함수 func4() 호출\n",
        "func3() #함수 func3() 호출"
      ],
      "metadata": {
        "id": "mdTwEc3-5qP-"
      },
      "execution_count": null,
      "outputs": []
    },
    {
      "cell_type": "markdown",
      "source": [
        "----"
      ],
      "metadata": {
        "id": "Lr6AQM8y6PxO"
      }
    },
    {
      "cell_type": "markdown",
      "source": [
        "# 람다(lambda)\n",
        "- 한 줄로 함수를 표현\n",
        "```\n",
        "lambda <인자> : <인자 활용 수행 코드>\n",
        "(lambda <인자> : <인자 활용 수행 코드>) (<인자>)\n",
        "```"
      ],
      "metadata": {
        "id": "UD9xeNkH5g8y"
      }
    },
    {
      "cell_type": "markdown",
      "source": [
        "## 람다 함수의 사용\n",
        "```\n",
        "lambda_function = lambda <인자> : <인자 활용 수행 코드>\n",
        "lambda_function(<인자>)\n",
        "```\n"
      ],
      "metadata": {
        "id": "V-ekQ4Bn5wFC"
      }
    },
    {
      "cell_type": "markdown",
      "source": [
        "람다 함수 호출\n"
      ],
      "metadata": {
        "id": "aGcaVrl750jV"
      }
    },
    {
      "cell_type": "code",
      "source": [
        "(lambda x : x**2) (3)"
      ],
      "metadata": {
        "id": "lvNeBWSM55Yw"
      },
      "execution_count": null,
      "outputs": []
    },
    {
      "cell_type": "markdown",
      "source": [
        "람다 함수를 변수에 할당한 후에 인자를 입력해서 호출"
      ],
      "metadata": {
        "id": "B2Q2KpCS54IH"
      }
    },
    {
      "cell_type": "code",
      "source": [
        "mySquare = lambda x : x**2\n",
        "mySquare(2)"
      ],
      "metadata": {
        "id": "bNNQmrFo59UV"
      },
      "execution_count": null,
      "outputs": []
    },
    {
      "cell_type": "markdown",
      "source": [
        "여러 개의 인자를 입력받아 연산 결과를 반환하는 람다 함수\n"
      ],
      "metadata": {
        "id": "yBw9cnwp578W"
      }
    },
    {
      "cell_type": "code",
      "source": [
        "mySimpleFunc = lambda x,y,z : 2*x + 3*y + z\n",
        "mySimpleFunc(1,2,3)"
      ],
      "metadata": {
        "id": "6GhBEbP_6Cgu"
      },
      "execution_count": null,
      "outputs": []
    }
  ]
}