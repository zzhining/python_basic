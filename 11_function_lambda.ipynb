{
  "nbformat": 4,
  "nbformat_minor": 0,
  "metadata": {
    "colab": {
      "private_outputs": true,
      "provenance": [],
      "toc_visible": true,
      "authorship_tag": "ABX9TyN2aOeTHcY5ZHrOy1megfWQ",
      "include_colab_link": true
    },
    "kernelspec": {
      "name": "python3",
      "display_name": "Python 3"
    },
    "language_info": {
      "name": "python"
    }
  },
  "cells": [
    {
      "cell_type": "markdown",
      "metadata": {
        "id": "view-in-github",
        "colab_type": "text"
      },
      "source": [
        "<a href=\"https://colab.research.google.com/github/zzhining/python_basic/blob/master/11_function_lambda.ipynb\" target=\"_parent\"><img src=\"https://colab.research.google.com/assets/colab-badge.svg\" alt=\"Open In Colab\"/></a>"
      ]
    },
    {
      "cell_type": "markdown",
      "source": [
        "# 함수\n",
        "- 함수 (function)는 특정 기능을 수행하는 코드의 묶음\n",
        "- 함수를 이용하면 같은 기능을 수행하는 코드를  반복해서 작성할 필요가 없음\n",
        "- 코드가 깔끔해지고 한번 만든 코드를 재사용할 수 있어서 코드를 작성하기가 편해짐\n",
        "- 내장 함수의 예: print(), type()\n"
      ],
      "metadata": {
        "id": "q79nAeAe3Zsy"
      }
    },
    {
      "cell_type": "markdown",
      "source": [
        "# 함수의 기본 구조\n",
        "- **인자**: 입력값\n",
        "    - 인자를 통해 함수에 값을 전달\n",
        "- **반환 값**: 결과값\n",
        "---\n",
        "- **함수 정의**: 함수 만들기\n",
        "- **함수 호출**: 정의된 함수 부르기\n"
      ],
      "metadata": {
        "id": "j7dLpGOq3gMw"
      }
    },
    {
      "cell_type": "markdown",
      "source": [
        "#함수의 구조\n",
        "```\n",
        "def 함수명([인자1, 인자2, ··· , 인자n]):\n",
        "  <코드 블록>\n",
        "  [return <반환 값>]\n",
        "```\n",
        "---\n",
        "# 함수의 형태\n",
        "- 인자도 반환 값도 없는  함수\n",
        "- 인자는 있으나 반환 값이 없는  함수\n",
        "- 인자도 있고 반환 값도 있는  함수\n"
      ],
      "metadata": {
        "id": "KKmktB7B3vP5"
      }
    },
    {
      "cell_type": "markdown",
      "source": [
        "\n",
        "## 인자도 반환 값도 없는 함수\n"
      ],
      "metadata": {
        "id": "6wD8G3Eu4Fyy"
      }
    },
    {
      "cell_type": "markdown",
      "source": [
        "함수 정의"
      ],
      "metadata": {
        "id": "cdAcUZQO34Y3"
      }
    },
    {
      "cell_type": "code",
      "source": [
        "def my_func():\n",
        "    print(\"My first function!\")\n",
        "    print(\"This is a function.\")"
      ],
      "metadata": {
        "id": "cCDWNZ0E37X9"
      },
      "execution_count": null,
      "outputs": []
    },
    {
      "cell_type": "markdown",
      "source": [
        "함수 호출\n"
      ],
      "metadata": {
        "id": "hL9-DDC735f1"
      }
    },
    {
      "cell_type": "code",
      "source": [
        "my_func()"
      ],
      "metadata": {
        "id": "q65SBezc4BI3"
      },
      "execution_count": null,
      "outputs": []
    },
    {
      "cell_type": "markdown",
      "source": [
        "## 인자는 있으나 반환 값이 없는 함수"
      ],
      "metadata": {
        "id": "tHgjq6k73_mO"
      }
    },
    {
      "cell_type": "markdown",
      "source": [
        "함수 정의"
      ],
      "metadata": {
        "id": "RHsKrMDO4I7m"
      }
    },
    {
      "cell_type": "code",
      "source": [
        "def my_friend(friendName):\n",
        "    print(\"{}는 나의 친구입니다.\".format(friendName))"
      ],
      "metadata": {
        "id": "_4D7eIde4JIm"
      },
      "execution_count": null,
      "outputs": []
    },
    {
      "cell_type": "markdown",
      "source": [
        "함수 호출"
      ],
      "metadata": {
        "id": "YuP1B50y4Hge"
      }
    },
    {
      "cell_type": "code",
      "execution_count": null,
      "metadata": {
        "id": "WXDAJ0dNxhoj"
      },
      "outputs": [],
      "source": [
        "my_friend(\"철수\")\n",
        "my_friend(\"영미\")"
      ]
    },
    {
      "cell_type": "markdown",
      "source": [
        "## 인자도 있고 반환 값도 있는 함수\n"
      ],
      "metadata": {
        "id": "LEjKYjDb4sCg"
      }
    },
    {
      "cell_type": "markdown",
      "source": [
        "함수 정의"
      ],
      "metadata": {
        "id": "nEqlcPlu4t5s"
      }
    },
    {
      "cell_type": "code",
      "source": [
        "def my_calc(x,y):\n",
        "    z = x * y\n",
        "    return z"
      ],
      "metadata": {
        "id": "BmeUflXe4w9L"
      },
      "execution_count": null,
      "outputs": []
    },
    {
      "cell_type": "markdown",
      "source": [
        "함수 호출"
      ],
      "metadata": {
        "id": "bQc5LzHt4ww5"
      }
    },
    {
      "cell_type": "code",
      "source": [
        "my_calc(3,4)"
      ],
      "metadata": {
        "id": "UVqa5Irk41BM"
      },
      "execution_count": null,
      "outputs": []
    },
    {
      "cell_type": "markdown",
      "source": [
        "----"
      ],
      "metadata": {
        "id": "X3gOEVjR6R0e"
      }
    },
    {
      "cell_type": "markdown",
      "source": [
        "# 변수의 유효 범위\n",
        "- 함수 안에서 정의한 (혹은 생성한) 변수는 함수 안에서만 사용할 수 있음\n",
        "- 함수 안에서 생성한 변수는 함수를 호출해 실행되는 동안만 사용할 수 있고 함수 실행이 끝나면 더는 사용할 수 없음\n",
        "- 지역 변수 (local variable) vs 전역 변수 (global variable)"
      ],
      "metadata": {
        "id": "aXxbx9GN4u7d"
      }
    },
    {
      "cell_type": "markdown",
      "source": [
        "같은 이름의 변수를 지역 변수와 전역 변수로 모두 사용한 예"
      ],
      "metadata": {
        "id": "HAgOisNL5YB2"
      }
    },
    {
      "cell_type": "code",
      "source": [
        "a = 5 # 전역 변수\n",
        "def func1():\n",
        "    a = 1 # 지역 변수. func1()에서만 사용\n",
        "    print(\"[func1] 지역 변수 a =\", a)\n",
        "def func2():\n",
        "    a = 2 # 지역 변수. func2()에서만 사용\n",
        "    print(\"[func2] 지역 변수 a =\", a)\n",
        "\n",
        "def func3():\n",
        "    print(\"[func3] 전역 변수 a =\", a)\n",
        "\n",
        "def func4():\n",
        "    global a   # 함수 내에서 전역 변수를 변경하기 위해 선언\n",
        "    a = 4      # 전역 변수의 값 변경\n",
        "    print(\"[func4] 전역 변수 a =\",a)"
      ],
      "metadata": {
        "id": "vQkF94Vj5a9g"
      },
      "execution_count": null,
      "outputs": []
    },
    {
      "cell_type": "markdown",
      "source": [
        "앞서 정의한 각 함수를 호출"
      ],
      "metadata": {
        "id": "55urz6Fd5W_l"
      }
    },
    {
      "cell_type": "code",
      "source": [
        "func1() #함수 func1() 호출\n",
        "func2() #함수 func2() 호출\n",
        "print(\"전역 변수 a =\", a) # 전역 변수 출력"
      ],
      "metadata": {
        "id": "bHG8HVWo5kbb"
      },
      "execution_count": null,
      "outputs": []
    },
    {
      "cell_type": "code",
      "source": [
        "func3() #함수 func3() 호출\n",
        "func4() #함수 func4() 호출\n",
        "func3() #함수 func3() 호출"
      ],
      "metadata": {
        "id": "mdTwEc3-5qP-"
      },
      "execution_count": null,
      "outputs": []
    },
    {
      "cell_type": "markdown",
      "source": [
        "----"
      ],
      "metadata": {
        "id": "Lr6AQM8y6PxO"
      }
    },
    {
      "cell_type": "markdown",
      "source": [
        "# 람다(lambda)\n",
        "- 한 줄로 함수를 표현\n",
        "```\n",
        "lambda <인자> : <인자 활용 수행 코드>\n",
        "(lambda <인자> : <인자 활용 수행 코드>) (<인자>)\n",
        "```"
      ],
      "metadata": {
        "id": "UD9xeNkH5g8y"
      }
    },
    {
      "cell_type": "markdown",
      "source": [
        "## 람다 함수의 사용\n",
        "```\n",
        "lambda_function = lambda <인자> : <인자 활용 수행 코드>\n",
        "lambda_function(<인자>)\n",
        "```\n"
      ],
      "metadata": {
        "id": "V-ekQ4Bn5wFC"
      }
    },
    {
      "cell_type": "markdown",
      "source": [
        "람다 함수 호출\n"
      ],
      "metadata": {
        "id": "aGcaVrl750jV"
      }
    },
    {
      "cell_type": "code",
      "source": [
        "(lambda x : x**2) (3)"
      ],
      "metadata": {
        "id": "lvNeBWSM55Yw"
      },
      "execution_count": null,
      "outputs": []
    },
    {
      "cell_type": "markdown",
      "source": [
        "람다 함수를 변수에 할당한 후에 인자를 입력해서 호출"
      ],
      "metadata": {
        "id": "B2Q2KpCS54IH"
      }
    },
    {
      "cell_type": "code",
      "source": [
        "mySquare = lambda x : x**2\n",
        "mySquare(2)"
      ],
      "metadata": {
        "id": "bNNQmrFo59UV"
      },
      "execution_count": null,
      "outputs": []
    },
    {
      "cell_type": "markdown",
      "source": [
        "여러 개의 인자를 입력받아 연산 결과를 반환하는 람다 함수\n"
      ],
      "metadata": {
        "id": "yBw9cnwp578W"
      }
    },
    {
      "cell_type": "code",
      "source": [
        "mySimpleFunc = lambda x,y,z : 2*x + 3*y + z\n",
        "mySimpleFunc(1,2,3)"
      ],
      "metadata": {
        "id": "6GhBEbP_6Cgu"
      },
      "execution_count": null,
      "outputs": []
    },
    {
      "cell_type": "markdown",
      "source": [
        "#유용한 내장 함수"
      ],
      "metadata": {
        "id": "hH-Ju-046nMa"
      }
    },
    {
      "cell_type": "markdown",
      "source": [
        "## 형 변환 함수"
      ],
      "metadata": {
        "id": "N9W2vC-77REQ"
      }
    },
    {
      "cell_type": "markdown",
      "source": [
        "\n",
        "###정수형으로 변환: int()"
      ],
      "metadata": {
        "id": "ad720dkQLiI9"
      }
    },
    {
      "cell_type": "code",
      "source": [
        " [int(0.123), int(3.5123456), int(-1.312367)]"
      ],
      "metadata": {
        "id": "swtW1qSd7YVP"
      },
      "execution_count": null,
      "outputs": []
    },
    {
      "cell_type": "markdown",
      "source": [
        "### 실수형으로 변환: float()\n"
      ],
      "metadata": {
        "id": "FWCPrah37VlT"
      }
    },
    {
      "cell_type": "code",
      "source": [
        "[float(0), float(123), float(-567)]"
      ],
      "metadata": {
        "id": "w1BuzOZ97jpx"
      },
      "execution_count": null,
      "outputs": []
    },
    {
      "cell_type": "markdown",
      "source": [
        "### 문자형으로 변환\n"
      ],
      "metadata": {
        "id": "HXQlE2Cx7hfW"
      }
    },
    {
      "cell_type": "code",
      "source": [
        "[str(123), str(459678), str(-987)]"
      ],
      "metadata": {
        "id": "ycBmobe27yZY"
      },
      "execution_count": null,
      "outputs": []
    },
    {
      "cell_type": "markdown",
      "source": [
        "### 리스트, 튜플, 세트형으로  변환\n",
        "- list()\t튜플/세트  데이터를  리스트로 변환\n",
        "- tuple()\t리스트/세트  데이터를  튜플로 변환\n",
        "- set()\t리스트/튜플  데이터를  세트로 변환"
      ],
      "metadata": {
        "id": "-KjyA3xe7vYj"
      }
    },
    {
      "cell_type": "code",
      "source": [
        "list_data = ['abc', 1, 2, 'def']\n",
        "tuple_data = ('abc', 1, 2, 'def')\n",
        "set_data = {'abc', 1, 2, 'def'}\n",
        "\n",
        "# 각 데이터 타입 확인\n",
        "[type(list_data), type(tuple_data), type(set_data)]"
      ],
      "metadata": {
        "id": "fL6SqqebIx_q"
      },
      "execution_count": null,
      "outputs": []
    },
    {
      "cell_type": "code",
      "source": [
        "# list() 함수를 이용해 리스트로 변환\n",
        "print(\"리스트로 변환: \", list(tuple_data), list(set_data))\n",
        "\n",
        "# tuple() 함수로 튜플로 변환하겠습니다.\n",
        "print(\"튜플로 변환:\", tuple(list_data), tuple(set_data))\n",
        "\n",
        "# set() 함수를 이용해 세트로 변환\n",
        "print(\"세트로 변환:\", set(list_data), set(tuple_data))"
      ],
      "metadata": {
        "id": "JgGA_WhGI4Uy"
      },
      "execution_count": null,
      "outputs": []
    },
    {
      "cell_type": "markdown",
      "source": [
        "### bool 함수\n",
        "- True 혹은 False의 결과를  반환\n",
        "- 숫자를 인자로 bool 함수 호출\n",
        "    - 숫자 0이면 False, 0 이외의 숫자이면 True를 반환\n",
        "- 문자열을 인자로 bool 함수 호출\n",
        "    - 문자열이 있으면 True를 반환, 없으면 False를 반환"
      ],
      "metadata": {
        "id": "AD6TxwDJJGIY"
      }
    },
    {
      "cell_type": "code",
      "source": [
        "bool(0) # 인자: 숫자 0"
      ],
      "metadata": {
        "id": "wd5yfBkkJFbx"
      },
      "execution_count": null,
      "outputs": []
    },
    {
      "cell_type": "code",
      "source": [
        "# 0 이외의 숫자를 인자로 삼아 bool() 함수를 호출\n",
        "bool(1) # 인자: 양의 정수"
      ],
      "metadata": {
        "id": "M5SWAUlQJVvd"
      },
      "execution_count": null,
      "outputs": []
    },
    {
      "cell_type": "code",
      "source": [
        "bool(-10) # 인자: 음의 정수"
      ],
      "metadata": {
        "id": "EAPY9LxfJWuv"
      },
      "execution_count": null,
      "outputs": []
    },
    {
      "cell_type": "code",
      "source": [
        "bool(5.12) # 인자: 양의 실수"
      ],
      "metadata": {
        "id": "fey-gFbZJXxn"
      },
      "execution_count": null,
      "outputs": []
    },
    {
      "cell_type": "code",
      "source": [
        "bool(-3.26) # 인자: 음의 실수"
      ],
      "metadata": {
        "id": "HoNl8D84JY3_"
      },
      "execution_count": null,
      "outputs": []
    },
    {
      "cell_type": "code",
      "source": [
        "bool('a') # 인자: 문자열 'a'"
      ],
      "metadata": {
        "id": "6xISCUgSJn-V"
      },
      "execution_count": null,
      "outputs": []
    },
    {
      "cell_type": "code",
      "source": [
        "bool(' ') # 인자: 빈 문자열(공백)"
      ],
      "metadata": {
        "id": "7_AEag5nJsbf"
      },
      "execution_count": null,
      "outputs": []
    },
    {
      "cell_type": "code",
      "source": [
        "bool('') # 인자: 문자열 없음"
      ],
      "metadata": {
        "id": "sbhR4s3zJtPL"
      },
      "execution_count": null,
      "outputs": []
    },
    {
      "cell_type": "code",
      "source": [
        "bool(None) #인자: None"
      ],
      "metadata": {
        "id": "nHjEMjIXJtpd"
      },
      "execution_count": null,
      "outputs": []
    },
    {
      "cell_type": "markdown",
      "source": [
        "리스트는 항목이 있으면 True, 없으면 False를 반환"
      ],
      "metadata": {
        "id": "qoUcyzCVJcYV"
      }
    },
    {
      "cell_type": "code",
      "source": [
        "myFriends = []\n",
        "bool(myFriends) # 인자: 항목이 없는 빈 리스트"
      ],
      "metadata": {
        "id": "tJgKB2FtJy83"
      },
      "execution_count": null,
      "outputs": []
    },
    {
      "cell_type": "code",
      "source": [
        "# 항목이 있는 리스트를 인자로 bool() 함수를 호출\n",
        "myFriends = ['James', 'Robert', 'Lisa', 'Mary']\n",
        "bool(myFriends) # 인자: 항목이 있는 리스트"
      ],
      "metadata": {
        "id": "iZsKnTy1J4Tr"
      },
      "execution_count": null,
      "outputs": []
    },
    {
      "cell_type": "code",
      "source": [
        "# 항목이 없는 튜플과 있는 튜플을 인자로 bool() 함수를 호출\n",
        "myNum = ()\n",
        "bool(myNum) # 인자: 항목이 없는 빈 튜플"
      ],
      "metadata": {
        "id": "ZgTRA0KeJ714"
      },
      "execution_count": null,
      "outputs": []
    },
    {
      "cell_type": "code",
      "source": [
        "myNum = (1,2,3)\n",
        "bool(myNum) # 인자: 항목이 있는 튜플"
      ],
      "metadata": {
        "id": "Y0nqjEKNJ-8A"
      },
      "execution_count": null,
      "outputs": []
    },
    {
      "cell_type": "code",
      "source": [
        "# 항목 유무에 따라 다음과 같이 각각 False와 True를 반환\n",
        "mySetA = {}\n",
        "bool(mySetA) # 인자: 항목이 없는 빈 세트"
      ],
      "metadata": {
        "id": "SAlWC_41KETO"
      },
      "execution_count": null,
      "outputs": []
    },
    {
      "cell_type": "code",
      "source": [
        "mySetA = {10,20,30}\n",
        "bool(mySetA) # 인자: 항목이 있는 세트"
      ],
      "metadata": {
        "id": "lVSSvf63KGYu"
      },
      "execution_count": null,
      "outputs": []
    },
    {
      "cell_type": "markdown",
      "source": [
        "⭐ **bool 함수의 활용 **⭐ <br>\n",
        "name 인자에 문자열이 있으면 이름을 출력하고, 없으면 입력된 문자열이 없다고 출력하는 예\n"
      ],
      "metadata": {
        "id": "LG4lUzk1Iom-"
      }
    },
    {
      "cell_type": "code",
      "source": [
        "def print_name(name):\n",
        "    if bool(name):\n",
        "        print(\"입력된 이름:\", name)\n",
        "    else:\n",
        "        print(\"입력된 이름이 없습니다.\")"
      ],
      "metadata": {
        "id": "l41bpy9eKQUq"
      },
      "execution_count": null,
      "outputs": []
    },
    {
      "cell_type": "code",
      "source": [
        "# print_name() 함수 호출\n",
        "print_name(\"James\")"
      ],
      "metadata": {
        "id": "YROlPjV1KXrs"
      },
      "execution_count": null,
      "outputs": []
    },
    {
      "cell_type": "code",
      "source": [
        "print_name(\"\")"
      ],
      "metadata": {
        "id": "_cw4HJyMKcXm"
      },
      "execution_count": null,
      "outputs": []
    },
    {
      "cell_type": "markdown",
      "source": [
        "## 최솟값과  최댓값을  구하는 함수\n",
        "- 내장 함수 min()과 max()를 이용\n"
      ],
      "metadata": {
        "id": "ppor3hSsKOKp"
      }
    },
    {
      "cell_type": "code",
      "source": [
        "myNum = [10, 5, 12, 0, 3.5, 99.5, 42]\n",
        "[min(myNum), max(myNum)]"
      ],
      "metadata": {
        "id": "GqMOWrDsKix6"
      },
      "execution_count": null,
      "outputs": []
    },
    {
      "cell_type": "code",
      "source": [
        "# 문자열에 대해서도 최솟값과 최댓값을 구하는 예\n",
        "myStr = 'zxyabc'\n",
        "[min(myStr), max(myStr)]"
      ],
      "metadata": {
        "id": "KZ1ckGqNKl88"
      },
      "execution_count": null,
      "outputs": []
    },
    {
      "cell_type": "code",
      "source": [
        "# 각각 튜플과 세트에서 최솟값과 최댓값을 구하는 예\n",
        "myNum = (10, 5, 12, 0, 3.5, 99.5, 42)\n",
        "[min(myNum), max(myNum)]"
      ],
      "metadata": {
        "id": "ZuC3yghgKqLa"
      },
      "execution_count": null,
      "outputs": []
    },
    {
      "cell_type": "code",
      "source": [
        "myNum = {\"Abc\", \"abc\", \"bcd\", \"efg\"}\n",
        "[min(myNum), max(myNum)]"
      ],
      "metadata": {
        "id": "rVMRW9G4KskH"
      },
      "execution_count": null,
      "outputs": []
    },
    {
      "cell_type": "markdown",
      "source": [
        "## 절댓값과 전체 합을 구하는 함수\n",
        "절댓값: 내장 함수 abs()를 이용\n"
      ],
      "metadata": {
        "id": "LPI9Gn7sKggZ"
      }
    },
    {
      "cell_type": "code",
      "source": [
        "[abs(10), abs(-10)]"
      ],
      "metadata": {
        "id": "ZFkQedl7K0Ky"
      },
      "execution_count": null,
      "outputs": []
    },
    {
      "cell_type": "code",
      "source": [
        "[abs(2.45), abs(-2.45)]"
      ],
      "metadata": {
        "id": "BCGQYAPFK3X6"
      },
      "execution_count": null,
      "outputs": []
    },
    {
      "cell_type": "markdown",
      "source": [
        "## 합계\n",
        "내장 함수 sum()을 이용"
      ],
      "metadata": {
        "id": "PcUNPcflKyV8"
      }
    },
    {
      "cell_type": "code",
      "source": [
        "sumList = [1, 2, 3, 4, 5, 6, 7, 8, 9, 10]\n",
        "sum(sumList)"
      ],
      "metadata": {
        "id": "D6_BuhZ3LBzT"
      },
      "execution_count": null,
      "outputs": []
    },
    {
      "cell_type": "markdown",
      "source": [
        "## 항목의 개수를 구하는 함수\n",
        "내장 함수 len()을 이용"
      ],
      "metadata": {
        "id": "SwXi4ocnK8Yp"
      }
    },
    {
      "cell_type": "code",
      "source": [
        "len(\"ab cd\") # 문자열\n",
        "len([1, 2, 3, 4, 5, 6, 7, 8]) # 리스트\n",
        "len((1, 2, 3, 4, 5)) # 튜플\n",
        "len({'a', 'b', 'c', 'd'}) # 세트\n",
        "len({1:\"Thomas\", 2:\"Edward\", 3:\"Henry\"}) # 딕셔너리"
      ],
      "metadata": {
        "id": "4uShc0jeLIGg"
      },
      "execution_count": null,
      "outputs": []
    },
    {
      "cell_type": "markdown",
      "source": [
        "시험 점수가 입력된 리스트를 대상으로 sum()과 len()을 이용해 데이터  항목의 총합과 길이, 평균값 계산\n"
      ],
      "metadata": {
        "id": "hmaVL_6HLEW-"
      }
    },
    {
      "cell_type": "code",
      "source": [
        "scores = [90, 80, 95, 85] # 과목별 시험 점수\n",
        "print(\"총점:{0}, 평균:{1}\".format(sum(scores), sum(scores)/len(scores)))"
      ],
      "metadata": {
        "id": "AAujKA_CJaCk"
      },
      "execution_count": null,
      "outputs": []
    },
    {
      "cell_type": "markdown",
      "source": [
        "\n",
        "\n",
        "\n",
        "\n",
        "시험 점수 중 최고점과 최하점 계산\n",
        "\n",
        "\n"
      ],
      "metadata": {
        "id": "74XsJJIGLVwY"
      }
    },
    {
      "cell_type": "code",
      "source": [
        "print(\"최하 점수:{0}, 최고 점수:{1}\".format(min(scores), max(scores)))"
      ],
      "metadata": {
        "id": "3i9SmR6PLTkr"
      },
      "execution_count": null,
      "outputs": []
    },
    {
      "cell_type": "code",
      "source": [],
      "metadata": {
        "id": "4RIQI3qBLYYl"
      },
      "execution_count": null,
      "outputs": []
    }
  ]
}