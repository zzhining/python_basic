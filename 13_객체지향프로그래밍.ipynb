{
 "cells": [
  {
   "cell_type": "markdown",
   "metadata": {},
   "source": [
    "# 객체지향프로그래밍(OOP)\n",
    "\n",
    "- 객체를 만들고 이용할 수 있는 기능을 제공하는 프로그래밍 언어\n",
    "\n",
    "### 객체\n",
    " - 속성과 행위로 구성\n",
    " - 속성: 특징, 상태\n",
    " - 행위: 할 수 있는 일(행동, 동작, 기능) -> 함수로 구현\n",
    " \n",
    "### 객체 만드는 방법\n",
    " 1. 클래스 선언(붕어빵 틀)\n",
    "     - 클래스: 객체를 만들기 위한 기본 틀\n",
    " 2. 객체 생성(붕어빵)\n",
    "     - 인스턴스(instance)\n",
    "     \n",
    "     \n",
    " "
   ]
  },
  {
   "cell_type": "markdown",
   "metadata": {},
   "source": [
    "# 예제: 자전거 클래스\n",
    "\n",
    "### 클래스 이름: Bicycle()\n",
    "#### 속성: 바퀴크기(wheelSize), 색상(color)\n",
    "#### 동작: 이동(move), 회전(turn), 정지(stop)"
   ]
  },
  {
   "cell_type": "code",
   "execution_count": 22,
   "metadata": {},
   "outputs": [],
   "source": [
    "class Bicycle():\n",
    "\n",
    "    count = 0\n",
    "    \n",
    "    def __init__(self, wheelSize, color):\n",
    "        self.wheelSize = wheelSize\n",
    "        self.color = color\n",
    "        Bicycle.count = Bicycle.count + 1\n",
    "        print(\"[init] count = {0}\".format(Bicycle.count))\n",
    "        \n",
    "    def move(self, speed):\n",
    "        print(\"[move] speed = {0}\".format(speed))\n",
    "    \n",
    "    def turn(self, direction):\n",
    "         print(\"[turn] direction = {0}\".format(direction))\n",
    "            \n",
    "    def stop(self):\n",
    "         print(\"[stop] wheelSize = {0}, color={1}\".format(self.wheelSize, self.color))"
   ]
  },
  {
   "cell_type": "code",
   "execution_count": 23,
   "metadata": {},
   "outputs": [
    {
     "name": "stdout",
     "output_type": "stream",
     "text": [
      "[init] count = 1\n"
     ]
    }
   ],
   "source": [
    "myBicycle = Bicycle(50, 'Blue')"
   ]
  },
  {
   "cell_type": "code",
   "execution_count": 24,
   "metadata": {},
   "outputs": [
    {
     "name": "stdout",
     "output_type": "stream",
     "text": [
      "[init] count = 2\n"
     ]
    }
   ],
   "source": [
    "myBicycle2 = Bicycle(20, 'Red')"
   ]
  },
  {
   "cell_type": "code",
   "execution_count": 18,
   "metadata": {},
   "outputs": [
    {
     "name": "stdout",
     "output_type": "stream",
     "text": [
      "[move] speed = 20\n"
     ]
    }
   ],
   "source": [
    "myBicycle.move(20)"
   ]
  },
  {
   "cell_type": "code",
   "execution_count": 19,
   "metadata": {},
   "outputs": [
    {
     "name": "stdout",
     "output_type": "stream",
     "text": [
      "[stop] wheelSize = 50, color=Blue\n"
     ]
    }
   ],
   "source": [
    "# myBicycle.wheelSize = 30\n",
    "# myBicycle.color = 'Red'\n",
    "myBicycle.stop()"
   ]
  },
  {
   "cell_type": "markdown",
   "metadata": {},
   "source": [
    "# 클래스에서 사용하는 함수\n",
    "\n",
    "1. 인스턴스 메서드(instance method)\n",
    "    - 각 객체에서 개별적으로 동작하는 함수를 만들고자 할 때 사용  \n",
    "    - 함수를 정의할 때 첫 인자로 self가 필요\n",
    "    - 인스턴스 메서드 안에서는 self.함수명() 형식으로 클래스 내의 다른 함수 호출\n",
    "    \n",
    "    \n",
    "2. 정적 메서드(static method)\n",
    "    - 클래스와 관련이 있어서 클래스 안에 두기는 하지만,클래스나 클래스의 인스턴스와는 무관하게 독립적으로 동작하는 함수\n",
    "    - self를 사용하지 않음\n",
    "    - 정적메서드 안에서는 클래스나 클래스 변수에 접근할 수 없음\n",
    "    - 데코레이터: @staticmethod\n",
    "    \n",
    "    \n",
    "3. 클래스 메서드(class method)\n",
    "    - 클래스 변수를 사용하기 위한 함수\n",
    "    - 함수를 정의할 때 첫 번째 인자로 클래스를 넘겨받는 cls가 필요\n",
    "    - 함수 앞에 데코레이터인 @classmethod를 지정\n",
    "    \n",
    "    ---------------\n",
    "\n",
    "# 자동차 클래스"
   ]
  },
  {
   "cell_type": "code",
   "execution_count": 33,
   "metadata": {},
   "outputs": [],
   "source": [
    "class Car():\n",
    "    instance_count = 0 # 클래스 변수 생성 및 초기화\n",
    "    \n",
    "    #초기화 함수(인스턴스 메서드)\n",
    "    def __init__(self, size, color):\n",
    "        self.size = size #인스턴스 변수 생성 및 초기화\n",
    "        self.color = color # 인스턴스 변수 생성 및 초기화\n",
    "        Car.instance_count = Car.instance_count + 1 # 클래스 변수\n",
    "        print(\"자동차 객체 수: {0}\".format(Car.instance_count))\n",
    "        \n",
    "    #인스턴스 메서드\n",
    "    def move(self, speed) :\n",
    "        self.speed = speed # 인스턴스 변수 생성\n",
    "        print(\"자동차 {0} & {1}가\".format(self.size, self.color), end='')\n",
    "        print(\"시속 {0}km로 전진\".format(self.speed))\n",
    "        \n",
    "    #인스턴스 메서드\n",
    "    def auto_cruise(self):\n",
    "        print(\"자율주행모드\")\n",
    "        self.move(self.speed) # 함수의 인자로 인스턴스 변수를 입력\n",
    "        \n",
    "    #정적메서드\n",
    "    @staticmethod\n",
    "    def check_type(model_code):\n",
    "        if(model_code > 20):\n",
    "            print(\"이 자동차는 전기차입니다\")\n",
    "        elif(10 <= model_code < 20) :\n",
    "            print(\"이 자동차는 가솔린차입니다\")\n",
    "        else:\n",
    "            print(\"이 자동차는 디젤차입니다\")\n",
    "            \n",
    "    #클래스메서드\n",
    "    @classmethod\n",
    "    def count_instance(cls):\n",
    "        print(\"자동차 객체의 개수: {0}\".format(cls.instance_count))"
   ]
  },
  {
   "cell_type": "code",
   "execution_count": 34,
   "metadata": {},
   "outputs": [
    {
     "name": "stdout",
     "output_type": "stream",
     "text": [
      "자동차 객체 수: 1\n",
      "자동차 객체 수: 2\n",
      "--\n",
      "자동차 small & red가시속 80km로 전진\n",
      "자동차 big & green가시속 100km로 전진\n",
      "--\n",
      "자율주행모드\n",
      "자동차 small & red가시속 80km로 전진\n",
      "자율주행모드\n",
      "자동차 big & green가시속 100km로 전진\n",
      "--\n"
     ]
    }
   ],
   "source": [
    "car1 = Car(\"small\", \"red\") # 객체생성(car1)\n",
    "car2 = Car(\"big\", \"green\") # 객체생성(car2)\n",
    "\n",
    "print(\"--\")\n",
    "car1.move(80) #객체(car1)의 move() 메서드 호출\n",
    "car2.move(100)#객체(Car2)의 move() 메서드 호출\n",
    "print(\"--\")\n",
    "car1.auto_cruise() #객체(car1)의 auto_cruise 메서드 호출\n",
    "car2.auto_cruise() #객체(car2)의 auto_cruise 메서드 호출\n",
    "print(\"--\")\n"
   ]
  },
  {
   "cell_type": "code",
   "execution_count": 35,
   "metadata": {},
   "outputs": [
    {
     "name": "stdout",
     "output_type": "stream",
     "text": [
      "이 자동차는 전기차입니다\n",
      "이 자동차는 디젤차입니다\n"
     ]
    }
   ],
   "source": [
    "Car.check_type(25)\n",
    "Car.check_type(2)"
   ]
  },
  {
   "cell_type": "code",
   "execution_count": 36,
   "metadata": {},
   "outputs": [
    {
     "name": "stdout",
     "output_type": "stream",
     "text": [
      "자동차 객체의 개수: 2\n"
     ]
    }
   ],
   "source": [
    "Car.count_instance()"
   ]
  },
  {
   "cell_type": "markdown",
   "metadata": {},
   "source": [
    "# 로봇 클래스"
   ]
  },
  {
   "cell_type": "code",
   "execution_count": 40,
   "metadata": {},
   "outputs": [],
   "source": [
    "robot_name = 'R1'\n",
    "robot_pos = 0\n",
    "\n",
    "def robot1_move():\n",
    "    global robot_pos\n",
    "    robot_pos = robot_pos + 1\n",
    "    print(\"{0} position: {1}\".format(robot_name, robot_pos))"
   ]
  },
  {
   "cell_type": "code",
   "execution_count": 38,
   "metadata": {},
   "outputs": [
    {
     "name": "stdout",
     "output_type": "stream",
     "text": [
      "R1 position: 1\n"
     ]
    }
   ],
   "source": [
    "robot_move()"
   ]
  },
  {
   "cell_type": "code",
   "execution_count": 41,
   "metadata": {},
   "outputs": [],
   "source": [
    "robot_name = 'R2'\n",
    "robot_pos = 10\n",
    "\n",
    "def robot2_move():\n",
    "    global robot_pos\n",
    "    robot_pos = robot_pos + 1\n",
    "    print(\"{0} position: {1}\".format(robot_name, robot_pos))"
   ]
  },
  {
   "cell_type": "code",
   "execution_count": 42,
   "metadata": {},
   "outputs": [
    {
     "name": "stdout",
     "output_type": "stream",
     "text": [
      "R2 position: 11\n"
     ]
    }
   ],
   "source": [
    "robot1_move()"
   ]
  },
  {
   "cell_type": "code",
   "execution_count": 43,
   "metadata": {},
   "outputs": [
    {
     "name": "stdout",
     "output_type": "stream",
     "text": [
      "R2 position: 12\n"
     ]
    }
   ],
   "source": [
    "robot2_move()"
   ]
  },
  {
   "cell_type": "markdown",
   "metadata": {},
   "source": [
    "# 상속"
   ]
  },
  {
   "cell_type": "code",
   "execution_count": 48,
   "metadata": {},
   "outputs": [],
   "source": [
    "class FoldingBicycle(Bicycle):\n",
    "    \n",
    "    def __init__(self, wheel_size, color, state):\n",
    "#         Bicycle.__init__(self, wheel_size, color)\n",
    "        super().__init__(wheel_size, color)\n",
    "        self.state = state\n",
    "        \n",
    "    def fold(self):\n",
    "        self.state='folding'\n",
    "        print(\"자전거: 접기, state={0}\".format(self.state))\n",
    "        \n",
    "    def unfold(self):\n",
    "        self.state='unfolding'\n",
    "        print(\"자전거: 펴기, state={0}\".format(self.state))"
   ]
  },
  {
   "cell_type": "code",
   "execution_count": 49,
   "metadata": {},
   "outputs": [
    {
     "name": "stdout",
     "output_type": "stream",
     "text": [
      "[init] count = 4\n"
     ]
    }
   ],
   "source": [
    "foldingBicylce = FoldingBicycle(27, 'white', 'unfolding')"
   ]
  },
  {
   "cell_type": "code",
   "execution_count": 50,
   "metadata": {},
   "outputs": [
    {
     "name": "stdout",
     "output_type": "stream",
     "text": [
      "[move] speed = 20\n"
     ]
    }
   ],
   "source": [
    "foldingBicylce.move(20)"
   ]
  },
  {
   "cell_type": "code",
   "execution_count": 51,
   "metadata": {},
   "outputs": [
    {
     "name": "stdout",
     "output_type": "stream",
     "text": [
      "자전거: 펴기, state=unfolding\n"
     ]
    }
   ],
   "source": [
    "foldingBicylce.unfold()"
   ]
  },
  {
   "cell_type": "code",
   "execution_count": null,
   "metadata": {},
   "outputs": [],
   "source": []
  }
 ],
 "metadata": {
  "kernelspec": {
   "display_name": "Python 3",
   "language": "python",
   "name": "python3"
  },
  "language_info": {
   "codemirror_mode": {
    "name": "ipython",
    "version": 3
   },
   "file_extension": ".py",
   "mimetype": "text/x-python",
   "name": "python",
   "nbconvert_exporter": "python",
   "pygments_lexer": "ipython3",
   "version": "3.7.6"
  },
  "toc": {
   "base_numbering": 1,
   "nav_menu": {},
   "number_sections": false,
   "sideBar": true,
   "skip_h1_title": false,
   "title_cell": "Table of Contents",
   "title_sidebar": "Contents",
   "toc_cell": false,
   "toc_position": {},
   "toc_section_display": true,
   "toc_window_display": false
  }
 },
 "nbformat": 4,
 "nbformat_minor": 4
}
