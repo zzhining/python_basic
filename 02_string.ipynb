{
  "nbformat": 4,
  "nbformat_minor": 0,
  "metadata": {
    "colab": {
      "provenance": [],
      "toc_visible": true,
      "authorship_tag": "ABX9TyOxObNK0VtD3OLbeQ6T4I3U",
      "include_colab_link": true
    },
    "kernelspec": {
      "name": "python3",
      "display_name": "Python 3"
    },
    "language_info": {
      "name": "python"
    }
  },
  "cells": [
    {
      "cell_type": "markdown",
      "metadata": {
        "id": "view-in-github",
        "colab_type": "text"
      },
      "source": [
        "<a href=\"https://colab.research.google.com/github/zzhining/python_basic/blob/master/02_string.ipynb\" target=\"_parent\"><img src=\"https://colab.research.google.com/assets/colab-badge.svg\" alt=\"Open In Colab\"/></a>"
      ]
    },
    {
      "cell_type": "markdown",
      "source": [
        "# 문자열\n",
        "\n",
        "- 문자열: 파이썬에서는 따옴표로 둘러싼 문자 집합을 의미"
      ],
      "metadata": {
        "id": "umqITc8E_J8A"
      }
    },
    {
      "cell_type": "markdown",
      "source": [
        "## 문자열 생성\n",
        "- 시작과 끝에 큰따옴표 (\") 또는 작은따옴표 (')를 지정\n",
        "- 같은 기호를 사용해야 함"
      ],
      "metadata": {
        "id": "Xi6ahhveAzN5"
      }
    },
    {
      "cell_type": "code",
      "execution_count": 1,
      "metadata": {
        "colab": {
          "base_uri": "https://localhost:8080/"
        },
        "id": "TYQjMR5f_D3y",
        "outputId": "a26118db-dc48-4c84-a2be-9a487f16725e"
      },
      "outputs": [
        {
          "output_type": "stream",
          "name": "stdout",
          "text": [
            "test\n"
          ]
        }
      ],
      "source": [
        "print('test')"
      ]
    },
    {
      "cell_type": "code",
      "source": [
        "print(\"test\")"
      ],
      "metadata": {
        "colab": {
          "base_uri": "https://localhost:8080/"
        },
        "id": "NWNtmSVz_QoE",
        "outputId": "e099ce3c-9ba7-4473-9d9e-38170962944e"
      },
      "execution_count": 2,
      "outputs": [
        {
          "output_type": "stream",
          "name": "stdout",
          "text": [
            "test\n"
          ]
        }
      ]
    },
    {
      "cell_type": "markdown",
      "source": [
        "문자열을  변수에 저장한 후 print() 함수로 출력하는  예"
      ],
      "metadata": {
        "id": "SuM2rxSx_TqI"
      }
    },
    {
      "cell_type": "code",
      "source": [
        "string1 = \"String Test 1\"\n",
        "string2 = 'String Test 2'\n",
        "print(string1)\n",
        "print(string2)"
      ],
      "metadata": {
        "colab": {
          "base_uri": "https://localhost:8080/"
        },
        "id": "bB0UsVMC_RlF",
        "outputId": "77d70eb6-3d05-4a28-e928-30a6a368523b"
      },
      "execution_count": 3,
      "outputs": [
        {
          "output_type": "stream",
          "name": "stdout",
          "text": [
            "String Test 1\n",
            "String Test 2\n"
          ]
        }
      ]
    },
    {
      "cell_type": "markdown",
      "source": [
        "변수에 할당한 문자열의 타입 확인"
      ],
      "metadata": {
        "id": "UNCuZdaS_iRy"
      }
    },
    {
      "cell_type": "code",
      "source": [
        "type(string1)"
      ],
      "metadata": {
        "colab": {
          "base_uri": "https://localhost:8080/"
        },
        "id": "NbPUPKMr_gL2",
        "outputId": "eed0592c-b018-405f-a1ea-a4deb666dc21"
      },
      "execution_count": 4,
      "outputs": [
        {
          "output_type": "execute_result",
          "data": {
            "text/plain": [
              "str"
            ]
          },
          "metadata": {},
          "execution_count": 4
        }
      ]
    },
    {
      "cell_type": "code",
      "source": [
        "type(string2)"
      ],
      "metadata": {
        "colab": {
          "base_uri": "https://localhost:8080/"
        },
        "id": "vxksLbKt_mkX",
        "outputId": "072b5d23-bb5f-49b8-8aff-c0f1e953627e"
      },
      "execution_count": 5,
      "outputs": [
        {
          "output_type": "execute_result",
          "data": {
            "text/plain": [
              "str"
            ]
          },
          "metadata": {},
          "execution_count": 5
        }
      ]
    },
    {
      "cell_type": "markdown",
      "source": [
        "문자열 안에 큰따옴표나 작은따옴표 포함하기"
      ],
      "metadata": {
        "id": "Nj6BRRoS_qZP"
      }
    },
    {
      "cell_type": "code",
      "source": [
        "string3 = 'This is a \"double\" quotation test'\n",
        "string4 = \"This is a 'single' quotation test\"\n",
        "print(string3)\n",
        "print(string4)"
      ],
      "metadata": {
        "colab": {
          "base_uri": "https://localhost:8080/"
        },
        "id": "fHOYVQy3_oxR",
        "outputId": "64c97238-2439-4592-9fb2-fb7eafcbd104"
      },
      "execution_count": 6,
      "outputs": [
        {
          "output_type": "stream",
          "name": "stdout",
          "text": [
            "This is a \"double\" quotation test\n",
            "This is a 'single' quotation test\n"
          ]
        }
      ]
    },
    {
      "cell_type": "markdown",
      "source": [
        "- 문자열에 큰따옴표와 작은따옴표를 모두 포함하고 싶거나 문장을 여러 행 넣고 싶거나 입력한 그대로 출력하고 싶을 때\n",
        "- 문자열 전체를 삼중 큰따옴표 (\"\"\")나 삼중 작은따옴표 (''')로 감쌈"
      ],
      "metadata": {
        "id": "_tiqzj-8_-fB"
      }
    },
    {
      "cell_type": "code",
      "source": [
        " long_string1 = '''[삼중 작은따옴표를 사용한 예]\n",
        "    파이썬에는 삼중 따옴표로 여러 행의 문자열을 입력할 수 있습니다.\n",
        "    큰따옴표(\")와 작은따옴표(')도 입력할 수 있습니다.'''\n",
        "\n",
        "long_string2 = \"\"\"[삼중 큰따옴표를 사용한 예]\n",
        "    파이썬에는 삼중 따옴표로 여러 행의 문자열을 입력할 수 있습니다.\n",
        "    큰따옴표(\")와 작은따옴표(')도 입력할 수 있습니다.\"\"\"\n",
        "\n",
        "print(long_string1)\n",
        "print(long_string2)"
      ],
      "metadata": {
        "colab": {
          "base_uri": "https://localhost:8080/"
        },
        "id": "vyUR7fx1_0co",
        "outputId": "3e043fab-dbb9-423e-9c2b-6f8e6cd22735"
      },
      "execution_count": 8,
      "outputs": [
        {
          "output_type": "stream",
          "name": "stdout",
          "text": [
            "[삼중 작은따옴표를 사용한 예]\n",
            "   파이썬에는 삼중 따옴표로 여러 행의 문자열을 입력할 수 있습니다.\n",
            "   큰따옴표(\")와 작은따옴표(')도 입력할 수 있습니다.\n",
            "[삼중 큰따옴표를 사용한 예]\n",
            "   파이썬에는 삼중 따옴표로 여러 행의 문자열을 입력할 수 있습니다.\n",
            "   큰따옴표(\")와 작은따옴표(')도 입력할 수 있습니다.\n"
          ]
        }
      ]
    },
    {
      "cell_type": "markdown",
      "source": [
        "## 문자열 다루기\n",
        "- 더하기 연산자 (+)와 곱하기 연산자 (*)를 이용 가능\n",
        "- 더하기 연산자: 문자열끼리 연결 (concatenation)해 문자열을 하나로 합침\n",
        "- 곱하기 연산자: 곱한 만큼 문자열을  반복\n"
      ],
      "metadata": {
        "id": "S0wt_xIdAabD"
      }
    },
    {
      "cell_type": "code",
      "source": [
        "a = 'Enjoy '\n",
        "b = 'python!'\n",
        "c = a + b\n",
        "print(c)"
      ],
      "metadata": {
        "colab": {
          "base_uri": "https://localhost:8080/"
        },
        "id": "8_yABf2CATcc",
        "outputId": "ee737ca6-fbab-4112-8457-5de8619a5754"
      },
      "execution_count": 10,
      "outputs": [
        {
          "output_type": "stream",
          "name": "stdout",
          "text": [
            "Enjoy python!\n"
          ]
        }
      ]
    },
    {
      "cell_type": "code",
      "source": [
        "print(a * 3)"
      ],
      "metadata": {
        "colab": {
          "base_uri": "https://localhost:8080/"
        },
        "id": "3mDANzLrAmKn",
        "outputId": "ddc329e5-4ca2-4e77-9ab4-dd0c8c54ea51"
      },
      "execution_count": 11,
      "outputs": [
        {
          "output_type": "stream",
          "name": "stdout",
          "text": [
            "Enjoy Enjoy Enjoy \n"
          ]
        }
      ]
    },
    {
      "cell_type": "code",
      "source": [],
      "metadata": {
        "id": "0GrbjRAdAqqV"
      },
      "execution_count": null,
      "outputs": []
    }
  ]
}