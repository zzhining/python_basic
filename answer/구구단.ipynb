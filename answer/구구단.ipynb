{
  "cells": [
    {
      "cell_type": "markdown",
      "metadata": {
        "id": "view-in-github",
        "colab_type": "text"
      },
      "source": [
        "<a href=\"https://colab.research.google.com/github/zzhining/python_basic/blob/master/answer/%EA%B5%AC%EA%B5%AC%EB%8B%A8.ipynb\" target=\"_parent\"><img src=\"https://colab.research.google.com/assets/colab-badge.svg\" alt=\"Open In Colab\"/></a>"
      ]
    },
    {
      "cell_type": "markdown",
      "source": [
        "# 구구단 생성기 만들기"
      ],
      "metadata": {
        "id": "8UZ1OCZWUbqA"
      }
    },
    {
      "cell_type": "markdown",
      "source": [
        "## random.randint()"
      ],
      "metadata": {
        "id": "UMWPi_wYUevH"
      }
    },
    {
      "cell_type": "code",
      "source": [
        "import random\n",
        "# Return random integer in range [a, b], including both end points.\n",
        "random.randint(1,9)"
      ],
      "metadata": {
        "id": "dF97U9BxT4W8"
      },
      "execution_count": null,
      "outputs": []
    },
    {
      "cell_type": "markdown",
      "source": [
        "## [문제1] 다음 조건을 만족하는 구구단 생성기를 완성하시오.\n",
        "\n",
        "1. 몇 개의 문항을 만들 것인지 사용자에게 입력을 받기\n",
        "    - 문항의 갯수는 변수 `n`에 할당\n",
        "\n",
        "2. 몇 단까지 만들 것인지 사용자에게 입력 받기\n",
        "    - 입력한 값은 변수 `k`에 할당\n",
        "    - `k=5`라면 2단부터 5단까지의 문제를 생성\n",
        "\n",
        "[출력예시]\n",
        "```\n",
        "몇 개의 문항을 만드시겠습니까? 10\n",
        "몇 단까지 구구단 문항을 생성할까요? 5\n",
        "\n",
        "구구단 문항 생성 결과입니다.\n",
        "1. 3 x 3 =\n",
        "2. 2 x 9 =\n",
        "3. 3 x 9 =\n",
        "4. 5 x 9 =\n",
        "5. 4 x 9 =\n",
        "6. 5 x 2 =\n",
        "7. 5 x 8 =\n",
        "8. 4 x 4 =\n",
        "9. 2 x 5 =\n",
        "10. 4 x 4 =\n",
        "```\n",
        "\n"
      ],
      "metadata": {
        "id": "bMeuED3HUh5e"
      }
    },
    {
      "cell_type": "code",
      "execution_count": null,
      "metadata": {
        "id": "3aj_7ptYx8MO"
      },
      "outputs": [],
      "source": [
        "import random\n",
        "\n",
        "def create_problems1(n, k):\n",
        "    print('\\n구구단 문항 생성 결과입니다.')\n",
        "    for i in range(n):\n",
        "        num = i+1\n",
        "        x = random.randint(2,k)\n",
        "        y = random.randint(2,9)\n",
        "        print('{}. {} x {} = '.format(num, x, y))\n",
        "\n",
        "\n",
        "n = input('몇 개의 문항을 만드시겠습니까? ')\n",
        "k = input('몇 단까지 구구단 문항을 생성할까요? ')\n",
        "\n",
        "\n",
        "create_problems1(int(n), int(k))"
      ]
    },
    {
      "cell_type": "markdown",
      "source": [
        "## [문제2] 다음 조건을 만족하는 구구단 생성기를 완성하시오.\n",
        "\n",
        "1. 몇 개의 문항을 만들 것인지 사용자에게 입력을 받기\n",
        "    - 문항의 갯수는 변수 `n`에 할당\n",
        "\n",
        "2. 몇 단부터 몇 단까지 만들 것인지 사용자에게 입력 받기\n",
        "    - 시작 단은 `k`에, 종료 단은 `l`에 할당\n",
        "    - 사용자가 `k`와 `l`에 아무런 값을 입력하지 않았다면, 2단부터 9단까지 생성\n",
        "    - `k=7`, `l=9`라면 7단부터 9단까지의 문제를 생성\n",
        "    "
      ],
      "metadata": {
        "id": "M6VcTWBtVsCe"
      }
    },
    {
      "cell_type": "code",
      "execution_count": null,
      "metadata": {
        "id": "kilNBuYIyDzU"
      },
      "outputs": [],
      "source": [
        "import random\n",
        "\n",
        "def create_problem2(n, k,ㅣ):\n",
        "    print('\\n구구단 문항 생성 결과입니다.')\n",
        "    for i in range(int(n)):\n",
        "        num = i+1\n",
        "        x = random.randint(int(k),int(l))\n",
        "        y = random.randint(2,9)\n",
        "        print('{}. {} x {} = '.format(num, x, y))\n",
        "\n",
        "\n",
        "\n",
        "n = input('몇 개의 문항을 만드시겠습니까? ')\n",
        "temp = input('몇 단부터 몇 단까지 구구단 문항을 생성할까요?(작성예시(2단부터 8단까지라면): 2,8) ')\n",
        "\n",
        "try:\n",
        "    create_problem2(n, temp.split(',')[0], temp.split(',')[1])\n",
        "except:\n",
        "    print('잘못된 값이 입력되었습니다.')"
      ]
    }
  ],
  "metadata": {
    "colab": {
      "private_outputs": true,
      "provenance": [],
      "include_colab_link": true
    },
    "kernelspec": {
      "display_name": "Python 3",
      "language": "python",
      "name": "python3"
    },
    "language_info": {
      "codemirror_mode": {
        "name": "ipython",
        "version": 3
      },
      "file_extension": ".py",
      "mimetype": "text/x-python",
      "name": "python",
      "nbconvert_exporter": "python",
      "pygments_lexer": "ipython3",
      "version": "3.8.5"
    },
    "toc": {
      "base_numbering": 1,
      "nav_menu": {},
      "number_sections": false,
      "sideBar": true,
      "skip_h1_title": false,
      "title_cell": "Table of Contents",
      "title_sidebar": "Contents",
      "toc_cell": false,
      "toc_position": {},
      "toc_section_display": true,
      "toc_window_display": false
    }
  },
  "nbformat": 4,
  "nbformat_minor": 0
}