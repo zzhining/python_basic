{
  "cells": [
    {
      "cell_type": "markdown",
      "metadata": {
        "id": "view-in-github",
        "colab_type": "text"
      },
      "source": [
        "<a href=\"https://colab.research.google.com/github/zzhining/python_basic/blob/master/07_if.ipynb\" target=\"_parent\"><img src=\"https://colab.research.google.com/assets/colab-badge.svg\" alt=\"Open In Colab\"/></a>"
      ]
    },
    {
      "cell_type": "markdown",
      "source": [
        "# if문\n",
        "- 지정한 조건에 따라 다르게 분기해 명령을 수행\n",
        "- 조건의 만족 여부에 따라서 코드 수행 결과가 달라짐\n",
        "- 단일  조건에  따른 분기 (if )"
      ],
      "metadata": {
        "id": "LJuUFF9wJqT1"
      }
    },
    {
      "cell_type": "code",
      "execution_count": null,
      "metadata": {
        "id": "QTcSI6XCJlk0",
        "outputId": "ba83260c-948b-4bbb-f28f-15f3d9750b1a"
      },
      "outputs": [
        {
          "name": "stdout",
          "output_type": "stream",
          "text": [
            "pass\n"
          ]
        }
      ],
      "source": [
        "# 변수 x의 값이 90보다 크거나 같으면 ‘Pass’를 출력하는 예\n",
        "x = 95\n",
        "\n",
        "if x >= 90:\n",
        "    print(\"pass\")"
      ]
    },
    {
      "cell_type": "markdown",
      "source": [
        "----\n",
        "⭐ 구문 ⭐\n",
        "- 코드블럭은 들여쓰기로만 구분\n",
        "- 보통은 한줄에 한 문장, 길어지면 '\\'로 연결\n",
        "- 한줄에 여러 문장을 쓸 때 는 ';' 로구분\n",
        "- 주석은 '#'으로 시작\n",
        "----"
      ],
      "metadata": {
        "id": "6gk5YI_hKoZH"
      }
    },
    {
      "cell_type": "markdown",
      "source": [
        "## 비교 연산자\n",
        "\n",
        "| 비교 연산자 | 의미        | 활용 예   | 설명                    |\n",
        "|-------------|-------------|-----------|-------------------------|\n",
        "| ==          | 같다        | a == b    | a는 b와 같다            |\n",
        "| !=          | 같지 않다   | a != b    | a는  b와  같지 않다     |\n",
        "| &lt;        | 작다        | a &lt; b  | a는  b보다 작다         |\n",
        "| &gt;        | 크다        | a &gt; b  | a는  b보다 크다         |\n",
        "| &lt;=       | 작거나 같다 | a &lt;= b | a는  b보다  작거나 같다 |\n",
        "| &gt;=       | 크거나 같다 | a &gt;= b | a는  b보다  크거나 같다 |"
      ],
      "metadata": {
        "id": "uRGIag2KLQNz"
      }
    },
    {
      "cell_type": "markdown",
      "source": [
        "----\n",
        "## 논리 연산자\n",
        "| 논리 연산자 | 의미     | 활용 예 | 설명                                                            |   |\n",
        "|-------------|----------|---------|-----------------------------------------------------------------|---|\n",
        "| and         | 논리곱   | A and B | A와  B가  모두  참이면  참이고    그  외에는  거짓              |   |\n",
        "| or          | 논리합   | A or B  | A와  B  중  하나라도  참이면    참이고  둘  다  거짓이면   거짓 |   |\n",
        "| not         | 논리부정 | not A   | A가  참이면  거짓이고    거짓이면  참                           |   |"
      ],
      "metadata": {
        "id": "PmccE81sL0KN"
      }
    },
    {
      "cell_type": "markdown",
      "source": [
        "# if~else\n",
        "<조건문>의 만족 여부에 따라 코드를 다르게 수행하려면 'if ~ else' 구조의 조건문을 이용"
      ],
      "metadata": {
        "id": "t49vdqp7L51V"
      }
    },
    {
      "cell_type": "code",
      "source": [
        "x = 85\n",
        "if x >= 90:\n",
        "    print(\"Very good\")\n",
        "else:\n",
        "    print(\"Bad\")"
      ],
      "metadata": {
        "colab": {
          "base_uri": "https://localhost:8080/"
        },
        "id": "DnCIum3mLDKb",
        "outputId": "c952f536-3319-4a45-84a4-19494761d225"
      },
      "execution_count": 3,
      "outputs": [
        {
          "output_type": "stream",
          "name": "stdout",
          "text": [
            "Bad\n"
          ]
        }
      ]
    },
    {
      "cell_type": "markdown",
      "source": [
        "# if ~ elif ~ else\n",
        "여러 조건에 따른 분기\n"
      ],
      "metadata": {
        "id": "G0uGvDOPMdQx"
      }
    },
    {
      "cell_type": "code",
      "source": [
        "x = 85\n",
        "if x >= 90:\n",
        "    print(\"Very good\")\n",
        "elif (x >= 80) and (x < 90):\n",
        "    print(\"Good\")\n",
        "else:\n",
        "    print(\"Bad\")"
      ],
      "metadata": {
        "colab": {
          "base_uri": "https://localhost:8080/"
        },
        "id": "uBf3etBOMk8T",
        "outputId": "b76c6465-e35e-4683-8473-5aaa09814481"
      },
      "execution_count": 2,
      "outputs": [
        {
          "output_type": "stream",
          "name": "stdout",
          "text": [
            "Good\n"
          ]
        }
      ]
    },
    {
      "cell_type": "markdown",
      "source": [
        "# 중첩 조건문"
      ],
      "metadata": {
        "id": "TmqGX_5nMvFa"
      }
    },
    {
      "cell_type": "code",
      "source": [
        "x = 100\n",
        "if x >= 90:\n",
        "    if x==100 :\n",
        "        print(\"Perfect\")\n",
        "    else:\n",
        "        print(\"Very Good\")\n",
        "elif x >= 80 and x < 90:\n",
        "    print(\"Good\")\n",
        "else:\n",
        "    print(\"Bad\")"
      ],
      "metadata": {
        "colab": {
          "base_uri": "https://localhost:8080/"
        },
        "id": "bGSGGADnMpWQ",
        "outputId": "c06473b7-11c2-4772-c9b1-45b14af85bf8"
      },
      "execution_count": 5,
      "outputs": [
        {
          "output_type": "stream",
          "name": "stdout",
          "text": [
            "Perfect\n"
          ]
        }
      ]
    },
    {
      "cell_type": "code",
      "source": [],
      "metadata": {
        "id": "ZTL7XPTZM0Nz"
      },
      "execution_count": null,
      "outputs": []
    }
  ],
  "metadata": {
    "kernelspec": {
      "display_name": "Python 3",
      "language": "python",
      "name": "python3"
    },
    "language_info": {
      "codemirror_mode": {
        "name": "ipython",
        "version": 3
      },
      "file_extension": ".py",
      "mimetype": "text/x-python",
      "name": "python",
      "nbconvert_exporter": "python",
      "pygments_lexer": "ipython3",
      "version": "3.7.6"
    },
    "toc": {
      "base_numbering": 1,
      "nav_menu": {},
      "number_sections": false,
      "sideBar": true,
      "skip_h1_title": false,
      "title_cell": "Table of Contents",
      "title_sidebar": "Contents",
      "toc_cell": false,
      "toc_position": {},
      "toc_section_display": true,
      "toc_window_display": false
    },
    "colab": {
      "provenance": [],
      "toc_visible": true,
      "include_colab_link": true
    }
  },
  "nbformat": 4,
  "nbformat_minor": 0
}