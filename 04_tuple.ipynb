{
  "cells": [
    {
      "cell_type": "markdown",
      "metadata": {
        "id": "view-in-github",
        "colab_type": "text"
      },
      "source": [
        "<a href=\"https://colab.research.google.com/github/zzhining/python_basic/blob/master/04_tuple.ipynb\" target=\"_parent\"><img src=\"https://colab.research.google.com/assets/colab-badge.svg\" alt=\"Open In Colab\"/></a>"
      ]
    },
    {
      "cell_type": "markdown",
      "metadata": {
        "id": "oN7s_BXTakOH"
      },
      "source": [
        "# 튜플\n",
        "\n",
        "- 리스트와 유사\n",
        "- 한 번 입력 한 후에 항목을 ⭐*변경할 수 없는*⭐ 특징\n",
        "- 소괄호`()`를 사용해서 생성 또는 괄호 없이 생성\n",
        "- 튜플의 항목은  숫자, 문자열, 불, 리스트, 튜플, 세트, 딕셔너리 등으로 만들 수 있음\n",
        "\n"
      ]
    },
    {
      "cell_type": "code",
      "execution_count": null,
      "metadata": {
        "id": "QFQ0ei0iakOK",
        "outputId": "2a709c16-d810-4bd8-c3ea-4a3de4aefedf"
      },
      "outputs": [
        {
          "data": {
            "text/plain": [
              "(1, 2, 3, 4)"
            ]
          },
          "execution_count": 1,
          "metadata": {},
          "output_type": "execute_result"
        }
      ],
      "source": [
        "tuple1 = (1,2,3,4)\n",
        "tuple1"
      ]
    },
    {
      "cell_type": "code",
      "execution_count": null,
      "metadata": {
        "id": "T5I8SZOLakOL",
        "outputId": "09f0f0a5-028b-4c70-c906-cb2ac244a2e7"
      },
      "outputs": [
        {
          "data": {
            "text/plain": [
              "2"
            ]
          },
          "execution_count": 2,
          "metadata": {},
          "output_type": "execute_result"
        }
      ],
      "source": [
        "tuple1[1]"
      ]
    },
    {
      "cell_type": "code",
      "execution_count": null,
      "metadata": {
        "id": "Q4kJZ8hcakOL",
        "outputId": "a406f2a2-e093-4f57-f1a6-634a9cd8978d"
      },
      "outputs": [
        {
          "data": {
            "text/plain": [
              "(5, 6, 7, 8)"
            ]
          },
          "execution_count": 3,
          "metadata": {},
          "output_type": "execute_result"
        }
      ],
      "source": [
        "tuple2 = 5,6,7,8\n",
        "tuple2"
      ]
    },
    {
      "cell_type": "markdown",
      "source": [
        "인자가 하나만 있는 튜플 생성\n",
        "- 반드시 콤마(,) 필요"
      ],
      "metadata": {
        "id": "NPS8elraa9wy"
      }
    },
    {
      "cell_type": "code",
      "execution_count": null,
      "metadata": {
        "id": "xGUAwwJ3akOM"
      },
      "outputs": [],
      "source": [
        "tuple3 = 9,"
      ]
    },
    {
      "cell_type": "code",
      "execution_count": null,
      "metadata": {
        "id": "RFN5uKIwakOM",
        "outputId": "1961d88d-6820-4a67-a8b7-960e778fc10f"
      },
      "outputs": [
        {
          "data": {
            "text/plain": [
              "(9,)"
            ]
          },
          "execution_count": 7,
          "metadata": {},
          "output_type": "execute_result"
        }
      ],
      "source": [
        "tuple3"
      ]
    },
    {
      "cell_type": "code",
      "execution_count": null,
      "metadata": {
        "id": "0fVQM1o-akOM"
      },
      "outputs": [],
      "source": [
        "tuple4 = (10,)"
      ]
    },
    {
      "cell_type": "code",
      "execution_count": null,
      "metadata": {
        "id": "wtXCeqehakOM",
        "outputId": "370b6c0b-15ed-4634-d88e-8436e35a71e2"
      },
      "outputs": [
        {
          "data": {
            "text/plain": [
              "(10,)"
            ]
          },
          "execution_count": 11,
          "metadata": {},
          "output_type": "execute_result"
        }
      ],
      "source": [
        "tuple4"
      ]
    },
    {
      "cell_type": "code",
      "execution_count": null,
      "metadata": {
        "id": "EPhYfj3lakOM",
        "outputId": "e87b0846-e3db-4e2b-b9c0-06d12126198b"
      },
      "outputs": [
        {
          "data": {
            "text/plain": [
              "(5, 6, 7, 8)"
            ]
          },
          "execution_count": 12,
          "metadata": {},
          "output_type": "execute_result"
        }
      ],
      "source": [
        "tuple2"
      ]
    },
    {
      "cell_type": "markdown",
      "source": [
        "# 튜플 특징\n",
        "- 한번 생성된 튜플은 요소를 변경하거나 삭제할 수 없음\n",
        "- 한 번 생성한 후에 요소를 변경할 필요가 없거나 변경할 수 없도록 하고 싶을 때 주로 이용\n"
      ],
      "metadata": {
        "id": "NAx30nzXbG9p"
      }
    },
    {
      "cell_type": "code",
      "execution_count": null,
      "metadata": {
        "id": "z1NfyO4qakON",
        "outputId": "351fe01a-a1cf-4c05-b951-ab2a939702b2"
      },
      "outputs": [
        {
          "ename": "TypeError",
          "evalue": "'type' object does not support item assignment",
          "output_type": "error",
          "traceback": [
            "\u001b[1;31m---------------------------------------------------------------------------\u001b[0m",
            "\u001b[1;31mTypeError\u001b[0m                                 Traceback (most recent call last)",
            "\u001b[1;32m<ipython-input-13-5a31325d6f94>\u001b[0m in \u001b[0;36m<module>\u001b[1;34m\u001b[0m\n\u001b[1;32m----> 1\u001b[1;33m \u001b[0mtuple\u001b[0m\u001b[1;33m[\u001b[0m\u001b[1;36m1\u001b[0m\u001b[1;33m]\u001b[0m  \u001b[1;33m=\u001b[0m \u001b[1;36m9\u001b[0m\u001b[1;33m\u001b[0m\u001b[1;33m\u001b[0m\u001b[0m\n\u001b[0m",
            "\u001b[1;31mTypeError\u001b[0m: 'type' object does not support item assignment"
          ]
        }
      ],
      "source": [
        "tuple[1]  = 9"
      ]
    },
    {
      "cell_type": "code",
      "execution_count": null,
      "metadata": {
        "id": "1NcugZftakON"
      },
      "outputs": [],
      "source": []
    }
  ],
  "metadata": {
    "kernelspec": {
      "display_name": "Python 3",
      "language": "python",
      "name": "python3"
    },
    "language_info": {
      "codemirror_mode": {
        "name": "ipython",
        "version": 3
      },
      "file_extension": ".py",
      "mimetype": "text/x-python",
      "name": "python",
      "nbconvert_exporter": "python",
      "pygments_lexer": "ipython3",
      "version": "3.7.6"
    },
    "toc": {
      "base_numbering": 1,
      "nav_menu": {},
      "number_sections": false,
      "sideBar": true,
      "skip_h1_title": false,
      "title_cell": "Table of Contents",
      "title_sidebar": "Contents",
      "toc_cell": false,
      "toc_position": {},
      "toc_section_display": true,
      "toc_window_display": false
    },
    "colab": {
      "provenance": [],
      "include_colab_link": true
    }
  },
  "nbformat": 4,
  "nbformat_minor": 0
}