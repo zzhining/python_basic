{
 "cells": [
  {
   "cell_type": "code",
   "execution_count": null,
   "metadata": {},
   "outputs": [],
   "source": [
    "import requests   \n",
    "from bs4 import BeautifulSoup  \n",
    "\n",
    "url = \"https://www.alexa.com/topsites/countries/KR\" \n",
    "\n",
    "html_website_ranking = requests.get(url).text \n",
    "soup_website_ranking = BeautifulSoup(html_website_ranking, \"lxml\")\n",
    "\n",
    "# p 태그의 요소 안에서 a 태그의 요소를 찾음 \n",
    "website_ranking = soup_website_ranking.select('p a') \n",
    "website_ranking[0:6] \n",
    "\n",
    "website_ranking[0].get_text() \n",
    "\n",
    "website_ranking_address = [website_ranking_element.get_text() for website_ranking_element in  \n",
    "website_ranking] \n",
    "\n",
    "website_ranking_address[0:6] \n",
    "\n",
    "print(\"[Top Sites in South Korea]\") \n",
    "for k in range(6): \n",
    "    print(\"{0}: {1}\".format(k+1, website_ranking_address[k])) "
   ]
  },
  {
   "cell_type": "code",
   "execution_count": null,
   "metadata": {},
   "outputs": [],
   "source": [
    "import pandas as pd \n",
    "\n",
    "website_ranking_dict = {'Website': website_ranking_address} \n",
    "df = pd.DataFrame(website_ranking_dict, columns=['Website'],   \n",
    "index=range(1,len(website_ranking_address)+1)) \n",
    "df[0:6] "
   ]
  },
  {
   "cell_type": "code",
   "execution_count": null,
   "metadata": {},
   "outputs": [],
   "source": []
  }
 ],
 "metadata": {
  "kernelspec": {
   "display_name": "Python 3",
   "language": "python",
   "name": "python3"
  },
  "language_info": {
   "codemirror_mode": {
    "name": "ipython",
    "version": 3
   },
   "file_extension": ".py",
   "mimetype": "text/x-python",
   "name": "python",
   "nbconvert_exporter": "python",
   "pygments_lexer": "ipython3",
   "version": "3.7.6"
  },
  "toc": {
   "base_numbering": 1,
   "nav_menu": {},
   "number_sections": false,
   "sideBar": true,
   "skip_h1_title": false,
   "title_cell": "Table of Contents",
   "title_sidebar": "Contents",
   "toc_cell": false,
   "toc_position": {},
   "toc_section_display": true,
   "toc_window_display": false
  }
 },
 "nbformat": 4,
 "nbformat_minor": 4
}
