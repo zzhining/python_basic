{
  "cells": [
    {
      "cell_type": "markdown",
      "metadata": {
        "id": "view-in-github",
        "colab_type": "text"
      },
      "source": [
        "<a href=\"https://colab.research.google.com/github/zzhining/python_basic/blob/master/00_markdown_syntax.ipynb\" target=\"_parent\"><img src=\"https://colab.research.google.com/assets/colab-badge.svg\" alt=\"Open In Colab\"/></a>"
      ]
    },
    {
      "cell_type": "markdown",
      "id": "1f776585",
      "metadata": {
        "id": "1f776585"
      },
      "source": [
        "마크다운(markdown) 문법"
      ]
    },
    {
      "cell_type": "markdown",
      "id": "dbb9a4d6",
      "metadata": {
        "id": "dbb9a4d6"
      },
      "source": [
        "마크다운 셀로의 변경은 command 모드에서 단축키 \"M\"을 누름"
      ]
    },
    {
      "cell_type": "markdown",
      "id": "630c1992",
      "metadata": {
        "id": "630c1992"
      },
      "source": [
        "제목 수준: 샵(#)을 이용하여 표기하며, HTML 태그의 H1~H6 태그와 대응된다."
      ]
    },
    {
      "cell_type": "markdown",
      "id": "364feb8a",
      "metadata": {
        "id": "364feb8a"
      },
      "source": [
        "# 제목1\n",
        "## 제목 2\n",
        "### 제목3\n",
        "#### 제목4\n",
        "##### 제목5\n",
        "###### 제목6"
      ]
    },
    {
      "cell_type": "markdown",
      "id": "2b48d69f",
      "metadata": {
        "id": "2b48d69f"
      },
      "source": [
        "제목 5, 6은 기울임꼴로 표기되는데 이는 주피터노트북 자체 CSS(스타일) 설정 때문이다."
      ]
    },
    {
      "cell_type": "markdown",
      "id": "ae8cb204",
      "metadata": {
        "id": "ae8cb204"
      },
      "source": [
        "제목은 수준에 따라 글자 크기도 다르며 자동으로 줄바꿈을 해준다. 만약 직접 줄바꿈을 하고자 한다면 마지막에 두 칸 띄어쓰기를 하거나 \\<br> 태그를 써준다."
      ]
    },
    {
      "cell_type": "markdown",
      "id": "d81a0767",
      "metadata": {
        "id": "d81a0767"
      },
      "source": [
        "마크다운 문법은 HTML태그, (inline)CSS 를 적용할 수 있고 대괄호 또한 특수기능이 있는데 이를 무효화 하기 위해서는 원화 기호(또는 역슬래시 \\\\)를 사용할 수 있다."
      ]
    },
    {
      "cell_type": "markdown",
      "id": "0da7ef6b",
      "metadata": {
        "id": "0da7ef6b"
      },
      "source": [
        "### 강조\n",
        "글꼴 스타일을 바꿀 수 있는데 Bold체 적용을 위해서는 언더바(\\_) 또는 아스트리크(*, 별표)를 좌우 2개 연속으로 배치하여 사용할 수 있다.  \n",
        "__강조1__, **강조2**  \n",
        "  \n",
        "기울임꼴 적용을 위해서는 언더바 또는 아스트리크를 대상 문자 좌우에 1개씩 써준다.  \n",
        "_기울임1_, *기울임2*  \n",
        "  \n",
        "블럭 지정을 하려면 닫히는 꺽쇠를 사용할 수 있다.\n",
        "> block!!!\n",
        "  \n",
        "그외 별도의 스타일링을 위해서는 HTML과 CSS사용이 필요하며 예시는 다음과 같다.  \n",
        "<div style=\"font-size:20px;color:#FF0000;font-weight:700\">\n",
        "    HTML + inline CSS\n",
        "</div>\n",
        "\n",
        "inline CSS를 사용하기 위해서는 HTML태그의 style어트리뷰트에 CSS코드를 입력하며 각 속성명과 그 값은 콜론(:)을 사용하여 구분하고 복수개의 속성을 지정하는 경우 각 속성은 세미콜론(;)으로 구분해준다."
      ]
    },
    {
      "cell_type": "markdown",
      "id": "8bc126ff",
      "metadata": {
        "id": "8bc126ff"
      },
      "source": [
        "### 목록\n",
        "목록은 번호가 있는 것과 없는 것이 있다. 번호가 없는 것은 아스트리크 또는 하이픈을 사용하면 동그란 말머리 기호로 바뀌며 들여쓰기 등 형식 조금 바뀜\n",
        " * 목록1\n",
        " * 목록2\n",
        "\n",
        "번호를 지정하여 목록을 만드는 것은 다음과 같다.\n",
        "1. 번호 목록1\n",
        "2. 번호 목록2\n",
        "\n",
        "2단으로 목록을 만드는 경우 들여쓰기를 활용할 수 있다.\n",
        "* 목록 수준 1\n",
        " * 목록 수준 2\n",
        "\n",
        "HTML 태그를 사용한다면 다음과 같이 할 수 있다.\n",
        "<ul>\n",
        "    <li>목록1</li>\n",
        "    <li>목록2</li>\n",
        "</ul>\n",
        "\n",
        "<ol>\n",
        "    <li>목록1</li>\n",
        "    <li>목록2</li>\n",
        "</ol>\n",
        "\n",
        "ul: unorderd list, ol: ordered list"
      ]
    },
    {
      "cell_type": "markdown",
      "id": "2edf7387",
      "metadata": {
        "id": "2edf7387"
      },
      "source": [
        "하이픈을 3개 이상 쓰는 경우 가로선을 그을 수 있음. 그리고 이것은 \\<hr> 태그와 유사\n",
        "\n",
        "---\n",
        "\n",
        "<hr>"
      ]
    },
    {
      "cell_type": "markdown",
      "id": "b3df19a6",
      "metadata": {
        "id": "b3df19a6"
      },
      "source": [
        "잘 사용하지는 않지만 물결표시(\\~)는 문자 좌우로 1개씩 쓸 경우 취소선을 만듦  \n",
        "ex. ~(아 집에 가고싶다.)~\n",
        "\n",
        "취소선은 보통 구간 또는 기간 등 범위를 기술하면서 사용하게 되는데 본의아니게 취소선이 그어지는 경우가 있음. 그래서 이를 막기 위해(즉, 물결표시가 그대로 사용되도록) 원화기호 또는 역슬래시를 사용.\n",
        "* 10월 28일 \\~ 11월 15일"
      ]
    },
    {
      "cell_type": "markdown",
      "id": "8f636ae7",
      "metadata": {
        "id": "8f636ae7"
      },
      "source": [
        "### 수식\n",
        "수식의 시작과 끝은 달러기호(\\\\$)를 사용하며 달러기호를 좌우에 1개 사용하는 경우 inline으로 표기되고 2개를 사용하게 되면 별도의 블럭에 가운데정렬되어 표기된다. 그리고 수식은 LaTeX(레이텍으로 발음하며 라텍스 아님) 문법을 참고하면 되고 MS Office 또는 한글의 수식입력과도 유사하다.\n",
        "\n",
        "* 예시\n",
        "1차 함수의 기본 형태는 $f(x) = ax + b$ 로 표기할 수 있다.  \n",
        "표준오차 공식은 다음과 같다.\n",
        "$${S}\\over{\\sqrt{n}}$$\n",
        "\n",
        "그리스 문자 또는 각종 특수기능을 구현하기 위해서는 원화기호(또는 역슬래시)와 중괄호를 사용해야 한다. 중괄호의 경우 이어지는 숫자 또는 문자를 묶어주는 역할을 한다.\n",
        "$$\\sqrt{4}$$\n",
        "\n",
        "아래첨자는 언더바(\\_), 위첨자는 hat(^)을 사용하며 동시에 사용하고자 하는 경우 아래첨자를 먼저 쓰고 위첨자를 써야한다. 그리고 아래첨자와 위첨자를 확실하게 구분하고자 하는 경우 상기에서 언급하였던 중괄호를 사용하는 것이 좋다.\n",
        "$$x_i^2$$\n",
        "$$x_{j}^{2k}$$\n",
        "\n",
        "대표적으로 많이 사용하는 그리스 문자는 다음과 같다. 그리고 그리스 문자의 대문자의 경우 원화기호(역슬래시) 바로 뒤에 오는 첫 글자를 대문자로 써서 표기할 수 있다.\n",
        "$$\\alpha + \\beta + \\gamma + \\sigma + \\mu + \\pi + \\Pi$$\n",
        "\n",
        "분수의 표현은 \"{}\\over{}\" 를 사용하며 왼쪽 중괄호 내부에는 분자를, 오른쪽 중괄호 내부에는 분모를 써준다.  \n",
        "\n",
        "공식 증명 등 수식을 길게 쓰는 경우 등호를 기준으로 정렬하는 기능도 있다.\n",
        "\\begin{align}\n",
        "a_1 &= \\alpha_1 \\\\\n",
        "d_1 &= \\beta_1 + 123 + a + b\n",
        "\\end{align}\n",
        "\n",
        "수식의 글꼴이 너무 작아 키우고자 하는 경우는 HTML태그와 inline CSS를 사용하여 조정할 수 있다.\n",
        "<div style=\"font-size:20px\">\n",
        "    $$f(x) = ax + b$$\n",
        "</div>"
      ]
    },
    {
      "cell_type": "markdown",
      "id": "22ed7573",
      "metadata": {
        "id": "22ed7573"
      },
      "source": [
        "마크다운으로 표를 구현할 수 있으나 그럴바에 차라리 HTML로 처리하는 것이 좋습니다. 또는 관련 웹사이트의 도움을 받는다.\n",
        "\n",
        "* 검색어: markdown table generator\n",
        "https://www.tablesgenerator.com/markdown_tables#\n",
        "\n",
        "| col1 | col2 | col3 |\n",
        "|------|------|------|\n",
        "| 12   | 23   | 34   |"
      ]
    },
    {
      "cell_type": "markdown",
      "id": "c72f0de1",
      "metadata": {
        "id": "c72f0de1"
      },
      "source": [
        "### 하이퍼링크\n",
        "하이퍼링크는 대괄호와 소괄호를 사용하여 만들 수 있다. 대괄호 내부의 텍스트에 소괄호 내부에 명시한 주소로 하이퍼링크가 생성된다.  \n",
        "[네이버](https://www.naver.com/)"
      ]
    },
    {
      "cell_type": "markdown",
      "id": "674709fe",
      "metadata": {
        "id": "674709fe"
      },
      "source": [
        "### 미디어 첨부\n",
        "마크다운을 사용하여 이미지 또는 유튜브 영상 또한 첨부가 가능하다. 느낌표, 대괄호, 소괄호를 사용하며 느낌표를 가장 앞에 써준다. 대괄호 내부의 텍스트는 대체 텍스트로 이미지가 보이지 않거나 접근성을 위해 사용되며 외부에 직접적으로 표기되지는 않음. 소괄호 내부에는 이미지의 경로를 지정하며 로컬 경로와 웹 주소 모두 사용 가능.\n",
        "![이미지 첨부 예시(로컬)](sample_img.jpg)\n",
        "![이미지 첨부 예시(웹)](https://www.python.org/static/img/python-logo@2x.png)"
      ]
    },
    {
      "cell_type": "code",
      "execution_count": null,
      "id": "cbce8bc7",
      "metadata": {
        "id": "cbce8bc7"
      },
      "outputs": [],
      "source": []
    },
    {
      "cell_type": "code",
      "execution_count": null,
      "id": "14eec4bb",
      "metadata": {
        "id": "14eec4bb"
      },
      "outputs": [],
      "source": []
    }
  ],
  "metadata": {
    "kernelspec": {
      "display_name": "Python 3 (ipykernel)",
      "language": "python",
      "name": "python3"
    },
    "language_info": {
      "codemirror_mode": {
        "name": "ipython",
        "version": 3
      },
      "file_extension": ".py",
      "mimetype": "text/x-python",
      "name": "python",
      "nbconvert_exporter": "python",
      "pygments_lexer": "ipython3",
      "version": "3.9.13"
    },
    "colab": {
      "provenance": [],
      "include_colab_link": true
    }
  },
  "nbformat": 4,
  "nbformat_minor": 5
}