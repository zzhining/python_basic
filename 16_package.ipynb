{
  "nbformat": 4,
  "nbformat_minor": 0,
  "metadata": {
    "colab": {
      "private_outputs": true,
      "provenance": [],
      "authorship_tag": "ABX9TyOEFXkdfpxQcqbFDcJ6FEsl",
      "include_colab_link": true
    },
    "kernelspec": {
      "name": "python3",
      "display_name": "Python 3"
    },
    "language_info": {
      "name": "python"
    }
  },
  "cells": [
    {
      "cell_type": "markdown",
      "metadata": {
        "id": "view-in-github",
        "colab_type": "text"
      },
      "source": [
        "<a href=\"https://colab.research.google.com/github/zzhining/python_basic/blob/master/16_package.ipynb\" target=\"_parent\"><img src=\"https://colab.research.google.com/assets/colab-badge.svg\" alt=\"Open In Colab\"/></a>"
      ]
    },
    {
      "cell_type": "markdown",
      "source": [
        "\n",
        "# 패키지(Package)란?\n",
        "- 여러 모듈을 체계적으로 모아서 관리하기 위한 꾸러미\n",
        "- 모듈을 폴더로 묶어서 계층적으로 관리\n"
      ],
      "metadata": {
        "id": "xL154waX9mne"
      }
    },
    {
      "cell_type": "markdown",
      "source": [
        "# 패키지의 구조\n",
        "- 폴더 구조. 각 폴더에는  `__init__.py`라는 특별한  파일이 존재\n",
        "```\n",
        "\\---image\n",
        "   |   __init__.py\n",
        "   |\n",
        "   +---effect\n",
        "   |       rotate.py\n",
        "   |       zoomInOut.py\n",
        "   |       __init__.py\n",
        "   |\n",
        "   +---filter\n",
        "   |       blur.py\n",
        "   |       sharpen.py\n",
        "   |       __init__.py\n",
        "   |\n",
        "   \\---io_file\n",
        "           imgread.py\n",
        "           imgwrite.py\n",
        "           __init__.py\n",
        "\n",
        "```\n"
      ],
      "metadata": {
        "id": "H9khR6Mb9p3y"
      }
    },
    {
      "cell_type": "code",
      "execution_count": null,
      "metadata": {
        "id": "mYaFN7GY9kyY"
      },
      "outputs": [],
      "source": []
    }
  ]
}