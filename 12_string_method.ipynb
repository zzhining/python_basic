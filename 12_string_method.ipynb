{
  "cells": [
    {
      "cell_type": "markdown",
      "metadata": {
        "id": "view-in-github",
        "colab_type": "text"
      },
      "source": [
        "<a href=\"https://colab.research.google.com/github/zzhining/python_basic/blob/master/12_string_method.ipynb\" target=\"_parent\"><img src=\"https://colab.research.google.com/assets/colab-badge.svg\" alt=\"Open In Colab\"/></a>"
      ]
    },
    {
      "cell_type": "markdown",
      "source": [
        "# 문자열 분리하기\n",
        "```\n",
        "str.split([sep])\n",
        "```"
      ],
      "metadata": {
        "id": "alDDLrLrTsnE"
      }
    },
    {
      "cell_type": "code",
      "execution_count": 1,
      "metadata": {
        "colab": {
          "base_uri": "https://localhost:8080/"
        },
        "id": "A_KXQQ2wn6w_",
        "outputId": "a1e78672-1a7e-493f-fbb3-e47d576ad505"
      },
      "outputs": [
        {
          "output_type": "execute_result",
          "data": {
            "text/plain": [
              "['에스프레소', ' 아메리카노', ' 카페라테', ' 카푸치노']"
            ]
          },
          "metadata": {},
          "execution_count": 1
        }
      ],
      "source": [
        "str1 = \"에스프레소, 아메리카노, 카페라테, 카푸치노\"\n",
        "str1.split(\",\")"
      ]
    },
    {
      "cell_type": "code",
      "execution_count": 2,
      "metadata": {
        "colab": {
          "base_uri": "https://localhost:8080/"
        },
        "id": "_Erd6BLZn6xD",
        "outputId": "a7ff2c84-83c6-4267-9dbd-4b846fc6b341"
      },
      "outputs": [
        {
          "output_type": "execute_result",
          "data": {
            "text/plain": [
              "['+82', '10', '1234', '5678']"
            ]
          },
          "metadata": {},
          "execution_count": 2
        }
      ],
      "source": [
        "str1 = \"+82-10-1234-5678\"\n",
        "str1.split(\"-\")"
      ]
    },
    {
      "cell_type": "code",
      "execution_count": 3,
      "metadata": {
        "colab": {
          "base_uri": "https://localhost:8080/"
        },
        "id": "CYQElP_Bn6xD",
        "outputId": "47a28585-9828-482a-bb64-2ef17ce9ae65"
      },
      "outputs": [
        {
          "output_type": "execute_result",
          "data": {
            "text/plain": [
              "['+82', '10-1234-5678']"
            ]
          },
          "metadata": {},
          "execution_count": 3
        }
      ],
      "source": [
        "str1.split(\"-\", 1)"
      ]
    },
    {
      "cell_type": "code",
      "execution_count": 4,
      "metadata": {
        "colab": {
          "base_uri": "https://localhost:8080/"
        },
        "id": "b1vRqTasn6xE",
        "outputId": "70db0505-21ca-4dce-f5eb-105eac082497"
      },
      "outputs": [
        {
          "output_type": "execute_result",
          "data": {
            "text/plain": [
              "['+82', '10', '1234-5678']"
            ]
          },
          "metadata": {},
          "execution_count": 4
        }
      ],
      "source": [
        "str1.split(\"-\", maxsplit=2)"
      ]
    },
    {
      "cell_type": "markdown",
      "source": [
        "# 필요 없는  문자열 삭제하기\n",
        "```\n",
        "str.strip([chars])\n",
        "```"
      ],
      "metadata": {
        "id": "eafi5O2_Tv-u"
      }
    },
    {
      "cell_type": "code",
      "execution_count": 5,
      "metadata": {
        "id": "YFkhNZzkn6xE",
        "colab": {
          "base_uri": "https://localhost:8080/",
          "height": 35
        },
        "outputId": "693b3271-1705-4952-c3d0-f09aa705d119"
      },
      "outputs": [
        {
          "output_type": "execute_result",
          "data": {
            "text/plain": [
              "'Python'"
            ],
            "application/vnd.google.colaboratory.intrinsic+json": {
              "type": "string"
            }
          },
          "metadata": {},
          "execution_count": 5
        }
      ],
      "source": [
        "str2 = \"aaaaPythonaaaa\"\n",
        "str2.strip(\"a\")"
      ]
    },
    {
      "cell_type": "code",
      "execution_count": 6,
      "metadata": {
        "id": "qA2h0ldqn6xF",
        "outputId": "f67fd292-c9b2-471c-f013-0d574fbbc7fc",
        "colab": {
          "base_uri": "https://localhost:8080/",
          "height": 35
        }
      },
      "outputs": [
        {
          "output_type": "execute_result",
          "data": {
            "text/plain": [
              "'bbPythonaaaabb'"
            ],
            "application/vnd.google.colaboratory.intrinsic+json": {
              "type": "string"
            }
          },
          "metadata": {},
          "execution_count": 6
        }
      ],
      "source": [
        "str3 = \"aaabbPythonaaaabb\"\n",
        "str3.strip(\"a\")"
      ]
    },
    {
      "cell_type": "code",
      "execution_count": 7,
      "metadata": {
        "id": "CBVzNmMkn6xF",
        "outputId": "b0700b28-3dd4-4571-bc6c-46fc5de63bc5",
        "colab": {
          "base_uri": "https://localhost:8080/",
          "height": 35
        }
      },
      "outputs": [
        {
          "output_type": "execute_result",
          "data": {
            "text/plain": [
              "'bbPythonbb'"
            ],
            "application/vnd.google.colaboratory.intrinsic+json": {
              "type": "string"
            }
          },
          "metadata": {},
          "execution_count": 7
        }
      ],
      "source": [
        "str4 = \"aaabbPythonbbaaaa\"\n",
        "str4.strip(\"a\")"
      ]
    },
    {
      "cell_type": "code",
      "execution_count": 8,
      "metadata": {
        "id": "ZN0nT1UPn6xG",
        "outputId": "00e6a043-5bed-4a7c-bad6-6b4c743067f2",
        "colab": {
          "base_uri": "https://localhost:8080/"
        }
      },
      "outputs": [
        {
          "output_type": "stream",
          "name": "stdout",
          "text": [
            "aaabbPythonbbaaaa\n",
            "Python\n"
          ]
        }
      ],
      "source": [
        "print(str4)\n",
        "print(str4.strip(\"ab\"))"
      ]
    },
    {
      "cell_type": "code",
      "execution_count": 9,
      "metadata": {
        "id": "ZSYGDDZTn6xG",
        "outputId": "23367359-ddad-4264-ceaa-d855cce817d2",
        "colab": {
          "base_uri": "https://localhost:8080/"
        }
      },
      "outputs": [
        {
          "output_type": "stream",
          "name": "stdout",
          "text": [
            "aaabbPythonbbaaaa\n",
            "Python\n"
          ]
        }
      ],
      "source": [
        "print(str4)\n",
        "print(str4.strip(\"ba\"))"
      ]
    },
    {
      "cell_type": "code",
      "execution_count": 10,
      "metadata": {
        "id": "WrI9fQm3n6xH",
        "outputId": "734507f4-b076-462c-82d3-a2e5669c5ec8",
        "colab": {
          "base_uri": "https://localhost:8080/",
          "height": 35
        }
      },
      "outputs": [
        {
          "output_type": "execute_result",
          "data": {
            "text/plain": [
              "'Python'"
            ],
            "application/vnd.google.colaboratory.intrinsic+json": {
              "type": "string"
            }
          },
          "metadata": {},
          "execution_count": 10
        }
      ],
      "source": [
        "str5 = \"#####****!!!! Python !!!!%%%%!!###\"\n",
        "str5.strip(\"#*!% \")"
      ]
    },
    {
      "cell_type": "code",
      "execution_count": 11,
      "metadata": {
        "id": "Vjt2b3Qqn6xH",
        "outputId": "aaca3404-aafd-4fcc-ce4b-b8b3990d531e",
        "colab": {
          "base_uri": "https://localhost:8080/"
        }
      },
      "outputs": [
        {
          "output_type": "stream",
          "name": "stdout",
          "text": [
            " Python \n",
            " Python 0000\n",
            "0000 Python \n"
          ]
        }
      ],
      "source": [
        "str6 = \"0000 Python 0000\"\n",
        "print(str6.strip('0'))\n",
        "print(str6.lstrip('0'))\n",
        "print(str6.rstrip('0'))"
      ]
    },
    {
      "cell_type": "markdown",
      "source": [
        "# 문자열 연결하기\n",
        "더하기 연산자"
      ],
      "metadata": {
        "id": "uHuMbVOCTzRU"
      }
    },
    {
      "cell_type": "code",
      "execution_count": 12,
      "metadata": {
        "id": "W54SvKqqn6xH",
        "outputId": "029a3cab-16b0-4275-e804-07a09a387c80",
        "colab": {
          "base_uri": "https://localhost:8080/"
        }
      },
      "outputs": [
        {
          "output_type": "stream",
          "name": "stdout",
          "text": [
            "철수님, 주소와 전화번호를 입력해주세요\n"
          ]
        }
      ],
      "source": [
        "name1 = \"철수\"\n",
        "name2 = \"영희\"\n",
        "hello = \"님, 주소와 전화번호를 입력해주세요\"\n",
        "\n",
        "print(name1 + hello)"
      ]
    },
    {
      "cell_type": "code",
      "execution_count": 13,
      "metadata": {
        "id": "9m3y3N7Sn6xI",
        "outputId": "35001a30-0e22-4aa1-c2cc-a8f75f3bed7e",
        "colab": {
          "base_uri": "https://localhost:8080/"
        }
      },
      "outputs": [
        {
          "output_type": "stream",
          "name": "stdout",
          "text": [
            "영희님, 주소와 전화번호를 입력해주세요\n"
          ]
        }
      ],
      "source": [
        "print(name2+hello)"
      ]
    },
    {
      "cell_type": "markdown",
      "source": [
        "```\n",
        "str.join(seq)\n",
        "```"
      ],
      "metadata": {
        "id": "Lwq9aN50T1d2"
      }
    },
    {
      "cell_type": "code",
      "execution_count": 14,
      "metadata": {
        "id": "yOkettntn6xI",
        "outputId": "c8355ad0-fb10-4b51-8abc-5cde5745340a",
        "colab": {
          "base_uri": "https://localhost:8080/",
          "height": 35
        }
      },
      "outputs": [
        {
          "output_type": "execute_result",
          "data": {
            "text/plain": [
              "'서울시 서초구 반포대로 반포동'"
            ],
            "application/vnd.google.colaboratory.intrinsic+json": {
              "type": "string"
            }
          },
          "metadata": {},
          "execution_count": 14
        }
      ],
      "source": [
        "address_list = [\"서울시\", \"서초구\", \"반포대로\", \"반포동\"]\n",
        "a = \" \"\n",
        "a.join(address_list)"
      ]
    },
    {
      "cell_type": "code",
      "execution_count": 15,
      "metadata": {
        "id": "OYqoJQrqn6xI",
        "outputId": "9a53bbbf-56e1-48cc-a4bd-cb73048feea1",
        "colab": {
          "base_uri": "https://localhost:8080/",
          "height": 35
        }
      },
      "outputs": [
        {
          "output_type": "execute_result",
          "data": {
            "text/plain": [
              "'서울시^^서초구^^반포대로^^반포동'"
            ],
            "application/vnd.google.colaboratory.intrinsic+json": {
              "type": "string"
            }
          },
          "metadata": {},
          "execution_count": 15
        }
      ],
      "source": [
        "b = \"^^\"\n",
        "b.join(address_list)"
      ]
    },
    {
      "cell_type": "markdown",
      "source": [
        "# 문자열 찾기\n",
        "```\n",
        "str.find(search_str)\n",
        "```"
      ],
      "metadata": {
        "id": "OaqjTfqtT3hW"
      }
    },
    {
      "cell_type": "code",
      "execution_count": 16,
      "metadata": {
        "id": "MgVea83dn6xI",
        "outputId": "037dbab6-adad-44cf-9546-1f8f37cd1db1",
        "colab": {
          "base_uri": "https://localhost:8080/"
        }
      },
      "outputs": [
        {
          "output_type": "stream",
          "name": "stdout",
          "text": [
            "위치: 0\n"
          ]
        }
      ],
      "source": [
        "str6 = \"Python code\"\n",
        "print(\"위치:\", str6.find(\"Python\"))"
      ]
    },
    {
      "cell_type": "code",
      "execution_count": 17,
      "metadata": {
        "id": "3EApmjcUn6xJ",
        "outputId": "9914f83c-86e1-4afc-9a84-88fe0b9f72bf",
        "colab": {
          "base_uri": "https://localhost:8080/"
        }
      },
      "outputs": [
        {
          "output_type": "stream",
          "name": "stdout",
          "text": [
            "위치: -1\n"
          ]
        }
      ],
      "source": [
        "print(\"위치:\", str6.find(\"hahaha\"))"
      ]
    },
    {
      "cell_type": "markdown",
      "source": [
        "```\n",
        "str.find(search_str, start, end)\n",
        "```\n",
        "```\n",
        "str.find(search_str, start)\n",
        "```\n",
        "시작 위치(start)와 끝 위치(end)를 지정해 검색 범위를 설정"
      ],
      "metadata": {
        "id": "wB3PqxCqSPaS"
      }
    },
    {
      "cell_type": "code",
      "source": [
        "str_f_se = \"Python is powerful. Python is easy to learn.\"\n",
        "print(str_f_se.find(\"Python\", 10, 30)) # 시작 위치(start)와 끝 위치(end) 지정\n",
        "print(str_f_se.find(\"Python\", 35)) # 찾기 위한 시작 위치(start) 지정"
      ],
      "metadata": {
        "colab": {
          "base_uri": "https://localhost:8080/"
        },
        "id": "i7Q6Oj2wS_xY",
        "outputId": "4fb92498-b97d-4095-d812-edbbc40215d4"
      },
      "execution_count": 18,
      "outputs": [
        {
          "output_type": "stream",
          "name": "stdout",
          "text": [
            "20\n",
            "-1\n"
          ]
        }
      ]
    },
    {
      "cell_type": "markdown",
      "source": [
        "# 문자열 일치 횟수 반환\n",
        "```\n",
        "str.count(search_str)\n",
        "str.count(search_str, start)\n",
        "str.count(search_str, start, end)\n",
        "```"
      ],
      "metadata": {
        "id": "xRRfaFEXS2x0"
      }
    },
    {
      "cell_type": "code",
      "source": [
        "str_c = \"Python is powerful. Python is easy to learn. Python is open.\"\n",
        "print(\"Python의 개수는?:\", str_c.count(\"Python\"))\n",
        "print(\"powerful의 개수는?:\", str_c.count(\"powerful\"))\n",
        "print(\"IPython의 개수는?:\", str_c.count(\"IPython\"))"
      ],
      "metadata": {
        "colab": {
          "base_uri": "https://localhost:8080/"
        },
        "id": "ixyd6ofeTL3w",
        "outputId": "d96516c0-b9ee-451d-fb2d-54ca43babd17"
      },
      "execution_count": 19,
      "outputs": [
        {
          "output_type": "stream",
          "name": "stdout",
          "text": [
            "Python의 개수는?: 3\n",
            "powerful의 개수는?: 1\n",
            "IPython의 개수는?: 0\n"
          ]
        }
      ]
    },
    {
      "cell_type": "markdown",
      "source": [
        "# 문자열이 특정 문자열로 시작하는지 끝나는지 검사\n",
        "- startwith(), endwith() 메서드 이용\n",
        "```\n",
        "str.startswith(prefix)\n",
        "str.startswith(prefix, start)\n",
        "str.startswith(prefix, start, end)\n",
        "```\n",
        "```\n",
        "str.endswith(suffix)\n",
        "str.endswith(suffix, start)\n",
        "str.endswith(suffix, start, end)\n",
        "```\n"
      ],
      "metadata": {
        "id": "_AbrFHS-TJLY"
      }
    },
    {
      "cell_type": "markdown",
      "source": [
        "startwith(), endwith() 메서드 이용 예\n"
      ],
      "metadata": {
        "id": "sKfkzh57TQwo"
      }
    },
    {
      "cell_type": "code",
      "source": [
        "str_se = \"Python is powerful. Python is easy to learn.\"\n",
        "print(\"Python으로 시작?:\", str_se.startswith(\"Python\"))\n",
        "print(\"is로 시작?:\", str_se.startswith(\"is\"))\n",
        "print(\".로 끝?:\", str_se.endswith(\".\"))\n",
        "print(\"learn으로 끝?:\", str_se.endswith(\"learn\"))"
      ],
      "metadata": {
        "colab": {
          "base_uri": "https://localhost:8080/"
        },
        "id": "JGYxXrr3TU77",
        "outputId": "f7b53309-2889-40f6-f609-bab028daf94f"
      },
      "execution_count": 20,
      "outputs": [
        {
          "output_type": "stream",
          "name": "stdout",
          "text": [
            "Python으로 시작?: True\n",
            "is로 시작?: False\n",
            ".로 끝?: True\n",
            "learn으로 끝?: False\n"
          ]
        }
      ]
    },
    {
      "cell_type": "markdown",
      "source": [
        "# 문자열 바꾸기\n",
        "- replace() 메서드 이용\n",
        "```\n",
        "str.replace(old, new[, count])\n",
        "```"
      ],
      "metadata": {
        "id": "6x49p8ARTTQZ"
      }
    },
    {
      "cell_type": "markdown",
      "source": [
        "replace() 메서드 이용 예\n"
      ],
      "metadata": {
        "id": "xJmc9_0ETY6p"
      }
    },
    {
      "cell_type": "code",
      "source": [
        "str_a = 'Python is fast. Python is friendly. Python is open.'\n",
        "print(str_a.replace('Python', 'IPython'))\n",
        "print(str_a.replace('Python', 'IPython', 2))"
      ],
      "metadata": {
        "colab": {
          "base_uri": "https://localhost:8080/"
        },
        "id": "liG5cI5cTbys",
        "outputId": "6a75a00c-0563-42d7-f5cc-7f41fc4c65b8"
      },
      "execution_count": 21,
      "outputs": [
        {
          "output_type": "stream",
          "name": "stdout",
          "text": [
            "IPython is fast. IPython is friendly. IPython is open.\n",
            "IPython is fast. IPython is friendly. Python is open.\n"
          ]
        }
      ]
    },
    {
      "cell_type": "code",
      "source": [
        "str_b = '[Python] [is] [fast]'\n",
        "str_b1 = str_b.replace('[', '') # 문자열에서 '['를 제거\n",
        "str_b2 = str_b1.replace(']', '') # 결과 문자열에서 다시 ']'를 제거\n",
        "print(str_b)\n",
        "print(str_b1)\n",
        "print(str_b2)"
      ],
      "metadata": {
        "colab": {
          "base_uri": "https://localhost:8080/"
        },
        "id": "ArFfnocMTfPc",
        "outputId": "8487b7e1-9699-4dbc-8537-a066101ed7d5"
      },
      "execution_count": 22,
      "outputs": [
        {
          "output_type": "stream",
          "name": "stdout",
          "text": [
            "[Python] [is] [fast]\n",
            "Python] is] fast]\n",
            "Python is fast\n"
          ]
        }
      ]
    },
    {
      "cell_type": "markdown",
      "source": [
        "# 문자열의 구성 확인\n",
        "문자열이 숫자 또는 문자로만, 숫자와  문자가 모두 포함돼 있는지, 로마자 알파벳 대문자로만 이뤄졌는지, 소문자로만 이뤄졌는지 등을 확인\n",
        "\n",
        "\n",
        "| 메서드    | 설명                                                                                         | 사용 예       |\n",
        "|-----------|----------------------------------------------------------------------------------------------|---------------|\n",
        "| isalpha() | 문자열이 숫자, 특수 문자, 공백이 아닌 문자로 구성돼 있을 때만 True, 그 밖에는 False 반환     | str.isalpha() |\n",
        "| isdigit() | 문자열이 모두 숫자로 구성돼 있을 때만 True, 그 밖에는 False 반환                             | str.isdigit() |\n",
        "| isalnum() | 문자열이 특수 문자나 공백이 아닌 문자와 숫자로   구성돼 있을 때만 True, 그 밖에는 False 반환 | str.isalnum() |\n",
        "| isspace() | 문자열이 모두 공백 문자로 구성돼 있을 때만 True, 그 밖에는 False 반환                        | str.isspace() |\n",
        "| isupper() | 문자열이 모두 로마자 대문자로 구성돼 있을 때만   True, 그 밖에는 False 반환                  | str.isupper() |\n",
        "| islower() | 문자열이 모두 로마자 소문자로 구성돼 있을 때만   True, 그 밖에는 False 반환                  | str.islower() |"
      ],
      "metadata": {
        "id": "KNDt9J8PTaY2"
      }
    },
    {
      "cell_type": "code",
      "source": [
        "print('Python'.isalpha())    # 문자열에 공백, 특수 문자, 숫자가 없음\n",
        "print('Ver. 3.x'.isalpha())   # 공백, 특수 문자, 숫자 중 하나가 있음\n",
        "print('12345'.isdigit())       # 문자열이 모두 숫자로 구성됨\n",
        "print('12345abc'.isdigit())     # 문자열이 숫자로만 구성되지 않음\n",
        "print('abc1234'.isalnum())     # 특수 문자나 공백이 아닌 문자와 숫자로 구성됨\n",
        "print('   abc1234'.isalnum())   # 문자열에 공백이 있음\n",
        "print('   '.isspace())         # 문자열이 공백으로만 구성됨\n",
        "print(' 1 '.isspace())          # 문자열에 공백 외에 다른 문자가 있음\n",
        "print('PYTHON'.isupper())      # 문자열이 모두 대문자로 구성됨\n",
        "print('Python'.isupper())       # 문자열에 대문자와 소문자가 있음\n",
        "print('python'.islower())       # 문자열이 모두 소문자로 구성됨\n",
        "print('Python'.islower())       # 문자열에 대문자와 소문자가 있음"
      ],
      "metadata": {
        "colab": {
          "base_uri": "https://localhost:8080/"
        },
        "id": "yBVut_FSTuus",
        "outputId": "5ba12006-9b46-448d-9f5e-077425dd77e6"
      },
      "execution_count": 23,
      "outputs": [
        {
          "output_type": "stream",
          "name": "stdout",
          "text": [
            "True\n",
            "False\n",
            "True\n",
            "False\n",
            "True\n",
            "False\n",
            "True\n",
            "False\n",
            "True\n",
            "False\n",
            "True\n",
            "False\n"
          ]
        }
      ]
    },
    {
      "cell_type": "markdown",
      "source": [
        "# 대소문자로 변경하기\n",
        "- lower()와 upper() 메서드 이용\n",
        "```\n",
        "str.lower()\n",
        "str.upper()\n",
        "```\n"
      ],
      "metadata": {
        "id": "7QDE1EFuTigW"
      }
    },
    {
      "cell_type": "markdown",
      "source": [
        "lower()와 upper() 메서드 이용 예\n"
      ],
      "metadata": {
        "id": "qDFB8A0GT7b_"
      }
    },
    {
      "cell_type": "code",
      "source": [
        "string1 =  'Python is powerful. PYTHON IS EASY TO LEARN.'\n",
        "print(string1.lower())\n",
        "print(string1.upper())\n",
        "\n",
        "print('Python' == 'python')\n",
        "print('Python'.lower() == 'python'.lower())\n",
        "print('Python'.upper() == 'python'.upper())"
      ],
      "metadata": {
        "colab": {
          "base_uri": "https://localhost:8080/"
        },
        "id": "ZmoywcMRT_AT",
        "outputId": "3564665d-f284-4a94-dace-6df03927814a"
      },
      "execution_count": 24,
      "outputs": [
        {
          "output_type": "stream",
          "name": "stdout",
          "text": [
            "python is powerful. python is easy to learn.\n",
            "PYTHON IS POWERFUL. PYTHON IS EASY TO LEARN.\n",
            "False\n",
            "True\n",
            "True\n"
          ]
        }
      ]
    },
    {
      "cell_type": "code",
      "execution_count": 24,
      "metadata": {
        "id": "W1CIgPdgn6xJ"
      },
      "outputs": [],
      "source": []
    }
  ],
  "metadata": {
    "kernelspec": {
      "display_name": "Python 3 (ipykernel)",
      "language": "python",
      "name": "python3"
    },
    "language_info": {
      "codemirror_mode": {
        "name": "ipython",
        "version": 3
      },
      "file_extension": ".py",
      "mimetype": "text/x-python",
      "name": "python",
      "nbconvert_exporter": "python",
      "pygments_lexer": "ipython3",
      "version": "3.9.12"
    },
    "toc": {
      "base_numbering": 1,
      "nav_menu": {},
      "number_sections": false,
      "sideBar": true,
      "skip_h1_title": false,
      "title_cell": "Table of Contents",
      "title_sidebar": "Contents",
      "toc_cell": false,
      "toc_position": {},
      "toc_section_display": true,
      "toc_window_display": false
    },
    "colab": {
      "provenance": [],
      "toc_visible": true,
      "include_colab_link": true
    }
  },
  "nbformat": 4,
  "nbformat_minor": 0
}