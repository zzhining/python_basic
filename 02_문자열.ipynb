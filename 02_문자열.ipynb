{
 "cells": [
  {
   "cell_type": "markdown",
   "metadata": {},
   "source": [
    "# 문자열\n",
    "\n",
    "- 문자열 시작과 끝에 큰따옴표(\")나 작은따옴표(')를 지정\n",
    "- 둘 중 어떤 것을 사용해도 무방. 단, 양쪽에는 같은 기호를 이용"
   ]
  },
  {
   "cell_type": "code",
   "execution_count": 1,
   "metadata": {},
   "outputs": [
    {
     "name": "stdout",
     "output_type": "stream",
     "text": [
      "문자열 테스트\n"
     ]
    }
   ],
   "source": [
    "print(\"문자열 테스트\")"
   ]
  },
  {
   "cell_type": "code",
   "execution_count": 2,
   "metadata": {},
   "outputs": [
    {
     "name": "stdout",
     "output_type": "stream",
     "text": [
      "문자열 테스트\n"
     ]
    }
   ],
   "source": [
    "print('문자열 테스트')"
   ]
  },
  {
   "cell_type": "code",
   "execution_count": 3,
   "metadata": {},
   "outputs": [],
   "source": [
    "string1 = \"문자열 테스트\"\n",
    "string2 = '문자열 테스트'"
   ]
  },
  {
   "cell_type": "code",
   "execution_count": 4,
   "metadata": {},
   "outputs": [
    {
     "name": "stdout",
     "output_type": "stream",
     "text": [
      "문자열 테스트\n",
      "문자열 테스트\n"
     ]
    }
   ],
   "source": [
    "print(string1)\n",
    "print(string2)"
   ]
  },
  {
   "cell_type": "code",
   "execution_count": 5,
   "metadata": {},
   "outputs": [
    {
     "name": "stdout",
     "output_type": "stream",
     "text": [
      "이것은 \"문자열 테스트\"입니다\n",
      "이것은 '문자열 테스트'입니다\n"
     ]
    }
   ],
   "source": [
    "string3 = '이것은 \"문자열 테스트\"입니다'\n",
    "string4 = \"이것은 '문자열 테스트'입니다\"\n",
    "\n",
    "print(string3)\n",
    "print(string4)"
   ]
  },
  {
   "cell_type": "code",
   "execution_count": 6,
   "metadata": {},
   "outputs": [
    {
     "name": "stdout",
     "output_type": "stream",
     "text": [
      " 삼중따옴표 예제\n",
      "             삼중따옴표를 사용하면 작은따옴표('), 큰따옴표(\")를\n",
      "             자유롭게 사용할 수 있습니다\n",
      " 삼중따옴표 예제\n",
      "             삼중따옴표를 사용하면 작은따옴표('), 큰따옴표(\")를\n",
      "             자유롭게 사용할 수 있습니다\n"
     ]
    }
   ],
   "source": [
    "string5 = ''' 삼중따옴표 예제\n",
    "             삼중따옴표를 사용하면 작은따옴표('), 큰따옴표(\")를\n",
    "             자유롭게 사용할 수 있습니다'''\n",
    "\n",
    "string6 = \"\"\" 삼중따옴표 예제\n",
    "             삼중따옴표를 사용하면 작은따옴표('), 큰따옴표(\")를\n",
    "             자유롭게 사용할 수 있습니다\"\"\"\n",
    "\n",
    "print(string5)\n",
    "print(string6)"
   ]
  },
  {
   "cell_type": "markdown",
   "metadata": {},
   "source": [
    "# 문자열 연산\n",
    "\n",
    "## + 연산 : 문자열끼리 연결\n",
    "## * 연산 : 문자열을 반복"
   ]
  },
  {
   "cell_type": "code",
   "execution_count": 7,
   "metadata": {},
   "outputs": [],
   "source": [
    "a = 'test'\n",
    "b = 'program'\n",
    "c = a + b"
   ]
  },
  {
   "cell_type": "code",
   "execution_count": 8,
   "metadata": {},
   "outputs": [
    {
     "name": "stdout",
     "output_type": "stream",
     "text": [
      "testprogram\n"
     ]
    }
   ],
   "source": [
    "print(c)"
   ]
  },
  {
   "cell_type": "code",
   "execution_count": 9,
   "metadata": {},
   "outputs": [
    {
     "name": "stdout",
     "output_type": "stream",
     "text": [
      "testtesttest\n"
     ]
    }
   ],
   "source": [
    "print(a*3)"
   ]
  },
  {
   "cell_type": "code",
   "execution_count": null,
   "metadata": {},
   "outputs": [],
   "source": []
  }
 ],
 "metadata": {
  "kernelspec": {
   "display_name": "Python 3",
   "language": "python",
   "name": "python3"
  },
  "language_info": {
   "codemirror_mode": {
    "name": "ipython",
    "version": 3
   },
   "file_extension": ".py",
   "mimetype": "text/x-python",
   "name": "python",
   "nbconvert_exporter": "python",
   "pygments_lexer": "ipython3",
   "version": "3.7.6"
  },
  "toc": {
   "base_numbering": 1,
   "nav_menu": {},
   "number_sections": false,
   "sideBar": true,
   "skip_h1_title": false,
   "title_cell": "Table of Contents",
   "title_sidebar": "Contents",
   "toc_cell": false,
   "toc_position": {},
   "toc_section_display": true,
   "toc_window_display": false
  }
 },
 "nbformat": 4,
 "nbformat_minor": 4
}
