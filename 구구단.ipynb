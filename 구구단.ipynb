{
  "cells": [
    {
      "cell_type": "markdown",
      "metadata": {
        "id": "view-in-github",
        "colab_type": "text"
      },
      "source": [
        "<a href=\"https://colab.research.google.com/github/zzhining/python_basic/blob/master/%EA%B5%AC%EA%B5%AC%EB%8B%A8.ipynb\" target=\"_parent\"><img src=\"https://colab.research.google.com/assets/colab-badge.svg\" alt=\"Open In Colab\"/></a>"
      ]
    },
    {
      "cell_type": "code",
      "execution_count": null,
      "metadata": {
        "id": "3aj_7ptYx8MO"
      },
      "outputs": [],
      "source": [
        "import numpy as np\n",
        "\n",
        "n = 10\n",
        "\n",
        "def create_problems(n, dan = 2):\n",
        "    for i in range(n):\n",
        "        print('{}. {} x {} = '.format(i+1, np.random.randint(dan-1)+2, np.random.randint(8) + 2))\n",
        "\n",
        "create_problems(n, 9)"
      ]
    },
    {
      "cell_type": "code",
      "execution_count": null,
      "metadata": {
        "id": "TchuLIJTRO9J"
      },
      "outputs": [],
      "source": [
        "# np.random.randint?"
      ]
    },
    {
      "cell_type": "code",
      "execution_count": null,
      "metadata": {
        "id": "kilNBuYIyDzU"
      },
      "outputs": [],
      "source": [
        "import numpy as np\n",
        "\n",
        "n = 10\n",
        "\n",
        "def create_problems(n, start_dan = 7, end_dan = 9):\n",
        "    for i in range(n):\n",
        "        dan = np.random.randint(start_dan, end_dan + 1)\n",
        "        print('{}. {} x {} = '.format(i+1, dan, np.random.randint(8) + 2))\n",
        "\n",
        "create_problems(n, 7, 9)"
      ]
    },
    {
      "cell_type": "code",
      "execution_count": null,
      "metadata": {
        "id": "KPI2OxRkQsKY"
      },
      "outputs": [],
      "source": []
    }
  ],
  "metadata": {
    "colab": {
      "private_outputs": true,
      "provenance": [],
      "include_colab_link": true
    },
    "kernelspec": {
      "display_name": "Python 3",
      "language": "python",
      "name": "python3"
    },
    "language_info": {
      "codemirror_mode": {
        "name": "ipython",
        "version": 3
      },
      "file_extension": ".py",
      "mimetype": "text/x-python",
      "name": "python",
      "nbconvert_exporter": "python",
      "pygments_lexer": "ipython3",
      "version": "3.8.5"
    },
    "toc": {
      "base_numbering": 1,
      "nav_menu": {},
      "number_sections": false,
      "sideBar": true,
      "skip_h1_title": false,
      "title_cell": "Table of Contents",
      "title_sidebar": "Contents",
      "toc_cell": false,
      "toc_position": {},
      "toc_section_display": true,
      "toc_window_display": false
    }
  },
  "nbformat": 4,
  "nbformat_minor": 0
}