{
  "nbformat": 4,
  "nbformat_minor": 0,
  "metadata": {
    "kernelspec": {
      "display_name": "Python 3",
      "language": "python",
      "name": "python3"
    },
    "language_info": {
      "codemirror_mode": {
        "name": "ipython",
        "version": 3
      },
      "file_extension": ".py",
      "mimetype": "text/x-python",
      "name": "python",
      "nbconvert_exporter": "python",
      "pygments_lexer": "ipython3",
      "version": "3.8.5"
    },
    "toc": {
      "base_numbering": 1,
      "nav_menu": {},
      "number_sections": false,
      "sideBar": true,
      "skip_h1_title": false,
      "title_cell": "Table of Contents",
      "title_sidebar": "Contents",
      "toc_cell": false,
      "toc_position": {},
      "toc_section_display": true,
      "toc_window_display": false
    },
    "colab": {
      "provenance": [],
      "include_colab_link": true
    }
  },
  "cells": [
    {
      "cell_type": "markdown",
      "metadata": {
        "id": "view-in-github",
        "colab_type": "text"
      },
      "source": [
        "<a href=\"https://colab.research.google.com/github/zzhining/python_basic/blob/master/python_basic_exercise.ipynb\" target=\"_parent\"><img src=\"https://colab.research.google.com/assets/colab-badge.svg\" alt=\"Open In Colab\"/></a>"
      ]
    },
    {
      "cell_type": "code",
      "metadata": {
        "id": "WdiaWityy88B",
        "outputId": "d0fa85a2-bc50-43a6-e9c3-b9e674a924db"
      },
      "source": [
        "x = 3928\n",
        "y = 500\n",
        "z = 100\n",
        "\n",
        "print(\"500원짜리 동전: {}개\".format(x//y))"
      ],
      "execution_count": null,
      "outputs": [
        {
          "name": "stdout",
          "output_type": "stream",
          "text": [
            "500원짜리 동전: 7개\n"
          ]
        }
      ]
    },
    {
      "cell_type": "code",
      "metadata": {
        "id": "Bzlo_61_y88E",
        "outputId": "6d82065a-e9a1-41e4-9c00-c258301ff819"
      },
      "source": [
        "import math\n",
        "\n",
        "a = 21.9\n",
        "b = 37\n",
        "c = 13.6\n",
        "\n",
        "(a+b+c)/3"
      ],
      "execution_count": null,
      "outputs": [
        {
          "data": {
            "text/plain": [
              "24.166666666666668"
            ]
          },
          "execution_count": 4,
          "metadata": {},
          "output_type": "execute_result"
        }
      ]
    },
    {
      "cell_type": "code",
      "metadata": {
        "id": "XFli4Bmyy88F",
        "outputId": "103eda50-6d1a-4bb7-f92c-9c66d9615dc0"
      },
      "source": [
        "L = [1, 3, 5, 7, 9]\n",
        "L.append(L[0])\n",
        "L.pop(0)\n",
        "print(L)"
      ],
      "execution_count": null,
      "outputs": [
        {
          "name": "stdout",
          "output_type": "stream",
          "text": [
            "[3, 5, 7, 9, 1]\n"
          ]
        }
      ]
    },
    {
      "cell_type": "code",
      "metadata": {
        "id": "HVcnFlGjy88G",
        "outputId": "27a6a619-510d-4dce-fd17-76d3d89c881a"
      },
      "source": [
        "L = [1, 3, 5, 7, 9]\n",
        "L1 = []\n",
        "\n",
        "for i in range(len(L)):\n",
        "    if i < len(L) - 1:\n",
        "        L1.append(L[i+1])\n",
        "    else:\n",
        "        L1.append(L[0])\n",
        "    \n",
        "print(L1)"
      ],
      "execution_count": null,
      "outputs": [
        {
          "name": "stdout",
          "output_type": "stream",
          "text": [
            "[3, 5, 7, 9, 1]\n"
          ]
        }
      ]
    },
    {
      "cell_type": "code",
      "metadata": {
        "id": "T7KpggA7y88G",
        "outputId": "6b29d028-fae6-4e9d-d706-87e388f8f654"
      },
      "source": [
        "import numpy as np \n",
        "\n",
        "# m=np.array([[1,2,3,0],[0,1,2,3],[3,0,1,2],[2,3,0,1]]) \n",
        "# f=np.array([[2,0,1],[0,1,2],[1,0,2]]) \n",
        "m=np.array([[0,0,0,0,0],[0,5,2,1,0],[0,3,0,2,0],[0,1,2,4,0],[0,0,0,0,0]]) \n",
        "f=np.array([[1,0],[3,2]]) \n",
        "result=[]\n",
        "\n",
        "\n",
        "mx,my=np.shape(m) \n",
        "fx,fy=np.shape(f) \n",
        "\n",
        "for i in range(mx-fx+1): \n",
        "    for j in range(my-fy+1): \n",
        "        result.append((m[i:i+fy,j:j+fy]*f).sum()) \n",
        "result=np.array(result).reshape(4,4) \n",
        "print(result)\n"
      ],
      "execution_count": null,
      "outputs": [
        {
          "name": "stdout",
          "output_type": "stream",
          "text": [
            "[[10 19  8  3]\n",
            " [ 6 14  6  7]\n",
            " [ 2 10 14 14]\n",
            " [ 0  1  2  4]]\n"
          ]
        }
      ]
    },
    {
      "cell_type": "code",
      "metadata": {
        "id": "4lcROSfOy88H",
        "outputId": "eaa88a25-acb1-4add-d55f-4ec8af56044e"
      },
      "source": [
        "np.mean(np.array([2,3,6,7]))"
      ],
      "execution_count": null,
      "outputs": [
        {
          "data": {
            "text/plain": [
              "4.5"
            ]
          },
          "execution_count": 38,
          "metadata": {},
          "output_type": "execute_result"
        }
      ]
    },
    {
      "cell_type": "code",
      "metadata": {
        "colab": {
          "base_uri": "https://localhost:8080/"
        },
        "id": "Fw9eb35Ay88H",
        "outputId": "94ff8b65-083e-4d02-e27d-4e349ccd2054"
      },
      "source": [
        "n = input(\"수식 입력(예: 20 * 40) :\")\n",
        "\n",
        "n_arr = n.split()\n",
        "n1 = float(n_arr[0])\n",
        "x1 = str(n_arr[1])\n",
        "n2 = float(n_arr[2])\n",
        "\n",
        "if(x1 ==\"+\"):\n",
        "    print(\"%9.6f + %9.6f =\" %(n1, n2), \"%9.6f\" %(n1+n2))\n",
        "elif(x1 ==\"-\"):\n",
        "    print(\"%9.6f - %9.6f =\" %(n1, n2), \"%9.6f\" %(n1-n2))\n",
        "elif(x1 ==\"*\"):\n",
        "    print(\"%9.6f * %9.6f = \" %(n1, n2), \"%8.6f\" %(n1*n2))\n",
        "elif(x1 ==\"/\"):\n",
        "    if(n2 == 0):\n",
        "        print(\"%9.9f 로 나누기를 수행할 수 없습니다.\" %0)\n",
        "    else:\n",
        "        print(\"%9.6f / %9.6f =\" %(n1, n2), \"%8.6f\" %(n1/n2))\n",
        "else:\n",
        "    print(\"%s 지원하지 않는 연산자입니다.\" %x1)"
      ],
      "execution_count": null,
      "outputs": [
        {
          "output_type": "stream",
          "name": "stdout",
          "text": [
            "수식 입력(예: 20 * 40) :20 + 4\n",
            "20.000000 +  4.000000 = 24.000000\n"
          ]
        }
      ]
    },
    {
      "cell_type": "code",
      "metadata": {
        "id": "fzhfEgTEpzq_"
      },
      "source": [
        "def solution(info, lecture, qty):\n",
        "    code = 0 \n",
        "    \n",
        "    # 코드를 작성하시오.\n",
        "    \n",
        "    return code, info "
      ],
      "execution_count": null,
      "outputs": []
    },
    {
      "cell_type": "markdown",
      "metadata": {
        "id": "ZLMTIFvtp9py"
      },
      "source": []
    },
    {
      "cell_type": "code",
      "metadata": {
        "id": "Lk8h41SamA_s"
      },
      "source": [
        "info = {'수업1' : [10, 20], '수업2' : [6, 6], '수업3' : [27,50], '수업4' : [10, 20]}\n",
        "\n",
        "def solution(info, lecture, qty):\n",
        "    code = 0 \n",
        "    try :    \n",
        "        registered, total = info[lecture]\n",
        "        if registered + qty > total:\n",
        "            code = 1\n",
        "        else:\n",
        "            info[lecture] = [registered + qty, total]\n",
        "    except:\n",
        "        code = 1\n",
        "    return code, info \n"
      ],
      "execution_count": null,
      "outputs": []
    },
    {
      "cell_type": "code",
      "metadata": {
        "colab": {
          "base_uri": "https://localhost:8080/"
        },
        "id": "5JfaCvkmonc-",
        "outputId": "2949cf8e-676e-4f87-efb1-28748a41e0b4"
      },
      "source": [
        "solution(info, '수업1', 2)"
      ],
      "execution_count": null,
      "outputs": [
        {
          "output_type": "execute_result",
          "data": {
            "text/plain": [
              "(0, {'수업1': [12, 20], '수업2': [6, 6], '수업3': [27, 50], '수업4': [10, 20]})"
            ]
          },
          "metadata": {},
          "execution_count": 15
        }
      ]
    },
    {
      "cell_type": "code",
      "metadata": {
        "colab": {
          "base_uri": "https://localhost:8080/"
        },
        "id": "FLTQCrkhoq_g",
        "outputId": "9604fe96-d18f-46ea-ee23-c1b78509c88f"
      },
      "source": [
        "solution(info, '수업5', 2)"
      ],
      "execution_count": null,
      "outputs": [
        {
          "output_type": "execute_result",
          "data": {
            "text/plain": [
              "(1, {'수업1': [10, 20], '수업2': [6, 6], '수업3': [27, 50], '수업4': [10, 20]})"
            ]
          },
          "metadata": {},
          "execution_count": 19
        }
      ]
    },
    {
      "cell_type": "code",
      "metadata": {
        "colab": {
          "base_uri": "https://localhost:8080/"
        },
        "id": "gcylYSlgpX-l",
        "outputId": "44d4cba1-4fc7-4c6c-b60f-ccfe0d3fe4c7"
      },
      "source": [
        "solution(info, '수업2', 2)"
      ],
      "execution_count": null,
      "outputs": [
        {
          "output_type": "execute_result",
          "data": {
            "text/plain": [
              "(1, {'수업1': [10, 20], '수업2': [6, 6], '수업3': [27, 50], '수업4': [10, 20]})"
            ]
          },
          "metadata": {},
          "execution_count": 20
        }
      ]
    },
    {
      "cell_type": "code",
      "metadata": {
        "colab": {
          "base_uri": "https://localhost:8080/"
        },
        "id": "cv-O7RRrzKU6",
        "outputId": "64d91065-b3a6-4748-a945-64ea392618ce"
      },
      "source": [
        "fruit = {'배' : [2, 1000], '자몽' : [1, 2000], '메론' : [1, 8000], '감' : [6, 800]}\n",
        "f = input(\"먹고 싶은 과일은? :\")\n",
        "\n",
        "try :    \n",
        "    num, price = fruit[f]\n",
        "    print(f +' 맛있게 드세요')\n",
        "    fruit[f] = [num-1, price]\n",
        "except:\n",
        "    print(f +' 준비되어 있지 않습니다')\n",
        "\n",
        "total = 0\n",
        "for num, price in fruit.values():\n",
        "    if num < 5:\n",
        "        total += price * (5 - num)\n",
        "print('각 과일 당 최소 5개는 되도록 구입합니다')\n",
        "print('구입에 필요한 총 금액은 : {} 원 입니다'.format(total))"
      ],
      "execution_count": null,
      "outputs": [
        {
          "output_type": "stream",
          "name": "stdout",
          "text": [
            "먹고 싶은 과일은? :메론\n",
            "메론 맛있게 드세요\n",
            "각 과일 당 최소 5개는 되도록 구입합니다\n",
            "구입에 필요한 총 금액은 : 51000 원 입니다\n"
          ]
        }
      ]
    },
    {
      "cell_type": "code",
      "metadata": {
        "colab": {
          "base_uri": "https://localhost:8080/"
        },
        "id": "PL7O0E1KzT2J",
        "outputId": "6520a1a2-6172-48b3-d736-7143d64881e6"
      },
      "source": [
        "num = input('구하려는 소수의 개수를 입력:')\n",
        "x = int(num)\n",
        "primeChk = True\n",
        "n = 2\n",
        "\n",
        "while x > 0:\n",
        "    for i in range(2, n):\n",
        "        if n % i == 0:\n",
        "            primeChk = False\n",
        "            break\n",
        "    if primeChk:\n",
        "        print(n)\n",
        "        x = x - 1\n",
        "    n = n + 1\n",
        "    primeChk = True\n",
        "print('{} 개의 소수를 찾았습니다'.format(num))"
      ],
      "execution_count": null,
      "outputs": [
        {
          "output_type": "stream",
          "name": "stdout",
          "text": [
            "구하려는 소수의 개수를 입력:11\n",
            "2\n",
            "3\n",
            "5\n",
            "7\n",
            "11\n",
            "13\n",
            "17\n",
            "19\n",
            "23\n",
            "29\n",
            "31\n",
            "11 개의 소수를 찾았습니다\n"
          ]
        }
      ]
    },
    {
      "cell_type": "code",
      "metadata": {
        "colab": {
          "base_uri": "https://localhost:8080/"
        },
        "id": "oqy5ogMMzW7g",
        "outputId": "1514a56f-e9e7-4554-cd64-b0dc05f8cf4b"
      },
      "source": [
        "pluse_list = []\n",
        "minus_list = []\n",
        "numbers = input('정수들을 입력 :')\n",
        "num_list = numbers.split(' ')\n",
        "\n",
        "try:\n",
        "    for i in num_list:\n",
        "        if int(i) > 0 :\n",
        "            pluse_list.append(int(i))\n",
        "        elif int(i) < 0:\n",
        "            minus_list.append(int(i))\n",
        "except:\n",
        "    print('입력한 숫자가 없습니다')\n",
        "                \n",
        "print('양수: {}개, 음수: {}개, 합계: {}'.format(len(pluse_list), len(minus_list), sum(pluse_list) + sum(minus_list)))        "
      ],
      "execution_count": null,
      "outputs": [
        {
          "output_type": "stream",
          "name": "stdout",
          "text": [
            "정수들을 입력 :\n",
            "입력한 숫자가 없습니다\n",
            "양수: 0개, 음수: 0개, 합계: 0\n"
          ]
        }
      ]
    },
    {
      "cell_type": "code",
      "metadata": {
        "colab": {
          "base_uri": "https://localhost:8080/"
        },
        "id": "Ykie_KaDzZvw",
        "outputId": "341265e9-3b55-4e86-9e2c-2f4322ae0a78"
      },
      "source": [
        "pluse_list = []\n",
        "minus_list = []\n",
        "numbers = input('정수들을 입력:\\n')\n",
        "\n",
        "try:    \n",
        "    # 입력으로부터 정수 리스트로 변환하는 것은 한 줄 코드로 작성\n",
        "    num_list = [int(i) for i in numbers.split(' ')]\n",
        "    for i in num_list:\n",
        "        if i > 0 :\n",
        "            pluse_list.append(i)\n",
        "        elif i < 0:\n",
        "            minus_list.append(i)\n",
        "except:\n",
        "    print('입력한 숫자가 없습니다')\n",
        "                \n",
        "print('양수: {}개, 음수: {}개, 합계: {}'.format(len(pluse_list), len(minus_list), sum(pluse_list) + sum(minus_list)))        "
      ],
      "execution_count": null,
      "outputs": [
        {
          "output_type": "stream",
          "name": "stdout",
          "text": [
            "정수들을 입력:\n",
            "23 -2 5 89 -43 0 5 0\n",
            "양수: 4개, 음수: 2개, 합계: 77\n"
          ]
        }
      ]
    },
    {
      "cell_type": "code",
      "metadata": {
        "id": "opQ9M5wAzcRw",
        "colab": {
          "base_uri": "https://localhost:8080/"
        },
        "outputId": "e20f805e-d9a2-4b8f-fd14-338fcad60a5a"
      },
      "source": [
        "def password_validcheck(pwd):\n",
        "    if len(pwd) < 8 or len(pwd) > 14:\n",
        "        print(\"error! 8 글자 이상이어야 함\")\n",
        "        return False\n",
        "\n",
        "    num = 0\n",
        "    alpha = 0\n",
        "    for char_num in pwd:\n",
        "        if char_num.isalnum() == False:\n",
        "            print(\"error! 영문자, 숫자로만 구성되어야함\")\n",
        "            return False\n",
        "        if char_num.isalpha():\n",
        "            num += 1\n",
        "        else:            \n",
        "            alpha += 1\n",
        "\n",
        "    if num == 0:\n",
        "        print(\"error! 영문도 포함되어야 함\")\n",
        "        return False\n",
        "\n",
        "    if alpha == 0:\n",
        "        print(\"error! 숫자도 포함되어야 함\")\n",
        "        return False\n",
        "\n",
        "    if num < 2:\n",
        "        print(\"error! 최소한 2개의 숫자를 포함해야 함\")\n",
        "        return False  \n",
        "\n",
        "    print(\"Valid password\")\n",
        "    return True\n",
        "    \n",
        "\n",
        "for i in range(5):\n",
        "    pwd = input(\"Enter password: \")\n",
        "    if password_validcheck(pwd):\n",
        "        break"
      ],
      "execution_count": null,
      "outputs": [
        {
          "output_type": "stream",
          "name": "stdout",
          "text": [
            "Enter password: SogangUniv\n",
            "error! 숫자도 포함되어야 함\n",
            "Enter password: 123456789\n",
            "error! 영문도 포함되어야 함\n",
            "Enter password: songang12\n",
            "Valid password\n"
          ]
        }
      ]
    },
    {
      "cell_type": "code",
      "metadata": {
        "id": "Y5c8gsXyNutq",
        "colab": {
          "base_uri": "https://localhost:8080/"
        },
        "outputId": "9524fca9-3c56-4c13-e15a-497e4671bf12"
      },
      "source": [
        "formula = input('수식 입력(예: 20 * 40):')\n",
        "formula_list = formula.split(' ')\n",
        "a = float(formula_list[0])\n",
        "b = float(formula_list[2])\n",
        "op = formula_list[1]\n",
        "if op == '+':\n",
        "    print('{:.6f} + {:.6f} = {:.6f}'.format(a, b, a+b))\n",
        "elif op == '-':\n",
        "    print('{:.6f} - {:.6f} = {:.6f}'.format(a, b, a-b))\n",
        "elif op == '*':\n",
        "    print('{:.6f} * {:.6f} = {:.6f}'.format(a, b, a*b))\n",
        "elif op == '/':\n",
        "    if b == 0:\n",
        "        print('{:.6f}로 나누기를 수행할 수 없습니다'.format(b))\n",
        "    else:\n",
        "        print('{:.6f} / {:.6f} = {:.6f}'.format(a, b, a/b))\n",
        "else:\n",
        "    print('{} 지원하지 않는 연산자입니다'.format(op))"
      ],
      "execution_count": null,
      "outputs": [
        {
          "output_type": "stream",
          "name": "stdout",
          "text": [
            "수식 입력(예: 20 * 40):30 / 0\n",
            "0.000000로 나누기를 수행할 수 없습니다\n"
          ]
        }
      ]
    },
    {
      "cell_type": "code",
      "metadata": {
        "colab": {
          "base_uri": "https://localhost:8080/"
        },
        "id": "hvdPKS61QOWr",
        "outputId": "9b03a141-e20c-440a-c663-d8b70986f72d"
      },
      "source": [
        "import random \n",
        "\n",
        "def getPercent(num):\n",
        "    cnt=[0,0] \n",
        "    for i in range(num):\n",
        "        cnt[0] += random.randint(0,1)\n",
        "        if i < 10:\n",
        "            print('{:>3} 번째까지 던지기에서 앞면이 나올 확률 : {:.0f}%'.format(i + 1, cnt[0] / (i + 1) * 100))\n",
        "        elif i % 10 == 9:\n",
        "            print('{:>3} 번째까지 던지기에서 앞면이 나올 확률 : {:.0f}%'.format(i + 1, cnt[0] / (i + 1) * 100))\n",
        "    return cnt[0]\n",
        "\n",
        "if __name__ == \"__main__\":\t\n",
        "    num = int(input('동전 던지기 시도 횟수를 입력(1 ~ 100) : '))\n",
        "\n",
        "    count = getPercent(num)\n",
        "\n",
        "    print('\\n**********************************************')\n",
        "    print('총 {}번 동전 던지기에서 앞면이 나올 확률: {:.0f}%'.format(num, count/num * 100 ))\n"
      ],
      "execution_count": null,
      "outputs": [
        {
          "output_type": "stream",
          "name": "stdout",
          "text": [
            "동전 던지기 시도 횟수를 입력(1 ~ 100) : 65\n",
            "  1 번째까지 던지기에서 앞면이 나올 확률 : 0%\n",
            "  2 번째까지 던지기에서 앞면이 나올 확률 : 0%\n",
            "  3 번째까지 던지기에서 앞면이 나올 확률 : 33%\n",
            "  4 번째까지 던지기에서 앞면이 나올 확률 : 25%\n",
            "  5 번째까지 던지기에서 앞면이 나올 확률 : 40%\n",
            "  6 번째까지 던지기에서 앞면이 나올 확률 : 50%\n",
            "  7 번째까지 던지기에서 앞면이 나올 확률 : 43%\n",
            "  8 번째까지 던지기에서 앞면이 나올 확률 : 50%\n",
            "  9 번째까지 던지기에서 앞면이 나올 확률 : 56%\n",
            " 10 번째까지 던지기에서 앞면이 나올 확률 : 60%\n",
            " 20 번째까지 던지기에서 앞면이 나올 확률 : 45%\n",
            " 30 번째까지 던지기에서 앞면이 나올 확률 : 43%\n",
            " 40 번째까지 던지기에서 앞면이 나올 확률 : 45%\n",
            " 50 번째까지 던지기에서 앞면이 나올 확률 : 48%\n",
            " 60 번째까지 던지기에서 앞면이 나올 확률 : 50%\n",
            "\n",
            "**********************************************\n",
            "총 65번 동전 던지기에서 앞면이 나올 확률: 51%\n"
          ]
        }
      ]
    },
    {
      "cell_type": "markdown",
      "metadata": {
        "id": "LldkjEOJVlnv"
      },
      "source": []
    },
    {
      "cell_type": "code",
      "metadata": {
        "colab": {
          "base_uri": "https://localhost:8080/"
        },
        "id": "7nbhMXAqSJGe",
        "outputId": "057ad9fe-c411-46d5-ea8a-878149ef390c"
      },
      "source": [],
      "execution_count": null,
      "outputs": [
        {
          "output_type": "stream",
          "name": "stdout",
          "text": [
            "동전 던지기 시도 횟수를 입력(1 ~ 100) : 50\n",
            "  1 번째까지 던지기에서 앞면이 나올 확률 : 100%\n",
            "  2 번째까지 던지기에서 앞면이 나올 확률 : 100%\n",
            "  3 번째까지 던지기에서 앞면이 나올 확률 : 67%\n",
            "  4 번째까지 던지기에서 앞면이 나올 확률 : 50%\n",
            "  5 번째까지 던지기에서 앞면이 나올 확률 : 60%\n",
            "  6 번째까지 던지기에서 앞면이 나올 확률 : 67%\n",
            "  7 번째까지 던지기에서 앞면이 나올 확률 : 57%\n",
            "  8 번째까지 던지기에서 앞면이 나올 확률 : 50%\n",
            "  9 번째까지 던지기에서 앞면이 나올 확률 : 44%\n",
            " 10 번째까지 던지기에서 앞면이 나올 확률 : 40%\n",
            " 20 번째까지 던지기에서 앞면이 나올 확률 : 45%\n",
            " 30 번째까지 던지기에서 앞면이 나올 확률 : 50%\n",
            " 40 번째까지 던지기에서 앞면이 나올 확률 : 45%\n",
            " 50 번째까지 던지기에서 앞면이 나올 확률 : 42%\n",
            "\n",
            "**********************************************\n",
            "총 50번 동전 던지기에서 앞면이 나올 확률: 42%\n"
          ]
        }
      ]
    },
    {
      "cell_type": "code",
      "metadata": {
        "id": "cvFl2UaBWoEI"
      },
      "source": [],
      "execution_count": null,
      "outputs": []
    }
  ]
}