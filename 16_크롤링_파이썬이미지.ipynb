{
 "cells": [
  {
   "cell_type": "code",
   "execution_count": null,
   "metadata": {},
   "outputs": [],
   "source": [
    "#https://www.python.org/\n",
    "\n",
    "import requests   \n",
    "url = 'https://www.python.org/static/img/python-logo.png' \n",
    "html_image = requests.get(url) \n",
    "html_image \n",
    "import os \n",
    "image_file_name = os.path.basename(url) \n",
    "image_file_name \n",
    "\n",
    "folder = '폴더경로지정하세요'#'C:\\\\Users\\\\python_basic'  \n",
    "if not os.path.exists(folder): \n",
    "    os.makedirs(folder) \n",
    "    \n",
    "image_path = os.path.join(folder, image_file_name) \n",
    "\n",
    "imageFile = open(image_path, 'wb') \n",
    "# 이미지 데이터를 100000바이트씩 나눠서 내려받고 파일에 순차적으로 저장 \n",
    "chunk_size = 1000000 \n",
    "for chunk in html_image.iter_content(chunk_size): \n",
    "    imageFile.write(chunk) \n",
    "imageFile.close() \n",
    "os.listdir(folder) "
   ]
  },
  {
   "cell_type": "code",
   "execution_count": null,
   "metadata": {},
   "outputs": [],
   "source": []
  }
 ],
 "metadata": {
  "kernelspec": {
   "display_name": "Python 3",
   "language": "python",
   "name": "python3"
  },
  "language_info": {
   "codemirror_mode": {
    "name": "ipython",
    "version": 3
   },
   "file_extension": ".py",
   "mimetype": "text/x-python",
   "name": "python",
   "nbconvert_exporter": "python",
   "pygments_lexer": "ipython3",
   "version": "3.7.6"
  },
  "toc": {
   "base_numbering": 1,
   "nav_menu": {},
   "number_sections": false,
   "sideBar": true,
   "skip_h1_title": false,
   "title_cell": "Table of Contents",
   "title_sidebar": "Contents",
   "toc_cell": false,
   "toc_position": {},
   "toc_section_display": true,
   "toc_window_display": false
  }
 },
 "nbformat": 4,
 "nbformat_minor": 4
}
