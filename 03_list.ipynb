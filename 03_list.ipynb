{
  "cells": [
    {
      "cell_type": "markdown",
      "metadata": {
        "id": "view-in-github",
        "colab_type": "text"
      },
      "source": [
        "<a href=\"https://colab.research.google.com/github/zzhining/python_basic/blob/master/03_list.ipynb\" target=\"_parent\"><img src=\"https://colab.research.google.com/assets/colab-badge.svg\" alt=\"Open In Colab\"/></a>"
      ]
    },
    {
      "cell_type": "markdown",
      "metadata": {
        "id": "ggXZA4BPCQks"
      },
      "source": [
        "# List(리스트)\n",
        "\n",
        "- 여러 개의 데이터를 묶어서 처리할 때 사용"
      ]
    },
    {
      "cell_type": "markdown",
      "source": [
        "## List 만드는 방법\n",
        "- 대괄호`[   ]`를 사용\n",
        "- 각각의 데이터는 콤마(`,`)를 사용해서 구분\n",
        "- 대괄호만 작성 시([    ]): 빈 List\n",
        "- List 안에 다양한 데이터를 넣을 수 있음"
      ],
      "metadata": {
        "id": "t2SRchESCeEh"
      }
    },
    {
      "cell_type": "code",
      "execution_count": 1,
      "metadata": {
        "id": "gKO5zbZpCQk-",
        "outputId": "8d224dcc-1df4-4fc8-ee2c-cca0867a1aeb",
        "colab": {
          "base_uri": "https://localhost:8080/"
        }
      },
      "outputs": [
        {
          "output_type": "execute_result",
          "data": {
            "text/plain": [
              "[80, 90, 95, 100]"
            ]
          },
          "metadata": {},
          "execution_count": 1
        }
      ],
      "source": [
        "# 1번 학생의 국어, 영어, 수학, 과학 점수가 각각 80, 90, 95, 100\n",
        "score = [80, 90, 95, 100]\n",
        "score"
      ]
    },
    {
      "cell_type": "markdown",
      "source": [
        "## List에서  각 항목 지정 방법\n",
        "`'변수명[i]'`로  지정"
      ],
      "metadata": {
        "id": "rKoaCRx6DvUa"
      }
    },
    {
      "cell_type": "code",
      "execution_count": 2,
      "metadata": {
        "id": "C7J37xmDCQlB",
        "outputId": "b0eb7e38-5583-4004-80ae-6a68229b87b4",
        "colab": {
          "base_uri": "https://localhost:8080/"
        }
      },
      "outputs": [
        {
          "output_type": "execute_result",
          "data": {
            "text/plain": [
              "80"
            ]
          },
          "metadata": {},
          "execution_count": 2
        }
      ],
      "source": [
        "score[0]"
      ]
    },
    {
      "cell_type": "code",
      "execution_count": 3,
      "metadata": {
        "id": "pzpzvLTmCQlC",
        "outputId": "f27ef298-5016-43e8-b0f6-3210eb3c9bd8",
        "colab": {
          "base_uri": "https://localhost:8080/"
        }
      },
      "outputs": [
        {
          "output_type": "execute_result",
          "data": {
            "text/plain": [
              "95"
            ]
          },
          "metadata": {},
          "execution_count": 3
        }
      ],
      "source": [
        "score[2]"
      ]
    },
    {
      "cell_type": "code",
      "source": [
        "score[-1]"
      ],
      "metadata": {
        "colab": {
          "base_uri": "https://localhost:8080/"
        },
        "id": "0fFWUDbOEK60",
        "outputId": "2ca97727-28e1-4b72-d7e6-6b062468519a"
      },
      "execution_count": 4,
      "outputs": [
        {
          "output_type": "execute_result",
          "data": {
            "text/plain": [
              "100"
            ]
          },
          "metadata": {},
          "execution_count": 4
        }
      ]
    },
    {
      "cell_type": "code",
      "execution_count": 5,
      "metadata": {
        "id": "W0q_2Y8tCQlC",
        "outputId": "a6d9faf7-09fa-4b92-f4d5-1bd7a9feb147",
        "colab": {
          "base_uri": "https://localhost:8080/"
        }
      },
      "outputs": [
        {
          "output_type": "execute_result",
          "data": {
            "text/plain": [
              "[]"
            ]
          },
          "metadata": {},
          "execution_count": 5
        }
      ],
      "source": [
        "empty = []\n",
        "empty"
      ]
    },
    {
      "cell_type": "markdown",
      "source": [
        "##List의 특정 항목을 변경할 경우\n",
        "`변수명[i] = new_data`를 이용"
      ],
      "metadata": {
        "id": "PWXVNYmOEew7"
      }
    },
    {
      "cell_type": "code",
      "source": [
        "score[2] = 50\n",
        "score"
      ],
      "metadata": {
        "colab": {
          "base_uri": "https://localhost:8080/"
        },
        "id": "kUTwByJREmek",
        "outputId": "e496417a-2b66-4a23-f413-a7b5dbbf8f9d"
      },
      "execution_count": 6,
      "outputs": [
        {
          "output_type": "execute_result",
          "data": {
            "text/plain": [
              "[80, 90, 50, 100]"
            ]
          },
          "metadata": {},
          "execution_count": 6
        }
      ]
    },
    {
      "cell_type": "markdown",
      "source": [
        "List에 문자열을 입력하는 예"
      ],
      "metadata": {
        "id": "2usZrfpnEcg3"
      }
    },
    {
      "cell_type": "code",
      "execution_count": 7,
      "metadata": {
        "id": "p8crp2ukCQlD",
        "outputId": "680d858e-e321-44e4-d92a-bb507ee5fb24",
        "colab": {
          "base_uri": "https://localhost:8080/"
        }
      },
      "outputs": [
        {
          "output_type": "execute_result",
          "data": {
            "text/plain": [
              "['영희', '철수', '순희', '영수']"
            ]
          },
          "metadata": {},
          "execution_count": 7
        }
      ],
      "source": [
        "student = ['영희', '철수', '순희', '영수']\n",
        "student"
      ]
    },
    {
      "cell_type": "code",
      "execution_count": 8,
      "metadata": {
        "id": "XmTh1EMSCQlE",
        "outputId": "fe35fd1b-d515-4173-eba1-338f525cca44",
        "colab": {
          "base_uri": "https://localhost:8080/",
          "height": 35
        }
      },
      "outputs": [
        {
          "output_type": "execute_result",
          "data": {
            "text/plain": [
              "'영수'"
            ],
            "application/vnd.google.colaboratory.intrinsic+json": {
              "type": "string"
            }
          },
          "metadata": {},
          "execution_count": 8
        }
      ],
      "source": [
        "student[3]"
      ]
    },
    {
      "cell_type": "markdown",
      "source": [
        "숫자, 문자열, 불, List를  혼합한 형태의  List"
      ],
      "metadata": {
        "id": "gsEAqYMFEzK7"
      }
    },
    {
      "cell_type": "code",
      "execution_count": 9,
      "metadata": {
        "id": "NpN2C44HCQlF",
        "outputId": "565980be-477a-4419-9ca2-88a08edf7b8a",
        "colab": {
          "base_uri": "https://localhost:8080/"
        }
      },
      "outputs": [
        {
          "output_type": "execute_result",
          "data": {
            "text/plain": [
              "['영희', '철수', True, '순희', '영수', 80, 90, 95, 100, [80, 90, 50, 100]]"
            ]
          },
          "metadata": {},
          "execution_count": 9
        }
      ],
      "source": [
        "school = ['영희', '철수',True, '순희', '영수', 80, 90, 95, 100, score]\n",
        "school"
      ]
    },
    {
      "cell_type": "code",
      "execution_count": 10,
      "metadata": {
        "id": "5kJowDUwCQlG",
        "outputId": "396a8f23-e89d-4e60-fa0d-68bef1a21b13",
        "colab": {
          "base_uri": "https://localhost:8080/"
        }
      },
      "outputs": [
        {
          "output_type": "execute_result",
          "data": {
            "text/plain": [
              "80"
            ]
          },
          "metadata": {},
          "execution_count": 10
        }
      ],
      "source": [
        "school[5]"
      ]
    },
    {
      "cell_type": "markdown",
      "metadata": {
        "id": "MT-QNn8OCQlG"
      },
      "source": [
        "# List 연산\n",
        "\n",
        "▶ `+` 연산: 두 List를 연결\n",
        "▶ `*` 연산: 곱한 수만큼 반복\n",
        "▶ List 항목 일부 가져오기\n",
        " - list[start : end]\n",
        " - list[start : end : step]\n",
        "\n",
        "▶ List 항목 제거하기\n",
        "  - `del list[항목]`\n",
        "  \n",
        "▶ List 안에 값이 있는지 여부 확인\n",
        " - `in `: 값 in list\n",
        " - 결과: true/false"
      ]
    },
    {
      "cell_type": "markdown",
      "source": [
        "## List 더하기\n",
        "두 List 연결"
      ],
      "metadata": {
        "id": "tIAJP3VnFIxJ"
      }
    },
    {
      "cell_type": "code",
      "execution_count": 11,
      "metadata": {
        "id": "GtMrHjmMCQlH",
        "outputId": "cc8ec98a-1892-488d-fc84-7abe7d9233d8",
        "colab": {
          "base_uri": "https://localhost:8080/"
        }
      },
      "outputs": [
        {
          "output_type": "execute_result",
          "data": {
            "text/plain": [
              "[1, 2, 3, 4, 5, 6, 7, 8]"
            ]
          },
          "metadata": {},
          "execution_count": 11
        }
      ],
      "source": [
        "list1 = [1,2,3,4]\n",
        "list2 = [5,6,7,8]\n",
        "list1 + list2"
      ]
    },
    {
      "cell_type": "markdown",
      "source": [
        "## List 곱하기\n",
        "List를 곱한 수만큼 반복"
      ],
      "metadata": {
        "id": "DgFr5U18FL33"
      }
    },
    {
      "cell_type": "code",
      "execution_count": 12,
      "metadata": {
        "id": "QbOoMYp9CQlI",
        "outputId": "a697e871-259f-4216-a5a1-c674eff03bf0",
        "colab": {
          "base_uri": "https://localhost:8080/"
        }
      },
      "outputs": [
        {
          "output_type": "execute_result",
          "data": {
            "text/plain": [
              "[1, 2, 3, 4, 1, 2, 3, 4, 1, 2, 3, 4]"
            ]
          },
          "metadata": {},
          "execution_count": 12
        }
      ],
      "source": [
        "list1 * 3"
      ]
    },
    {
      "cell_type": "markdown",
      "source": [
        "## List  중 일부  항목 가져오기\n",
        "인덱스의 범위를  지정해 List 중 일부 항목을 가져옴\n",
        "\n",
        "\n",
        "\n",
        "\n",
        "> `List[i_start:i_end]` <br>\n",
        "> `List[i_start:i_end:i_step]`\n",
        "\n",
        "\n",
        "\n",
        "\n",
        "\n",
        "- `i_start`, `i_end`, `i_step`은 각각 인덱스의 시작, 끝, 스텝 (증가 단계)\n",
        "- `i_start`에서 `i_end - 1`까지의 List를 반환\n",
        "- `i_start`를 생략하면  인덱스는 0으로 간주\n",
        "- `i_end`를 생략하면 인덱스는 마지막이라고 간주\n",
        "\n",
        "\n",
        "\n",
        "\n",
        "\n",
        "\n"
      ],
      "metadata": {
        "id": "VKxg9kDFFTRp"
      }
    },
    {
      "cell_type": "code",
      "execution_count": 13,
      "metadata": {
        "id": "cY2lF308CQlJ",
        "outputId": "db11fc4a-8f65-4763-e201-367eb78cf70d",
        "colab": {
          "base_uri": "https://localhost:8080/"
        }
      },
      "outputs": [
        {
          "output_type": "execute_result",
          "data": {
            "text/plain": [
              "[1, 2, 3, 4, 5]"
            ]
          },
          "metadata": {},
          "execution_count": 13
        }
      ],
      "source": [
        "list3 = [1,2,3,4,5,6,7,8,9,0]\n",
        "list3[0:5]"
      ]
    },
    {
      "cell_type": "code",
      "source": [
        "list3[5:]"
      ],
      "metadata": {
        "colab": {
          "base_uri": "https://localhost:8080/"
        },
        "id": "GlwtqTvfGMPq",
        "outputId": "bba897cd-51b1-4b00-fe02-7f540bcb369f"
      },
      "execution_count": 14,
      "outputs": [
        {
          "output_type": "execute_result",
          "data": {
            "text/plain": [
              "[6, 7, 8, 9, 0]"
            ]
          },
          "metadata": {},
          "execution_count": 14
        }
      ]
    },
    {
      "cell_type": "code",
      "source": [
        "list3[:3]"
      ],
      "metadata": {
        "colab": {
          "base_uri": "https://localhost:8080/"
        },
        "id": "pieAk0dYGPyw",
        "outputId": "90f4f31f-e4e9-4688-e594-4a651d795812"
      },
      "execution_count": 15,
      "outputs": [
        {
          "output_type": "execute_result",
          "data": {
            "text/plain": [
              "[1, 2, 3]"
            ]
          },
          "metadata": {},
          "execution_count": 15
        }
      ]
    },
    {
      "cell_type": "code",
      "source": [
        "list3[::2]"
      ],
      "metadata": {
        "colab": {
          "base_uri": "https://localhost:8080/"
        },
        "id": "v5WD9yz0GV0B",
        "outputId": "5e42a766-7d30-4f55-b4d1-da3f2cb780b9"
      },
      "execution_count": 16,
      "outputs": [
        {
          "output_type": "execute_result",
          "data": {
            "text/plain": [
              "[1, 3, 5, 7, 9]"
            ]
          },
          "metadata": {},
          "execution_count": 16
        }
      ]
    },
    {
      "cell_type": "code",
      "execution_count": 17,
      "metadata": {
        "id": "xJAoLBoDCQlJ",
        "outputId": "b105271f-df9b-42d9-cd4a-2138ad9b303b",
        "colab": {
          "base_uri": "https://localhost:8080/"
        }
      },
      "outputs": [
        {
          "output_type": "execute_result",
          "data": {
            "text/plain": [
              "[1, 4, 7]"
            ]
          },
          "metadata": {},
          "execution_count": 17
        }
      ],
      "source": [
        "list3[0: 9 : 3]"
      ]
    },
    {
      "cell_type": "markdown",
      "source": [
        "## List에서 항목 삭제하기\n",
        "`del List[i]`\n"
      ],
      "metadata": {
        "id": "O3UIFUbFGB9T"
      }
    },
    {
      "cell_type": "code",
      "execution_count": 18,
      "metadata": {
        "id": "-_Ip4X2nCQlJ",
        "outputId": "f147029e-f7ab-425b-8429-101c592d089a",
        "colab": {
          "base_uri": "https://localhost:8080/"
        }
      },
      "outputs": [
        {
          "output_type": "execute_result",
          "data": {
            "text/plain": [
              "[1, 2, 3, 4, 6, 7, 8, 9, 0]"
            ]
          },
          "metadata": {},
          "execution_count": 18
        }
      ],
      "source": [
        "del list3[4]\n",
        "list3"
      ]
    },
    {
      "cell_type": "markdown",
      "source": [
        "## List에서  항목의  존재  여부 확인하기\n",
        "`항목 in List`\n",
        "\n",
        "List에 항목이 있으면 `True`, 없으면 `False를` 반환"
      ],
      "metadata": {
        "id": "otxtZ4f-GcW1"
      }
    },
    {
      "cell_type": "code",
      "execution_count": 19,
      "metadata": {
        "id": "abu1DZcsCQlK",
        "outputId": "de538d00-1202-488e-d3fd-eb930d379184",
        "colab": {
          "base_uri": "https://localhost:8080/"
        }
      },
      "outputs": [
        {
          "output_type": "execute_result",
          "data": {
            "text/plain": [
              "True"
            ]
          },
          "metadata": {},
          "execution_count": 19
        }
      ],
      "source": [
        "3 in list3"
      ]
    },
    {
      "cell_type": "code",
      "execution_count": 20,
      "metadata": {
        "id": "RKOpv8pDCQlK",
        "outputId": "2aae9b14-35cf-4eb2-8c5d-acd2b93bf3f6",
        "colab": {
          "base_uri": "https://localhost:8080/"
        }
      },
      "outputs": [
        {
          "output_type": "execute_result",
          "data": {
            "text/plain": [
              "False"
            ]
          },
          "metadata": {},
          "execution_count": 20
        }
      ],
      "source": [
        "99 in list3"
      ]
    },
    {
      "cell_type": "markdown",
      "metadata": {
        "id": "so_YObMTCQlL"
      },
      "source": [
        "## 자주 사용하는 List 메소드\n",
        "\n",
        ":`변수명.메서드()`\n",
        "\n",
        "1) append()\n",
        " - List에서 항목을 맨 마지막에 추가\n",
        "\n",
        "2) insert()\n",
        " - List에서 특정 위치에 항목을 추가\n",
        "\n",
        "3) extend()\n",
        " - List에서 항목 여러 개를 마지막에 추가\n",
        "\n",
        "4) remove()\n",
        " - 입력값과 첫번째로 일치하는 항목을 List에서 삭제\n",
        "\n",
        "5) pop()\n",
        " - List의 마지막 항목을 제거한 후에 반환\n",
        "\n",
        "6) index()\n",
        " - List의 위치를 반환\n",
        "\n",
        "7) count()\n",
        " - List 안에 포함된 항목의 개수를 반환\n",
        "\n",
        "8) sort()\n",
        " - 순방향 정렬\n",
        "\n",
        "9) reverse()\n",
        " - List 항목을 역순으로 정렬"
      ]
    },
    {
      "cell_type": "code",
      "execution_count": 21,
      "metadata": {
        "id": "3hnwmReZCQlL",
        "outputId": "23798c63-40ed-4228-e5a7-213c7066b895",
        "colab": {
          "base_uri": "https://localhost:8080/"
        }
      },
      "outputs": [
        {
          "output_type": "execute_result",
          "data": {
            "text/plain": [
              "[0, 1, 2, 3, 4, 5, 6, 7, 8, 9]"
            ]
          },
          "metadata": {},
          "execution_count": 21
        }
      ],
      "source": [
        "list4 = [0, 1, 2, 3, 4, 5, 6, 7, 8, 9]\n",
        "list4"
      ]
    },
    {
      "cell_type": "markdown",
      "source": [
        "### append()\n",
        "\n",
        "List에서 항목을 맨 마지막에 추가"
      ],
      "metadata": {
        "id": "k6VjSEkKHsE5"
      }
    },
    {
      "cell_type": "code",
      "execution_count": 22,
      "metadata": {
        "id": "Ys8dOfzeCQlM",
        "colab": {
          "base_uri": "https://localhost:8080/"
        },
        "outputId": "50ad9901-b17a-4907-d0a4-10e31755bc6a"
      },
      "outputs": [
        {
          "output_type": "execute_result",
          "data": {
            "text/plain": [
              "[0, 1, 2, 3, 4, 5, 6, 7, 8, 9, 10]"
            ]
          },
          "metadata": {},
          "execution_count": 22
        }
      ],
      "source": [
        "list4.append(10)\n",
        "list4"
      ]
    },
    {
      "cell_type": "markdown",
      "source": [
        "### insert()\n",
        "\n",
        "List에서 특정 위치에 항목을 추가"
      ],
      "metadata": {
        "id": "RBxD6iyaHv0X"
      }
    },
    {
      "cell_type": "code",
      "execution_count": 23,
      "metadata": {
        "id": "kzjQeZZUCQlM",
        "outputId": "7ab067f9-86e0-4ea8-83e8-3a3599de60ba",
        "colab": {
          "base_uri": "https://localhost:8080/"
        }
      },
      "outputs": [
        {
          "output_type": "execute_result",
          "data": {
            "text/plain": [
              "[0, 1, 2, 3, 'test', 4, 5, 6, 7, 8, 9, 10]"
            ]
          },
          "metadata": {},
          "execution_count": 23
        }
      ],
      "source": [
        "list4.insert(4, 'test')\n",
        "list4"
      ]
    },
    {
      "cell_type": "markdown",
      "source": [
        "### extend()\n",
        "\n",
        "List에서 항목 여러 개를 마지막에 추가"
      ],
      "metadata": {
        "id": "kFNI8JR4H1TJ"
      }
    },
    {
      "cell_type": "code",
      "execution_count": 24,
      "metadata": {
        "id": "8mDzrPcHCQlM",
        "outputId": "940e2e89-c652-40f8-c93c-f8d979328b6b",
        "colab": {
          "base_uri": "https://localhost:8080/"
        }
      },
      "outputs": [
        {
          "output_type": "execute_result",
          "data": {
            "text/plain": [
              "[0, 1, 2, 3, 'test', 4, 5, 6, 7, 8, 9, 10, 11, 12, '십삼']"
            ]
          },
          "metadata": {},
          "execution_count": 24
        }
      ],
      "source": [
        "list4.extend([11, 12, '십삼'])\n",
        "list4"
      ]
    },
    {
      "cell_type": "markdown",
      "source": [
        "### remove()\n",
        "\n",
        "입력값과 첫번째로 일치하는 항목을 List에서 삭제"
      ],
      "metadata": {
        "id": "log1ie61H9RF"
      }
    },
    {
      "cell_type": "code",
      "execution_count": 25,
      "metadata": {
        "id": "rPqGzyzrCQlN",
        "outputId": "e5b01685-9a2b-4815-c297-29cd643ce40b",
        "colab": {
          "base_uri": "https://localhost:8080/"
        }
      },
      "outputs": [
        {
          "output_type": "execute_result",
          "data": {
            "text/plain": [
              "[0, 1, 2, 3, 'test', 4, 5, 6, 7, 8, 9, 10, 11, 12, '십삼', 'test']"
            ]
          },
          "metadata": {},
          "execution_count": 25
        }
      ],
      "source": [
        "list4.append('test')\n",
        "list4"
      ]
    },
    {
      "cell_type": "code",
      "execution_count": 26,
      "metadata": {
        "id": "37K2zi79CQlN",
        "outputId": "376a525e-e701-407b-9300-0fee8d01b129",
        "colab": {
          "base_uri": "https://localhost:8080/"
        }
      },
      "outputs": [
        {
          "output_type": "execute_result",
          "data": {
            "text/plain": [
              "[0, 1, 2, 3, 4, 5, 6, 7, 8, 9, 10, 11, 12, '십삼', 'test']"
            ]
          },
          "metadata": {},
          "execution_count": 26
        }
      ],
      "source": [
        "list4.remove('test')\n",
        "list4"
      ]
    },
    {
      "cell_type": "markdown",
      "source": [
        "### pop()\n",
        "\n",
        "List의 마지막 항목을 제거한 후에 반환"
      ],
      "metadata": {
        "id": "fLBSOWG_ICTP"
      }
    },
    {
      "cell_type": "code",
      "execution_count": 27,
      "metadata": {
        "id": "M5ysUj5qCQlN",
        "outputId": "ad187a05-a275-41fe-bf7d-5fbb057e414c",
        "colab": {
          "base_uri": "https://localhost:8080/"
        }
      },
      "outputs": [
        {
          "output_type": "execute_result",
          "data": {
            "text/plain": [
              "[0, 1, 2, 3, 4, 5, 6, 7, 8, 9, 10, 11, 12, '십삼']"
            ]
          },
          "metadata": {},
          "execution_count": 27
        }
      ],
      "source": [
        "list4.pop()\n",
        "list4"
      ]
    },
    {
      "cell_type": "code",
      "execution_count": 27,
      "metadata": {
        "id": "s8K-CDO6CQlN"
      },
      "outputs": [],
      "source": []
    },
    {
      "cell_type": "markdown",
      "source": [
        "### index()\n",
        "\n",
        "List의 위치를 반환"
      ],
      "metadata": {
        "id": "LhWN_3tMIGxa"
      }
    },
    {
      "cell_type": "code",
      "execution_count": 28,
      "metadata": {
        "id": "J8AW9Qv6CQlN",
        "outputId": "421cb917-a34e-46ad-fac6-1961ac42b5c6",
        "colab": {
          "base_uri": "https://localhost:8080/"
        }
      },
      "outputs": [
        {
          "output_type": "execute_result",
          "data": {
            "text/plain": [
              "13"
            ]
          },
          "metadata": {},
          "execution_count": 28
        }
      ],
      "source": [
        "list4.index('십삼')"
      ]
    },
    {
      "cell_type": "markdown",
      "source": [
        "### count()\n",
        "\n",
        "List 안에 포함된 항목의 개수를 반환"
      ],
      "metadata": {
        "id": "xrZQBA9lIKLD"
      }
    },
    {
      "cell_type": "code",
      "execution_count": 29,
      "metadata": {
        "id": "NgvoqbWqCQlN",
        "outputId": "a24eacbd-0b28-4d3b-823c-f8e4be005b01",
        "colab": {
          "base_uri": "https://localhost:8080/"
        }
      },
      "outputs": [
        {
          "output_type": "execute_result",
          "data": {
            "text/plain": [
              "1"
            ]
          },
          "metadata": {},
          "execution_count": 29
        }
      ],
      "source": [
        "list4.count(4)"
      ]
    },
    {
      "cell_type": "code",
      "execution_count": 30,
      "metadata": {
        "id": "lvDd1QA8CQlN",
        "outputId": "ce4f8d42-e054-48eb-f43c-9be32b1ef7a1",
        "colab": {
          "base_uri": "https://localhost:8080/"
        }
      },
      "outputs": [
        {
          "output_type": "execute_result",
          "data": {
            "text/plain": [
              "0"
            ]
          },
          "metadata": {},
          "execution_count": 30
        }
      ],
      "source": [
        "list5 = [1,1,1, 3,3,3, 5,5, 7,7,7,7, 9]\n",
        "list5.count(0)"
      ]
    },
    {
      "cell_type": "code",
      "execution_count": 31,
      "metadata": {
        "id": "kOG-0OCACQlO",
        "outputId": "2b02c56b-a8ac-4ea7-d980-744e68c61e58",
        "colab": {
          "base_uri": "https://localhost:8080/"
        }
      },
      "outputs": [
        {
          "output_type": "execute_result",
          "data": {
            "text/plain": [
              "[2, 4, 3, 8, 4, 0, 3, 4, 1, 5, 6, 2]"
            ]
          },
          "metadata": {},
          "execution_count": 31
        }
      ],
      "source": [
        "list6 = [2 ,4, 3, 8,4, 0, 3, 4, 1, 5, 6, 2]\n",
        "list6"
      ]
    },
    {
      "cell_type": "markdown",
      "source": [
        "### sort()\n",
        "\n",
        "순방향 정렬"
      ],
      "metadata": {
        "id": "xISFSaeOIOoj"
      }
    },
    {
      "cell_type": "code",
      "execution_count": 32,
      "metadata": {
        "id": "Pv5H7OWZCQlO",
        "colab": {
          "base_uri": "https://localhost:8080/"
        },
        "outputId": "0943219b-e9f3-45df-9c7c-e8fd39ce4b0e"
      },
      "outputs": [
        {
          "output_type": "execute_result",
          "data": {
            "text/plain": [
              "[0, 1, 2, 2, 3, 3, 4, 4, 4, 5, 6, 8]"
            ]
          },
          "metadata": {},
          "execution_count": 32
        }
      ],
      "source": [
        "list6.sort()\n",
        "list6"
      ]
    },
    {
      "cell_type": "markdown",
      "source": [
        " ### reverse()\n",
        "\n",
        "List 항목을 역순으로 정렬"
      ],
      "metadata": {
        "id": "Ct_qxJtZIRnw"
      }
    },
    {
      "cell_type": "code",
      "execution_count": 33,
      "metadata": {
        "id": "vxiVf1ZWCQlP",
        "outputId": "58cb3b31-2970-4aea-8173-2fea2eefc117",
        "colab": {
          "base_uri": "https://localhost:8080/"
        }
      },
      "outputs": [
        {
          "output_type": "execute_result",
          "data": {
            "text/plain": [
              "[8, 6, 5, 4, 4, 4, 3, 3, 2, 2, 1, 0]"
            ]
          },
          "metadata": {},
          "execution_count": 33
        }
      ],
      "source": [
        "list6.reverse()\n",
        "list6"
      ]
    },
    {
      "cell_type": "code",
      "execution_count": 33,
      "metadata": {
        "id": "wNSya0MKCQlP"
      },
      "outputs": [],
      "source": []
    }
  ],
  "metadata": {
    "kernelspec": {
      "display_name": "Python 3",
      "language": "python",
      "name": "python3"
    },
    "language_info": {
      "codemirror_mode": {
        "name": "ipython",
        "version": 3
      },
      "file_extension": ".py",
      "mimetype": "text/x-python",
      "name": "python",
      "nbconvert_exporter": "python",
      "pygments_lexer": "ipython3",
      "version": "3.7.6"
    },
    "toc": {
      "base_numbering": 1,
      "nav_menu": {},
      "number_sections": false,
      "sideBar": true,
      "skip_h1_title": false,
      "title_cell": "Table of Contents",
      "title_sidebar": "Contents",
      "toc_cell": false,
      "toc_position": {},
      "toc_section_display": true,
      "toc_window_display": false
    },
    "colab": {
      "provenance": [],
      "toc_visible": true,
      "include_colab_link": true
    }
  },
  "nbformat": 4,
  "nbformat_minor": 0
}